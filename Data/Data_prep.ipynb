{
 "cells": [
  {
   "cell_type": "markdown",
   "metadata": {
    "id": "hWFOlMMgiiRP"
   },
   "source": [
    "# 1. Exploring Data"
   ]
  },
  {
   "cell_type": "code",
   "execution_count": 2,
   "metadata": {
    "id": "CH6z9wEwhwjI"
   },
   "outputs": [],
   "source": [
    "import numpy as np \n",
    "import pandas as pd\n",
    "import plotly.express as px\n",
    "import plotly.graph_objects as go"
   ]
  },
  {
   "cell_type": "code",
   "execution_count": 3,
   "metadata": {
    "colab": {
     "base_uri": "https://localhost:8080/",
     "height": 0
    },
    "collapsed": true,
    "id": "2R5VEf19ixvW",
    "outputId": "e2d2620f-b977-40d8-d0ae-01e6f6a78951"
   },
   "outputs": [
    {
     "name": "stderr",
     "output_type": "stream",
     "text": [
      "C:\\Users\\hp\\AppData\\Local\\Programs\\Python\\Python38\\lib\\site-packages\\IPython\\core\\interactiveshell.py:3444: DtypeWarning: Columns (4,6,8) have mixed types.Specify dtype option on import or set low_memory=False.\n",
      "  exec(code_obj, self.user_global_ns, self.user_ns)\n"
     ]
    },
    {
     "data": {
      "text/html": [
       "<div>\n",
       "<style scoped>\n",
       "    .dataframe tbody tr th:only-of-type {\n",
       "        vertical-align: middle;\n",
       "    }\n",
       "\n",
       "    .dataframe tbody tr th {\n",
       "        vertical-align: top;\n",
       "    }\n",
       "\n",
       "    .dataframe thead th {\n",
       "        text-align: right;\n",
       "    }\n",
       "</style>\n",
       "<table border=\"1\" class=\"dataframe\">\n",
       "  <thead>\n",
       "    <tr style=\"text-align: right;\">\n",
       "      <th></th>\n",
       "      <th>Code du groupement d'utilisation</th>\n",
       "      <th>Libellé du groupement d'utilisation</th>\n",
       "      <th>Code du nouveau produits remarquables</th>\n",
       "      <th>Libellé du nouveau produits remarquables</th>\n",
       "      <th>Code de la section CTCI</th>\n",
       "      <th>Libellé de la section CTCI</th>\n",
       "      <th>Code de la division CTCI</th>\n",
       "      <th>Libellé de la division CTCI</th>\n",
       "      <th>Code du groupe CTCI</th>\n",
       "      <th>Libellé du groupe CTCI</th>\n",
       "      <th>...</th>\n",
       "      <th>Valeur DHS Septembre 2020</th>\n",
       "      <th>Valeur DHS Octobre 2020</th>\n",
       "      <th>Valeur DHS Novembre 2020</th>\n",
       "      <th>Valeur DHS Décembre 2020</th>\n",
       "      <th>Valeur DHS Janvier 2021</th>\n",
       "      <th>Valeur DHS Février 2021</th>\n",
       "      <th>Valeur DHS Mars 2021</th>\n",
       "      <th>Valeur DHS Avril 2021</th>\n",
       "      <th>Valeur DHS Mai 2021</th>\n",
       "      <th>Valeur DHS Juin 2021</th>\n",
       "    </tr>\n",
       "  </thead>\n",
       "  <tbody>\n",
       "    <tr>\n",
       "      <th>0</th>\n",
       "      <td>1</td>\n",
       "      <td>ALIMENTATION, BOISSONS ET TABACS</td>\n",
       "      <td>101</td>\n",
       "      <td>AGRUMES</td>\n",
       "      <td>0</td>\n",
       "      <td>PRODUITS ALIMENTAIRES ET ANIMAUX VIVANTS</td>\n",
       "      <td>5</td>\n",
       "      <td>LÉGUMES ET FRUITS</td>\n",
       "      <td>57</td>\n",
       "      <td>FRUITS, MÊME À COQUE (À L¿EXCLUSION DES FRUITS...</td>\n",
       "      <td>...</td>\n",
       "      <td>0.0</td>\n",
       "      <td>0.0</td>\n",
       "      <td>96200.0</td>\n",
       "      <td>0.000</td>\n",
       "      <td>0.000</td>\n",
       "      <td>0.0</td>\n",
       "      <td>0.0</td>\n",
       "      <td>0.0</td>\n",
       "      <td>0.0</td>\n",
       "      <td>0.0</td>\n",
       "    </tr>\n",
       "    <tr>\n",
       "      <th>1</th>\n",
       "      <td>1</td>\n",
       "      <td>ALIMENTATION, BOISSONS ET TABACS</td>\n",
       "      <td>101</td>\n",
       "      <td>AGRUMES</td>\n",
       "      <td>0</td>\n",
       "      <td>PRODUITS ALIMENTAIRES ET ANIMAUX VIVANTS</td>\n",
       "      <td>5</td>\n",
       "      <td>LÉGUMES ET FRUITS</td>\n",
       "      <td>57</td>\n",
       "      <td>FRUITS, MÊME À COQUE (À L¿EXCLUSION DES FRUITS...</td>\n",
       "      <td>...</td>\n",
       "      <td>0.0</td>\n",
       "      <td>0.0</td>\n",
       "      <td>0.0</td>\n",
       "      <td>0.000</td>\n",
       "      <td>652186.000</td>\n",
       "      <td>1176807.8</td>\n",
       "      <td>192400.0</td>\n",
       "      <td>0.0</td>\n",
       "      <td>0.0</td>\n",
       "      <td>0.0</td>\n",
       "    </tr>\n",
       "    <tr>\n",
       "      <th>2</th>\n",
       "      <td>1</td>\n",
       "      <td>ALIMENTATION, BOISSONS ET TABACS</td>\n",
       "      <td>101</td>\n",
       "      <td>AGRUMES</td>\n",
       "      <td>0</td>\n",
       "      <td>PRODUITS ALIMENTAIRES ET ANIMAUX VIVANTS</td>\n",
       "      <td>5</td>\n",
       "      <td>LÉGUMES ET FRUITS</td>\n",
       "      <td>57</td>\n",
       "      <td>FRUITS, MÊME À COQUE (À L¿EXCLUSION DES FRUITS...</td>\n",
       "      <td>...</td>\n",
       "      <td>0.0</td>\n",
       "      <td>275664.0</td>\n",
       "      <td>1321247.0</td>\n",
       "      <td>168350.000</td>\n",
       "      <td>288363.000</td>\n",
       "      <td>0.0</td>\n",
       "      <td>245592.0</td>\n",
       "      <td>0.0</td>\n",
       "      <td>0.0</td>\n",
       "      <td>0.0</td>\n",
       "    </tr>\n",
       "    <tr>\n",
       "      <th>3</th>\n",
       "      <td>1</td>\n",
       "      <td>ALIMENTATION, BOISSONS ET TABACS</td>\n",
       "      <td>101</td>\n",
       "      <td>AGRUMES</td>\n",
       "      <td>0</td>\n",
       "      <td>PRODUITS ALIMENTAIRES ET ANIMAUX VIVANTS</td>\n",
       "      <td>5</td>\n",
       "      <td>LÉGUMES ET FRUITS</td>\n",
       "      <td>57</td>\n",
       "      <td>FRUITS, MÊME À COQUE (À L¿EXCLUSION DES FRUITS...</td>\n",
       "      <td>...</td>\n",
       "      <td>0.0</td>\n",
       "      <td>0.0</td>\n",
       "      <td>0.0</td>\n",
       "      <td>1872443.446</td>\n",
       "      <td>7238766.578</td>\n",
       "      <td>0.0</td>\n",
       "      <td>0.0</td>\n",
       "      <td>0.0</td>\n",
       "      <td>1056352.0</td>\n",
       "      <td>2.0</td>\n",
       "    </tr>\n",
       "    <tr>\n",
       "      <th>4</th>\n",
       "      <td>1</td>\n",
       "      <td>ALIMENTATION, BOISSONS ET TABACS</td>\n",
       "      <td>102</td>\n",
       "      <td>AMIDONS,GLUTEN DE FROMENT ET DÉRIVÉS</td>\n",
       "      <td>5</td>\n",
       "      <td>PRODUITS CHIMIQUES ET PRODUITS CONNEXES, N.D.A.</td>\n",
       "      <td>59</td>\n",
       "      <td>MATIÈRES ET PRODUITS CHIMIQUES, N.D.A.</td>\n",
       "      <td>592</td>\n",
       "      <td>AMIDONS ET FÉCULES, INULINE ET GLUTEN DE FROME...</td>\n",
       "      <td>...</td>\n",
       "      <td>18979.0</td>\n",
       "      <td>15273.0</td>\n",
       "      <td>0.0</td>\n",
       "      <td>0.000</td>\n",
       "      <td>0.000</td>\n",
       "      <td>121193.0</td>\n",
       "      <td>0.0</td>\n",
       "      <td>0.0</td>\n",
       "      <td>0.0</td>\n",
       "      <td>0.0</td>\n",
       "    </tr>\n",
       "  </tbody>\n",
       "</table>\n",
       "<p>5 rows × 56 columns</p>\n",
       "</div>"
      ],
      "text/plain": [
       "   Code du groupement d'utilisation Libellé du groupement d'utilisation  \\\n",
       "0                                 1    ALIMENTATION, BOISSONS ET TABACS   \n",
       "1                                 1    ALIMENTATION, BOISSONS ET TABACS   \n",
       "2                                 1    ALIMENTATION, BOISSONS ET TABACS   \n",
       "3                                 1    ALIMENTATION, BOISSONS ET TABACS   \n",
       "4                                 1    ALIMENTATION, BOISSONS ET TABACS   \n",
       "\n",
       "   Code du nouveau produits remarquables  \\\n",
       "0                                    101   \n",
       "1                                    101   \n",
       "2                                    101   \n",
       "3                                    101   \n",
       "4                                    102   \n",
       "\n",
       "  Libellé du nouveau produits remarquables Code de la section CTCI  \\\n",
       "0                                  AGRUMES                       0   \n",
       "1                                  AGRUMES                       0   \n",
       "2                                  AGRUMES                       0   \n",
       "3                                  AGRUMES                       0   \n",
       "4     AMIDONS,GLUTEN DE FROMENT ET DÉRIVÉS                       5   \n",
       "\n",
       "                        Libellé de la section CTCI Code de la division CTCI  \\\n",
       "0         PRODUITS ALIMENTAIRES ET ANIMAUX VIVANTS                        5   \n",
       "1         PRODUITS ALIMENTAIRES ET ANIMAUX VIVANTS                        5   \n",
       "2         PRODUITS ALIMENTAIRES ET ANIMAUX VIVANTS                        5   \n",
       "3         PRODUITS ALIMENTAIRES ET ANIMAUX VIVANTS                        5   \n",
       "4  PRODUITS CHIMIQUES ET PRODUITS CONNEXES, N.D.A.                       59   \n",
       "\n",
       "              Libellé de la division CTCI Code du groupe CTCI  \\\n",
       "0                       LÉGUMES ET FRUITS                  57   \n",
       "1                       LÉGUMES ET FRUITS                  57   \n",
       "2                       LÉGUMES ET FRUITS                  57   \n",
       "3                       LÉGUMES ET FRUITS                  57   \n",
       "4  MATIÈRES ET PRODUITS CHIMIQUES, N.D.A.                 592   \n",
       "\n",
       "                              Libellé du groupe CTCI  ...  \\\n",
       "0  FRUITS, MÊME À COQUE (À L¿EXCLUSION DES FRUITS...  ...   \n",
       "1  FRUITS, MÊME À COQUE (À L¿EXCLUSION DES FRUITS...  ...   \n",
       "2  FRUITS, MÊME À COQUE (À L¿EXCLUSION DES FRUITS...  ...   \n",
       "3  FRUITS, MÊME À COQUE (À L¿EXCLUSION DES FRUITS...  ...   \n",
       "4  AMIDONS ET FÉCULES, INULINE ET GLUTEN DE FROME...  ...   \n",
       "\n",
       "  Valeur DHS Septembre 2020 Valeur DHS Octobre 2020  Valeur DHS Novembre 2020  \\\n",
       "0                       0.0                     0.0                   96200.0   \n",
       "1                       0.0                     0.0                       0.0   \n",
       "2                       0.0                275664.0                 1321247.0   \n",
       "3                       0.0                     0.0                       0.0   \n",
       "4                   18979.0                 15273.0                       0.0   \n",
       "\n",
       "  Valeur DHS Décembre 2020  Valeur DHS Janvier 2021  Valeur DHS Février 2021  \\\n",
       "0                    0.000                    0.000                      0.0   \n",
       "1                    0.000               652186.000                1176807.8   \n",
       "2               168350.000               288363.000                      0.0   \n",
       "3              1872443.446              7238766.578                      0.0   \n",
       "4                    0.000                    0.000                 121193.0   \n",
       "\n",
       "   Valeur DHS Mars 2021  Valeur DHS Avril 2021  Valeur DHS Mai 2021  \\\n",
       "0                   0.0                    0.0                  0.0   \n",
       "1              192400.0                    0.0                  0.0   \n",
       "2              245592.0                    0.0                  0.0   \n",
       "3                   0.0                    0.0            1056352.0   \n",
       "4                   0.0                    0.0                  0.0   \n",
       "\n",
       "   Valeur DHS Juin 2021  \n",
       "0                   0.0  \n",
       "1                   0.0  \n",
       "2                   0.0  \n",
       "3                   2.0  \n",
       "4                   0.0  \n",
       "\n",
       "[5 rows x 56 columns]"
      ]
     },
     "execution_count": 3,
     "metadata": {},
     "output_type": "execute_result"
    }
   ],
   "source": [
    "path='https://raw.githubusercontent.com/Hamid-abdellaoui/Morocco_Exchange_VIZ/master/Data/ExportData.csv'\n",
    "dataframe = pd.read_csv(path,sep=';',decimal=',')\n",
    "dataframe.head()"
   ]
  },
  {
   "cell_type": "code",
   "execution_count": 4,
   "metadata": {
    "colab": {
     "base_uri": "https://localhost:8080/"
    },
    "collapsed": true,
    "id": "mKoUo90Xj4UH",
    "outputId": "6b65bce3-94a5-4b7e-a3ac-ae66576a65cf"
   },
   "outputs": [
    {
     "name": "stdout",
     "output_type": "stream",
     "text": [
      "<class 'pandas.core.frame.DataFrame'>\n",
      "RangeIndex: 61651 entries, 0 to 61650\n",
      "Data columns (total 56 columns):\n",
      " #   Column                                    Non-Null Count  Dtype  \n",
      "---  ------                                    --------------  -----  \n",
      " 0   Code du groupement d'utilisation          61651 non-null  int64  \n",
      " 1   Libellé du groupement d'utilisation       61651 non-null  object \n",
      " 2   Code du nouveau produits remarquables     61651 non-null  int64  \n",
      " 3   Libellé du nouveau produits remarquables  61651 non-null  object \n",
      " 4   Code de la section CTCI                   61651 non-null  object \n",
      " 5   Libellé de la section CTCI                61651 non-null  object \n",
      " 6   Code de la division CTCI                  61651 non-null  object \n",
      " 7   Libellé de la division CTCI               61649 non-null  object \n",
      " 8   Code du groupe CTCI                       61651 non-null  object \n",
      " 9   Libellé du groupe CTCI                    61649 non-null  object \n",
      " 10  Continent                                 61651 non-null  object \n",
      " 11  Libellé du pays                           61651 non-null  object \n",
      " 12  Code du flux                              61651 non-null  int64  \n",
      " 13  Libellé du flux                           61651 non-null  object \n",
      " 14  Valeur DHS Janvier 2018                   61651 non-null  float64\n",
      " 15  Valeur DHS Février 2018                   61651 non-null  float64\n",
      " 16  Valeur DHS Mars 2018                      61651 non-null  float64\n",
      " 17  Valeur DHS Avril 2018                     61651 non-null  float64\n",
      " 18  Valeur DHS Mai 2018                       61651 non-null  float64\n",
      " 19  Valeur DHS Juin 2018                      61651 non-null  float64\n",
      " 20  Valeur DHS Juillet 2018                   61651 non-null  float64\n",
      " 21  Valeur DHS Aout 2018                      61651 non-null  float64\n",
      " 22  Valeur DHS Septembre 2018                 61651 non-null  float64\n",
      " 23  Valeur DHS Octobre 2018                   61651 non-null  float64\n",
      " 24  Valeur DHS Novembre 2018                  61651 non-null  float64\n",
      " 25  Valeur DHS Décembre 2018                  61651 non-null  float64\n",
      " 26  Valeur DHS Janvier 2019                   61651 non-null  float64\n",
      " 27  Valeur DHS Février 2019                   61651 non-null  float64\n",
      " 28  Valeur DHS Mars 2019                      61651 non-null  float64\n",
      " 29  Valeur DHS Avril 2019                     61651 non-null  float64\n",
      " 30  Valeur DHS Mai 2019                       61651 non-null  float64\n",
      " 31  Valeur DHS Juin 2019                      61651 non-null  float64\n",
      " 32  Valeur DHS Juillet 2019                   61651 non-null  float64\n",
      " 33  Valeur DHS Aout 2019                      61651 non-null  float64\n",
      " 34  Valeur DHS Septembre 2019                 61651 non-null  float64\n",
      " 35  Valeur DHS Octobre 2019                   61651 non-null  float64\n",
      " 36  Valeur DHS Novembre 2019                  61651 non-null  float64\n",
      " 37  Valeur DHS Décembre 2019                  61651 non-null  float64\n",
      " 38  Valeur DHS Janvier 2020                   61651 non-null  float64\n",
      " 39  Valeur DHS Février 2020                   61651 non-null  float64\n",
      " 40  Valeur DHS Mars 2020                      61651 non-null  float64\n",
      " 41  Valeur DHS Avril 2020                     61651 non-null  float64\n",
      " 42  Valeur DHS Mai 2020                       61651 non-null  float64\n",
      " 43  Valeur DHS Juin 2020                      61651 non-null  float64\n",
      " 44  Valeur DHS Juillet 2020                   61651 non-null  float64\n",
      " 45  Valeur DHS Aout 2020                      61651 non-null  float64\n",
      " 46  Valeur DHS Septembre 2020                 61651 non-null  float64\n",
      " 47  Valeur DHS Octobre 2020                   61651 non-null  float64\n",
      " 48  Valeur DHS Novembre 2020                  61651 non-null  float64\n",
      " 49  Valeur DHS Décembre 2020                  61651 non-null  float64\n",
      " 50  Valeur DHS Janvier 2021                   61651 non-null  float64\n",
      " 51  Valeur DHS Février 2021                   61651 non-null  float64\n",
      " 52  Valeur DHS Mars 2021                      61651 non-null  float64\n",
      " 53  Valeur DHS Avril 2021                     61651 non-null  float64\n",
      " 54  Valeur DHS Mai 2021                       61651 non-null  float64\n",
      " 55  Valeur DHS Juin 2021                      61651 non-null  float64\n",
      "dtypes: float64(42), int64(3), object(11)\n",
      "memory usage: 26.3+ MB\n"
     ]
    }
   ],
   "source": [
    "dataframe.info()"
   ]
  },
  {
   "cell_type": "markdown",
   "metadata": {
    "id": "07LKaJZLGuLs"
   },
   "source": [
    "# 2. Handling  missing values"
   ]
  },
  {
   "cell_type": "code",
   "execution_count": 5,
   "metadata": {
    "colab": {
     "base_uri": "https://localhost:8080/"
    },
    "collapsed": true,
    "id": "gR4WPSmAr8f5",
    "outputId": "3db7d1e5-f41d-4f45-92e8-11250485ee47"
   },
   "outputs": [
    {
     "data": {
      "text/plain": [
       "Code du groupement d'utilisation            0\n",
       "Libellé du groupement d'utilisation         0\n",
       "Code du nouveau produits remarquables       0\n",
       "Libellé du nouveau produits remarquables    0\n",
       "Code de la section CTCI                     0\n",
       "Libellé de la section CTCI                  0\n",
       "Code de la division CTCI                    0\n",
       "Libellé de la division CTCI                 2\n",
       "Code du groupe CTCI                         0\n",
       "Libellé du groupe CTCI                      2\n",
       "Continent                                   0\n",
       "Libellé du pays                             0\n",
       "Code du flux                                0\n",
       "Libellé du flux                             0\n",
       "Valeur DHS Janvier 2018                     0\n",
       "Valeur DHS Février 2018                     0\n",
       "Valeur DHS Mars 2018                        0\n",
       "Valeur DHS Avril 2018                       0\n",
       "Valeur DHS Mai 2018                         0\n",
       "Valeur DHS Juin 2018                        0\n",
       "Valeur DHS Juillet 2018                     0\n",
       "Valeur DHS Aout 2018                        0\n",
       "Valeur DHS Septembre 2018                   0\n",
       "Valeur DHS Octobre 2018                     0\n",
       "Valeur DHS Novembre 2018                    0\n",
       "Valeur DHS Décembre 2018                    0\n",
       "Valeur DHS Janvier 2019                     0\n",
       "Valeur DHS Février 2019                     0\n",
       "Valeur DHS Mars 2019                        0\n",
       "Valeur DHS Avril 2019                       0\n",
       "Valeur DHS Mai 2019                         0\n",
       "Valeur DHS Juin 2019                        0\n",
       "Valeur DHS Juillet 2019                     0\n",
       "Valeur DHS Aout 2019                        0\n",
       "Valeur DHS Septembre 2019                   0\n",
       "Valeur DHS Octobre 2019                     0\n",
       "Valeur DHS Novembre 2019                    0\n",
       "Valeur DHS Décembre 2019                    0\n",
       "Valeur DHS Janvier 2020                     0\n",
       "Valeur DHS Février 2020                     0\n",
       "Valeur DHS Mars 2020                        0\n",
       "Valeur DHS Avril 2020                       0\n",
       "Valeur DHS Mai 2020                         0\n",
       "Valeur DHS Juin 2020                        0\n",
       "Valeur DHS Juillet 2020                     0\n",
       "Valeur DHS Aout 2020                        0\n",
       "Valeur DHS Septembre 2020                   0\n",
       "Valeur DHS Octobre 2020                     0\n",
       "Valeur DHS Novembre 2020                    0\n",
       "Valeur DHS Décembre 2020                    0\n",
       "Valeur DHS Janvier 2021                     0\n",
       "Valeur DHS Février 2021                     0\n",
       "Valeur DHS Mars 2021                        0\n",
       "Valeur DHS Avril 2021                       0\n",
       "Valeur DHS Mai 2021                         0\n",
       "Valeur DHS Juin 2021                        0\n",
       "dtype: int64"
      ]
     },
     "execution_count": 5,
     "metadata": {},
     "output_type": "execute_result"
    }
   ],
   "source": [
    "dataframe.isnull().sum()"
   ]
  },
  {
   "cell_type": "markdown",
   "metadata": {
    "id": "CGon_p6KG1xe"
   },
   "source": [
    "\n",
    "▶ **Pour** *Libellé de la division CTCI* **et** *Libellé du groupe CTCI* <br>\n",
    "> On va remplacer les valeurs manquantes manuellement à l'aide des colonnes Code correspondant"
   ]
  },
  {
   "cell_type": "code",
   "execution_count": 6,
   "metadata": {
    "colab": {
     "base_uri": "https://localhost:8080/"
    },
    "collapsed": true,
    "id": "-YrqNKaVwoQ0",
    "outputId": "aa6ee0ae-c0be-42ed-a524-ca37dbbd846f"
   },
   "outputs": [
    {
     "name": "stdout",
     "output_type": "stream",
     "text": [
      "pour la variable: Libellé du groupe CTCI :\t \t [5186, 5969] \n",
      "pour la variable: Libellé de la division CTCI :\t\t [5186, 5969]\n"
     ]
    }
   ],
   "source": [
    "#qui sont les indices des valeures manquantes\n",
    "print('pour la variable: Libellé du groupe CTCI :\\t \\t',dataframe[dataframe['Libellé du groupe CTCI'].isnull()].index.tolist(),\n",
    "      '\\npour la variable: Libellé de la division CTCI :\\t\\t',dataframe[dataframe['Libellé de la division CTCI'].isnull()].index.tolist())"
   ]
  },
  {
   "cell_type": "code",
   "execution_count": 7,
   "metadata": {
    "colab": {
     "base_uri": "https://localhost:8080/"
    },
    "collapsed": true,
    "id": "nIB_Cu7vzao5",
    "outputId": "e6a04bd8-7f1e-44fe-d194-0af6d0b6f74f"
   },
   "outputs": [
    {
     "name": "stdout",
     "output_type": "stream",
     "text": [
      "nan 34 \n",
      " nan 34\n"
     ]
    }
   ],
   "source": [
    "#checking what's happening there\n",
    "print(dataframe['Libellé du groupe CTCI'][5186],dataframe['Code du groupe CTCI'][5186],'\\n',\n",
    "      dataframe['Libellé du groupe CTCI'][5969],dataframe['Code du groupe CTCI'][5969])"
   ]
  },
  {
   "cell_type": "code",
   "execution_count": 8,
   "metadata": {
    "colab": {
     "base_uri": "https://localhost:8080/"
    },
    "collapsed": true,
    "id": "3-qrHjQCcLBW",
    "outputId": "fdb34f15-57c1-4fed-fa1b-34f3e7cd99e1"
   },
   "outputs": [
    {
     "name": "stdout",
     "output_type": "stream",
     "text": [
      "nan 3 \n",
      " nan 3\n"
     ]
    }
   ],
   "source": [
    "print(dataframe['Libellé de la division CTCI'][5186],dataframe['Code de la division CTCI'][5186],'\\n',\n",
    "      dataframe['Libellé de la division CTCI'][5969],dataframe['Code de la division CTCI'][5969])"
   ]
  },
  {
   "cell_type": "code",
   "execution_count": 9,
   "metadata": {
    "colab": {
     "base_uri": "https://localhost:8080/"
    },
    "collapsed": true,
    "id": "tGyWVecSxQUd",
    "outputId": "6278e194-669b-482e-ba99-903633c7ee6c"
   },
   "outputs": [
    {
     "name": "stderr",
     "output_type": "stream",
     "text": [
      "C:\\Users\\hp\\AppData\\Local\\Temp/ipykernel_22124/3579253905.py:10: SettingWithCopyWarning: \n",
      "A value is trying to be set on a copy of a slice from a DataFrame\n",
      "\n",
      "See the caveats in the documentation: https://pandas.pydata.org/pandas-docs/stable/user_guide/indexing.html#returning-a-view-versus-a-copy\n",
      "  dataframe['Libellé de la division CTCI'][5186]=dataframe['Libellé de la division CTCI'][i]\n",
      "C:\\Users\\hp\\AppData\\Local\\Temp/ipykernel_22124/3579253905.py:11: SettingWithCopyWarning: \n",
      "A value is trying to be set on a copy of a slice from a DataFrame\n",
      "\n",
      "See the caveats in the documentation: https://pandas.pydata.org/pandas-docs/stable/user_guide/indexing.html#returning-a-view-versus-a-copy\n",
      "  dataframe['Libellé de la division CTCI'][5969]=dataframe['Libellé de la division CTCI'][i]\n",
      "C:\\Users\\hp\\AppData\\Local\\Temp/ipykernel_22124/3579253905.py:6: SettingWithCopyWarning: \n",
      "A value is trying to be set on a copy of a slice from a DataFrame\n",
      "\n",
      "See the caveats in the documentation: https://pandas.pydata.org/pandas-docs/stable/user_guide/indexing.html#returning-a-view-versus-a-copy\n",
      "  dataframe['Libellé du groupe CTCI'][5186]=dataframe['Libellé du groupe CTCI'][i]\n",
      "C:\\Users\\hp\\AppData\\Local\\Temp/ipykernel_22124/3579253905.py:7: SettingWithCopyWarning: \n",
      "A value is trying to be set on a copy of a slice from a DataFrame\n",
      "\n",
      "See the caveats in the documentation: https://pandas.pydata.org/pandas-docs/stable/user_guide/indexing.html#returning-a-view-versus-a-copy\n",
      "  dataframe['Libellé du groupe CTCI'][5969]=dataframe['Libellé du groupe CTCI'][i]\n"
     ]
    }
   ],
   "source": [
    "c,i=0,70\n",
    "while(c<=6):\n",
    "  i+=1\n",
    "  if i !=5969 and i != 5186:\n",
    "    if dataframe['Code du groupe CTCI'][i]==34:\n",
    "      dataframe['Libellé du groupe CTCI'][5186]=dataframe['Libellé du groupe CTCI'][i]\n",
    "      dataframe['Libellé du groupe CTCI'][5969]=dataframe['Libellé du groupe CTCI'][i]\n",
    "      c+=1\n",
    "    if dataframe['Code de la division CTCI'][i]==3:\n",
    "      dataframe['Libellé de la division CTCI'][5186]=dataframe['Libellé de la division CTCI'][i]\n",
    "      dataframe['Libellé de la division CTCI'][5969]=dataframe['Libellé de la division CTCI'][i]\n",
    "      c+=1"
   ]
  },
  {
   "cell_type": "code",
   "execution_count": 10,
   "metadata": {
    "colab": {
     "base_uri": "https://localhost:8080/"
    },
    "collapsed": true,
    "id": "SCjqGXvY0oNe",
    "outputId": "f5008706-966d-4b52-80f1-650e58b0b4ea"
   },
   "outputs": [
    {
     "data": {
      "text/plain": [
       "0"
      ]
     },
     "execution_count": 10,
     "metadata": {},
     "output_type": "execute_result"
    }
   ],
   "source": [
    "dataframe.isnull().sum().sum()"
   ]
  },
  {
   "cell_type": "markdown",
   "metadata": {
    "id": "rZkNe7EDnC47"
   },
   "source": [
    "🎉🥳 NOIICE , no more missing values"
   ]
  },
  {
   "cell_type": "markdown",
   "metadata": {
    "id": "dAAytMt0AcEO"
   },
   "source": [
    "Let's delete now some useless columns (the columns of code ...)"
   ]
  },
  {
   "cell_type": "code",
   "execution_count": 11,
   "metadata": {
    "id": "3UAaOGRWcUyx"
   },
   "outputs": [
    {
     "name": "stderr",
     "output_type": "stream",
     "text": [
      "C:\\Users\\hp\\AppData\\Local\\Temp/ipykernel_22124/1987872868.py:1: FutureWarning: In a future version of pandas all arguments of DataFrame.drop except for the argument 'labels' will be keyword-only\n",
      "  dataframe.drop(dataframe.columns[[0,2,3,4,6,8,12]],1, inplace=True)\n"
     ]
    }
   ],
   "source": [
    "dataframe.drop(dataframe.columns[[0,2,3,4,6,8,12]],1, inplace=True)"
   ]
  },
  {
   "cell_type": "markdown",
   "metadata": {
    "id": "00nrcR3pA0uI"
   },
   "source": [
    "voici la form de notre base de données "
   ]
  },
  {
   "cell_type": "code",
   "execution_count": 12,
   "metadata": {
    "colab": {
     "base_uri": "https://localhost:8080/"
    },
    "collapsed": true,
    "id": "040KAeijdXlm",
    "outputId": "8ca5337a-94ae-498d-d103-928df15b4a9d"
   },
   "outputs": [
    {
     "data": {
      "text/plain": [
       "Index(['Libellé du groupement d'utilisation', 'Libellé de la section CTCI',\n",
       "       'Libellé de la division CTCI', 'Libellé du groupe CTCI', 'Continent',\n",
       "       'Libellé du pays', 'Libellé du flux', 'Valeur DHS Janvier 2018',\n",
       "       'Valeur DHS Février 2018', 'Valeur DHS Mars 2018',\n",
       "       'Valeur DHS Avril 2018', 'Valeur DHS Mai 2018', 'Valeur DHS Juin 2018',\n",
       "       'Valeur DHS Juillet 2018', 'Valeur DHS Aout 2018',\n",
       "       'Valeur DHS Septembre 2018', 'Valeur DHS Octobre 2018',\n",
       "       'Valeur DHS Novembre 2018', 'Valeur DHS Décembre 2018',\n",
       "       'Valeur DHS Janvier 2019', 'Valeur DHS Février 2019',\n",
       "       'Valeur DHS Mars 2019', 'Valeur DHS Avril 2019', 'Valeur DHS Mai 2019',\n",
       "       'Valeur DHS Juin 2019', 'Valeur DHS Juillet 2019',\n",
       "       'Valeur DHS Aout 2019', 'Valeur DHS Septembre 2019',\n",
       "       'Valeur DHS Octobre 2019', 'Valeur DHS Novembre 2019',\n",
       "       'Valeur DHS Décembre 2019', 'Valeur DHS Janvier 2020',\n",
       "       'Valeur DHS Février 2020', 'Valeur DHS Mars 2020',\n",
       "       'Valeur DHS Avril 2020', 'Valeur DHS Mai 2020', 'Valeur DHS Juin 2020',\n",
       "       'Valeur DHS Juillet 2020', 'Valeur DHS Aout 2020',\n",
       "       'Valeur DHS Septembre 2020', 'Valeur DHS Octobre 2020',\n",
       "       'Valeur DHS Novembre 2020', 'Valeur DHS Décembre 2020',\n",
       "       'Valeur DHS Janvier 2021', 'Valeur DHS Février 2021',\n",
       "       'Valeur DHS Mars 2021', 'Valeur DHS Avril 2021', 'Valeur DHS Mai 2021',\n",
       "       'Valeur DHS Juin 2021'],\n",
       "      dtype='object')"
      ]
     },
     "execution_count": 12,
     "metadata": {},
     "output_type": "execute_result"
    }
   ],
   "source": [
    "dataframe.columns"
   ]
  },
  {
   "cell_type": "markdown",
   "metadata": {
    "id": "X7iECsDHLxJ7"
   },
   "source": [
    "### Données  d'importations et exportations annueles"
   ]
  },
  {
   "cell_type": "code",
   "execution_count": 13,
   "metadata": {
    "colab": {
     "base_uri": "https://localhost:8080/",
     "height": 475
    },
    "id": "ifc7GIH7KTql",
    "outputId": "36d73b0f-08ae-4ee2-99b4-cd987ad9cd01"
   },
   "outputs": [
    {
     "data": {
      "text/html": [
       "<div>\n",
       "<style scoped>\n",
       "    .dataframe tbody tr th:only-of-type {\n",
       "        vertical-align: middle;\n",
       "    }\n",
       "\n",
       "    .dataframe tbody tr th {\n",
       "        vertical-align: top;\n",
       "    }\n",
       "\n",
       "    .dataframe thead th {\n",
       "        text-align: right;\n",
       "    }\n",
       "</style>\n",
       "<table border=\"1\" class=\"dataframe\">\n",
       "  <thead>\n",
       "    <tr style=\"text-align: right;\">\n",
       "      <th></th>\n",
       "      <th>Code du pays</th>\n",
       "      <th>Libellé du pays</th>\n",
       "      <th>Code du flux</th>\n",
       "      <th>Libellé du flux</th>\n",
       "      <th>Valeur DHS 2010</th>\n",
       "      <th>Valeur DHS 2011</th>\n",
       "      <th>Valeur DHS 2012</th>\n",
       "      <th>Valeur DHS 2013</th>\n",
       "      <th>Valeur DHS 2014</th>\n",
       "      <th>Valeur DHS 2015</th>\n",
       "      <th>Valeur DHS 2016</th>\n",
       "      <th>Valeur DHS 2017</th>\n",
       "      <th>Valeur DHS 2018</th>\n",
       "      <th>Valeur DHS 2019</th>\n",
       "      <th>Valeur DHS 2020</th>\n",
       "      <th>Valeur DHS 2021</th>\n",
       "      <th>Unnamed: 16</th>\n",
       "    </tr>\n",
       "  </thead>\n",
       "  <tbody>\n",
       "    <tr>\n",
       "      <th>0</th>\n",
       "      <td>NaN</td>\n",
       "      <td>NaN</td>\n",
       "      <td>141</td>\n",
       "      <td>Importations en admission temporaire pour perf...</td>\n",
       "      <td>0</td>\n",
       "      <td>0.0</td>\n",
       "      <td>0.0</td>\n",
       "      <td>0.0</td>\n",
       "      <td>0.0</td>\n",
       "      <td>0.0</td>\n",
       "      <td>0.0</td>\n",
       "      <td>4.0</td>\n",
       "      <td>0.0</td>\n",
       "      <td>0.0</td>\n",
       "      <td>0.0</td>\n",
       "      <td>0.0</td>\n",
       "      <td>NaN</td>\n",
       "    </tr>\n",
       "    <tr>\n",
       "      <th>1</th>\n",
       "      <td>NaN</td>\n",
       "      <td>NaN</td>\n",
       "      <td>14</td>\n",
       "      <td>Importations CAF</td>\n",
       "      <td>0</td>\n",
       "      <td>0.0</td>\n",
       "      <td>0.0</td>\n",
       "      <td>0.0</td>\n",
       "      <td>0.0</td>\n",
       "      <td>0.0</td>\n",
       "      <td>0.0</td>\n",
       "      <td>5.0</td>\n",
       "      <td>0.0</td>\n",
       "      <td>0.0</td>\n",
       "      <td>0.0</td>\n",
       "      <td>0.0</td>\n",
       "      <td>NaN</td>\n",
       "    </tr>\n",
       "  </tbody>\n",
       "</table>\n",
       "</div>"
      ],
      "text/plain": [
       "  Code du pays Libellé du pays  Code du flux  \\\n",
       "0          NaN             NaN           141   \n",
       "1          NaN             NaN            14   \n",
       "\n",
       "                                     Libellé du flux  Valeur DHS 2010  \\\n",
       "0  Importations en admission temporaire pour perf...                0   \n",
       "1                                   Importations CAF                0   \n",
       "\n",
       "   Valeur DHS 2011  Valeur DHS 2012  Valeur DHS 2013  Valeur DHS 2014  \\\n",
       "0              0.0              0.0              0.0              0.0   \n",
       "1              0.0              0.0              0.0              0.0   \n",
       "\n",
       "   Valeur DHS 2015  Valeur DHS 2016  Valeur DHS 2017  Valeur DHS 2018  \\\n",
       "0              0.0              0.0              4.0              0.0   \n",
       "1              0.0              0.0              5.0              0.0   \n",
       "\n",
       "   Valeur DHS 2019  Valeur DHS 2020  Valeur DHS 2021  Unnamed: 16  \n",
       "0              0.0              0.0              0.0          NaN  \n",
       "1              0.0              0.0              0.0          NaN  "
      ]
     },
     "execution_count": 13,
     "metadata": {},
     "output_type": "execute_result"
    }
   ],
   "source": [
    "annual=pd.read_csv('https://raw.githubusercontent.com/Hamid-abdellaoui/Morocco_Exchange_VIZ/master/Data/Annual.csv',sep=';',decimal=',')\n",
    "annual.head(2)"
   ]
  },
  {
   "cell_type": "code",
   "execution_count": 14,
   "metadata": {
    "colab": {
     "base_uri": "https://localhost:8080/",
     "height": 390
    },
    "id": "lZSGkDD9KTqm",
    "outputId": "d0d75843-5d3b-4d24-d040-b8899542e24e"
   },
   "outputs": [
    {
     "name": "stderr",
     "output_type": "stream",
     "text": [
      "C:\\Users\\hp\\AppData\\Local\\Temp/ipykernel_22124/673746400.py:1: FutureWarning: In a future version of pandas all arguments of DataFrame.drop except for the argument 'labels' will be keyword-only\n",
      "  annual.drop(['Unnamed: 16','Valeur DHS 2021','Code du pays','Code du flux'],1,inplace=True)\n"
     ]
    },
    {
     "data": {
      "text/html": [
       "<div>\n",
       "<style scoped>\n",
       "    .dataframe tbody tr th:only-of-type {\n",
       "        vertical-align: middle;\n",
       "    }\n",
       "\n",
       "    .dataframe tbody tr th {\n",
       "        vertical-align: top;\n",
       "    }\n",
       "\n",
       "    .dataframe thead th {\n",
       "        text-align: right;\n",
       "    }\n",
       "</style>\n",
       "<table border=\"1\" class=\"dataframe\">\n",
       "  <thead>\n",
       "    <tr style=\"text-align: right;\">\n",
       "      <th></th>\n",
       "      <th>Libellé du pays</th>\n",
       "      <th>Libellé du flux</th>\n",
       "      <th>Valeur DHS 2010</th>\n",
       "      <th>Valeur DHS 2011</th>\n",
       "      <th>Valeur DHS 2012</th>\n",
       "      <th>Valeur DHS 2013</th>\n",
       "      <th>Valeur DHS 2014</th>\n",
       "      <th>Valeur DHS 2015</th>\n",
       "      <th>Valeur DHS 2016</th>\n",
       "      <th>Valeur DHS 2017</th>\n",
       "      <th>Valeur DHS 2018</th>\n",
       "      <th>Valeur DHS 2019</th>\n",
       "      <th>Valeur DHS 2020</th>\n",
       "    </tr>\n",
       "  </thead>\n",
       "  <tbody>\n",
       "    <tr>\n",
       "      <th>0</th>\n",
       "      <td>NaN</td>\n",
       "      <td>Importations en admission temporaire pour perf...</td>\n",
       "      <td>0</td>\n",
       "      <td>0.0</td>\n",
       "      <td>0.000</td>\n",
       "      <td>0.000</td>\n",
       "      <td>0.00</td>\n",
       "      <td>0.000</td>\n",
       "      <td>0.000</td>\n",
       "      <td>4.000</td>\n",
       "      <td>0.000</td>\n",
       "      <td>0.000</td>\n",
       "      <td>0.000</td>\n",
       "    </tr>\n",
       "    <tr>\n",
       "      <th>1</th>\n",
       "      <td>NaN</td>\n",
       "      <td>Importations CAF</td>\n",
       "      <td>0</td>\n",
       "      <td>0.0</td>\n",
       "      <td>0.000</td>\n",
       "      <td>0.000</td>\n",
       "      <td>0.00</td>\n",
       "      <td>0.000</td>\n",
       "      <td>0.000</td>\n",
       "      <td>5.000</td>\n",
       "      <td>0.000</td>\n",
       "      <td>0.000</td>\n",
       "      <td>0.000</td>\n",
       "    </tr>\n",
       "    <tr>\n",
       "      <th>2</th>\n",
       "      <td>ANDORRE</td>\n",
       "      <td>Exportations FAB</td>\n",
       "      <td>17000</td>\n",
       "      <td>0.0</td>\n",
       "      <td>1132030.866</td>\n",
       "      <td>3086862.405</td>\n",
       "      <td>6370835.38</td>\n",
       "      <td>7754181.694</td>\n",
       "      <td>7308319.716</td>\n",
       "      <td>5987804.994</td>\n",
       "      <td>6375642.244</td>\n",
       "      <td>6127175.242</td>\n",
       "      <td>3778609.465</td>\n",
       "    </tr>\n",
       "  </tbody>\n",
       "</table>\n",
       "</div>"
      ],
      "text/plain": [
       "  Libellé du pays                                    Libellé du flux  \\\n",
       "0             NaN  Importations en admission temporaire pour perf...   \n",
       "1             NaN                                   Importations CAF   \n",
       "2         ANDORRE                                   Exportations FAB   \n",
       "\n",
       "   Valeur DHS 2010  Valeur DHS 2011  Valeur DHS 2012  Valeur DHS 2013  \\\n",
       "0                0              0.0            0.000            0.000   \n",
       "1                0              0.0            0.000            0.000   \n",
       "2            17000              0.0      1132030.866      3086862.405   \n",
       "\n",
       "   Valeur DHS 2014  Valeur DHS 2015  Valeur DHS 2016  Valeur DHS 2017  \\\n",
       "0             0.00            0.000            0.000            4.000   \n",
       "1             0.00            0.000            0.000            5.000   \n",
       "2       6370835.38      7754181.694      7308319.716      5987804.994   \n",
       "\n",
       "   Valeur DHS 2018  Valeur DHS 2019  Valeur DHS 2020  \n",
       "0            0.000            0.000            0.000  \n",
       "1            0.000            0.000            0.000  \n",
       "2      6375642.244      6127175.242      3778609.465  "
      ]
     },
     "execution_count": 14,
     "metadata": {},
     "output_type": "execute_result"
    }
   ],
   "source": [
    "annual.drop(['Unnamed: 16','Valeur DHS 2021','Code du pays','Code du flux'],1,inplace=True)\n",
    "annual.head(3)"
   ]
  },
  {
   "cell_type": "code",
   "execution_count": 15,
   "metadata": {
    "colab": {
     "base_uri": "https://localhost:8080/"
    },
    "id": "mwFNiHuLKTqn",
    "outputId": "f9a488c1-e3e7-4924-e74c-b4a07b24df07"
   },
   "outputs": [
    {
     "data": {
      "text/plain": [
       "Libellé du pays     2\n",
       "Libellé du flux     0\n",
       "Valeur DHS 2010     0\n",
       "Valeur DHS 2011     3\n",
       "Valeur DHS 2012     0\n",
       "Valeur DHS 2013    18\n",
       "Valeur DHS 2014     0\n",
       "Valeur DHS 2015     0\n",
       "Valeur DHS 2016     0\n",
       "Valeur DHS 2017     0\n",
       "Valeur DHS 2018     0\n",
       "Valeur DHS 2019     0\n",
       "Valeur DHS 2020     0\n",
       "dtype: int64"
      ]
     },
     "execution_count": 15,
     "metadata": {},
     "output_type": "execute_result"
    }
   ],
   "source": [
    "annual.isnull().sum()"
   ]
  },
  {
   "cell_type": "code",
   "execution_count": 16,
   "metadata": {
    "id": "cRfCbUouKTqo"
   },
   "outputs": [],
   "source": [
    "annual.drop(0, inplace=True)\n",
    "annual.drop(1, inplace=True)"
   ]
  },
  {
   "cell_type": "code",
   "execution_count": 17,
   "metadata": {
    "colab": {
     "base_uri": "https://localhost:8080/"
    },
    "id": "I129SVmFKTqp",
    "outputId": "17bc1769-6b0e-4028-84ab-23bb8bcd08c4"
   },
   "outputs": [
    {
     "name": "stdout",
     "output_type": "stream",
     "text": [
      "    Libellé du pays   Libellé du flux  Valeur DHS 2010  Valeur DHS 2011  \\\n",
      "173        BOTSWANA  Exportations FAB                0          26850.0   \n",
      "\n",
      "     Valeur DHS 2012  Valeur DHS 2013  Valeur DHS 2014  Valeur DHS 2015  \\\n",
      "173              0.0              0.0          20413.0              0.0   \n",
      "\n",
      "     Valeur DHS 2016  Valeur DHS 2017  Valeur DHS 2018  Valeur DHS 2019  \\\n",
      "173           5382.0         452457.0        1236845.0        1065021.0   \n",
      "\n",
      "     Valeur DHS 2020  \n",
      "173        1737912.0  \n",
      "     Libellé du pays   Libellé du flux  Valeur DHS 2010  Valeur DHS 2011  \\\n",
      "1104     TADJIKISTAN  Importations CAF             3927       15027335.0   \n",
      "\n",
      "      Valeur DHS 2012  Valeur DHS 2013  Valeur DHS 2014  Valeur DHS 2015  \\\n",
      "1104              0.0              0.0              0.0         746651.0   \n",
      "\n",
      "      Valeur DHS 2016  Valeur DHS 2017  Valeur DHS 2018  Valeur DHS 2019  \\\n",
      "1104         297801.0         488347.0            306.0          59572.0   \n",
      "\n",
      "      Valeur DHS 2020  \n",
      "1104        1035760.0  \n",
      "                           Libellé du pays   Libellé du flux  Valeur DHS 2010  \\\n",
      "1194  REPUBLIQUE BOLIVARIENNE DU VENEZUELA  Exportations FAB        156088177   \n",
      "\n",
      "      Valeur DHS 2011  Valeur DHS 2012  Valeur DHS 2013  Valeur DHS 2014  \\\n",
      "1194      175287002.0     2.172116e+08     1.486397e+08      126099430.0   \n",
      "\n",
      "      Valeur DHS 2015  Valeur DHS 2016  Valeur DHS 2017  Valeur DHS 2018  \\\n",
      "1194     2.167808e+08     1.150982e+08     1.868805e+08     7.710668e+07   \n",
      "\n",
      "      Valeur DHS 2019  Valeur DHS 2020  \n",
      "1194        5793949.0       11211915.0  \n"
     ]
    }
   ],
   "source": [
    "for i in annual[annual['Valeur DHS 2011'].isnull()].index.tolist():print(annual.iloc[[i]])"
   ]
  },
  {
   "cell_type": "code",
   "execution_count": 18,
   "metadata": {
    "colab": {
     "base_uri": "https://localhost:8080/"
    },
    "id": "DIYrQDYbKTqq",
    "outputId": "4f953140-c8b9-4e67-fc68-f19454ca80d6",
    "scrolled": false
   },
   "outputs": [
    {
     "name": "stdout",
     "output_type": "stream",
     "text": [
      "   Libellé du pays                                    Libellé du flux  \\\n",
      "16     AFGHANISTAN  Importations en admission temporaire pour perf...   \n",
      "\n",
      "    Valeur DHS 2010  Valeur DHS 2011  Valeur DHS 2012  Valeur DHS 2013  \\\n",
      "16             9112              0.0          13552.0              0.0   \n",
      "\n",
      "    Valeur DHS 2014  Valeur DHS 2015  Valeur DHS 2016  Valeur DHS 2017  \\\n",
      "16              0.0              0.0              0.0              0.0   \n",
      "\n",
      "    Valeur DHS 2018  Valeur DHS 2019  Valeur DHS 2020  \n",
      "16              0.0           2888.0              0.0  \n",
      "   Libellé du pays                                    Libellé du flux  \\\n",
      "83           ARUBA  Réexportations en suite d'admission temporaire...   \n",
      "\n",
      "    Valeur DHS 2010  Valeur DHS 2011  Valeur DHS 2012  Valeur DHS 2013  \\\n",
      "83                0              0.0              0.0              0.0   \n",
      "\n",
      "    Valeur DHS 2014  Valeur DHS 2015  Valeur DHS 2016  Valeur DHS 2017  \\\n",
      "83              0.0              0.0              0.0              0.0   \n",
      "\n",
      "    Valeur DHS 2018  Valeur DHS 2019  Valeur DHS 2020  \n",
      "83              0.0          66723.0              0.0  \n",
      "    Libellé du pays   Libellé du flux  Valeur DHS 2010  Valeur DHS 2011  \\\n",
      "143        BERMUDES  Importations CAF                0              0.0   \n",
      "\n",
      "     Valeur DHS 2012  Valeur DHS 2013  Valeur DHS 2014  Valeur DHS 2015  \\\n",
      "143       26540816.0              0.0              0.0         137214.0   \n",
      "\n",
      "     Valeur DHS 2016  Valeur DHS 2017  Valeur DHS 2018  Valeur DHS 2019  \\\n",
      "143         628254.0              0.0           4810.0           1580.0   \n",
      "\n",
      "     Valeur DHS 2020  \n",
      "143           1458.0  \n",
      "       Libellé du pays                                    Libellé du flux  \\\n",
      "146  BRUNEI DARUSSALAM  Importations en admission temporaire pour perf...   \n",
      "\n",
      "     Valeur DHS 2010  Valeur DHS 2011  Valeur DHS 2012  Valeur DHS 2013  \\\n",
      "146                0              0.0              0.0              0.0   \n",
      "\n",
      "     Valeur DHS 2014  Valeur DHS 2015  Valeur DHS 2016  Valeur DHS 2017  \\\n",
      "146              0.0              0.0              0.0              0.0   \n",
      "\n",
      "     Valeur DHS 2018  Valeur DHS 2019  Valeur DHS 2020  \n",
      "146              0.0              0.0              0.0  \n",
      "    Libellé du pays   Libellé du flux  Valeur DHS 2010  Valeur DHS 2011  \\\n",
      "167         BAHAMAS  Importations CAF          1005333        1092929.0   \n",
      "\n",
      "     Valeur DHS 2012  Valeur DHS 2013  Valeur DHS 2014  Valeur DHS 2015  \\\n",
      "167            292.0          24671.0      653581484.0      168603172.0   \n",
      "\n",
      "     Valeur DHS 2016  Valeur DHS 2017  Valeur DHS 2018  Valeur DHS 2019  \\\n",
      "167          22099.0            231.0          63160.0       73305993.0   \n",
      "\n",
      "     Valeur DHS 2020  \n",
      "167          18027.0  \n",
      "    Libellé du pays   Libellé du flux  Valeur DHS 2010  Valeur DHS 2011  \\\n",
      "362           FIDJI  Exportations FAB           835726              0.0   \n",
      "\n",
      "     Valeur DHS 2012  Valeur DHS 2013  Valeur DHS 2014  Valeur DHS 2015  \\\n",
      "362              0.0           8000.0       3416655.88        1777586.0   \n",
      "\n",
      "     Valeur DHS 2016  Valeur DHS 2017  Valeur DHS 2018  Valeur DHS 2019  \\\n",
      "362        1369547.0              0.0         713349.0              0.0   \n",
      "\n",
      "     Valeur DHS 2020  \n",
      "362         805340.0  \n",
      "    Libellé du pays   Libellé du flux  Valeur DHS 2010  Valeur DHS 2011  \\\n",
      "363           FIDJI  Importations CAF                0              0.0   \n",
      "\n",
      "     Valeur DHS 2012  Valeur DHS 2013  Valeur DHS 2014  Valeur DHS 2015  \\\n",
      "363              0.0              0.0           1961.0          14514.0   \n",
      "\n",
      "     Valeur DHS 2016  Valeur DHS 2017  Valeur DHS 2018  Valeur DHS 2019  \\\n",
      "363              0.0              0.0              0.0           3739.0   \n",
      "\n",
      "     Valeur DHS 2020  \n",
      "363          15263.0  \n",
      "    Libellé du pays   Libellé du flux  Valeur DHS 2010  Valeur DHS 2011  \\\n",
      "556          JERSEY  Exportations FAB                0          32622.0   \n",
      "\n",
      "     Valeur DHS 2012  Valeur DHS 2013  Valeur DHS 2014  Valeur DHS 2015  \\\n",
      "556          44992.0         606725.0         413673.0         307586.0   \n",
      "\n",
      "     Valeur DHS 2016  Valeur DHS 2017  Valeur DHS 2018  Valeur DHS 2019  \\\n",
      "556         190145.0         107255.0              0.0              0.0   \n",
      "\n",
      "     Valeur DHS 2020  \n",
      "556         191943.0  \n",
      "    Libellé du pays                                    Libellé du flux  \\\n",
      "563        JAMAIQUE  Importations en admission temporaire pour perf...   \n",
      "\n",
      "     Valeur DHS 2010  Valeur DHS 2011  Valeur DHS 2012  Valeur DHS 2013  \\\n",
      "563                0              0.0              0.0              0.0   \n",
      "\n",
      "     Valeur DHS 2014  Valeur DHS 2015  Valeur DHS 2016  Valeur DHS 2017  \\\n",
      "563              0.0              0.0              0.0          12502.0   \n",
      "\n",
      "     Valeur DHS 2018  Valeur DHS 2019  Valeur DHS 2020  \n",
      "563          32362.0              0.0              0.0  \n",
      "          Libellé du pays                                    Libellé du flux  \\\n",
      "602  SAINT-KITTS-ET-NEVIS  Réexportations en suite d'admission temporaire...   \n",
      "\n",
      "     Valeur DHS 2010  Valeur DHS 2011  Valeur DHS 2012  Valeur DHS 2013  \\\n",
      "602                0              0.0              0.0              NaN   \n",
      "\n",
      "     Valeur DHS 2014  Valeur DHS 2015  Valeur DHS 2016  Valeur DHS 2017  \\\n",
      "602              0.0              0.0              0.0              0.0   \n",
      "\n",
      "     Valeur DHS 2018  Valeur DHS 2019  Valeur DHS 2020  \n",
      "602              0.0              0.0              0.0  \n",
      "                                Libellé du pays  \\\n",
      "604  REPUBLIQUE POPULAIRE DEMOCRATIQUE DE COREE   \n",
      "\n",
      "                                       Libellé du flux  Valeur DHS 2010  \\\n",
      "604  Réexportations en suite d'admission temporaire...                0   \n",
      "\n",
      "     Valeur DHS 2011  Valeur DHS 2012  Valeur DHS 2013  Valeur DHS 2014  \\\n",
      "604              0.0              0.0              0.0              0.0   \n",
      "\n",
      "     Valeur DHS 2015  Valeur DHS 2016  Valeur DHS 2017  Valeur DHS 2018  \\\n",
      "604              0.0              0.0              0.0              0.0   \n",
      "\n",
      "     Valeur DHS 2019  Valeur DHS 2020  \n",
      "604              0.0              0.0  \n",
      "                           Libellé du pays   Libellé du flux  Valeur DHS 2010  \\\n",
      "636  REPUBLIQUE DEMOCRATIQUE POPULAIRE LAO  Exportations FAB                0   \n",
      "\n",
      "     Valeur DHS 2011  Valeur DHS 2012  Valeur DHS 2013  Valeur DHS 2014  \\\n",
      "636              0.0              0.0       2180060.54        2231001.4   \n",
      "\n",
      "     Valeur DHS 2015  Valeur DHS 2016  Valeur DHS 2017  Valeur DHS 2018  \\\n",
      "636              0.0              0.0              0.0          48000.0   \n",
      "\n",
      "     Valeur DHS 2019  Valeur DHS 2020  \n",
      "636              0.0              0.0  \n",
      "    Libellé du pays   Libellé du flux  Valeur DHS 2010  Valeur DHS 2011  \\\n",
      "728       MACEDOINE  Importations CAF          7020348        2340616.0   \n",
      "\n",
      "     Valeur DHS 2012  Valeur DHS 2013  Valeur DHS 2014  Valeur DHS 2015  \\\n",
      "728         815942.0        1604896.0        3203966.0        2183288.0   \n",
      "\n",
      "     Valeur DHS 2016  Valeur DHS 2017  Valeur DHS 2018  Valeur DHS 2019  \\\n",
      "728        4167246.0        5287773.7       16115979.0       24245493.0   \n",
      "\n",
      "     Valeur DHS 2020  \n",
      "728     3.518272e+07  \n",
      "    Libellé du pays                                    Libellé du flux  \\\n",
      "729       MACEDOINE  Importations en admission temporaire pour perf...   \n",
      "\n",
      "     Valeur DHS 2010  Valeur DHS 2011  Valeur DHS 2012  Valeur DHS 2013  \\\n",
      "729           145976              0.0              0.0         715535.0   \n",
      "\n",
      "     Valeur DHS 2014  Valeur DHS 2015  Valeur DHS 2016  Valeur DHS 2017  \\\n",
      "729         130964.0              0.0        2018427.0              0.0   \n",
      "\n",
      "     Valeur DHS 2018  Valeur DHS 2019  Valeur DHS 2020  \n",
      "729              0.0              0.0        1210920.0  \n",
      "     Libellé du pays   Libellé du flux  Valeur DHS 2010  Valeur DHS 2011  \\\n",
      "1038         SENEGAL  Exportations FAB        660678728      938533563.0   \n",
      "\n",
      "      Valeur DHS 2012  Valeur DHS 2013  Valeur DHS 2014  Valeur DHS 2015  \\\n",
      "1038     2.105904e+09     2.035049e+09     1.243383e+09     1.475645e+09   \n",
      "\n",
      "      Valeur DHS 2016  Valeur DHS 2017  Valeur DHS 2018  Valeur DHS 2019  \\\n",
      "1038     1.947088e+09     1.731575e+09     2.030531e+09     2.111404e+09   \n",
      "\n",
      "      Valeur DHS 2020  \n",
      "1038     2.020216e+09  \n",
      "     Libellé du pays   Libellé du flux  Valeur DHS 2010  Valeur DHS 2011  \\\n",
      "1213         VANUATU  Exportations FAB                0              0.0   \n",
      "\n",
      "      Valeur DHS 2012  Valeur DHS 2013  Valeur DHS 2014  Valeur DHS 2015  \\\n",
      "1213              0.0        389115.44         118514.0          89005.0   \n",
      "\n",
      "      Valeur DHS 2016  Valeur DHS 2017  Valeur DHS 2018  Valeur DHS 2019  \\\n",
      "1213              0.0              0.0              0.0              0.0   \n",
      "\n",
      "      Valeur DHS 2020  \n",
      "1213              0.0  \n",
      "       Libellé du pays   Libellé du flux  Valeur DHS 2010  Valeur DHS 2011  \\\n",
      "1214  WALLIS ET FUTUNA  Exportations FAB           545307         489942.0   \n",
      "\n",
      "      Valeur DHS 2012  Valeur DHS 2013  Valeur DHS 2014  Valeur DHS 2015  \\\n",
      "1214         501759.0         587895.0              0.0         611127.0   \n",
      "\n",
      "      Valeur DHS 2016  Valeur DHS 2017  Valeur DHS 2018  Valeur DHS 2019  \\\n",
      "1214         618757.0         663918.0         566064.0              0.0   \n",
      "\n",
      "      Valeur DHS 2020  \n",
      "1214         686888.0  \n",
      "     Libellé du pays   Libellé du flux  Valeur DHS 2010  Valeur DHS 2011  \\\n",
      "1223           YEMEN  Importations CAF           411547         674847.0   \n",
      "\n",
      "      Valeur DHS 2012  Valeur DHS 2013  Valeur DHS 2014  Valeur DHS 2015  \\\n",
      "1223        1792026.0         234502.0        1842001.0         208000.0   \n",
      "\n",
      "      Valeur DHS 2016  Valeur DHS 2017  Valeur DHS 2018  Valeur DHS 2019  \\\n",
      "1223              0.0              0.0          98118.0         369086.0   \n",
      "\n",
      "      Valeur DHS 2020  \n",
      "1223           8347.0  \n"
     ]
    }
   ],
   "source": [
    "for i in annual[annual['Valeur DHS 2013'].isnull()].index.tolist():print(annual.iloc[[i]])"
   ]
  },
  {
   "cell_type": "code",
   "execution_count": 19,
   "metadata": {
    "colab": {
     "base_uri": "https://localhost:8080/"
    },
    "id": "-IQ9i8rJKTqr",
    "outputId": "353caad8-1d59-4652-8c64-660cada2ec43"
   },
   "outputs": [],
   "source": [
    "annual.fillna(0, inplace=True)"
   ]
  },
  {
   "cell_type": "code",
   "execution_count": 20,
   "metadata": {},
   "outputs": [
    {
     "data": {
      "text/plain": [
       "Libellé du pays    0\n",
       "Libellé du flux    0\n",
       "Valeur DHS 2010    0\n",
       "Valeur DHS 2011    0\n",
       "Valeur DHS 2012    0\n",
       "Valeur DHS 2013    0\n",
       "Valeur DHS 2014    0\n",
       "Valeur DHS 2015    0\n",
       "Valeur DHS 2016    0\n",
       "Valeur DHS 2017    0\n",
       "Valeur DHS 2018    0\n",
       "Valeur DHS 2019    0\n",
       "Valeur DHS 2020    0\n",
       "dtype: int64"
      ]
     },
     "execution_count": 20,
     "metadata": {},
     "output_type": "execute_result"
    }
   ],
   "source": [
    "annual.isnull().sum()"
   ]
  },
  {
   "cell_type": "code",
   "execution_count": 21,
   "metadata": {},
   "outputs": [],
   "source": [
    "annual.to_csv('Annual_processed.csv',sep=\",\", index=False)"
   ]
  },
  {
   "cell_type": "markdown",
   "metadata": {
    "id": "pguwjd9pr0HI"
   },
   "source": [
    "# 3. Extraction de sous base de données"
   ]
  },
  {
   "cell_type": "markdown",
   "metadata": {
    "id": "KuNtUaSvb4L6"
   },
   "source": [
    "> ### ✔ Groupements\n"
   ]
  },
  {
   "cell_type": "code",
   "execution_count": 22,
   "metadata": {
    "colab": {
     "base_uri": "https://localhost:8080/",
     "height": 256
    },
    "id": "dNBqoSx6Ip0-",
    "outputId": "ad82d2ab-369d-4b01-c56a-df44280869d6"
   },
   "outputs": [
    {
     "data": {
      "text/html": [
       "<div>\n",
       "<style scoped>\n",
       "    .dataframe tbody tr th:only-of-type {\n",
       "        vertical-align: middle;\n",
       "    }\n",
       "\n",
       "    .dataframe tbody tr th {\n",
       "        vertical-align: top;\n",
       "    }\n",
       "\n",
       "    .dataframe thead th {\n",
       "        text-align: right;\n",
       "    }\n",
       "</style>\n",
       "<table border=\"1\" class=\"dataframe\">\n",
       "  <thead>\n",
       "    <tr style=\"text-align: right;\">\n",
       "      <th></th>\n",
       "      <th>Libellé du groupement d'utilisation</th>\n",
       "      <th>Libellé de la section CTCI</th>\n",
       "      <th>Libellé de la division CTCI</th>\n",
       "      <th>Libellé du groupe CTCI</th>\n",
       "      <th>Continent</th>\n",
       "      <th>Libellé du pays</th>\n",
       "      <th>Libellé du flux</th>\n",
       "      <th>Valeur DHS Janvier 2018</th>\n",
       "      <th>Valeur DHS Février 2018</th>\n",
       "      <th>Valeur DHS Mars 2018</th>\n",
       "      <th>...</th>\n",
       "      <th>Valeur DHS Octobre 2020</th>\n",
       "      <th>Valeur DHS Novembre 2020</th>\n",
       "      <th>Valeur DHS Décembre 2020</th>\n",
       "      <th>Valeur DHS Janvier 2021</th>\n",
       "      <th>Valeur DHS Février 2021</th>\n",
       "      <th>Valeur DHS Mars 2021</th>\n",
       "      <th>Valeur DHS Avril 2021</th>\n",
       "      <th>Valeur DHS Mai 2021</th>\n",
       "      <th>Valeur DHS Juin 2021</th>\n",
       "      <th>Valeur Total</th>\n",
       "    </tr>\n",
       "  </thead>\n",
       "  <tbody>\n",
       "    <tr>\n",
       "      <th>0</th>\n",
       "      <td>ALIMENTATION, BOISSONS ET TABACS</td>\n",
       "      <td>PRODUITS ALIMENTAIRES ET ANIMAUX VIVANTS</td>\n",
       "      <td>LÉGUMES ET FRUITS</td>\n",
       "      <td>FRUITS, MÊME À COQUE (À L¿EXCLUSION DES FRUITS...</td>\n",
       "      <td>AFRIQUE</td>\n",
       "      <td>CONGO</td>\n",
       "      <td>Exportations FAB</td>\n",
       "      <td>70020.0</td>\n",
       "      <td>168350.0</td>\n",
       "      <td>0.0</td>\n",
       "      <td>...</td>\n",
       "      <td>0.0</td>\n",
       "      <td>96200.0</td>\n",
       "      <td>0.0</td>\n",
       "      <td>0.0</td>\n",
       "      <td>0.0</td>\n",
       "      <td>0.0</td>\n",
       "      <td>0.0</td>\n",
       "      <td>0.0</td>\n",
       "      <td>0.0</td>\n",
       "      <td>1007201.5</td>\n",
       "    </tr>\n",
       "  </tbody>\n",
       "</table>\n",
       "<p>1 rows × 50 columns</p>\n",
       "</div>"
      ],
      "text/plain": [
       "  Libellé du groupement d'utilisation  \\\n",
       "0    ALIMENTATION, BOISSONS ET TABACS   \n",
       "\n",
       "                 Libellé de la section CTCI Libellé de la division CTCI  \\\n",
       "0  PRODUITS ALIMENTAIRES ET ANIMAUX VIVANTS           LÉGUMES ET FRUITS   \n",
       "\n",
       "                              Libellé du groupe CTCI Continent  \\\n",
       "0  FRUITS, MÊME À COQUE (À L¿EXCLUSION DES FRUITS...   AFRIQUE   \n",
       "\n",
       "  Libellé du pays   Libellé du flux  Valeur DHS Janvier 2018  \\\n",
       "0           CONGO  Exportations FAB                  70020.0   \n",
       "\n",
       "   Valeur DHS Février 2018  Valeur DHS Mars 2018  ...  \\\n",
       "0                 168350.0                   0.0  ...   \n",
       "\n",
       "   Valeur DHS Octobre 2020  Valeur DHS Novembre 2020  \\\n",
       "0                      0.0                   96200.0   \n",
       "\n",
       "   Valeur DHS Décembre 2020  Valeur DHS Janvier 2021  Valeur DHS Février 2021  \\\n",
       "0                       0.0                      0.0                      0.0   \n",
       "\n",
       "   Valeur DHS Mars 2021  Valeur DHS Avril 2021  Valeur DHS Mai 2021  \\\n",
       "0                   0.0                    0.0                  0.0   \n",
       "\n",
       "   Valeur DHS Juin 2021  Valeur Total  \n",
       "0                   0.0     1007201.5  \n",
       "\n",
       "[1 rows x 50 columns]"
      ]
     },
     "execution_count": 22,
     "metadata": {},
     "output_type": "execute_result"
    }
   ],
   "source": [
    "dataframe['Valeur Total']=dataframe[dataframe.columns[7:]].sum(axis=1)\n",
    "dataframe.head(1)"
   ]
  },
  {
   "cell_type": "code",
   "execution_count": 23,
   "metadata": {
    "colab": {
     "base_uri": "https://localhost:8080/",
     "height": 298
    },
    "id": "9zAxh9QvTAc9",
    "outputId": "d4479b67-6bdb-4d0c-ea31-6623715135c7"
   },
   "outputs": [
    {
     "name": "stderr",
     "output_type": "stream",
     "text": [
      "C:\\Users\\hp\\AppData\\Local\\Temp/ipykernel_22124/2338877952.py:2: SettingWithCopyWarning: \n",
      "A value is trying to be set on a copy of a slice from a DataFrame.\n",
      "Try using .loc[row_indexer,col_indexer] = value instead\n",
      "\n",
      "See the caveats in the documentation: https://pandas.pydata.org/pandas-docs/stable/user_guide/indexing.html#returning-a-view-versus-a-copy\n",
      "  Export_total['Total dh']=dataframe['Valeur Total']\n"
     ]
    },
    {
     "data": {
      "text/html": [
       "<div>\n",
       "<style scoped>\n",
       "    .dataframe tbody tr th:only-of-type {\n",
       "        vertical-align: middle;\n",
       "    }\n",
       "\n",
       "    .dataframe tbody tr th {\n",
       "        vertical-align: top;\n",
       "    }\n",
       "\n",
       "    .dataframe thead th {\n",
       "        text-align: right;\n",
       "    }\n",
       "</style>\n",
       "<table border=\"1\" class=\"dataframe\">\n",
       "  <thead>\n",
       "    <tr style=\"text-align: right;\">\n",
       "      <th></th>\n",
       "      <th>Libellé du groupement d'utilisation</th>\n",
       "      <th>Libellé de la section CTCI</th>\n",
       "      <th>Libellé de la division CTCI</th>\n",
       "      <th>Libellé du groupe CTCI</th>\n",
       "      <th>Continent</th>\n",
       "      <th>Libellé du pays</th>\n",
       "      <th>Libellé du flux</th>\n",
       "      <th>Total dh</th>\n",
       "    </tr>\n",
       "  </thead>\n",
       "  <tbody>\n",
       "    <tr>\n",
       "      <th>0</th>\n",
       "      <td>ALIMENTATION, BOISSONS ET TABACS</td>\n",
       "      <td>PRODUITS ALIMENTAIRES ET ANIMAUX VIVANTS</td>\n",
       "      <td>LÉGUMES ET FRUITS</td>\n",
       "      <td>FRUITS, MÊME À COQUE (À L¿EXCLUSION DES FRUITS...</td>\n",
       "      <td>AFRIQUE</td>\n",
       "      <td>CONGO</td>\n",
       "      <td>Exportations FAB</td>\n",
       "      <td>1007201.5</td>\n",
       "    </tr>\n",
       "    <tr>\n",
       "      <th>1</th>\n",
       "      <td>ALIMENTATION, BOISSONS ET TABACS</td>\n",
       "      <td>PRODUITS ALIMENTAIRES ET ANIMAUX VIVANTS</td>\n",
       "      <td>LÉGUMES ET FRUITS</td>\n",
       "      <td>FRUITS, MÊME À COQUE (À L¿EXCLUSION DES FRUITS...</td>\n",
       "      <td>AFRIQUE</td>\n",
       "      <td>NIGERIA</td>\n",
       "      <td>Exportations FAB</td>\n",
       "      <td>3858549.8</td>\n",
       "    </tr>\n",
       "  </tbody>\n",
       "</table>\n",
       "</div>"
      ],
      "text/plain": [
       "  Libellé du groupement d'utilisation  \\\n",
       "0    ALIMENTATION, BOISSONS ET TABACS   \n",
       "1    ALIMENTATION, BOISSONS ET TABACS   \n",
       "\n",
       "                 Libellé de la section CTCI Libellé de la division CTCI  \\\n",
       "0  PRODUITS ALIMENTAIRES ET ANIMAUX VIVANTS           LÉGUMES ET FRUITS   \n",
       "1  PRODUITS ALIMENTAIRES ET ANIMAUX VIVANTS           LÉGUMES ET FRUITS   \n",
       "\n",
       "                              Libellé du groupe CTCI Continent  \\\n",
       "0  FRUITS, MÊME À COQUE (À L¿EXCLUSION DES FRUITS...   AFRIQUE   \n",
       "1  FRUITS, MÊME À COQUE (À L¿EXCLUSION DES FRUITS...   AFRIQUE   \n",
       "\n",
       "  Libellé du pays   Libellé du flux   Total dh  \n",
       "0           CONGO  Exportations FAB  1007201.5  \n",
       "1         NIGERIA  Exportations FAB  3858549.8  "
      ]
     },
     "execution_count": 23,
     "metadata": {},
     "output_type": "execute_result"
    }
   ],
   "source": [
    "Export_total=dataframe[dataframe.columns[:7]]\n",
    "Export_total['Total dh']=dataframe['Valeur Total']\n",
    "Export_total.to_csv('Export_total.csv', index=False)\n",
    "Export_total.head(2)"
   ]
  },
  {
   "cell_type": "markdown",
   "metadata": {
    "id": "2NxzHjhTKTqT"
   },
   "source": [
    "### Les catégories des produits les plus exportés"
   ]
  },
  {
   "cell_type": "code",
   "execution_count": 24,
   "metadata": {
    "colab": {
     "base_uri": "https://localhost:8080/",
     "height": 351
    },
    "id": "Fliz4qHDKTqZ",
    "outputId": "2b344fa2-3ba2-4dd7-da98-617fe52147b6"
   },
   "outputs": [
    {
     "data": {
      "text/html": [
       "<div>\n",
       "<style scoped>\n",
       "    .dataframe tbody tr th:only-of-type {\n",
       "        vertical-align: middle;\n",
       "    }\n",
       "\n",
       "    .dataframe tbody tr th {\n",
       "        vertical-align: top;\n",
       "    }\n",
       "\n",
       "    .dataframe thead th {\n",
       "        text-align: right;\n",
       "    }\n",
       "</style>\n",
       "<table border=\"1\" class=\"dataframe\">\n",
       "  <thead>\n",
       "    <tr style=\"text-align: right;\">\n",
       "      <th></th>\n",
       "      <th>Total dh</th>\n",
       "    </tr>\n",
       "    <tr>\n",
       "      <th>Libellé du groupement d'utilisation</th>\n",
       "      <th></th>\n",
       "    </tr>\n",
       "  </thead>\n",
       "  <tbody>\n",
       "    <tr>\n",
       "      <th>PRODUITS FINIS DE CONSOMMATION</th>\n",
       "      <td>2.874920e+11</td>\n",
       "    </tr>\n",
       "    <tr>\n",
       "      <th>DEMI  PRODUITS</th>\n",
       "      <td>2.138336e+11</td>\n",
       "    </tr>\n",
       "    <tr>\n",
       "      <th>ALIMENTATION, BOISSONS ET TABACS</th>\n",
       "      <td>1.998778e+11</td>\n",
       "    </tr>\n",
       "    <tr>\n",
       "      <th>PRODUITS FINIS D'EQUIPEMENT INDUSTRIEL</th>\n",
       "      <td>1.955631e+11</td>\n",
       "    </tr>\n",
       "    <tr>\n",
       "      <th>PRODUITS BRUTS D'ORIGINE MINERALE</th>\n",
       "      <td>4.726345e+10</td>\n",
       "    </tr>\n",
       "    <tr>\n",
       "      <th>PRODUITS BRUTS D'ORIGINE ANIMALE ET VEGETALE</th>\n",
       "      <td>2.058247e+10</td>\n",
       "    </tr>\n",
       "    <tr>\n",
       "      <th>ENERGIE  ET  LUBRIFIANTS</th>\n",
       "      <td>9.379041e+09</td>\n",
       "    </tr>\n",
       "    <tr>\n",
       "      <th>OR INDUSTRIEL</th>\n",
       "      <td>1.614490e+09</td>\n",
       "    </tr>\n",
       "    <tr>\n",
       "      <th>PRODUITS FINIS D'EQUIPEMENT AGRICOLE</th>\n",
       "      <td>4.900290e+08</td>\n",
       "    </tr>\n",
       "  </tbody>\n",
       "</table>\n",
       "</div>"
      ],
      "text/plain": [
       "                                                  Total dh\n",
       "Libellé du groupement d'utilisation                       \n",
       "PRODUITS FINIS DE CONSOMMATION                2.874920e+11\n",
       "DEMI  PRODUITS                                2.138336e+11\n",
       "ALIMENTATION, BOISSONS ET TABACS              1.998778e+11\n",
       "PRODUITS FINIS D'EQUIPEMENT INDUSTRIEL        1.955631e+11\n",
       "PRODUITS BRUTS D'ORIGINE MINERALE             4.726345e+10\n",
       "PRODUITS BRUTS D'ORIGINE ANIMALE ET VEGETALE  2.058247e+10\n",
       "ENERGIE  ET  LUBRIFIANTS                      9.379041e+09\n",
       "OR INDUSTRIEL                                 1.614490e+09\n",
       "PRODUITS FINIS D'EQUIPEMENT AGRICOLE          4.900290e+08"
      ]
     },
     "execution_count": 24,
     "metadata": {},
     "output_type": "execute_result"
    }
   ],
   "source": [
    "utilisation_export=Export_total[(Export_total[\"Libellé du flux\"]==\"Exportations FAB\")].groupby([\"Libellé du groupement d'utilisation\"]).sum().sort_values('Total dh', ascending=False)\n",
    "utilisation_export"
   ]
  },
  {
   "cell_type": "markdown",
   "metadata": {
    "id": "Qk7126iEKTqa"
   },
   "source": [
    "### Les plus grands exportateurs"
   ]
  },
  {
   "cell_type": "code",
   "execution_count": 25,
   "metadata": {
    "colab": {
     "base_uri": "https://localhost:8080/",
     "height": 440
    },
    "id": "-PfUVkEpKTqb",
    "outputId": "fc6db543-51dc-4633-ed28-cdebb833b107"
   },
   "outputs": [
    {
     "data": {
      "text/html": [
       "<div>\n",
       "<style scoped>\n",
       "    .dataframe tbody tr th:only-of-type {\n",
       "        vertical-align: middle;\n",
       "    }\n",
       "\n",
       "    .dataframe tbody tr th {\n",
       "        vertical-align: top;\n",
       "    }\n",
       "\n",
       "    .dataframe thead th {\n",
       "        text-align: right;\n",
       "    }\n",
       "</style>\n",
       "<table border=\"1\" class=\"dataframe\">\n",
       "  <thead>\n",
       "    <tr style=\"text-align: right;\">\n",
       "      <th></th>\n",
       "      <th>Total dh</th>\n",
       "    </tr>\n",
       "    <tr>\n",
       "      <th>Libellé du pays</th>\n",
       "      <th></th>\n",
       "    </tr>\n",
       "  </thead>\n",
       "  <tbody>\n",
       "    <tr>\n",
       "      <th>ESPAGNE</th>\n",
       "      <td>2.322271e+11</td>\n",
       "    </tr>\n",
       "    <tr>\n",
       "      <th>FRANCE</th>\n",
       "      <td>2.138473e+11</td>\n",
       "    </tr>\n",
       "    <tr>\n",
       "      <th>ITALIE</th>\n",
       "      <td>4.282756e+10</td>\n",
       "    </tr>\n",
       "    <tr>\n",
       "      <th>ETATS-UNIS</th>\n",
       "      <td>3.799372e+10</td>\n",
       "    </tr>\n",
       "    <tr>\n",
       "      <th>INDE</th>\n",
       "      <td>3.544411e+10</td>\n",
       "    </tr>\n",
       "    <tr>\n",
       "      <th>...</th>\n",
       "      <td>...</td>\n",
       "    </tr>\n",
       "    <tr>\n",
       "      <th>SAINT-MARIN</th>\n",
       "      <td>6.476500e+04</td>\n",
       "    </tr>\n",
       "    <tr>\n",
       "      <th>REPUBLIQUE DEMOCRATIQUE POPULAIRE LAO</th>\n",
       "      <td>4.800000e+04</td>\n",
       "    </tr>\n",
       "    <tr>\n",
       "      <th>GUERNESEY</th>\n",
       "      <td>2.968900e+04</td>\n",
       "    </tr>\n",
       "    <tr>\n",
       "      <th>ILES MARSHALL</th>\n",
       "      <td>2.481219e+04</td>\n",
       "    </tr>\n",
       "    <tr>\n",
       "      <th>SAINT-MARTIN (PARTIE NEERLANDAISE)</th>\n",
       "      <td>2.800000e+02</td>\n",
       "    </tr>\n",
       "  </tbody>\n",
       "</table>\n",
       "<p>207 rows × 1 columns</p>\n",
       "</div>"
      ],
      "text/plain": [
       "                                           Total dh\n",
       "Libellé du pays                                    \n",
       "ESPAGNE                                2.322271e+11\n",
       "FRANCE                                 2.138473e+11\n",
       "ITALIE                                 4.282756e+10\n",
       "ETATS-UNIS                             3.799372e+10\n",
       "INDE                                   3.544411e+10\n",
       "...                                             ...\n",
       "SAINT-MARIN                            6.476500e+04\n",
       "REPUBLIQUE DEMOCRATIQUE POPULAIRE LAO  4.800000e+04\n",
       "GUERNESEY                              2.968900e+04\n",
       "ILES MARSHALL                          2.481219e+04\n",
       "SAINT-MARTIN (PARTIE NEERLANDAISE)     2.800000e+02\n",
       "\n",
       "[207 rows x 1 columns]"
      ]
     },
     "execution_count": 25,
     "metadata": {},
     "output_type": "execute_result"
    }
   ],
   "source": [
    "Export_total[(Export_total[\"Libellé du flux\"]==\"Exportations FAB\")].groupby([\"Libellé du pays\"]).sum().sort_values('Total dh', ascending=False)"
   ]
  },
  {
   "cell_type": "markdown",
   "metadata": {
    "id": "ArEXac_EKTqc"
   },
   "source": [
    "### Les plus grands importateurs"
   ]
  },
  {
   "cell_type": "code",
   "execution_count": 26,
   "metadata": {
    "colab": {
     "base_uri": "https://localhost:8080/",
     "height": 440
    },
    "id": "Dy-mYxZ2KTqe",
    "outputId": "6d287810-9f4b-4f9b-e8b3-144913dc0ef6"
   },
   "outputs": [
    {
     "data": {
      "text/html": [
       "<div>\n",
       "<style scoped>\n",
       "    .dataframe tbody tr th:only-of-type {\n",
       "        vertical-align: middle;\n",
       "    }\n",
       "\n",
       "    .dataframe tbody tr th {\n",
       "        vertical-align: top;\n",
       "    }\n",
       "\n",
       "    .dataframe thead th {\n",
       "        text-align: right;\n",
       "    }\n",
       "</style>\n",
       "<table border=\"1\" class=\"dataframe\">\n",
       "  <thead>\n",
       "    <tr style=\"text-align: right;\">\n",
       "      <th></th>\n",
       "      <th>Total dh</th>\n",
       "    </tr>\n",
       "    <tr>\n",
       "      <th>Libellé du pays</th>\n",
       "      <th></th>\n",
       "    </tr>\n",
       "  </thead>\n",
       "  <tbody>\n",
       "    <tr>\n",
       "      <th>ESPAGNE</th>\n",
       "      <td>2.577609e+11</td>\n",
       "    </tr>\n",
       "    <tr>\n",
       "      <th>FRANCE</th>\n",
       "      <td>1.961763e+11</td>\n",
       "    </tr>\n",
       "    <tr>\n",
       "      <th>CHINE</th>\n",
       "      <td>1.774249e+11</td>\n",
       "    </tr>\n",
       "    <tr>\n",
       "      <th>ETATS-UNIS</th>\n",
       "      <td>1.172501e+11</td>\n",
       "    </tr>\n",
       "    <tr>\n",
       "      <th>ITALIE</th>\n",
       "      <td>8.922057e+10</td>\n",
       "    </tr>\n",
       "    <tr>\n",
       "      <th>...</th>\n",
       "      <td>...</td>\n",
       "    </tr>\n",
       "    <tr>\n",
       "      <th>ILES MINEURES ELOIGNEES DES ETATS-UNIS</th>\n",
       "      <td>2.239000e+03</td>\n",
       "    </tr>\n",
       "    <tr>\n",
       "      <th>ILES CAIMANES</th>\n",
       "      <td>1.505000e+03</td>\n",
       "    </tr>\n",
       "    <tr>\n",
       "      <th>SAINTE-HELENE, ASCENSION ET TRISTAN DA CUNHA</th>\n",
       "      <td>1.460000e+03</td>\n",
       "    </tr>\n",
       "    <tr>\n",
       "      <th>ETATS FEDERES DE MICRONESIE</th>\n",
       "      <td>1.052000e+03</td>\n",
       "    </tr>\n",
       "    <tr>\n",
       "      <th>TERRITOIRE BRITANNIQUE DE L'OCEAN INDIEN</th>\n",
       "      <td>2.000000e+00</td>\n",
       "    </tr>\n",
       "  </tbody>\n",
       "</table>\n",
       "<p>214 rows × 1 columns</p>\n",
       "</div>"
      ],
      "text/plain": [
       "                                                  Total dh\n",
       "Libellé du pays                                           \n",
       "ESPAGNE                                       2.577609e+11\n",
       "FRANCE                                        1.961763e+11\n",
       "CHINE                                         1.774249e+11\n",
       "ETATS-UNIS                                    1.172501e+11\n",
       "ITALIE                                        8.922057e+10\n",
       "...                                                    ...\n",
       "ILES MINEURES ELOIGNEES DES ETATS-UNIS        2.239000e+03\n",
       "ILES CAIMANES                                 1.505000e+03\n",
       "SAINTE-HELENE, ASCENSION ET TRISTAN DA CUNHA  1.460000e+03\n",
       "ETATS FEDERES DE MICRONESIE                   1.052000e+03\n",
       "TERRITOIRE BRITANNIQUE DE L'OCEAN INDIEN      2.000000e+00\n",
       "\n",
       "[214 rows x 1 columns]"
      ]
     },
     "execution_count": 26,
     "metadata": {},
     "output_type": "execute_result"
    }
   ],
   "source": [
    "Export_total[(Export_total[\"Libellé du flux\"]==\"Importations CAF\")].groupby([\"Libellé du pays\"]).sum().sort_values('Total dh', ascending=False)"
   ]
  },
  {
   "cell_type": "markdown",
   "metadata": {
    "id": "1MXGpurAKTqf"
   },
   "source": [
    "### Continents de plus grande exportations "
   ]
  },
  {
   "cell_type": "code",
   "execution_count": 27,
   "metadata": {
    "colab": {
     "base_uri": "https://localhost:8080/",
     "height": 260
    },
    "id": "iKesBPpDKTqh",
    "outputId": "bf73a72c-284c-44dd-8238-6ef0e44e507f"
   },
   "outputs": [
    {
     "data": {
      "text/html": [
       "<div>\n",
       "<style scoped>\n",
       "    .dataframe tbody tr th:only-of-type {\n",
       "        vertical-align: middle;\n",
       "    }\n",
       "\n",
       "    .dataframe tbody tr th {\n",
       "        vertical-align: top;\n",
       "    }\n",
       "\n",
       "    .dataframe thead th {\n",
       "        text-align: right;\n",
       "    }\n",
       "</style>\n",
       "<table border=\"1\" class=\"dataframe\">\n",
       "  <thead>\n",
       "    <tr style=\"text-align: right;\">\n",
       "      <th></th>\n",
       "      <th>Total dh</th>\n",
       "    </tr>\n",
       "    <tr>\n",
       "      <th>Continent</th>\n",
       "      <th></th>\n",
       "    </tr>\n",
       "  </thead>\n",
       "  <tbody>\n",
       "    <tr>\n",
       "      <th>EUROPE</th>\n",
       "      <td>6.873717e+11</td>\n",
       "    </tr>\n",
       "    <tr>\n",
       "      <th>ASIE</th>\n",
       "      <td>9.723499e+10</td>\n",
       "    </tr>\n",
       "    <tr>\n",
       "      <th>AMERIQUE</th>\n",
       "      <td>9.704009e+10</td>\n",
       "    </tr>\n",
       "    <tr>\n",
       "      <th>AFRIQUE</th>\n",
       "      <td>7.800902e+10</td>\n",
       "    </tr>\n",
       "    <tr>\n",
       "      <th>AUTRE</th>\n",
       "      <td>1.427801e+10</td>\n",
       "    </tr>\n",
       "    <tr>\n",
       "      <th>AUSTRALIE</th>\n",
       "      <td>2.162062e+09</td>\n",
       "    </tr>\n",
       "  </tbody>\n",
       "</table>\n",
       "</div>"
      ],
      "text/plain": [
       "               Total dh\n",
       "Continent              \n",
       "EUROPE     6.873717e+11\n",
       "ASIE       9.723499e+10\n",
       "AMERIQUE   9.704009e+10\n",
       "AFRIQUE    7.800902e+10\n",
       "AUTRE      1.427801e+10\n",
       "AUSTRALIE  2.162062e+09"
      ]
     },
     "execution_count": 27,
     "metadata": {},
     "output_type": "execute_result"
    }
   ],
   "source": [
    "Export_total[(Export_total[\"Libellé du flux\"]==\"Exportations FAB\")].groupby([\"Continent\"]).sum().sort_values('Total dh', ascending=False)"
   ]
  },
  {
   "cell_type": "markdown",
   "metadata": {
    "id": "umoK1f94KTqi"
   },
   "source": [
    "### Continents de plus grande importations "
   ]
  },
  {
   "cell_type": "code",
   "execution_count": 28,
   "metadata": {
    "colab": {
     "base_uri": "https://localhost:8080/",
     "height": 260
    },
    "id": "O_1LQvjYKTqi",
    "outputId": "94774151-bf63-47bd-a02c-d423d610415a",
    "scrolled": true
   },
   "outputs": [
    {
     "data": {
      "text/html": [
       "<div>\n",
       "<style scoped>\n",
       "    .dataframe tbody tr th:only-of-type {\n",
       "        vertical-align: middle;\n",
       "    }\n",
       "\n",
       "    .dataframe tbody tr th {\n",
       "        vertical-align: top;\n",
       "    }\n",
       "\n",
       "    .dataframe thead th {\n",
       "        text-align: right;\n",
       "    }\n",
       "</style>\n",
       "<table border=\"1\" class=\"dataframe\">\n",
       "  <thead>\n",
       "    <tr style=\"text-align: right;\">\n",
       "      <th></th>\n",
       "      <th>Total dh</th>\n",
       "    </tr>\n",
       "    <tr>\n",
       "      <th>Continent</th>\n",
       "      <th></th>\n",
       "    </tr>\n",
       "  </thead>\n",
       "  <tbody>\n",
       "    <tr>\n",
       "      <th>EUROPE</th>\n",
       "      <td>1.045050e+12</td>\n",
       "    </tr>\n",
       "    <tr>\n",
       "      <th>ASIE</th>\n",
       "      <td>3.438313e+11</td>\n",
       "    </tr>\n",
       "    <tr>\n",
       "      <th>AMERIQUE</th>\n",
       "      <td>1.931039e+11</td>\n",
       "    </tr>\n",
       "    <tr>\n",
       "      <th>AFRIQUE</th>\n",
       "      <td>5.993265e+10</td>\n",
       "    </tr>\n",
       "    <tr>\n",
       "      <th>AUTRE</th>\n",
       "      <td>4.488825e+09</td>\n",
       "    </tr>\n",
       "    <tr>\n",
       "      <th>AUSTRALIE</th>\n",
       "      <td>2.328250e+09</td>\n",
       "    </tr>\n",
       "  </tbody>\n",
       "</table>\n",
       "</div>"
      ],
      "text/plain": [
       "               Total dh\n",
       "Continent              \n",
       "EUROPE     1.045050e+12\n",
       "ASIE       3.438313e+11\n",
       "AMERIQUE   1.931039e+11\n",
       "AFRIQUE    5.993265e+10\n",
       "AUTRE      4.488825e+09\n",
       "AUSTRALIE  2.328250e+09"
      ]
     },
     "execution_count": 28,
     "metadata": {},
     "output_type": "execute_result"
    }
   ],
   "source": [
    "Export_total[(Export_total[\"Libellé du flux\"]==\"Importations CAF\")].groupby([\"Continent\"]).sum().sort_values('Total dh', ascending=False)"
   ]
  },
  {
   "cell_type": "markdown",
   "metadata": {},
   "source": [
    "# 4. From Extraction , manipulating to visualisation"
   ]
  },
  {
   "cell_type": "code",
   "execution_count": 29,
   "metadata": {},
   "outputs": [
    {
     "data": {
      "application/vnd.plotly.v1+json": {
       "config": {
        "plotlyServerURL": "https://plot.ly"
       },
       "data": [
        {
         "hovertemplate": "Libellé du flux=Exportations FAB<br>level_2=%{x}<br>0=%{y}<extra></extra>",
         "legendgroup": "Exportations FAB",
         "line": {
          "color": "#636efa",
          "dash": "solid"
         },
         "marker": {
          "symbol": "circle"
         },
         "mode": "lines",
         "name": "Exportations FAB",
         "orientation": "v",
         "showlegend": true,
         "type": "scatter",
         "x": [
          "2010-12-31T00:00:00",
          "2011-12-31T00:00:00",
          "2012-12-31T00:00:00",
          "2013-12-31T00:00:00",
          "2014-12-31T00:00:00",
          "2015-12-31T00:00:00",
          "2016-12-31T00:00:00",
          "2017-12-31T00:00:00",
          "2018-12-31T00:00:00",
          "2019-12-31T00:00:00",
          "2020-12-31T00:00:00"
         ],
         "xaxis": "x",
         "y": [
          25297051069,
          31957877503.26,
          30382866049.853,
          35220242145.542,
          43894152670.49,
          49086250793.29,
          52925276478.895,
          58880930020.132,
          65069140543.061,
          68593674210.382,
          62909189719.134
         ],
         "yaxis": "y"
        },
        {
         "hovertemplate": "Libellé du flux=Importations CAF<br>level_2=%{x}<br>0=%{y}<extra></extra>",
         "legendgroup": "Importations CAF",
         "line": {
          "color": "#EF553B",
          "dash": "solid"
         },
         "marker": {
          "symbol": "circle"
         },
         "mode": "lines",
         "name": "Importations CAF",
         "orientation": "v",
         "showlegend": true,
         "type": "scatter",
         "x": [
          "2010-12-31T00:00:00",
          "2011-12-31T00:00:00",
          "2012-12-31T00:00:00",
          "2013-12-31T00:00:00",
          "2014-12-31T00:00:00",
          "2015-12-31T00:00:00",
          "2016-12-31T00:00:00",
          "2017-12-31T00:00:00",
          "2018-12-31T00:00:00",
          "2019-12-31T00:00:00",
          "2020-12-31T00:00:00"
         ],
         "xaxis": "x",
         "y": [
          31603389234,
          39267140226,
          50962345236.244,
          51760437842.632,
          54174296098.35,
          53651725897.669,
          64245558474.355,
          73786815797.051,
          76110859978.858,
          76410708512.492,
          64934861216.148
         ],
         "yaxis": "y"
        }
       ],
       "layout": {
        "legend": {
         "title": {
          "text": "Libellé du flux"
         },
         "tracegroupgap": 0
        },
        "margin": {
         "t": 60
        },
        "template": {
         "data": {
          "bar": [
           {
            "error_x": {
             "color": "#2a3f5f"
            },
            "error_y": {
             "color": "#2a3f5f"
            },
            "marker": {
             "line": {
              "color": "#E5ECF6",
              "width": 0.5
             },
             "pattern": {
              "fillmode": "overlay",
              "size": 10,
              "solidity": 0.2
             }
            },
            "type": "bar"
           }
          ],
          "barpolar": [
           {
            "marker": {
             "line": {
              "color": "#E5ECF6",
              "width": 0.5
             },
             "pattern": {
              "fillmode": "overlay",
              "size": 10,
              "solidity": 0.2
             }
            },
            "type": "barpolar"
           }
          ],
          "carpet": [
           {
            "aaxis": {
             "endlinecolor": "#2a3f5f",
             "gridcolor": "white",
             "linecolor": "white",
             "minorgridcolor": "white",
             "startlinecolor": "#2a3f5f"
            },
            "baxis": {
             "endlinecolor": "#2a3f5f",
             "gridcolor": "white",
             "linecolor": "white",
             "minorgridcolor": "white",
             "startlinecolor": "#2a3f5f"
            },
            "type": "carpet"
           }
          ],
          "choropleth": [
           {
            "colorbar": {
             "outlinewidth": 0,
             "ticks": ""
            },
            "type": "choropleth"
           }
          ],
          "contour": [
           {
            "colorbar": {
             "outlinewidth": 0,
             "ticks": ""
            },
            "colorscale": [
             [
              0,
              "#0d0887"
             ],
             [
              0.1111111111111111,
              "#46039f"
             ],
             [
              0.2222222222222222,
              "#7201a8"
             ],
             [
              0.3333333333333333,
              "#9c179e"
             ],
             [
              0.4444444444444444,
              "#bd3786"
             ],
             [
              0.5555555555555556,
              "#d8576b"
             ],
             [
              0.6666666666666666,
              "#ed7953"
             ],
             [
              0.7777777777777778,
              "#fb9f3a"
             ],
             [
              0.8888888888888888,
              "#fdca26"
             ],
             [
              1,
              "#f0f921"
             ]
            ],
            "type": "contour"
           }
          ],
          "contourcarpet": [
           {
            "colorbar": {
             "outlinewidth": 0,
             "ticks": ""
            },
            "type": "contourcarpet"
           }
          ],
          "heatmap": [
           {
            "colorbar": {
             "outlinewidth": 0,
             "ticks": ""
            },
            "colorscale": [
             [
              0,
              "#0d0887"
             ],
             [
              0.1111111111111111,
              "#46039f"
             ],
             [
              0.2222222222222222,
              "#7201a8"
             ],
             [
              0.3333333333333333,
              "#9c179e"
             ],
             [
              0.4444444444444444,
              "#bd3786"
             ],
             [
              0.5555555555555556,
              "#d8576b"
             ],
             [
              0.6666666666666666,
              "#ed7953"
             ],
             [
              0.7777777777777778,
              "#fb9f3a"
             ],
             [
              0.8888888888888888,
              "#fdca26"
             ],
             [
              1,
              "#f0f921"
             ]
            ],
            "type": "heatmap"
           }
          ],
          "heatmapgl": [
           {
            "colorbar": {
             "outlinewidth": 0,
             "ticks": ""
            },
            "colorscale": [
             [
              0,
              "#0d0887"
             ],
             [
              0.1111111111111111,
              "#46039f"
             ],
             [
              0.2222222222222222,
              "#7201a8"
             ],
             [
              0.3333333333333333,
              "#9c179e"
             ],
             [
              0.4444444444444444,
              "#bd3786"
             ],
             [
              0.5555555555555556,
              "#d8576b"
             ],
             [
              0.6666666666666666,
              "#ed7953"
             ],
             [
              0.7777777777777778,
              "#fb9f3a"
             ],
             [
              0.8888888888888888,
              "#fdca26"
             ],
             [
              1,
              "#f0f921"
             ]
            ],
            "type": "heatmapgl"
           }
          ],
          "histogram": [
           {
            "marker": {
             "pattern": {
              "fillmode": "overlay",
              "size": 10,
              "solidity": 0.2
             }
            },
            "type": "histogram"
           }
          ],
          "histogram2d": [
           {
            "colorbar": {
             "outlinewidth": 0,
             "ticks": ""
            },
            "colorscale": [
             [
              0,
              "#0d0887"
             ],
             [
              0.1111111111111111,
              "#46039f"
             ],
             [
              0.2222222222222222,
              "#7201a8"
             ],
             [
              0.3333333333333333,
              "#9c179e"
             ],
             [
              0.4444444444444444,
              "#bd3786"
             ],
             [
              0.5555555555555556,
              "#d8576b"
             ],
             [
              0.6666666666666666,
              "#ed7953"
             ],
             [
              0.7777777777777778,
              "#fb9f3a"
             ],
             [
              0.8888888888888888,
              "#fdca26"
             ],
             [
              1,
              "#f0f921"
             ]
            ],
            "type": "histogram2d"
           }
          ],
          "histogram2dcontour": [
           {
            "colorbar": {
             "outlinewidth": 0,
             "ticks": ""
            },
            "colorscale": [
             [
              0,
              "#0d0887"
             ],
             [
              0.1111111111111111,
              "#46039f"
             ],
             [
              0.2222222222222222,
              "#7201a8"
             ],
             [
              0.3333333333333333,
              "#9c179e"
             ],
             [
              0.4444444444444444,
              "#bd3786"
             ],
             [
              0.5555555555555556,
              "#d8576b"
             ],
             [
              0.6666666666666666,
              "#ed7953"
             ],
             [
              0.7777777777777778,
              "#fb9f3a"
             ],
             [
              0.8888888888888888,
              "#fdca26"
             ],
             [
              1,
              "#f0f921"
             ]
            ],
            "type": "histogram2dcontour"
           }
          ],
          "mesh3d": [
           {
            "colorbar": {
             "outlinewidth": 0,
             "ticks": ""
            },
            "type": "mesh3d"
           }
          ],
          "parcoords": [
           {
            "line": {
             "colorbar": {
              "outlinewidth": 0,
              "ticks": ""
             }
            },
            "type": "parcoords"
           }
          ],
          "pie": [
           {
            "automargin": true,
            "type": "pie"
           }
          ],
          "scatter": [
           {
            "marker": {
             "colorbar": {
              "outlinewidth": 0,
              "ticks": ""
             }
            },
            "type": "scatter"
           }
          ],
          "scatter3d": [
           {
            "line": {
             "colorbar": {
              "outlinewidth": 0,
              "ticks": ""
             }
            },
            "marker": {
             "colorbar": {
              "outlinewidth": 0,
              "ticks": ""
             }
            },
            "type": "scatter3d"
           }
          ],
          "scattercarpet": [
           {
            "marker": {
             "colorbar": {
              "outlinewidth": 0,
              "ticks": ""
             }
            },
            "type": "scattercarpet"
           }
          ],
          "scattergeo": [
           {
            "marker": {
             "colorbar": {
              "outlinewidth": 0,
              "ticks": ""
             }
            },
            "type": "scattergeo"
           }
          ],
          "scattergl": [
           {
            "marker": {
             "colorbar": {
              "outlinewidth": 0,
              "ticks": ""
             }
            },
            "type": "scattergl"
           }
          ],
          "scattermapbox": [
           {
            "marker": {
             "colorbar": {
              "outlinewidth": 0,
              "ticks": ""
             }
            },
            "type": "scattermapbox"
           }
          ],
          "scatterpolar": [
           {
            "marker": {
             "colorbar": {
              "outlinewidth": 0,
              "ticks": ""
             }
            },
            "type": "scatterpolar"
           }
          ],
          "scatterpolargl": [
           {
            "marker": {
             "colorbar": {
              "outlinewidth": 0,
              "ticks": ""
             }
            },
            "type": "scatterpolargl"
           }
          ],
          "scatterternary": [
           {
            "marker": {
             "colorbar": {
              "outlinewidth": 0,
              "ticks": ""
             }
            },
            "type": "scatterternary"
           }
          ],
          "surface": [
           {
            "colorbar": {
             "outlinewidth": 0,
             "ticks": ""
            },
            "colorscale": [
             [
              0,
              "#0d0887"
             ],
             [
              0.1111111111111111,
              "#46039f"
             ],
             [
              0.2222222222222222,
              "#7201a8"
             ],
             [
              0.3333333333333333,
              "#9c179e"
             ],
             [
              0.4444444444444444,
              "#bd3786"
             ],
             [
              0.5555555555555556,
              "#d8576b"
             ],
             [
              0.6666666666666666,
              "#ed7953"
             ],
             [
              0.7777777777777778,
              "#fb9f3a"
             ],
             [
              0.8888888888888888,
              "#fdca26"
             ],
             [
              1,
              "#f0f921"
             ]
            ],
            "type": "surface"
           }
          ],
          "table": [
           {
            "cells": {
             "fill": {
              "color": "#EBF0F8"
             },
             "line": {
              "color": "white"
             }
            },
            "header": {
             "fill": {
              "color": "#C8D4E3"
             },
             "line": {
              "color": "white"
             }
            },
            "type": "table"
           }
          ]
         },
         "layout": {
          "annotationdefaults": {
           "arrowcolor": "#2a3f5f",
           "arrowhead": 0,
           "arrowwidth": 1
          },
          "autotypenumbers": "strict",
          "coloraxis": {
           "colorbar": {
            "outlinewidth": 0,
            "ticks": ""
           }
          },
          "colorscale": {
           "diverging": [
            [
             0,
             "#8e0152"
            ],
            [
             0.1,
             "#c51b7d"
            ],
            [
             0.2,
             "#de77ae"
            ],
            [
             0.3,
             "#f1b6da"
            ],
            [
             0.4,
             "#fde0ef"
            ],
            [
             0.5,
             "#f7f7f7"
            ],
            [
             0.6,
             "#e6f5d0"
            ],
            [
             0.7,
             "#b8e186"
            ],
            [
             0.8,
             "#7fbc41"
            ],
            [
             0.9,
             "#4d9221"
            ],
            [
             1,
             "#276419"
            ]
           ],
           "sequential": [
            [
             0,
             "#0d0887"
            ],
            [
             0.1111111111111111,
             "#46039f"
            ],
            [
             0.2222222222222222,
             "#7201a8"
            ],
            [
             0.3333333333333333,
             "#9c179e"
            ],
            [
             0.4444444444444444,
             "#bd3786"
            ],
            [
             0.5555555555555556,
             "#d8576b"
            ],
            [
             0.6666666666666666,
             "#ed7953"
            ],
            [
             0.7777777777777778,
             "#fb9f3a"
            ],
            [
             0.8888888888888888,
             "#fdca26"
            ],
            [
             1,
             "#f0f921"
            ]
           ],
           "sequentialminus": [
            [
             0,
             "#0d0887"
            ],
            [
             0.1111111111111111,
             "#46039f"
            ],
            [
             0.2222222222222222,
             "#7201a8"
            ],
            [
             0.3333333333333333,
             "#9c179e"
            ],
            [
             0.4444444444444444,
             "#bd3786"
            ],
            [
             0.5555555555555556,
             "#d8576b"
            ],
            [
             0.6666666666666666,
             "#ed7953"
            ],
            [
             0.7777777777777778,
             "#fb9f3a"
            ],
            [
             0.8888888888888888,
             "#fdca26"
            ],
            [
             1,
             "#f0f921"
            ]
           ]
          },
          "colorway": [
           "#636efa",
           "#EF553B",
           "#00cc96",
           "#ab63fa",
           "#FFA15A",
           "#19d3f3",
           "#FF6692",
           "#B6E880",
           "#FF97FF",
           "#FECB52"
          ],
          "font": {
           "color": "#2a3f5f"
          },
          "geo": {
           "bgcolor": "white",
           "lakecolor": "white",
           "landcolor": "#E5ECF6",
           "showlakes": true,
           "showland": true,
           "subunitcolor": "white"
          },
          "hoverlabel": {
           "align": "left"
          },
          "hovermode": "closest",
          "mapbox": {
           "style": "light"
          },
          "paper_bgcolor": "white",
          "plot_bgcolor": "#E5ECF6",
          "polar": {
           "angularaxis": {
            "gridcolor": "white",
            "linecolor": "white",
            "ticks": ""
           },
           "bgcolor": "#E5ECF6",
           "radialaxis": {
            "gridcolor": "white",
            "linecolor": "white",
            "ticks": ""
           }
          },
          "scene": {
           "xaxis": {
            "backgroundcolor": "#E5ECF6",
            "gridcolor": "white",
            "gridwidth": 2,
            "linecolor": "white",
            "showbackground": true,
            "ticks": "",
            "zerolinecolor": "white"
           },
           "yaxis": {
            "backgroundcolor": "#E5ECF6",
            "gridcolor": "white",
            "gridwidth": 2,
            "linecolor": "white",
            "showbackground": true,
            "ticks": "",
            "zerolinecolor": "white"
           },
           "zaxis": {
            "backgroundcolor": "#E5ECF6",
            "gridcolor": "white",
            "gridwidth": 2,
            "linecolor": "white",
            "showbackground": true,
            "ticks": "",
            "zerolinecolor": "white"
           }
          },
          "shapedefaults": {
           "line": {
            "color": "#2a3f5f"
           }
          },
          "ternary": {
           "aaxis": {
            "gridcolor": "white",
            "linecolor": "white",
            "ticks": ""
           },
           "baxis": {
            "gridcolor": "white",
            "linecolor": "white",
            "ticks": ""
           },
           "bgcolor": "#E5ECF6",
           "caxis": {
            "gridcolor": "white",
            "linecolor": "white",
            "ticks": ""
           }
          },
          "title": {
           "x": 0.05
          },
          "xaxis": {
           "automargin": true,
           "gridcolor": "white",
           "linecolor": "white",
           "ticks": "",
           "title": {
            "standoff": 15
           },
           "zerolinecolor": "white",
           "zerolinewidth": 2
          },
          "yaxis": {
           "automargin": true,
           "gridcolor": "white",
           "linecolor": "white",
           "ticks": "",
           "title": {
            "standoff": 15
           },
           "zerolinecolor": "white",
           "zerolinewidth": 2
          }
         }
        },
        "xaxis": {
         "anchor": "y",
         "domain": [
          0,
          1
         ],
         "title": {
          "text": "level_2"
         }
        },
        "yaxis": {
         "anchor": "x",
         "domain": [
          0,
          1
         ],
         "title": {
          "text": "0"
         }
        }
       }
      }
     },
     "metadata": {},
     "output_type": "display_data"
    }
   ],
   "source": [
    "pays_exports=annual[(annual['Libellé du flux']==\"Exportations FAB\") | (annual['Libellé du flux']==\"Importations CAF\")]\n",
    "annualdf=pays_exports.set_index(['Libellé du pays','Libellé du flux'])\n",
    "annualdf=annualdf.transpose().set_index(pd.date_range(start='2010-01-01', periods=11, freq='Y'))\n",
    "annualdf=annualdf.unstack()\n",
    "annualdf=annualdf.to_frame()[:]\n",
    "annualdf=annualdf.reset_index()\n",
    "fig = px.line(annualdf[(annualdf['Libellé du pays']=='ESPAGNE')], x='level_2', y=0, color='Libellé du flux')\n",
    "fig.show()"
   ]
  },
  {
   "cell_type": "code",
   "execution_count": 30,
   "metadata": {},
   "outputs": [
    {
     "name": "stdout",
     "output_type": "stream",
     "text": [
      "11 \n",
      " 66 \n",
      " 258 \n",
      "\n"
     ]
    }
   ],
   "source": [
    "print(Export_total['Libellé de la section CTCI'].nunique(),'\\n',\n",
    "      Export_total['Libellé de la division CTCI'].nunique(),'\\n',\n",
    "      Export_total['Libellé du groupe CTCI'].nunique(),'\\n')"
   ]
  },
  {
   "cell_type": "markdown",
   "metadata": {},
   "source": [
    "le nombre des divisions et des groupes de CTCI est très grand, on les visualise pas "
   ]
  },
  {
   "cell_type": "code",
   "execution_count": 31,
   "metadata": {},
   "outputs": [],
   "source": [
    "continent_import =Export_total[(Export_total[\"Libellé du flux\"] == \"Importations CAF\")].groupby([\"Continent\"]).mean().sort_values(\"Total dh\", ascending=False)\n",
    "continent_export =Export_total[(Export_total[\"Libellé du flux\"] == \"Exportations FAB\")].groupby([\"Continent\"]).mean().sort_values(\"Total dh\", ascending=False)\n",
    "utilisation_import =Export_total[(Export_total[\"Libellé du flux\"] == \"Importations CAF\")].groupby([\"Libellé du groupement d'utilisation\"]).mean().sort_values(\"Total dh\", ascending=False)\n",
    "utilisation_export =Export_total[(Export_total[\"Libellé du flux\"] == \"Exportations FAB\")].groupby([\"Libellé du groupement d'utilisation\"]).mean().sort_values(\"Total dh\", ascending=False)\n",
    "section_export =Export_total[(Export_total[\"Libellé du flux\"] == \"Importations CAF\")].groupby([\"Libellé de la section CTCI\"]).mean().sort_values(\"Total dh\", ascending=False)\n",
    "section_import =Export_total[(Export_total[\"Libellé du flux\"] == \"Exportations FAB\")].groupby([\"Libellé de la section CTCI\"]).mean().sort_values(\"Total dh\", ascending=False)"
   ]
  },
  {
   "cell_type": "code",
   "execution_count": 32,
   "metadata": {},
   "outputs": [
    {
     "data": {
      "text/html": [
       "<div>\n",
       "<style scoped>\n",
       "    .dataframe tbody tr th:only-of-type {\n",
       "        vertical-align: middle;\n",
       "    }\n",
       "\n",
       "    .dataframe tbody tr th {\n",
       "        vertical-align: top;\n",
       "    }\n",
       "\n",
       "    .dataframe thead th {\n",
       "        text-align: right;\n",
       "    }\n",
       "</style>\n",
       "<table border=\"1\" class=\"dataframe\">\n",
       "  <thead>\n",
       "    <tr style=\"text-align: right;\">\n",
       "      <th></th>\n",
       "      <th>Total dh</th>\n",
       "    </tr>\n",
       "    <tr>\n",
       "      <th>Continent</th>\n",
       "      <th></th>\n",
       "    </tr>\n",
       "  </thead>\n",
       "  <tbody>\n",
       "    <tr>\n",
       "      <th>AUTRE</th>\n",
       "      <td>3.206304e+08</td>\n",
       "    </tr>\n",
       "    <tr>\n",
       "      <th>EUROPE</th>\n",
       "      <td>8.742260e+07</td>\n",
       "    </tr>\n",
       "  </tbody>\n",
       "</table>\n",
       "</div>"
      ],
      "text/plain": [
       "               Total dh\n",
       "Continent              \n",
       "AUTRE      3.206304e+08\n",
       "EUROPE     8.742260e+07"
      ]
     },
     "execution_count": 32,
     "metadata": {},
     "output_type": "execute_result"
    }
   ],
   "source": [
    "continent_import.head(2)"
   ]
  },
  {
   "cell_type": "code",
   "execution_count": 33,
   "metadata": {},
   "outputs": [
    {
     "data": {
      "application/vnd.plotly.v1+json": {
       "config": {
        "plotlyServerURL": "https://plot.ly"
       },
       "data": [
        {
         "domain": {
          "x": [
           0,
           1
          ],
          "y": [
           0,
           1
          ]
         },
         "hovertemplate": "Continent=%{label}<br>Total dh=%{value}<extra></extra>",
         "labels": [
          "AUTRE",
          "EUROPE",
          "AMERIQUE",
          "ASIE",
          "AFRIQUE",
          "AUSTRALIE"
         ],
         "legendgroup": "",
         "name": "",
         "showlegend": true,
         "type": "pie",
         "values": [
          320630352.0159286,
          87422600.12761995,
          76658969.89824691,
          53208179.77173352,
          24069336.186385944,
          5820625.8115125
         ]
        }
       ],
       "layout": {
        "legend": {
         "tracegroupgap": 0
        },
        "template": {
         "data": {
          "bar": [
           {
            "error_x": {
             "color": "#2a3f5f"
            },
            "error_y": {
             "color": "#2a3f5f"
            },
            "marker": {
             "line": {
              "color": "#E5ECF6",
              "width": 0.5
             },
             "pattern": {
              "fillmode": "overlay",
              "size": 10,
              "solidity": 0.2
             }
            },
            "type": "bar"
           }
          ],
          "barpolar": [
           {
            "marker": {
             "line": {
              "color": "#E5ECF6",
              "width": 0.5
             },
             "pattern": {
              "fillmode": "overlay",
              "size": 10,
              "solidity": 0.2
             }
            },
            "type": "barpolar"
           }
          ],
          "carpet": [
           {
            "aaxis": {
             "endlinecolor": "#2a3f5f",
             "gridcolor": "white",
             "linecolor": "white",
             "minorgridcolor": "white",
             "startlinecolor": "#2a3f5f"
            },
            "baxis": {
             "endlinecolor": "#2a3f5f",
             "gridcolor": "white",
             "linecolor": "white",
             "minorgridcolor": "white",
             "startlinecolor": "#2a3f5f"
            },
            "type": "carpet"
           }
          ],
          "choropleth": [
           {
            "colorbar": {
             "outlinewidth": 0,
             "ticks": ""
            },
            "type": "choropleth"
           }
          ],
          "contour": [
           {
            "colorbar": {
             "outlinewidth": 0,
             "ticks": ""
            },
            "colorscale": [
             [
              0,
              "#0d0887"
             ],
             [
              0.1111111111111111,
              "#46039f"
             ],
             [
              0.2222222222222222,
              "#7201a8"
             ],
             [
              0.3333333333333333,
              "#9c179e"
             ],
             [
              0.4444444444444444,
              "#bd3786"
             ],
             [
              0.5555555555555556,
              "#d8576b"
             ],
             [
              0.6666666666666666,
              "#ed7953"
             ],
             [
              0.7777777777777778,
              "#fb9f3a"
             ],
             [
              0.8888888888888888,
              "#fdca26"
             ],
             [
              1,
              "#f0f921"
             ]
            ],
            "type": "contour"
           }
          ],
          "contourcarpet": [
           {
            "colorbar": {
             "outlinewidth": 0,
             "ticks": ""
            },
            "type": "contourcarpet"
           }
          ],
          "heatmap": [
           {
            "colorbar": {
             "outlinewidth": 0,
             "ticks": ""
            },
            "colorscale": [
             [
              0,
              "#0d0887"
             ],
             [
              0.1111111111111111,
              "#46039f"
             ],
             [
              0.2222222222222222,
              "#7201a8"
             ],
             [
              0.3333333333333333,
              "#9c179e"
             ],
             [
              0.4444444444444444,
              "#bd3786"
             ],
             [
              0.5555555555555556,
              "#d8576b"
             ],
             [
              0.6666666666666666,
              "#ed7953"
             ],
             [
              0.7777777777777778,
              "#fb9f3a"
             ],
             [
              0.8888888888888888,
              "#fdca26"
             ],
             [
              1,
              "#f0f921"
             ]
            ],
            "type": "heatmap"
           }
          ],
          "heatmapgl": [
           {
            "colorbar": {
             "outlinewidth": 0,
             "ticks": ""
            },
            "colorscale": [
             [
              0,
              "#0d0887"
             ],
             [
              0.1111111111111111,
              "#46039f"
             ],
             [
              0.2222222222222222,
              "#7201a8"
             ],
             [
              0.3333333333333333,
              "#9c179e"
             ],
             [
              0.4444444444444444,
              "#bd3786"
             ],
             [
              0.5555555555555556,
              "#d8576b"
             ],
             [
              0.6666666666666666,
              "#ed7953"
             ],
             [
              0.7777777777777778,
              "#fb9f3a"
             ],
             [
              0.8888888888888888,
              "#fdca26"
             ],
             [
              1,
              "#f0f921"
             ]
            ],
            "type": "heatmapgl"
           }
          ],
          "histogram": [
           {
            "marker": {
             "pattern": {
              "fillmode": "overlay",
              "size": 10,
              "solidity": 0.2
             }
            },
            "type": "histogram"
           }
          ],
          "histogram2d": [
           {
            "colorbar": {
             "outlinewidth": 0,
             "ticks": ""
            },
            "colorscale": [
             [
              0,
              "#0d0887"
             ],
             [
              0.1111111111111111,
              "#46039f"
             ],
             [
              0.2222222222222222,
              "#7201a8"
             ],
             [
              0.3333333333333333,
              "#9c179e"
             ],
             [
              0.4444444444444444,
              "#bd3786"
             ],
             [
              0.5555555555555556,
              "#d8576b"
             ],
             [
              0.6666666666666666,
              "#ed7953"
             ],
             [
              0.7777777777777778,
              "#fb9f3a"
             ],
             [
              0.8888888888888888,
              "#fdca26"
             ],
             [
              1,
              "#f0f921"
             ]
            ],
            "type": "histogram2d"
           }
          ],
          "histogram2dcontour": [
           {
            "colorbar": {
             "outlinewidth": 0,
             "ticks": ""
            },
            "colorscale": [
             [
              0,
              "#0d0887"
             ],
             [
              0.1111111111111111,
              "#46039f"
             ],
             [
              0.2222222222222222,
              "#7201a8"
             ],
             [
              0.3333333333333333,
              "#9c179e"
             ],
             [
              0.4444444444444444,
              "#bd3786"
             ],
             [
              0.5555555555555556,
              "#d8576b"
             ],
             [
              0.6666666666666666,
              "#ed7953"
             ],
             [
              0.7777777777777778,
              "#fb9f3a"
             ],
             [
              0.8888888888888888,
              "#fdca26"
             ],
             [
              1,
              "#f0f921"
             ]
            ],
            "type": "histogram2dcontour"
           }
          ],
          "mesh3d": [
           {
            "colorbar": {
             "outlinewidth": 0,
             "ticks": ""
            },
            "type": "mesh3d"
           }
          ],
          "parcoords": [
           {
            "line": {
             "colorbar": {
              "outlinewidth": 0,
              "ticks": ""
             }
            },
            "type": "parcoords"
           }
          ],
          "pie": [
           {
            "automargin": true,
            "type": "pie"
           }
          ],
          "scatter": [
           {
            "marker": {
             "colorbar": {
              "outlinewidth": 0,
              "ticks": ""
             }
            },
            "type": "scatter"
           }
          ],
          "scatter3d": [
           {
            "line": {
             "colorbar": {
              "outlinewidth": 0,
              "ticks": ""
             }
            },
            "marker": {
             "colorbar": {
              "outlinewidth": 0,
              "ticks": ""
             }
            },
            "type": "scatter3d"
           }
          ],
          "scattercarpet": [
           {
            "marker": {
             "colorbar": {
              "outlinewidth": 0,
              "ticks": ""
             }
            },
            "type": "scattercarpet"
           }
          ],
          "scattergeo": [
           {
            "marker": {
             "colorbar": {
              "outlinewidth": 0,
              "ticks": ""
             }
            },
            "type": "scattergeo"
           }
          ],
          "scattergl": [
           {
            "marker": {
             "colorbar": {
              "outlinewidth": 0,
              "ticks": ""
             }
            },
            "type": "scattergl"
           }
          ],
          "scattermapbox": [
           {
            "marker": {
             "colorbar": {
              "outlinewidth": 0,
              "ticks": ""
             }
            },
            "type": "scattermapbox"
           }
          ],
          "scatterpolar": [
           {
            "marker": {
             "colorbar": {
              "outlinewidth": 0,
              "ticks": ""
             }
            },
            "type": "scatterpolar"
           }
          ],
          "scatterpolargl": [
           {
            "marker": {
             "colorbar": {
              "outlinewidth": 0,
              "ticks": ""
             }
            },
            "type": "scatterpolargl"
           }
          ],
          "scatterternary": [
           {
            "marker": {
             "colorbar": {
              "outlinewidth": 0,
              "ticks": ""
             }
            },
            "type": "scatterternary"
           }
          ],
          "surface": [
           {
            "colorbar": {
             "outlinewidth": 0,
             "ticks": ""
            },
            "colorscale": [
             [
              0,
              "#0d0887"
             ],
             [
              0.1111111111111111,
              "#46039f"
             ],
             [
              0.2222222222222222,
              "#7201a8"
             ],
             [
              0.3333333333333333,
              "#9c179e"
             ],
             [
              0.4444444444444444,
              "#bd3786"
             ],
             [
              0.5555555555555556,
              "#d8576b"
             ],
             [
              0.6666666666666666,
              "#ed7953"
             ],
             [
              0.7777777777777778,
              "#fb9f3a"
             ],
             [
              0.8888888888888888,
              "#fdca26"
             ],
             [
              1,
              "#f0f921"
             ]
            ],
            "type": "surface"
           }
          ],
          "table": [
           {
            "cells": {
             "fill": {
              "color": "#EBF0F8"
             },
             "line": {
              "color": "white"
             }
            },
            "header": {
             "fill": {
              "color": "#C8D4E3"
             },
             "line": {
              "color": "white"
             }
            },
            "type": "table"
           }
          ]
         },
         "layout": {
          "annotationdefaults": {
           "arrowcolor": "#2a3f5f",
           "arrowhead": 0,
           "arrowwidth": 1
          },
          "autotypenumbers": "strict",
          "coloraxis": {
           "colorbar": {
            "outlinewidth": 0,
            "ticks": ""
           }
          },
          "colorscale": {
           "diverging": [
            [
             0,
             "#8e0152"
            ],
            [
             0.1,
             "#c51b7d"
            ],
            [
             0.2,
             "#de77ae"
            ],
            [
             0.3,
             "#f1b6da"
            ],
            [
             0.4,
             "#fde0ef"
            ],
            [
             0.5,
             "#f7f7f7"
            ],
            [
             0.6,
             "#e6f5d0"
            ],
            [
             0.7,
             "#b8e186"
            ],
            [
             0.8,
             "#7fbc41"
            ],
            [
             0.9,
             "#4d9221"
            ],
            [
             1,
             "#276419"
            ]
           ],
           "sequential": [
            [
             0,
             "#0d0887"
            ],
            [
             0.1111111111111111,
             "#46039f"
            ],
            [
             0.2222222222222222,
             "#7201a8"
            ],
            [
             0.3333333333333333,
             "#9c179e"
            ],
            [
             0.4444444444444444,
             "#bd3786"
            ],
            [
             0.5555555555555556,
             "#d8576b"
            ],
            [
             0.6666666666666666,
             "#ed7953"
            ],
            [
             0.7777777777777778,
             "#fb9f3a"
            ],
            [
             0.8888888888888888,
             "#fdca26"
            ],
            [
             1,
             "#f0f921"
            ]
           ],
           "sequentialminus": [
            [
             0,
             "#0d0887"
            ],
            [
             0.1111111111111111,
             "#46039f"
            ],
            [
             0.2222222222222222,
             "#7201a8"
            ],
            [
             0.3333333333333333,
             "#9c179e"
            ],
            [
             0.4444444444444444,
             "#bd3786"
            ],
            [
             0.5555555555555556,
             "#d8576b"
            ],
            [
             0.6666666666666666,
             "#ed7953"
            ],
            [
             0.7777777777777778,
             "#fb9f3a"
            ],
            [
             0.8888888888888888,
             "#fdca26"
            ],
            [
             1,
             "#f0f921"
            ]
           ]
          },
          "colorway": [
           "#636efa",
           "#EF553B",
           "#00cc96",
           "#ab63fa",
           "#FFA15A",
           "#19d3f3",
           "#FF6692",
           "#B6E880",
           "#FF97FF",
           "#FECB52"
          ],
          "font": {
           "color": "#2a3f5f"
          },
          "geo": {
           "bgcolor": "white",
           "lakecolor": "white",
           "landcolor": "#E5ECF6",
           "showlakes": true,
           "showland": true,
           "subunitcolor": "white"
          },
          "hoverlabel": {
           "align": "left"
          },
          "hovermode": "closest",
          "mapbox": {
           "style": "light"
          },
          "paper_bgcolor": "white",
          "plot_bgcolor": "#E5ECF6",
          "polar": {
           "angularaxis": {
            "gridcolor": "white",
            "linecolor": "white",
            "ticks": ""
           },
           "bgcolor": "#E5ECF6",
           "radialaxis": {
            "gridcolor": "white",
            "linecolor": "white",
            "ticks": ""
           }
          },
          "scene": {
           "xaxis": {
            "backgroundcolor": "#E5ECF6",
            "gridcolor": "white",
            "gridwidth": 2,
            "linecolor": "white",
            "showbackground": true,
            "ticks": "",
            "zerolinecolor": "white"
           },
           "yaxis": {
            "backgroundcolor": "#E5ECF6",
            "gridcolor": "white",
            "gridwidth": 2,
            "linecolor": "white",
            "showbackground": true,
            "ticks": "",
            "zerolinecolor": "white"
           },
           "zaxis": {
            "backgroundcolor": "#E5ECF6",
            "gridcolor": "white",
            "gridwidth": 2,
            "linecolor": "white",
            "showbackground": true,
            "ticks": "",
            "zerolinecolor": "white"
           }
          },
          "shapedefaults": {
           "line": {
            "color": "#2a3f5f"
           }
          },
          "ternary": {
           "aaxis": {
            "gridcolor": "white",
            "linecolor": "white",
            "ticks": ""
           },
           "baxis": {
            "gridcolor": "white",
            "linecolor": "white",
            "ticks": ""
           },
           "bgcolor": "#E5ECF6",
           "caxis": {
            "gridcolor": "white",
            "linecolor": "white",
            "ticks": ""
           }
          },
          "title": {
           "x": 0.05
          },
          "xaxis": {
           "automargin": true,
           "gridcolor": "white",
           "linecolor": "white",
           "ticks": "",
           "title": {
            "standoff": 15
           },
           "zerolinecolor": "white",
           "zerolinewidth": 2
          },
          "yaxis": {
           "automargin": true,
           "gridcolor": "white",
           "linecolor": "white",
           "ticks": "",
           "title": {
            "standoff": 15
           },
           "zerolinecolor": "white",
           "zerolinewidth": 2
          }
         }
        },
        "title": {
         "text": "Partition des importations par continents(moyen des 3 derniers années)"
        }
       }
      }
     },
     "metadata": {},
     "output_type": "display_data"
    }
   ],
   "source": [
    "fig = px.pie(continent_import, values='Total dh', names=continent_import.index, title='Partition des importations par continents(moyen des 3 derniers années)')\n",
    "fig.show()"
   ]
  },
  {
   "cell_type": "code",
   "execution_count": 34,
   "metadata": {},
   "outputs": [
    {
     "data": {
      "text/html": [
       "<div>\n",
       "<style scoped>\n",
       "    .dataframe tbody tr th:only-of-type {\n",
       "        vertical-align: middle;\n",
       "    }\n",
       "\n",
       "    .dataframe tbody tr th {\n",
       "        vertical-align: top;\n",
       "    }\n",
       "\n",
       "    .dataframe thead th {\n",
       "        text-align: right;\n",
       "    }\n",
       "</style>\n",
       "<table border=\"1\" class=\"dataframe\">\n",
       "  <thead>\n",
       "    <tr style=\"text-align: right;\">\n",
       "      <th></th>\n",
       "      <th>Total dh</th>\n",
       "    </tr>\n",
       "    <tr>\n",
       "      <th>Continent</th>\n",
       "      <th></th>\n",
       "    </tr>\n",
       "  </thead>\n",
       "  <tbody>\n",
       "    <tr>\n",
       "      <th>EUROPE</th>\n",
       "      <td>1.122606e+08</td>\n",
       "    </tr>\n",
       "    <tr>\n",
       "      <th>AMERIQUE</th>\n",
       "      <td>5.786529e+07</td>\n",
       "    </tr>\n",
       "  </tbody>\n",
       "</table>\n",
       "</div>"
      ],
      "text/plain": [
       "               Total dh\n",
       "Continent              \n",
       "EUROPE     1.122606e+08\n",
       "AMERIQUE   5.786529e+07"
      ]
     },
     "execution_count": 34,
     "metadata": {},
     "output_type": "execute_result"
    }
   ],
   "source": [
    "continent_export.head(2)"
   ]
  },
  {
   "cell_type": "code",
   "execution_count": 35,
   "metadata": {},
   "outputs": [
    {
     "data": {
      "text/html": [
       "<div>\n",
       "<style scoped>\n",
       "    .dataframe tbody tr th:only-of-type {\n",
       "        vertical-align: middle;\n",
       "    }\n",
       "\n",
       "    .dataframe tbody tr th {\n",
       "        vertical-align: top;\n",
       "    }\n",
       "\n",
       "    .dataframe thead th {\n",
       "        text-align: right;\n",
       "    }\n",
       "</style>\n",
       "<table border=\"1\" class=\"dataframe\">\n",
       "  <thead>\n",
       "    <tr style=\"text-align: right;\">\n",
       "      <th></th>\n",
       "      <th>Total dh</th>\n",
       "    </tr>\n",
       "    <tr>\n",
       "      <th>Libellé du groupement d'utilisation</th>\n",
       "      <th></th>\n",
       "    </tr>\n",
       "  </thead>\n",
       "  <tbody>\n",
       "    <tr>\n",
       "      <th>ENERGIE  ET  LUBRIFIANTS</th>\n",
       "      <td>9.137951e+08</td>\n",
       "    </tr>\n",
       "    <tr>\n",
       "      <th>PRODUITS BRUTS D'ORIGINE MINERALE</th>\n",
       "      <td>8.162045e+07</td>\n",
       "    </tr>\n",
       "  </tbody>\n",
       "</table>\n",
       "</div>"
      ],
      "text/plain": [
       "                                         Total dh\n",
       "Libellé du groupement d'utilisation              \n",
       "ENERGIE  ET  LUBRIFIANTS             9.137951e+08\n",
       "PRODUITS BRUTS D'ORIGINE MINERALE    8.162045e+07"
      ]
     },
     "execution_count": 35,
     "metadata": {},
     "output_type": "execute_result"
    }
   ],
   "source": [
    "utilisation_import.head(2)"
   ]
  },
  {
   "cell_type": "code",
   "execution_count": 36,
   "metadata": {},
   "outputs": [
    {
     "data": {
      "text/html": [
       "<div>\n",
       "<style scoped>\n",
       "    .dataframe tbody tr th:only-of-type {\n",
       "        vertical-align: middle;\n",
       "    }\n",
       "\n",
       "    .dataframe tbody tr th {\n",
       "        vertical-align: top;\n",
       "    }\n",
       "\n",
       "    .dataframe thead th {\n",
       "        text-align: right;\n",
       "    }\n",
       "</style>\n",
       "<table border=\"1\" class=\"dataframe\">\n",
       "  <thead>\n",
       "    <tr style=\"text-align: right;\">\n",
       "      <th></th>\n",
       "      <th>Total dh</th>\n",
       "    </tr>\n",
       "    <tr>\n",
       "      <th>Libellé du groupement d'utilisation</th>\n",
       "      <th></th>\n",
       "    </tr>\n",
       "  </thead>\n",
       "  <tbody>\n",
       "    <tr>\n",
       "      <th>OR INDUSTRIEL</th>\n",
       "      <td>3.228980e+08</td>\n",
       "    </tr>\n",
       "    <tr>\n",
       "      <th>ALIMENTATION, BOISSONS ET TABACS</th>\n",
       "      <td>8.430104e+07</td>\n",
       "    </tr>\n",
       "  </tbody>\n",
       "</table>\n",
       "</div>"
      ],
      "text/plain": [
       "                                         Total dh\n",
       "Libellé du groupement d'utilisation              \n",
       "OR INDUSTRIEL                        3.228980e+08\n",
       "ALIMENTATION, BOISSONS ET TABACS     8.430104e+07"
      ]
     },
     "execution_count": 36,
     "metadata": {},
     "output_type": "execute_result"
    }
   ],
   "source": [
    "utilisation_export.head(2)"
   ]
  },
  {
   "cell_type": "code",
   "execution_count": 37,
   "metadata": {},
   "outputs": [
    {
     "data": {
      "text/html": [
       "<div>\n",
       "<style scoped>\n",
       "    .dataframe tbody tr th:only-of-type {\n",
       "        vertical-align: middle;\n",
       "    }\n",
       "\n",
       "    .dataframe tbody tr th {\n",
       "        vertical-align: top;\n",
       "    }\n",
       "\n",
       "    .dataframe thead th {\n",
       "        text-align: right;\n",
       "    }\n",
       "</style>\n",
       "<table border=\"1\" class=\"dataframe\">\n",
       "  <thead>\n",
       "    <tr style=\"text-align: right;\">\n",
       "      <th></th>\n",
       "      <th>Total dh</th>\n",
       "    </tr>\n",
       "    <tr>\n",
       "      <th>Libellé de la section CTCI</th>\n",
       "      <th></th>\n",
       "    </tr>\n",
       "  </thead>\n",
       "  <tbody>\n",
       "    <tr>\n",
       "      <th>COMBUSTIBLES ET MINÉRAUX, LUBRIFIANTS ET PRODUITS CONNEXES</th>\n",
       "      <td>8.583685e+08</td>\n",
       "    </tr>\n",
       "    <tr>\n",
       "      <th>MACHINES ET MATÉRIEL DE TRANSPORT</th>\n",
       "      <td>8.920993e+07</td>\n",
       "    </tr>\n",
       "  </tbody>\n",
       "</table>\n",
       "</div>"
      ],
      "text/plain": [
       "                                                        Total dh\n",
       "Libellé de la section CTCI                                      \n",
       "COMBUSTIBLES ET MINÉRAUX, LUBRIFIANTS ET PRODUI...  8.583685e+08\n",
       "MACHINES ET MATÉRIEL DE TRANSPORT                   8.920993e+07"
      ]
     },
     "execution_count": 37,
     "metadata": {},
     "output_type": "execute_result"
    }
   ],
   "source": [
    "section_export.head(2)"
   ]
  },
  {
   "cell_type": "code",
   "execution_count": 38,
   "metadata": {},
   "outputs": [
    {
     "data": {
      "text/html": [
       "<div>\n",
       "<style scoped>\n",
       "    .dataframe tbody tr th:only-of-type {\n",
       "        vertical-align: middle;\n",
       "    }\n",
       "\n",
       "    .dataframe tbody tr th {\n",
       "        vertical-align: top;\n",
       "    }\n",
       "\n",
       "    .dataframe thead th {\n",
       "        text-align: right;\n",
       "    }\n",
       "</style>\n",
       "<table border=\"1\" class=\"dataframe\">\n",
       "  <thead>\n",
       "    <tr style=\"text-align: right;\">\n",
       "      <th></th>\n",
       "      <th>Total dh</th>\n",
       "    </tr>\n",
       "    <tr>\n",
       "      <th>Libellé de la section CTCI</th>\n",
       "      <th></th>\n",
       "    </tr>\n",
       "  </thead>\n",
       "  <tbody>\n",
       "    <tr>\n",
       "      <th>ARTICLES ET OPÉRATIONS NON CLASSÉS AILLEURS DANS LA CTCI</th>\n",
       "      <td>3.228980e+08</td>\n",
       "    </tr>\n",
       "    <tr>\n",
       "      <th>PRODUITS CHIMIQUES ET PRODUITS CONNEXES, N.D.A.</th>\n",
       "      <td>8.831930e+07</td>\n",
       "    </tr>\n",
       "  </tbody>\n",
       "</table>\n",
       "</div>"
      ],
      "text/plain": [
       "                                                        Total dh\n",
       "Libellé de la section CTCI                                      \n",
       "ARTICLES ET OPÉRATIONS NON CLASSÉS AILLEURS DAN...  3.228980e+08\n",
       "PRODUITS CHIMIQUES ET PRODUITS CONNEXES, N.D.A.     8.831930e+07"
      ]
     },
     "execution_count": 38,
     "metadata": {},
     "output_type": "execute_result"
    }
   ],
   "source": [
    "section_import.head(2)"
   ]
  },
  {
   "cell_type": "markdown",
   "metadata": {},
   "source": [
    "let's concatenate them"
   ]
  },
  {
   "cell_type": "code",
   "execution_count": 39,
   "metadata": {},
   "outputs": [
    {
     "data": {
      "text/html": [
       "<div>\n",
       "<style scoped>\n",
       "    .dataframe tbody tr th:only-of-type {\n",
       "        vertical-align: middle;\n",
       "    }\n",
       "\n",
       "    .dataframe tbody tr th {\n",
       "        vertical-align: top;\n",
       "    }\n",
       "\n",
       "    .dataframe thead th {\n",
       "        text-align: right;\n",
       "    }\n",
       "</style>\n",
       "<table border=\"1\" class=\"dataframe\">\n",
       "  <thead>\n",
       "    <tr style=\"text-align: right;\">\n",
       "      <th></th>\n",
       "      <th>total imports</th>\n",
       "      <th>total exports</th>\n",
       "    </tr>\n",
       "    <tr>\n",
       "      <th>Libellé de la section CTCI</th>\n",
       "      <th></th>\n",
       "      <th></th>\n",
       "    </tr>\n",
       "  </thead>\n",
       "  <tbody>\n",
       "    <tr>\n",
       "      <th>ARTICLES ET OPÉRATIONS NON CLASSÉS AILLEURS DANS LA CTCI</th>\n",
       "      <td>3.228980e+08</td>\n",
       "      <td>5.784906e+07</td>\n",
       "    </tr>\n",
       "    <tr>\n",
       "      <th>PRODUITS CHIMIQUES ET PRODUITS CONNEXES, N.D.A.</th>\n",
       "      <td>8.831930e+07</td>\n",
       "      <td>7.100517e+07</td>\n",
       "    </tr>\n",
       "    <tr>\n",
       "      <th>PRODUITS ALIMENTAIRES ET ANIMAUX VIVANTS</th>\n",
       "      <td>8.781600e+07</td>\n",
       "      <td>7.863431e+07</td>\n",
       "    </tr>\n",
       "    <tr>\n",
       "      <th>MACHINES ET MATÉRIEL DE TRANSPORT</th>\n",
       "      <td>7.661401e+07</td>\n",
       "      <td>8.920993e+07</td>\n",
       "    </tr>\n",
       "    <tr>\n",
       "      <th>COMBUSTIBLES ET MINÉRAUX, LUBRIFIANTS ET PRODUITS CONNEXES</th>\n",
       "      <td>7.270773e+07</td>\n",
       "      <td>8.583685e+08</td>\n",
       "    </tr>\n",
       "    <tr>\n",
       "      <th>MATIÈRES BRUTES NON COMESTIBLES À L'EXCEPTION DES CARBURANTS</th>\n",
       "      <td>4.728654e+07</td>\n",
       "      <td>4.372929e+07</td>\n",
       "    </tr>\n",
       "    <tr>\n",
       "      <th>ARTICLES MANUFACTURÉS DIVERS</th>\n",
       "      <td>3.559263e+07</td>\n",
       "      <td>2.477809e+07</td>\n",
       "    </tr>\n",
       "    <tr>\n",
       "      <th>BOISSONS ET TABACS</th>\n",
       "      <td>2.372767e+07</td>\n",
       "      <td>5.232274e+07</td>\n",
       "    </tr>\n",
       "    <tr>\n",
       "      <th>HUILES, GRAISSES ET CIRES D'ORIGINE ANIMALE OU VÉGÉTALE</th>\n",
       "      <td>2.326177e+07</td>\n",
       "      <td>7.794036e+07</td>\n",
       "    </tr>\n",
       "    <tr>\n",
       "      <th>ARTICLES MANUFACTURÉS CLASSÉS PRINCIPALEMENT D'APRÈS LA MATIÈRE PREMIÈRE</th>\n",
       "      <td>9.911448e+06</td>\n",
       "      <td>4.872805e+07</td>\n",
       "    </tr>\n",
       "    <tr>\n",
       "      <th>PIÈCES D'OR ET PIÈCES AYANT COURS</th>\n",
       "      <td>2.500000e+04</td>\n",
       "      <td>1.883414e+06</td>\n",
       "    </tr>\n",
       "  </tbody>\n",
       "</table>\n",
       "</div>"
      ],
      "text/plain": [
       "                                                    total imports  \\\n",
       "Libellé de la section CTCI                                          \n",
       "ARTICLES ET OPÉRATIONS NON CLASSÉS AILLEURS DAN...   3.228980e+08   \n",
       "PRODUITS CHIMIQUES ET PRODUITS CONNEXES, N.D.A.      8.831930e+07   \n",
       "PRODUITS ALIMENTAIRES ET ANIMAUX VIVANTS             8.781600e+07   \n",
       "MACHINES ET MATÉRIEL DE TRANSPORT                    7.661401e+07   \n",
       "COMBUSTIBLES ET MINÉRAUX, LUBRIFIANTS ET PRODUI...   7.270773e+07   \n",
       "MATIÈRES BRUTES NON COMESTIBLES À L'EXCEPTION D...   4.728654e+07   \n",
       "ARTICLES MANUFACTURÉS DIVERS                         3.559263e+07   \n",
       "BOISSONS ET TABACS                                   2.372767e+07   \n",
       "HUILES, GRAISSES ET CIRES D'ORIGINE ANIMALE OU ...   2.326177e+07   \n",
       "ARTICLES MANUFACTURÉS CLASSÉS PRINCIPALEMENT D'...   9.911448e+06   \n",
       "PIÈCES D'OR ET PIÈCES AYANT COURS                    2.500000e+04   \n",
       "\n",
       "                                                    total exports  \n",
       "Libellé de la section CTCI                                         \n",
       "ARTICLES ET OPÉRATIONS NON CLASSÉS AILLEURS DAN...   5.784906e+07  \n",
       "PRODUITS CHIMIQUES ET PRODUITS CONNEXES, N.D.A.      7.100517e+07  \n",
       "PRODUITS ALIMENTAIRES ET ANIMAUX VIVANTS             7.863431e+07  \n",
       "MACHINES ET MATÉRIEL DE TRANSPORT                    8.920993e+07  \n",
       "COMBUSTIBLES ET MINÉRAUX, LUBRIFIANTS ET PRODUI...   8.583685e+08  \n",
       "MATIÈRES BRUTES NON COMESTIBLES À L'EXCEPTION D...   4.372929e+07  \n",
       "ARTICLES MANUFACTURÉS DIVERS                         2.477809e+07  \n",
       "BOISSONS ET TABACS                                   5.232274e+07  \n",
       "HUILES, GRAISSES ET CIRES D'ORIGINE ANIMALE OU ...   7.794036e+07  \n",
       "ARTICLES MANUFACTURÉS CLASSÉS PRINCIPALEMENT D'...   4.872805e+07  \n",
       "PIÈCES D'OR ET PIÈCES AYANT COURS                    1.883414e+06  "
      ]
     },
     "execution_count": 39,
     "metadata": {},
     "output_type": "execute_result"
    }
   ],
   "source": [
    "sections=df = pd.DataFrame()\n",
    "sections['total imports']=section_import['Total dh']\n",
    "sections['total exports']=section_export['Total dh']\n",
    "sections"
   ]
  },
  {
   "cell_type": "code",
   "execution_count": 40,
   "metadata": {},
   "outputs": [
    {
     "data": {
      "application/vnd.plotly.v1+json": {
       "config": {
        "plotlyServerURL": "https://plot.ly"
       },
       "data": [
        {
         "alignmentgroup": "True",
         "cliponaxis": false,
         "hovertemplate": "variable=total exports<br>x=%{x}<br>value=%{y}<extra></extra>",
         "legendgroup": "total exports",
         "marker": {
          "color": "#29d4f7",
          "pattern": {
           "shape": ""
          }
         },
         "name": "total exports",
         "offsetgroup": "total exports",
         "orientation": "v",
         "showlegend": true,
         "textangle": 0,
         "textfont": {
          "size": 13
         },
         "textposition": "outside",
         "texttemplate": "%{text:.2s}",
         "type": "bar",
         "x": [
          "ARTICLES ET OPÉRATIONS NON CLASSÉS AILLEURS DANS LA CTCI",
          "PRODUITS CHIMIQUES ET PRODUITS CONNEXES, N.D.A.",
          "PRODUITS ALIMENTAIRES ET ANIMAUX VIVANTS",
          "MACHINES ET MATÉRIEL DE TRANSPORT",
          "COMBUSTIBLES ET MINÉRAUX, LUBRIFIANTS ET PRODUITS CONNEXES",
          "MATIÈRES BRUTES NON COMESTIBLES À L'EXCEPTION DES CARBURANTS",
          "ARTICLES MANUFACTURÉS DIVERS",
          "BOISSONS ET TABACS",
          "HUILES, GRAISSES ET CIRES D'ORIGINE ANIMALE OU VÉGÉTALE",
          "ARTICLES MANUFACTURÉS CLASSÉS PRINCIPALEMENT D'APRÈS LA MATIÈRE PREMIÈRE",
          "PIÈCES D'OR ET PIÈCES AYANT COURS"
         ],
         "xaxis": "x",
         "y": [
          858368457.1988,
          89209932.02201368,
          78634305.26803607,
          77940359.96441667,
          71005170.56119697,
          57849060.70599999,
          52322744.94566082,
          48728046.521002546,
          43729294.23319623,
          24778087.08638705,
          1883413.8333333333
         ],
         "yaxis": "y"
        },
        {
         "alignmentgroup": "True",
         "cliponaxis": false,
         "hovertemplate": "variable=total imports<br>x=%{x}<br>value=%{y}<extra></extra>",
         "legendgroup": "total imports",
         "marker": {
          "color": "#FF5677",
          "pattern": {
           "shape": ""
          }
         },
         "name": "total imports",
         "offsetgroup": "total imports",
         "orientation": "v",
         "showlegend": true,
         "textangle": 0,
         "textfont": {
          "size": 13
         },
         "textposition": "outside",
         "texttemplate": "%{text:.2s}",
         "type": "bar",
         "x": [
          "ARTICLES ET OPÉRATIONS NON CLASSÉS AILLEURS DANS LA CTCI",
          "PRODUITS CHIMIQUES ET PRODUITS CONNEXES, N.D.A.",
          "PRODUITS ALIMENTAIRES ET ANIMAUX VIVANTS",
          "MACHINES ET MATÉRIEL DE TRANSPORT",
          "COMBUSTIBLES ET MINÉRAUX, LUBRIFIANTS ET PRODUITS CONNEXES",
          "MATIÈRES BRUTES NON COMESTIBLES À L'EXCEPTION DES CARBURANTS",
          "ARTICLES MANUFACTURÉS DIVERS",
          "BOISSONS ET TABACS",
          "HUILES, GRAISSES ET CIRES D'ORIGINE ANIMALE OU VÉGÉTALE",
          "ARTICLES MANUFACTURÉS CLASSÉS PRINCIPALEMENT D'APRÈS LA MATIÈRE PREMIÈRE",
          "PIÈCES D'OR ET PIÈCES AYANT COURS"
         ],
         "xaxis": "x",
         "y": [
          72707725.33158915,
          76614009.45342967,
          87816003.2546213,
          23261771.511452228,
          88319304.851371,
          322897951.1222,
          23727672.372869566,
          9911448.447778115,
          47286543.51747289,
          35592627.12073739,
          25000
         ],
         "yaxis": "y"
        }
       ],
       "layout": {
        "barmode": "stack",
        "font": {
         "color": "#fff",
         "family": "Lato, monospace",
         "size": 12
        },
        "legend": {
         "title": {
          "text": "variable"
         },
         "tracegroupgap": 0
        },
        "margin": {
         "b": 0,
         "t": 60
        },
        "paper_bgcolor": "rgba(138, 138, 138, 0)",
        "plot_bgcolor": "rgba(138, 138, 138, 0)",
        "template": {
         "data": {
          "bar": [
           {
            "error_x": {
             "color": "#2a3f5f"
            },
            "error_y": {
             "color": "#2a3f5f"
            },
            "marker": {
             "line": {
              "color": "#E5ECF6",
              "width": 0.5
             },
             "pattern": {
              "fillmode": "overlay",
              "size": 10,
              "solidity": 0.2
             }
            },
            "type": "bar"
           }
          ],
          "barpolar": [
           {
            "marker": {
             "line": {
              "color": "#E5ECF6",
              "width": 0.5
             },
             "pattern": {
              "fillmode": "overlay",
              "size": 10,
              "solidity": 0.2
             }
            },
            "type": "barpolar"
           }
          ],
          "carpet": [
           {
            "aaxis": {
             "endlinecolor": "#2a3f5f",
             "gridcolor": "white",
             "linecolor": "white",
             "minorgridcolor": "white",
             "startlinecolor": "#2a3f5f"
            },
            "baxis": {
             "endlinecolor": "#2a3f5f",
             "gridcolor": "white",
             "linecolor": "white",
             "minorgridcolor": "white",
             "startlinecolor": "#2a3f5f"
            },
            "type": "carpet"
           }
          ],
          "choropleth": [
           {
            "colorbar": {
             "outlinewidth": 0,
             "ticks": ""
            },
            "type": "choropleth"
           }
          ],
          "contour": [
           {
            "colorbar": {
             "outlinewidth": 0,
             "ticks": ""
            },
            "colorscale": [
             [
              0,
              "#0d0887"
             ],
             [
              0.1111111111111111,
              "#46039f"
             ],
             [
              0.2222222222222222,
              "#7201a8"
             ],
             [
              0.3333333333333333,
              "#9c179e"
             ],
             [
              0.4444444444444444,
              "#bd3786"
             ],
             [
              0.5555555555555556,
              "#d8576b"
             ],
             [
              0.6666666666666666,
              "#ed7953"
             ],
             [
              0.7777777777777778,
              "#fb9f3a"
             ],
             [
              0.8888888888888888,
              "#fdca26"
             ],
             [
              1,
              "#f0f921"
             ]
            ],
            "type": "contour"
           }
          ],
          "contourcarpet": [
           {
            "colorbar": {
             "outlinewidth": 0,
             "ticks": ""
            },
            "type": "contourcarpet"
           }
          ],
          "heatmap": [
           {
            "colorbar": {
             "outlinewidth": 0,
             "ticks": ""
            },
            "colorscale": [
             [
              0,
              "#0d0887"
             ],
             [
              0.1111111111111111,
              "#46039f"
             ],
             [
              0.2222222222222222,
              "#7201a8"
             ],
             [
              0.3333333333333333,
              "#9c179e"
             ],
             [
              0.4444444444444444,
              "#bd3786"
             ],
             [
              0.5555555555555556,
              "#d8576b"
             ],
             [
              0.6666666666666666,
              "#ed7953"
             ],
             [
              0.7777777777777778,
              "#fb9f3a"
             ],
             [
              0.8888888888888888,
              "#fdca26"
             ],
             [
              1,
              "#f0f921"
             ]
            ],
            "type": "heatmap"
           }
          ],
          "heatmapgl": [
           {
            "colorbar": {
             "outlinewidth": 0,
             "ticks": ""
            },
            "colorscale": [
             [
              0,
              "#0d0887"
             ],
             [
              0.1111111111111111,
              "#46039f"
             ],
             [
              0.2222222222222222,
              "#7201a8"
             ],
             [
              0.3333333333333333,
              "#9c179e"
             ],
             [
              0.4444444444444444,
              "#bd3786"
             ],
             [
              0.5555555555555556,
              "#d8576b"
             ],
             [
              0.6666666666666666,
              "#ed7953"
             ],
             [
              0.7777777777777778,
              "#fb9f3a"
             ],
             [
              0.8888888888888888,
              "#fdca26"
             ],
             [
              1,
              "#f0f921"
             ]
            ],
            "type": "heatmapgl"
           }
          ],
          "histogram": [
           {
            "marker": {
             "pattern": {
              "fillmode": "overlay",
              "size": 10,
              "solidity": 0.2
             }
            },
            "type": "histogram"
           }
          ],
          "histogram2d": [
           {
            "colorbar": {
             "outlinewidth": 0,
             "ticks": ""
            },
            "colorscale": [
             [
              0,
              "#0d0887"
             ],
             [
              0.1111111111111111,
              "#46039f"
             ],
             [
              0.2222222222222222,
              "#7201a8"
             ],
             [
              0.3333333333333333,
              "#9c179e"
             ],
             [
              0.4444444444444444,
              "#bd3786"
             ],
             [
              0.5555555555555556,
              "#d8576b"
             ],
             [
              0.6666666666666666,
              "#ed7953"
             ],
             [
              0.7777777777777778,
              "#fb9f3a"
             ],
             [
              0.8888888888888888,
              "#fdca26"
             ],
             [
              1,
              "#f0f921"
             ]
            ],
            "type": "histogram2d"
           }
          ],
          "histogram2dcontour": [
           {
            "colorbar": {
             "outlinewidth": 0,
             "ticks": ""
            },
            "colorscale": [
             [
              0,
              "#0d0887"
             ],
             [
              0.1111111111111111,
              "#46039f"
             ],
             [
              0.2222222222222222,
              "#7201a8"
             ],
             [
              0.3333333333333333,
              "#9c179e"
             ],
             [
              0.4444444444444444,
              "#bd3786"
             ],
             [
              0.5555555555555556,
              "#d8576b"
             ],
             [
              0.6666666666666666,
              "#ed7953"
             ],
             [
              0.7777777777777778,
              "#fb9f3a"
             ],
             [
              0.8888888888888888,
              "#fdca26"
             ],
             [
              1,
              "#f0f921"
             ]
            ],
            "type": "histogram2dcontour"
           }
          ],
          "mesh3d": [
           {
            "colorbar": {
             "outlinewidth": 0,
             "ticks": ""
            },
            "type": "mesh3d"
           }
          ],
          "parcoords": [
           {
            "line": {
             "colorbar": {
              "outlinewidth": 0,
              "ticks": ""
             }
            },
            "type": "parcoords"
           }
          ],
          "pie": [
           {
            "automargin": true,
            "type": "pie"
           }
          ],
          "scatter": [
           {
            "marker": {
             "colorbar": {
              "outlinewidth": 0,
              "ticks": ""
             }
            },
            "type": "scatter"
           }
          ],
          "scatter3d": [
           {
            "line": {
             "colorbar": {
              "outlinewidth": 0,
              "ticks": ""
             }
            },
            "marker": {
             "colorbar": {
              "outlinewidth": 0,
              "ticks": ""
             }
            },
            "type": "scatter3d"
           }
          ],
          "scattercarpet": [
           {
            "marker": {
             "colorbar": {
              "outlinewidth": 0,
              "ticks": ""
             }
            },
            "type": "scattercarpet"
           }
          ],
          "scattergeo": [
           {
            "marker": {
             "colorbar": {
              "outlinewidth": 0,
              "ticks": ""
             }
            },
            "type": "scattergeo"
           }
          ],
          "scattergl": [
           {
            "marker": {
             "colorbar": {
              "outlinewidth": 0,
              "ticks": ""
             }
            },
            "type": "scattergl"
           }
          ],
          "scattermapbox": [
           {
            "marker": {
             "colorbar": {
              "outlinewidth": 0,
              "ticks": ""
             }
            },
            "type": "scattermapbox"
           }
          ],
          "scatterpolar": [
           {
            "marker": {
             "colorbar": {
              "outlinewidth": 0,
              "ticks": ""
             }
            },
            "type": "scatterpolar"
           }
          ],
          "scatterpolargl": [
           {
            "marker": {
             "colorbar": {
              "outlinewidth": 0,
              "ticks": ""
             }
            },
            "type": "scatterpolargl"
           }
          ],
          "scatterternary": [
           {
            "marker": {
             "colorbar": {
              "outlinewidth": 0,
              "ticks": ""
             }
            },
            "type": "scatterternary"
           }
          ],
          "surface": [
           {
            "colorbar": {
             "outlinewidth": 0,
             "ticks": ""
            },
            "colorscale": [
             [
              0,
              "#0d0887"
             ],
             [
              0.1111111111111111,
              "#46039f"
             ],
             [
              0.2222222222222222,
              "#7201a8"
             ],
             [
              0.3333333333333333,
              "#9c179e"
             ],
             [
              0.4444444444444444,
              "#bd3786"
             ],
             [
              0.5555555555555556,
              "#d8576b"
             ],
             [
              0.6666666666666666,
              "#ed7953"
             ],
             [
              0.7777777777777778,
              "#fb9f3a"
             ],
             [
              0.8888888888888888,
              "#fdca26"
             ],
             [
              1,
              "#f0f921"
             ]
            ],
            "type": "surface"
           }
          ],
          "table": [
           {
            "cells": {
             "fill": {
              "color": "#EBF0F8"
             },
             "line": {
              "color": "white"
             }
            },
            "header": {
             "fill": {
              "color": "#C8D4E3"
             },
             "line": {
              "color": "white"
             }
            },
            "type": "table"
           }
          ]
         },
         "layout": {
          "annotationdefaults": {
           "arrowcolor": "#2a3f5f",
           "arrowhead": 0,
           "arrowwidth": 1
          },
          "autotypenumbers": "strict",
          "coloraxis": {
           "colorbar": {
            "outlinewidth": 0,
            "ticks": ""
           }
          },
          "colorscale": {
           "diverging": [
            [
             0,
             "#8e0152"
            ],
            [
             0.1,
             "#c51b7d"
            ],
            [
             0.2,
             "#de77ae"
            ],
            [
             0.3,
             "#f1b6da"
            ],
            [
             0.4,
             "#fde0ef"
            ],
            [
             0.5,
             "#f7f7f7"
            ],
            [
             0.6,
             "#e6f5d0"
            ],
            [
             0.7,
             "#b8e186"
            ],
            [
             0.8,
             "#7fbc41"
            ],
            [
             0.9,
             "#4d9221"
            ],
            [
             1,
             "#276419"
            ]
           ],
           "sequential": [
            [
             0,
             "#0d0887"
            ],
            [
             0.1111111111111111,
             "#46039f"
            ],
            [
             0.2222222222222222,
             "#7201a8"
            ],
            [
             0.3333333333333333,
             "#9c179e"
            ],
            [
             0.4444444444444444,
             "#bd3786"
            ],
            [
             0.5555555555555556,
             "#d8576b"
            ],
            [
             0.6666666666666666,
             "#ed7953"
            ],
            [
             0.7777777777777778,
             "#fb9f3a"
            ],
            [
             0.8888888888888888,
             "#fdca26"
            ],
            [
             1,
             "#f0f921"
            ]
           ],
           "sequentialminus": [
            [
             0,
             "#0d0887"
            ],
            [
             0.1111111111111111,
             "#46039f"
            ],
            [
             0.2222222222222222,
             "#7201a8"
            ],
            [
             0.3333333333333333,
             "#9c179e"
            ],
            [
             0.4444444444444444,
             "#bd3786"
            ],
            [
             0.5555555555555556,
             "#d8576b"
            ],
            [
             0.6666666666666666,
             "#ed7953"
            ],
            [
             0.7777777777777778,
             "#fb9f3a"
            ],
            [
             0.8888888888888888,
             "#fdca26"
            ],
            [
             1,
             "#f0f921"
            ]
           ]
          },
          "colorway": [
           "#636efa",
           "#EF553B",
           "#00cc96",
           "#ab63fa",
           "#FFA15A",
           "#19d3f3",
           "#FF6692",
           "#B6E880",
           "#FF97FF",
           "#FECB52"
          ],
          "font": {
           "color": "#2a3f5f"
          },
          "geo": {
           "bgcolor": "white",
           "lakecolor": "white",
           "landcolor": "#E5ECF6",
           "showlakes": true,
           "showland": true,
           "subunitcolor": "white"
          },
          "hoverlabel": {
           "align": "left"
          },
          "hovermode": "closest",
          "mapbox": {
           "style": "light"
          },
          "paper_bgcolor": "white",
          "plot_bgcolor": "#E5ECF6",
          "polar": {
           "angularaxis": {
            "gridcolor": "white",
            "linecolor": "white",
            "ticks": ""
           },
           "bgcolor": "#E5ECF6",
           "radialaxis": {
            "gridcolor": "white",
            "linecolor": "white",
            "ticks": ""
           }
          },
          "scene": {
           "xaxis": {
            "backgroundcolor": "#E5ECF6",
            "gridcolor": "white",
            "gridwidth": 2,
            "linecolor": "white",
            "showbackground": true,
            "ticks": "",
            "zerolinecolor": "white"
           },
           "yaxis": {
            "backgroundcolor": "#E5ECF6",
            "gridcolor": "white",
            "gridwidth": 2,
            "linecolor": "white",
            "showbackground": true,
            "ticks": "",
            "zerolinecolor": "white"
           },
           "zaxis": {
            "backgroundcolor": "#E5ECF6",
            "gridcolor": "white",
            "gridwidth": 2,
            "linecolor": "white",
            "showbackground": true,
            "ticks": "",
            "zerolinecolor": "white"
           }
          },
          "shapedefaults": {
           "line": {
            "color": "#2a3f5f"
           }
          },
          "ternary": {
           "aaxis": {
            "gridcolor": "white",
            "linecolor": "white",
            "ticks": ""
           },
           "baxis": {
            "gridcolor": "white",
            "linecolor": "white",
            "ticks": ""
           },
           "bgcolor": "#E5ECF6",
           "caxis": {
            "gridcolor": "white",
            "linecolor": "white",
            "ticks": ""
           }
          },
          "title": {
           "x": 0.05
          },
          "xaxis": {
           "automargin": true,
           "gridcolor": "white",
           "linecolor": "white",
           "ticks": "",
           "title": {
            "standoff": 15
           },
           "zerolinecolor": "white",
           "zerolinewidth": 2
          },
          "yaxis": {
           "automargin": true,
           "gridcolor": "white",
           "linecolor": "white",
           "ticks": "",
           "title": {
            "standoff": 15
           },
           "zerolinecolor": "white",
           "zerolinewidth": 2
          }
         }
        },
        "uniformtext": {
         "minsize": 14,
         "mode": "hide"
        },
        "xaxis": {
         "anchor": "y",
         "categoryorder": "category ascending",
         "domain": [
          0,
          1
         ],
         "showgrid": false,
         "showticklabels": false,
         "title": {
          "text": "x"
         },
         "visible": false
        },
        "yaxis": {
         "anchor": "x",
         "domain": [
          0,
          1
         ],
         "showgrid": true,
         "title": {
          "text": "value"
         }
        }
       }
      }
     },
     "metadata": {},
     "output_type": "display_data"
    }
   ],
   "source": [
    "my_palette=[\"#29d4f7\",\"#FF5677\",\"#40f190\",\"#B958A5\",\"#f7c76f\",\"cadetblue\", \"saddlebrown\", \"darkslateblue\"]\n",
    "fig = px.bar(\n",
    "        sections.sort_values(by=\"total exports\", ascending=False),\n",
    "        x=sections.index,\n",
    "        y=[\"total exports\",\"total imports\"],\n",
    "        orientation='v',\n",
    "        color_discrete_sequence=my_palette,\n",
    "    )\n",
    "fig.update_layout(\n",
    "    {\n",
    "        \"plot_bgcolor\": \"rgba(138, 138, 138, 0)\",\n",
    "        \"paper_bgcolor\": \"rgba(138, 138, 138, 0)\",\n",
    "    },\n",
    "    font=dict(family=\"Lato, monospace\", size=12, color=\"#fff\"),\n",
    "    xaxis =  {                                     \n",
    "                                'showgrid': False\n",
    "                                        },\n",
    "                            yaxis = {                              \n",
    "                                'showgrid': True\n",
    "                                    }\n",
    ")\n",
    "fig.update_layout(\n",
    "    margin=dict(b=0))\n",
    "fig.update_traces(textfont_size=13, textangle=0, textposition=\"outside\", cliponaxis=False)\n",
    "fig.update_traces(texttemplate='%{text:.2s}', textposition='outside')\n",
    "fig.update_layout(uniformtext_minsize=14, uniformtext_mode='hide')\n",
    "fig.update_layout(barmode='stack', xaxis={'categoryorder':'category ascending'})\n",
    "fig.update_layout(xaxis={'visible': False, 'showticklabels': False})\n",
    "fig.show()"
   ]
  },
  {
   "cell_type": "markdown",
   "metadata": {},
   "source": [
    "### Data for draw a map"
   ]
  },
  {
   "cell_type": "markdown",
   "metadata": {},
   "source": [
    "we will need iso alpha-3 code (let's importa csv file containing every country(french name) and it's iso alpha-3)"
   ]
  },
  {
   "cell_type": "code",
   "execution_count": 41,
   "metadata": {},
   "outputs": [
    {
     "data": {
      "text/html": [
       "<div>\n",
       "<style scoped>\n",
       "    .dataframe tbody tr th:only-of-type {\n",
       "        vertical-align: middle;\n",
       "    }\n",
       "\n",
       "    .dataframe tbody tr th {\n",
       "        vertical-align: top;\n",
       "    }\n",
       "\n",
       "    .dataframe thead th {\n",
       "        text-align: right;\n",
       "    }\n",
       "</style>\n",
       "<table border=\"1\" class=\"dataframe\">\n",
       "  <thead>\n",
       "    <tr style=\"text-align: right;\">\n",
       "      <th></th>\n",
       "      <th>pays</th>\n",
       "      <th>iso_alpha3</th>\n",
       "    </tr>\n",
       "  </thead>\n",
       "  <tbody>\n",
       "    <tr>\n",
       "      <th>0</th>\n",
       "      <td>AFGHANISTAN</td>\n",
       "      <td>AFG</td>\n",
       "    </tr>\n",
       "    <tr>\n",
       "      <th>1</th>\n",
       "      <td>AFRIQUE DU SUD</td>\n",
       "      <td>ZAF</td>\n",
       "    </tr>\n",
       "    <tr>\n",
       "      <th>2</th>\n",
       "      <td>ALBANIE</td>\n",
       "      <td>ALB</td>\n",
       "    </tr>\n",
       "  </tbody>\n",
       "</table>\n",
       "</div>"
      ],
      "text/plain": [
       "             pays iso_alpha3\n",
       "0     AFGHANISTAN        AFG\n",
       "1  AFRIQUE DU SUD        ZAF\n",
       "2         ALBANIE        ALB"
      ]
     },
     "execution_count": 41,
     "metadata": {},
     "output_type": "execute_result"
    }
   ],
   "source": [
    "codes_pays=pd.read_csv(\"https://raw.githubusercontent.com/Hamid-abdellaoui/Morocco_Exchange_VIZ/master/Data/codes_pays.csv\",sep=\",\")\n",
    "codes_pays.head(3)"
   ]
  },
  {
   "cell_type": "markdown",
   "metadata": {},
   "source": [
    "To draw a map ( choropleth) we have to get a dataset for exportations and importations , we can do that by filetreing or grouping by 'Libellé de flux', unfortunately we cannot do that with our dataset since the number of import rows and export rows is differents (they can't be columns in same dataframe).\n",
    "So we will creat separately 2 Dataframes "
   ]
  },
  {
   "cell_type": "code",
   "execution_count": 42,
   "metadata": {},
   "outputs": [
    {
     "name": "stderr",
     "output_type": "stream",
     "text": [
      "C:\\Users\\hp\\AppData\\Local\\Temp/ipykernel_22124/1602612685.py:3: FutureWarning:\n",
      "\n",
      "In a future version of pandas all arguments of DataFrame.drop except for the argument 'labels' will be keyword-only\n",
      "\n",
      "C:\\Users\\hp\\AppData\\Local\\Programs\\Python\\Python38\\lib\\site-packages\\pandas\\core\\frame.py:4906: SettingWithCopyWarning:\n",
      "\n",
      "\n",
      "A value is trying to be set on a copy of a slice from a DataFrame\n",
      "\n",
      "See the caveats in the documentation: https://pandas.pydata.org/pandas-docs/stable/user_guide/indexing.html#returning-a-view-versus-a-copy\n",
      "\n",
      "C:\\Users\\hp\\AppData\\Local\\Temp/ipykernel_22124/1602612685.py:4: FutureWarning:\n",
      "\n",
      "In a future version of pandas all arguments of DataFrame.drop except for the argument 'labels' will be keyword-only\n",
      "\n"
     ]
    },
    {
     "data": {
      "text/html": [
       "<div>\n",
       "<style scoped>\n",
       "    .dataframe tbody tr th:only-of-type {\n",
       "        vertical-align: middle;\n",
       "    }\n",
       "\n",
       "    .dataframe tbody tr th {\n",
       "        vertical-align: top;\n",
       "    }\n",
       "\n",
       "    .dataframe thead th {\n",
       "        text-align: right;\n",
       "    }\n",
       "</style>\n",
       "<table border=\"1\" class=\"dataframe\">\n",
       "  <thead>\n",
       "    <tr style=\"text-align: right;\">\n",
       "      <th></th>\n",
       "      <th>Libellé du pays</th>\n",
       "      <th>Valeur DHS 2010</th>\n",
       "      <th>Valeur DHS 2011</th>\n",
       "      <th>Valeur DHS 2012</th>\n",
       "      <th>Valeur DHS 2013</th>\n",
       "      <th>Valeur DHS 2014</th>\n",
       "      <th>Valeur DHS 2015</th>\n",
       "      <th>Valeur DHS 2016</th>\n",
       "      <th>Valeur DHS 2017</th>\n",
       "      <th>Valeur DHS 2018</th>\n",
       "      <th>Valeur DHS 2019</th>\n",
       "      <th>Valeur DHS 2020</th>\n",
       "    </tr>\n",
       "  </thead>\n",
       "  <tbody>\n",
       "    <tr>\n",
       "      <th>2</th>\n",
       "      <td>ANDORRE</td>\n",
       "      <td>17000</td>\n",
       "      <td>0.0</td>\n",
       "      <td>1.132031e+06</td>\n",
       "      <td>3.086862e+06</td>\n",
       "      <td>6.370835e+06</td>\n",
       "      <td>7.754182e+06</td>\n",
       "      <td>7.308320e+06</td>\n",
       "      <td>5.987805e+06</td>\n",
       "      <td>6.375642e+06</td>\n",
       "      <td>6.127175e+06</td>\n",
       "      <td>3.778609e+06</td>\n",
       "    </tr>\n",
       "    <tr>\n",
       "      <th>10</th>\n",
       "      <td>EMIRATS ARABES UNIS</td>\n",
       "      <td>1259173840</td>\n",
       "      <td>741667974.0</td>\n",
       "      <td>4.931654e+08</td>\n",
       "      <td>4.322840e+08</td>\n",
       "      <td>5.882424e+08</td>\n",
       "      <td>5.366435e+08</td>\n",
       "      <td>9.631746e+08</td>\n",
       "      <td>9.328481e+08</td>\n",
       "      <td>4.943851e+08</td>\n",
       "      <td>8.604109e+08</td>\n",
       "      <td>8.737911e+08</td>\n",
       "    </tr>\n",
       "  </tbody>\n",
       "</table>\n",
       "</div>"
      ],
      "text/plain": [
       "        Libellé du pays  Valeur DHS 2010  Valeur DHS 2011  Valeur DHS 2012  \\\n",
       "2               ANDORRE            17000              0.0     1.132031e+06   \n",
       "10  EMIRATS ARABES UNIS       1259173840      741667974.0     4.931654e+08   \n",
       "\n",
       "    Valeur DHS 2013  Valeur DHS 2014  Valeur DHS 2015  Valeur DHS 2016  \\\n",
       "2      3.086862e+06     6.370835e+06     7.754182e+06     7.308320e+06   \n",
       "10     4.322840e+08     5.882424e+08     5.366435e+08     9.631746e+08   \n",
       "\n",
       "    Valeur DHS 2017  Valeur DHS 2018  Valeur DHS 2019  Valeur DHS 2020  \n",
       "2      5.987805e+06     6.375642e+06     6.127175e+06     3.778609e+06  \n",
       "10     9.328481e+08     4.943851e+08     8.604109e+08     8.737911e+08  "
      ]
     },
     "execution_count": 42,
     "metadata": {},
     "output_type": "execute_result"
    }
   ],
   "source": [
    "for_map0=annual[(annual['Libellé du flux']==\"Exportations FAB\")] # pour les exportations\n",
    "for_map1=annual[(annual['Libellé du flux']==\"Importations CAF\")] # pour les importations\n",
    "for_map0.drop('Libellé du flux',1,inplace=True)\n",
    "for_map1.drop('Libellé du flux',1,inplace=True)\n",
    "for_map0.head(2)"
   ]
  },
  {
   "cell_type": "code",
   "execution_count": 43,
   "metadata": {},
   "outputs": [
    {
     "data": {
      "text/html": [
       "<div>\n",
       "<style scoped>\n",
       "    .dataframe tbody tr th:only-of-type {\n",
       "        vertical-align: middle;\n",
       "    }\n",
       "\n",
       "    .dataframe tbody tr th {\n",
       "        vertical-align: top;\n",
       "    }\n",
       "\n",
       "    .dataframe thead th {\n",
       "        text-align: right;\n",
       "    }\n",
       "</style>\n",
       "<table border=\"1\" class=\"dataframe\">\n",
       "  <thead>\n",
       "    <tr style=\"text-align: right;\">\n",
       "      <th></th>\n",
       "      <th>Libellé du pays</th>\n",
       "      <th>Valeur DHS 2010</th>\n",
       "      <th>Valeur DHS 2011</th>\n",
       "      <th>Valeur DHS 2012</th>\n",
       "      <th>Valeur DHS 2013</th>\n",
       "      <th>Valeur DHS 2014</th>\n",
       "      <th>Valeur DHS 2015</th>\n",
       "      <th>Valeur DHS 2016</th>\n",
       "      <th>Valeur DHS 2017</th>\n",
       "      <th>Valeur DHS 2018</th>\n",
       "      <th>Valeur DHS 2019</th>\n",
       "      <th>Valeur DHS 2020</th>\n",
       "    </tr>\n",
       "  </thead>\n",
       "  <tbody>\n",
       "    <tr>\n",
       "      <th>6</th>\n",
       "      <td>ANDORRE</td>\n",
       "      <td>22162</td>\n",
       "      <td>1.015130e+05</td>\n",
       "      <td>1.262700e+04</td>\n",
       "      <td>3.052800e+04</td>\n",
       "      <td>6.468500e+04</td>\n",
       "      <td>1.431872e+06</td>\n",
       "      <td>1.038407e+06</td>\n",
       "      <td>3.561780e+05</td>\n",
       "      <td>1.218690e+05</td>\n",
       "      <td>7.419000e+03</td>\n",
       "      <td>1.450000e+02</td>\n",
       "    </tr>\n",
       "    <tr>\n",
       "      <th>8</th>\n",
       "      <td>EMIRATS ARABES UNIS</td>\n",
       "      <td>1644282647</td>\n",
       "      <td>2.460396e+09</td>\n",
       "      <td>4.508353e+09</td>\n",
       "      <td>2.572188e+09</td>\n",
       "      <td>3.605778e+09</td>\n",
       "      <td>5.314554e+09</td>\n",
       "      <td>6.509089e+09</td>\n",
       "      <td>5.069679e+09</td>\n",
       "      <td>7.686350e+09</td>\n",
       "      <td>8.720236e+09</td>\n",
       "      <td>4.850364e+09</td>\n",
       "    </tr>\n",
       "  </tbody>\n",
       "</table>\n",
       "</div>"
      ],
      "text/plain": [
       "       Libellé du pays  Valeur DHS 2010  Valeur DHS 2011  Valeur DHS 2012  \\\n",
       "6              ANDORRE            22162     1.015130e+05     1.262700e+04   \n",
       "8  EMIRATS ARABES UNIS       1644282647     2.460396e+09     4.508353e+09   \n",
       "\n",
       "   Valeur DHS 2013  Valeur DHS 2014  Valeur DHS 2015  Valeur DHS 2016  \\\n",
       "6     3.052800e+04     6.468500e+04     1.431872e+06     1.038407e+06   \n",
       "8     2.572188e+09     3.605778e+09     5.314554e+09     6.509089e+09   \n",
       "\n",
       "   Valeur DHS 2017  Valeur DHS 2018  Valeur DHS 2019  Valeur DHS 2020  \n",
       "6     3.561780e+05     1.218690e+05     7.419000e+03     1.450000e+02  \n",
       "8     5.069679e+09     7.686350e+09     8.720236e+09     4.850364e+09  "
      ]
     },
     "execution_count": 43,
     "metadata": {},
     "output_type": "execute_result"
    }
   ],
   "source": [
    "for_map1.head(2)"
   ]
  },
  {
   "cell_type": "markdown",
   "metadata": {},
   "source": [
    "when we filter some rows the index is no more a range of integers, let's set it again"
   ]
  },
  {
   "cell_type": "code",
   "execution_count": 44,
   "metadata": {},
   "outputs": [
    {
     "name": "stdout",
     "output_type": "stream",
     "text": [
      "(217, 12) (234, 12)\n"
     ]
    }
   ],
   "source": [
    "for_map0.index=range(len(for_map0))\n",
    "for_map1.index=range(len(for_map1))\n",
    "print(for_map0.shape, for_map1.shape)"
   ]
  },
  {
   "cell_type": "markdown",
   "metadata": {},
   "source": [
    "let's create a column for the mean of values between 2010 and 2020"
   ]
  },
  {
   "cell_type": "code",
   "execution_count": 45,
   "metadata": {},
   "outputs": [
    {
     "name": "stderr",
     "output_type": "stream",
     "text": [
      "C:\\Users\\hp\\AppData\\Local\\Temp/ipykernel_22124/2352766256.py:1: SettingWithCopyWarning:\n",
      "\n",
      "\n",
      "A value is trying to be set on a copy of a slice from a DataFrame.\n",
      "Try using .loc[row_indexer,col_indexer] = value instead\n",
      "\n",
      "See the caveats in the documentation: https://pandas.pydata.org/pandas-docs/stable/user_guide/indexing.html#returning-a-view-versus-a-copy\n",
      "\n",
      "C:\\Users\\hp\\AppData\\Local\\Temp/ipykernel_22124/2352766256.py:2: SettingWithCopyWarning:\n",
      "\n",
      "\n",
      "A value is trying to be set on a copy of a slice from a DataFrame.\n",
      "Try using .loc[row_indexer,col_indexer] = value instead\n",
      "\n",
      "See the caveats in the documentation: https://pandas.pydata.org/pandas-docs/stable/user_guide/indexing.html#returning-a-view-versus-a-copy\n",
      "\n"
     ]
    }
   ],
   "source": [
    "for_map0[\"Valeur moyen des exportations sur 10ans\"]=for_map0[for_map0.columns[1:]].mean(axis=1)\n",
    "for_map1[\"Valeur moyen des importations sur 10ans\"]=for_map1[for_map1.columns[1:]].mean(axis=1)"
   ]
  },
  {
   "cell_type": "code",
   "execution_count": 46,
   "metadata": {},
   "outputs": [
    {
     "data": {
      "text/html": [
       "<div>\n",
       "<style scoped>\n",
       "    .dataframe tbody tr th:only-of-type {\n",
       "        vertical-align: middle;\n",
       "    }\n",
       "\n",
       "    .dataframe tbody tr th {\n",
       "        vertical-align: top;\n",
       "    }\n",
       "\n",
       "    .dataframe thead th {\n",
       "        text-align: right;\n",
       "    }\n",
       "</style>\n",
       "<table border=\"1\" class=\"dataframe\">\n",
       "  <thead>\n",
       "    <tr style=\"text-align: right;\">\n",
       "      <th></th>\n",
       "      <th>Libellé du pays</th>\n",
       "      <th>Valeur DHS 2010</th>\n",
       "      <th>Valeur DHS 2011</th>\n",
       "      <th>Valeur DHS 2012</th>\n",
       "      <th>Valeur DHS 2013</th>\n",
       "      <th>Valeur DHS 2014</th>\n",
       "      <th>Valeur DHS 2015</th>\n",
       "      <th>Valeur DHS 2016</th>\n",
       "      <th>Valeur DHS 2017</th>\n",
       "      <th>Valeur DHS 2018</th>\n",
       "      <th>Valeur DHS 2019</th>\n",
       "      <th>Valeur DHS 2020</th>\n",
       "      <th>Valeur moyen des exportations sur 10ans</th>\n",
       "    </tr>\n",
       "  </thead>\n",
       "  <tbody>\n",
       "    <tr>\n",
       "      <th>0</th>\n",
       "      <td>ANDORRE</td>\n",
       "      <td>17000</td>\n",
       "      <td>0.0</td>\n",
       "      <td>1.132031e+06</td>\n",
       "      <td>3.086862e+06</td>\n",
       "      <td>6.370835e+06</td>\n",
       "      <td>7.754182e+06</td>\n",
       "      <td>7.308320e+06</td>\n",
       "      <td>5.987805e+06</td>\n",
       "      <td>6.375642e+06</td>\n",
       "      <td>6.127175e+06</td>\n",
       "      <td>3.778609e+06</td>\n",
       "      <td>4.358042e+06</td>\n",
       "    </tr>\n",
       "    <tr>\n",
       "      <th>1</th>\n",
       "      <td>EMIRATS ARABES UNIS</td>\n",
       "      <td>1259173840</td>\n",
       "      <td>741667974.0</td>\n",
       "      <td>4.931654e+08</td>\n",
       "      <td>4.322840e+08</td>\n",
       "      <td>5.882424e+08</td>\n",
       "      <td>5.366435e+08</td>\n",
       "      <td>9.631746e+08</td>\n",
       "      <td>9.328481e+08</td>\n",
       "      <td>4.943851e+08</td>\n",
       "      <td>8.604109e+08</td>\n",
       "      <td>8.737911e+08</td>\n",
       "      <td>7.432534e+08</td>\n",
       "    </tr>\n",
       "  </tbody>\n",
       "</table>\n",
       "</div>"
      ],
      "text/plain": [
       "       Libellé du pays  Valeur DHS 2010  Valeur DHS 2011  Valeur DHS 2012  \\\n",
       "0              ANDORRE            17000              0.0     1.132031e+06   \n",
       "1  EMIRATS ARABES UNIS       1259173840      741667974.0     4.931654e+08   \n",
       "\n",
       "   Valeur DHS 2013  Valeur DHS 2014  Valeur DHS 2015  Valeur DHS 2016  \\\n",
       "0     3.086862e+06     6.370835e+06     7.754182e+06     7.308320e+06   \n",
       "1     4.322840e+08     5.882424e+08     5.366435e+08     9.631746e+08   \n",
       "\n",
       "   Valeur DHS 2017  Valeur DHS 2018  Valeur DHS 2019  Valeur DHS 2020  \\\n",
       "0     5.987805e+06     6.375642e+06     6.127175e+06     3.778609e+06   \n",
       "1     9.328481e+08     4.943851e+08     8.604109e+08     8.737911e+08   \n",
       "\n",
       "   Valeur moyen des exportations sur 10ans  \n",
       "0                             4.358042e+06  \n",
       "1                             7.432534e+08  "
      ]
     },
     "execution_count": 46,
     "metadata": {},
     "output_type": "execute_result"
    }
   ],
   "source": [
    "for_map0.head(2)"
   ]
  },
  {
   "cell_type": "markdown",
   "metadata": {},
   "source": [
    "droping the useless cols"
   ]
  },
  {
   "cell_type": "code",
   "execution_count": 47,
   "metadata": {},
   "outputs": [
    {
     "name": "stderr",
     "output_type": "stream",
     "text": [
      "C:\\Users\\hp\\AppData\\Local\\Temp/ipykernel_22124/2507984823.py:1: FutureWarning:\n",
      "\n",
      "In a future version of pandas all arguments of DataFrame.drop except for the argument 'labels' will be keyword-only\n",
      "\n",
      "C:\\Users\\hp\\AppData\\Local\\Programs\\Python\\Python38\\lib\\site-packages\\pandas\\core\\frame.py:4906: SettingWithCopyWarning:\n",
      "\n",
      "\n",
      "A value is trying to be set on a copy of a slice from a DataFrame\n",
      "\n",
      "See the caveats in the documentation: https://pandas.pydata.org/pandas-docs/stable/user_guide/indexing.html#returning-a-view-versus-a-copy\n",
      "\n"
     ]
    },
    {
     "data": {
      "text/html": [
       "<div>\n",
       "<style scoped>\n",
       "    .dataframe tbody tr th:only-of-type {\n",
       "        vertical-align: middle;\n",
       "    }\n",
       "\n",
       "    .dataframe tbody tr th {\n",
       "        vertical-align: top;\n",
       "    }\n",
       "\n",
       "    .dataframe thead th {\n",
       "        text-align: right;\n",
       "    }\n",
       "</style>\n",
       "<table border=\"1\" class=\"dataframe\">\n",
       "  <thead>\n",
       "    <tr style=\"text-align: right;\">\n",
       "      <th></th>\n",
       "      <th>Libellé du pays</th>\n",
       "      <th>Valeur moyen des exportations sur 10ans</th>\n",
       "    </tr>\n",
       "  </thead>\n",
       "  <tbody>\n",
       "    <tr>\n",
       "      <th>0</th>\n",
       "      <td>ANDORRE</td>\n",
       "      <td>4.358042e+06</td>\n",
       "    </tr>\n",
       "    <tr>\n",
       "      <th>1</th>\n",
       "      <td>EMIRATS ARABES UNIS</td>\n",
       "      <td>7.432534e+08</td>\n",
       "    </tr>\n",
       "  </tbody>\n",
       "</table>\n",
       "</div>"
      ],
      "text/plain": [
       "       Libellé du pays  Valeur moyen des exportations sur 10ans\n",
       "0              ANDORRE                             4.358042e+06\n",
       "1  EMIRATS ARABES UNIS                             7.432534e+08"
      ]
     },
     "execution_count": 47,
     "metadata": {},
     "output_type": "execute_result"
    }
   ],
   "source": [
    "for_map0.drop(for_map0.columns[1:12],1,inplace=True)\n",
    "for_map0.head(2)"
   ]
  },
  {
   "cell_type": "markdown",
   "metadata": {},
   "source": [
    "the same with importations dataset"
   ]
  },
  {
   "cell_type": "code",
   "execution_count": 48,
   "metadata": {},
   "outputs": [
    {
     "name": "stderr",
     "output_type": "stream",
     "text": [
      "C:\\Users\\hp\\AppData\\Local\\Temp/ipykernel_22124/2892676510.py:1: FutureWarning:\n",
      "\n",
      "In a future version of pandas all arguments of DataFrame.drop except for the argument 'labels' will be keyword-only\n",
      "\n",
      "C:\\Users\\hp\\AppData\\Local\\Programs\\Python\\Python38\\lib\\site-packages\\pandas\\core\\frame.py:4906: SettingWithCopyWarning:\n",
      "\n",
      "\n",
      "A value is trying to be set on a copy of a slice from a DataFrame\n",
      "\n",
      "See the caveats in the documentation: https://pandas.pydata.org/pandas-docs/stable/user_guide/indexing.html#returning-a-view-versus-a-copy\n",
      "\n"
     ]
    },
    {
     "data": {
      "text/html": [
       "<div>\n",
       "<style scoped>\n",
       "    .dataframe tbody tr th:only-of-type {\n",
       "        vertical-align: middle;\n",
       "    }\n",
       "\n",
       "    .dataframe tbody tr th {\n",
       "        vertical-align: top;\n",
       "    }\n",
       "\n",
       "    .dataframe thead th {\n",
       "        text-align: right;\n",
       "    }\n",
       "</style>\n",
       "<table border=\"1\" class=\"dataframe\">\n",
       "  <thead>\n",
       "    <tr style=\"text-align: right;\">\n",
       "      <th></th>\n",
       "      <th>Libellé du pays</th>\n",
       "      <th>Valeur moyen des importations sur 10ans</th>\n",
       "    </tr>\n",
       "  </thead>\n",
       "  <tbody>\n",
       "    <tr>\n",
       "      <th>0</th>\n",
       "      <td>ANDORRE</td>\n",
       "      <td>2.897641e+05</td>\n",
       "    </tr>\n",
       "    <tr>\n",
       "      <th>1</th>\n",
       "      <td>EMIRATS ARABES UNIS</td>\n",
       "      <td>4.812843e+09</td>\n",
       "    </tr>\n",
       "  </tbody>\n",
       "</table>\n",
       "</div>"
      ],
      "text/plain": [
       "       Libellé du pays  Valeur moyen des importations sur 10ans\n",
       "0              ANDORRE                             2.897641e+05\n",
       "1  EMIRATS ARABES UNIS                             4.812843e+09"
      ]
     },
     "execution_count": 48,
     "metadata": {},
     "output_type": "execute_result"
    }
   ],
   "source": [
    "for_map1.drop(for_map1.columns[1:12],1,inplace=True)\n",
    "for_map1.head(2)"
   ]
  },
  {
   "cell_type": "markdown",
   "metadata": {},
   "source": [
    "we will creat a new column to fill it by the ISO Alpha 3 ( each country have a specific code), this code will serve for drawing the map"
   ]
  },
  {
   "cell_type": "code",
   "execution_count": 49,
   "metadata": {},
   "outputs": [
    {
     "name": "stderr",
     "output_type": "stream",
     "text": [
      "C:\\Users\\hp\\AppData\\Local\\Temp/ipykernel_22124/2716891494.py:1: SettingWithCopyWarning:\n",
      "\n",
      "\n",
      "A value is trying to be set on a copy of a slice from a DataFrame.\n",
      "Try using .loc[row_indexer,col_indexer] = value instead\n",
      "\n",
      "See the caveats in the documentation: https://pandas.pydata.org/pandas-docs/stable/user_guide/indexing.html#returning-a-view-versus-a-copy\n",
      "\n",
      "C:\\Users\\hp\\AppData\\Local\\Temp/ipykernel_22124/2716891494.py:2: SettingWithCopyWarning:\n",
      "\n",
      "\n",
      "A value is trying to be set on a copy of a slice from a DataFrame.\n",
      "Try using .loc[row_indexer,col_indexer] = value instead\n",
      "\n",
      "See the caveats in the documentation: https://pandas.pydata.org/pandas-docs/stable/user_guide/indexing.html#returning-a-view-versus-a-copy\n",
      "\n"
     ]
    }
   ],
   "source": [
    "for_map1['alpha-3']='newcol'\n",
    "for_map0['alpha-3']='newcol'"
   ]
  },
  {
   "cell_type": "code",
   "execution_count": 50,
   "metadata": {},
   "outputs": [
    {
     "data": {
      "text/html": [
       "<div>\n",
       "<style scoped>\n",
       "    .dataframe tbody tr th:only-of-type {\n",
       "        vertical-align: middle;\n",
       "    }\n",
       "\n",
       "    .dataframe tbody tr th {\n",
       "        vertical-align: top;\n",
       "    }\n",
       "\n",
       "    .dataframe thead th {\n",
       "        text-align: right;\n",
       "    }\n",
       "</style>\n",
       "<table border=\"1\" class=\"dataframe\">\n",
       "  <thead>\n",
       "    <tr style=\"text-align: right;\">\n",
       "      <th></th>\n",
       "      <th>Libellé du pays</th>\n",
       "      <th>Valeur moyen des importations sur 10ans</th>\n",
       "      <th>alpha-3</th>\n",
       "    </tr>\n",
       "  </thead>\n",
       "  <tbody>\n",
       "    <tr>\n",
       "      <th>0</th>\n",
       "      <td>ANDORRE</td>\n",
       "      <td>2.897641e+05</td>\n",
       "      <td>newcol</td>\n",
       "    </tr>\n",
       "    <tr>\n",
       "      <th>1</th>\n",
       "      <td>EMIRATS ARABES UNIS</td>\n",
       "      <td>4.812843e+09</td>\n",
       "      <td>newcol</td>\n",
       "    </tr>\n",
       "    <tr>\n",
       "      <th>2</th>\n",
       "      <td>AFGHANISTAN</td>\n",
       "      <td>5.846716e+05</td>\n",
       "      <td>newcol</td>\n",
       "    </tr>\n",
       "    <tr>\n",
       "      <th>3</th>\n",
       "      <td>ANTIGUA ET BARBUDA</td>\n",
       "      <td>2.217273e+02</td>\n",
       "      <td>newcol</td>\n",
       "    </tr>\n",
       "    <tr>\n",
       "      <th>4</th>\n",
       "      <td>ANGUILLA</td>\n",
       "      <td>9.638182e+02</td>\n",
       "      <td>newcol</td>\n",
       "    </tr>\n",
       "  </tbody>\n",
       "</table>\n",
       "</div>"
      ],
      "text/plain": [
       "       Libellé du pays  Valeur moyen des importations sur 10ans alpha-3\n",
       "0              ANDORRE                             2.897641e+05  newcol\n",
       "1  EMIRATS ARABES UNIS                             4.812843e+09  newcol\n",
       "2          AFGHANISTAN                             5.846716e+05  newcol\n",
       "3   ANTIGUA ET BARBUDA                             2.217273e+02  newcol\n",
       "4             ANGUILLA                             9.638182e+02  newcol"
      ]
     },
     "execution_count": 50,
     "metadata": {},
     "output_type": "execute_result"
    }
   ],
   "source": [
    "for_map1.head()"
   ]
  },
  {
   "cell_type": "markdown",
   "metadata": {},
   "source": [
    "CHECHING to access the country name we should apply \n",
    "```\n",
    "values()\n",
    "```"
   ]
  },
  {
   "cell_type": "code",
   "execution_count": 51,
   "metadata": {},
   "outputs": [
    {
     "name": "stdout",
     "output_type": "stream",
     "text": [
      "EMIRATS ARABES UNIS \n",
      " EMIRATS ARABES UNIS\n"
     ]
    }
   ],
   "source": [
    "print(for_map0['Libellé du pays'].values[1],'\\n',\n",
    "      for_map1['Libellé du pays'].values[1])"
   ]
  },
  {
   "cell_type": "markdown",
   "metadata": {},
   "source": [
    "let's try getting the iso alpha "
   ]
  },
  {
   "cell_type": "code",
   "execution_count": 52,
   "metadata": {},
   "outputs": [
    {
     "data": {
      "text/plain": [
       "52    ARE\n",
       "Name: iso_alpha3, dtype: object"
      ]
     },
     "execution_count": 52,
     "metadata": {},
     "output_type": "execute_result"
    }
   ],
   "source": [
    "codes_pays[(codes_pays[\"pays\"]=='EMIRATS ARABES UNIS')]['iso_alpha3']"
   ]
  },
  {
   "cell_type": "markdown",
   "metadata": {},
   "source": [
    "let's try to assign this isoalpha in the correspondant columns "
   ]
  },
  {
   "cell_type": "code",
   "execution_count": 53,
   "metadata": {},
   "outputs": [
    {
     "name": "stderr",
     "output_type": "stream",
     "text": [
      "C:\\Users\\hp\\AppData\\Local\\Temp/ipykernel_22124/2996819866.py:1: SettingWithCopyWarning:\n",
      "\n",
      "\n",
      "A value is trying to be set on a copy of a slice from a DataFrame\n",
      "\n",
      "See the caveats in the documentation: https://pandas.pydata.org/pandas-docs/stable/user_guide/indexing.html#returning-a-view-versus-a-copy\n",
      "\n",
      "C:\\Users\\hp\\AppData\\Local\\Temp/ipykernel_22124/2996819866.py:2: SettingWithCopyWarning:\n",
      "\n",
      "\n",
      "A value is trying to be set on a copy of a slice from a DataFrame\n",
      "\n",
      "See the caveats in the documentation: https://pandas.pydata.org/pandas-docs/stable/user_guide/indexing.html#returning-a-view-versus-a-copy\n",
      "\n"
     ]
    }
   ],
   "source": [
    "for_map0['alpha-3'][1]=codes_pays[(codes_pays[\"pays\"]==for_map0['Libellé du pays'].values[1])]['iso_alpha3'].values[0]\n",
    "for_map1['alpha-3'][1]=codes_pays[(codes_pays[\"pays\"]==for_map1['Libellé du pays'].values[1])]['iso_alpha3'].values[0]"
   ]
  },
  {
   "cell_type": "markdown",
   "metadata": {},
   "source": [
    "let's check"
   ]
  },
  {
   "cell_type": "code",
   "execution_count": 54,
   "metadata": {},
   "outputs": [
    {
     "name": "stdout",
     "output_type": "stream",
     "text": [
      "importations        Libellé du pays  Valeur moyen des importations sur 10ans alpha-3\n",
      "0              ANDORRE                             2.897641e+05  newcol\n",
      "1  EMIRATS ARABES UNIS                             4.812843e+09     ARE\n",
      "2          AFGHANISTAN                             5.846716e+05  newcol \n",
      " exportations        Libellé du pays  Valeur moyen des exportations sur 10ans alpha-3\n",
      "0              ANDORRE                             4.358042e+06  newcol\n",
      "1  EMIRATS ARABES UNIS                             7.432534e+08     ARE\n",
      "2          AFGHANISTAN                             3.592146e+06  newcol \n",
      "\n"
     ]
    }
   ],
   "source": [
    "print('importations',for_map1[:3][:],'\\n','exportations',for_map0[:3][:],'\\n')"
   ]
  },
  {
   "cell_type": "markdown",
   "metadata": {},
   "source": [
    "well done! , in next cell i'll create a function to fill all iso alpha rows"
   ]
  },
  {
   "cell_type": "code",
   "execution_count": 55,
   "metadata": {},
   "outputs": [],
   "source": [
    "def fill_iso_alpha(for_map):\n",
    "    for i in range(len(for_map)):\n",
    "        x=codes_pays[(codes_pays[\"pays\"]==for_map['Libellé du pays'].values[i])]['iso_alpha3']\n",
    "        if(len(x)!=0):\n",
    "            for_map['alpha-3'][i]=codes_pays[(codes_pays[\"pays\"]==for_map['Libellé du pays'].values[i])]['iso_alpha3'].values[0]\n",
    "        else:\n",
    "            for_map['alpha-3'][i]=np.nan"
   ]
  },
  {
   "cell_type": "code",
   "execution_count": 56,
   "metadata": {},
   "outputs": [
    {
     "name": "stderr",
     "output_type": "stream",
     "text": [
      "C:\\Users\\hp\\AppData\\Local\\Temp/ipykernel_22124/43814572.py:5: SettingWithCopyWarning:\n",
      "\n",
      "\n",
      "A value is trying to be set on a copy of a slice from a DataFrame\n",
      "\n",
      "See the caveats in the documentation: https://pandas.pydata.org/pandas-docs/stable/user_guide/indexing.html#returning-a-view-versus-a-copy\n",
      "\n",
      "C:\\Users\\hp\\AppData\\Local\\Temp/ipykernel_22124/43814572.py:7: SettingWithCopyWarning:\n",
      "\n",
      "\n",
      "A value is trying to be set on a copy of a slice from a DataFrame\n",
      "\n",
      "See the caveats in the documentation: https://pandas.pydata.org/pandas-docs/stable/user_guide/indexing.html#returning-a-view-versus-a-copy\n",
      "\n"
     ]
    }
   ],
   "source": [
    "fill_iso_alpha(for_map0)\n",
    "fill_iso_alpha(for_map1)"
   ]
  },
  {
   "cell_type": "markdown",
   "metadata": {},
   "source": [
    "let's have a look"
   ]
  },
  {
   "cell_type": "code",
   "execution_count": 57,
   "metadata": {},
   "outputs": [
    {
     "data": {
      "text/html": [
       "<div>\n",
       "<style scoped>\n",
       "    .dataframe tbody tr th:only-of-type {\n",
       "        vertical-align: middle;\n",
       "    }\n",
       "\n",
       "    .dataframe tbody tr th {\n",
       "        vertical-align: top;\n",
       "    }\n",
       "\n",
       "    .dataframe thead th {\n",
       "        text-align: right;\n",
       "    }\n",
       "</style>\n",
       "<table border=\"1\" class=\"dataframe\">\n",
       "  <thead>\n",
       "    <tr style=\"text-align: right;\">\n",
       "      <th></th>\n",
       "      <th>Libellé du pays</th>\n",
       "      <th>Valeur moyen des exportations sur 10ans</th>\n",
       "      <th>alpha-3</th>\n",
       "    </tr>\n",
       "  </thead>\n",
       "  <tbody>\n",
       "    <tr>\n",
       "      <th>0</th>\n",
       "      <td>ANDORRE</td>\n",
       "      <td>4.358042e+06</td>\n",
       "      <td>AND</td>\n",
       "    </tr>\n",
       "    <tr>\n",
       "      <th>1</th>\n",
       "      <td>EMIRATS ARABES UNIS</td>\n",
       "      <td>7.432534e+08</td>\n",
       "      <td>ARE</td>\n",
       "    </tr>\n",
       "    <tr>\n",
       "      <th>2</th>\n",
       "      <td>AFGHANISTAN</td>\n",
       "      <td>3.592146e+06</td>\n",
       "      <td>AFG</td>\n",
       "    </tr>\n",
       "    <tr>\n",
       "      <th>3</th>\n",
       "      <td>ANTIGUA ET BARBUDA</td>\n",
       "      <td>3.768104e+05</td>\n",
       "      <td>ATG</td>\n",
       "    </tr>\n",
       "    <tr>\n",
       "      <th>4</th>\n",
       "      <td>ANGUILLA</td>\n",
       "      <td>1.072427e+05</td>\n",
       "      <td>NaN</td>\n",
       "    </tr>\n",
       "  </tbody>\n",
       "</table>\n",
       "</div>"
      ],
      "text/plain": [
       "       Libellé du pays  Valeur moyen des exportations sur 10ans alpha-3\n",
       "0              ANDORRE                             4.358042e+06     AND\n",
       "1  EMIRATS ARABES UNIS                             7.432534e+08     ARE\n",
       "2          AFGHANISTAN                             3.592146e+06     AFG\n",
       "3   ANTIGUA ET BARBUDA                             3.768104e+05     ATG\n",
       "4             ANGUILLA                             1.072427e+05     NaN"
      ]
     },
     "execution_count": 57,
     "metadata": {},
     "output_type": "execute_result"
    }
   ],
   "source": [
    "for_map0.head()"
   ]
  },
  {
   "cell_type": "code",
   "execution_count": 58,
   "metadata": {},
   "outputs": [
    {
     "data": {
      "text/plain": [
       "Libellé du pays                            0\n",
       "Valeur moyen des exportations sur 10ans    0\n",
       "alpha-3                                    9\n",
       "dtype: int64"
      ]
     },
     "execution_count": 58,
     "metadata": {},
     "output_type": "execute_result"
    }
   ],
   "source": [
    "for_map0.isnull().sum()"
   ]
  },
  {
   "cell_type": "code",
   "execution_count": 59,
   "metadata": {},
   "outputs": [
    {
     "data": {
      "text/plain": [
       "Libellé du pays                             0\n",
       "Valeur moyen des importations sur 10ans     0\n",
       "alpha-3                                    17\n",
       "dtype: int64"
      ]
     },
     "execution_count": 59,
     "metadata": {},
     "output_type": "execute_result"
    }
   ],
   "source": [
    "for_map1.isnull().sum()"
   ]
  },
  {
   "cell_type": "markdown",
   "metadata": {},
   "source": [
    "oups! it bsems we have some messing data in iso alpha code (the represent 'autres pays '), we have nothing to do in this sense to replace them, so we will delete them :'("
   ]
  },
  {
   "cell_type": "code",
   "execution_count": 60,
   "metadata": {},
   "outputs": [
    {
     "name": "stderr",
     "output_type": "stream",
     "text": [
      "C:\\Users\\hp\\AppData\\Local\\Programs\\Python\\Python38\\lib\\site-packages\\pandas\\util\\_decorators.py:311: SettingWithCopyWarning:\n",
      "\n",
      "\n",
      "A value is trying to be set on a copy of a slice from a DataFrame\n",
      "\n",
      "See the caveats in the documentation: https://pandas.pydata.org/pandas-docs/stable/user_guide/indexing.html#returning-a-view-versus-a-copy\n",
      "\n"
     ]
    }
   ],
   "source": [
    "for_map0.dropna(inplace=True)\n",
    "for_map1.dropna(inplace=True)"
   ]
  },
  {
   "cell_type": "markdown",
   "metadata": {},
   "source": [
    "AND FINALLY LET'S SAVE THOSE READY DATASETS AS CSV FOR USING LATER IN THE APP "
   ]
  },
  {
   "cell_type": "code",
   "execution_count": 61,
   "metadata": {},
   "outputs": [],
   "source": [
    "for_map0.to_csv('for_map0.csv',index=False)\n",
    "for_map1.to_csv('for_map1.csv',index=False)"
   ]
  },
  {
   "cell_type": "markdown",
   "metadata": {},
   "source": [
    "I will test to plot a map from the first datasqet"
   ]
  },
  {
   "cell_type": "code",
   "execution_count": 62,
   "metadata": {},
   "outputs": [
    {
     "data": {
      "application/vnd.plotly.v1+json": {
       "config": {
        "plotlyServerURL": "https://plot.ly"
       },
       "data": [
        {
         "autocolorscale": false,
         "colorbar": {
          "tickprefix": "dh ",
          "title": {
           "text": "Exportation en Dh"
          }
         },
         "colorscale": [
          [
           0,
           "#99004d"
          ],
          [
           0.3333333333333333,
           "#ff3287"
          ],
          [
           0.6666666666666666,
           "#fc76c4"
          ],
          [
           1,
           "#ca89bd"
          ]
         ],
         "locations": [
          "AND",
          "ARE",
          "AFG",
          "ATG",
          "ALB",
          "ARM",
          "ANT",
          "AGO",
          "ARG",
          "AUT",
          "AUS",
          "ABW",
          "AZE",
          "BIH",
          "BRB",
          "BGD",
          "BEL",
          "BFA",
          "BGR",
          "BHR",
          "BDI",
          "BEN",
          "BMU",
          "BRN",
          "BOL",
          "BRA",
          "BHS",
          "BWA",
          "BLR",
          "BLZ",
          "CAN",
          "COD",
          "CAF",
          "COG",
          "CHE",
          "CIV",
          "CHL",
          "CMR",
          "CHN",
          "COL",
          "CRI",
          "CUB",
          "CPV",
          "CUW",
          "CYP",
          "CZE",
          "DEU",
          "DJI",
          "DNK",
          "DMA",
          "DOM",
          "DZA",
          "ECU",
          "EST",
          "EGY",
          "ERI",
          "ESP",
          "ETH",
          "FIN",
          "FJI",
          "FRA",
          "GAB",
          "GBR",
          "GRD",
          "GEO",
          "GUF",
          "GHA",
          "GIB",
          "GMB",
          "GIN",
          "GLP",
          "GNQ",
          "GRC",
          "SGS",
          "GTM",
          "GNB",
          "GUY",
          "HKG",
          "HND",
          "HRV",
          "HTI",
          "HUN",
          "IDN",
          "IRL",
          "IND",
          "IRQ",
          "IRN",
          "ISL",
          "ITA",
          "JEY",
          "JAM",
          "JOR",
          "JPN",
          "KEN",
          "KGZ",
          "KHM",
          "COM",
          "KNA",
          "PRK",
          "KOR",
          "KWT",
          "CYM",
          "KAZ",
          "LAO",
          "LBN",
          "LCA",
          "LIE",
          "LKA",
          "LBR",
          "LSO",
          "LTU",
          "LUX",
          "LVA",
          "LBY",
          "MCO",
          "MDA",
          "MNE",
          "MDG",
          "MHL",
          "MKD",
          "MLI",
          "MMR",
          "MNG",
          "MAC",
          "MNP",
          "MTQ",
          "MRT",
          "MLT",
          "MUS",
          "MDV",
          "MWI",
          "MEX",
          "MYS",
          "MOZ",
          "NAM",
          "NCL",
          "NER",
          "NGA",
          "NIC",
          "NLD",
          "NOR",
          "NPL",
          "NZL",
          "OMN",
          "PAN",
          "PER",
          "PYF",
          "PNG",
          "PHL",
          "PAK",
          "POL",
          "PRI",
          "PSE",
          "PRT",
          "PRY",
          "QAT",
          "REU",
          "ROU",
          "SRB",
          "RUS",
          "RWA",
          "SAU",
          "SYC",
          "SDN",
          "SWE",
          "SGP",
          "SHN",
          "SVN",
          "SVK",
          "SLE",
          "SMR",
          "SEN",
          "SOM",
          "SUR",
          "STP",
          "SLV",
          "SXM",
          "SYR",
          "SWZ",
          "TCD",
          "TGO",
          "THA",
          "TJK",
          "TKM",
          "TUN",
          "TON",
          "TUR",
          "TTO",
          "TWN",
          "TZA",
          "UKR",
          "UGA",
          "USA",
          "URY",
          "UZB",
          "VAT",
          "VCT",
          "VEN",
          "VNM",
          "VUT",
          "WLF",
          "KOS",
          "YEM",
          "MYT",
          "YUG",
          "ZAF",
          "ZMB",
          "ZWE"
         ],
         "marker": {
          "line": {
           "color": "white",
           "width": 1
          }
         },
         "reversescale": true,
         "text": [
          "ANDORRE",
          "EMIRATS ARABES UNIS",
          "AFGHANISTAN",
          "ANTIGUA ET BARBUDA",
          "ALBANIE",
          "ARMENIE",
          "ANTILLES NEERLANDAIS",
          "ANGOLA",
          "ARGENTINE",
          "AUTRICHE",
          "AUSTRALIE",
          "ARUBA",
          "AZERBAIDJAN",
          "BOSNIE-HERZEGOVINE",
          "BARBADE",
          "BANGLADESH",
          "BELGIQUE",
          "BURKINA FASO",
          "BULGARIE",
          "BAHREIN",
          "BURUNDI",
          "BENIN",
          "BERMUDES",
          "BRUNEI DARUSSALAM",
          "L'ETAT PLURINATIONAL DE BOLIVIE",
          "BRESIL",
          "BAHAMAS",
          "BOTSWANA",
          "BELARUS",
          "BELIZE",
          "CANADA",
          "LA REPUBLIQUE DEMOCRATIQUE DU CONGO",
          "REPUBLIQUE CENTRAFRICAINE",
          "CONGO",
          "SUISSE",
          "COTE D'IVOIRE",
          "CHILI",
          "CAMEROUN",
          "CHINE",
          "COLOMBIE",
          "COSTA RICA",
          "CUBA",
          "CAP-VERT",
          "CURACAO",
          "CHYPRE",
          "REPUBLIQUE TCHEQUE",
          "ALLEMAGNE",
          "DJIBOUTI",
          "DANEMARK",
          "DOMINIQUE",
          "REPUBLIQUE DOMINICAINE",
          "ALGERIE",
          "EQUATEUR",
          "ESTONIE",
          "EGYPTE",
          "ERYTHREE",
          "ESPAGNE",
          "ETHIOPIE",
          "FINLANDE",
          "FIDJI",
          "FRANCE",
          "GABON",
          "ROYAUME-UNI",
          "GRENADE",
          "GEORGIE",
          "GUYANE FRANCAISE",
          "GHANA",
          "GIBRALTAR",
          "GAMBIE",
          "GUINEE",
          "GUADELOUPE",
          "GUINEE EQUATORIALE",
          "GRECE",
          "GEORGIE DU SUD ET LES ILES SANDWICH DU SUD",
          "GUATEMALA",
          "GUINEE-BISSAU",
          "GUYANA",
          "HONG KONG",
          "HONDURAS",
          "CROATIE",
          "HAITI",
          "HONGRIE",
          "INDONESIE",
          "IRLANDE",
          "INDE",
          "IRAQ",
          "REPUBLIQUE ISLAMIQUE D'IRAN",
          "ISLANDE",
          "ITALIE",
          "JERSEY",
          "JAMAIQUE",
          "JORDANIE",
          "JAPON",
          "KENYA",
          "KIRGHIZISTAN",
          "CAMBODGE",
          "COMORES",
          "SAINT-KITTS-ET-NEVIS",
          "REPUBLIQUE POPULAIRE DEMOCRATIQUE DE COREE",
          "REPUBLIQUE DE COREE",
          "KOWEIT",
          "ILES CAIMANES",
          "KAZAKHSTAN",
          "REPUBLIQUE DEMOCRATIQUE POPULAIRE LAO",
          "LIBAN",
          "SAINTE-LUCIE",
          "LIECHTENSTEIN",
          "SRI LANKA",
          "LIBERIA",
          "LESOTHO",
          "LITUANIE",
          "LUXEMBOURG",
          "LETTONIE",
          "LIBYE",
          "MONACO",
          "REPUBLIQUE DE MOLDOVA",
          "MONTENEGRO",
          "MADAGASCAR",
          "ILES MARSHALL",
          "MACEDOINE",
          "MALI",
          "MYANMAR",
          "MONGOLIE",
          "MACAO",
          "ILES MARIANNES DU NORD",
          "MARTINIQUE",
          "MAURITANIE",
          "MALTE",
          "MAURICE",
          "MALDIVES",
          "MALAWI",
          "MEXIQUE",
          "MALAISIE",
          "MOZAMBIQUE",
          "NAMIBIE",
          "NOUVELLE-CALEDONIE",
          "NIGER",
          "NIGERIA",
          "NICARAGUA",
          "PAYS-BAS",
          "NORVEGE",
          "NEPAL",
          "NOUVELLE-ZELANDE",
          "OMAN",
          "PANAMA",
          "PEROU",
          "POLYNESIE FRANCAISE",
          "PAPOUASIE-NOUVELLE-GUINEE",
          "PHILIPPINES",
          "PAKISTAN",
          "POLOGNE",
          "PORTO RICO",
          "TERRITOIRE PALESTINIEN OCCUPE",
          "PORTUGAL",
          "PARAGUAY",
          "QATAR",
          "REUNION",
          "ROUMANIE",
          "SERBIE",
          "FEDERATION DE RUSSIE",
          "RWANDA",
          "ARABIE SAOUDITE",
          "SEYCHELLES",
          "SOUDAN",
          "SUEDE",
          "SINGAPOUR",
          "SAINTE-HELENE, ASCENSION ET TRISTAN DA CUNHA",
          "SLOVENIE",
          "SLOVAQUIE",
          "SIERRA LEONE",
          "SAINT-MARIN",
          "SENEGAL",
          "SOMALIE",
          "SURINAME",
          "SAO TOME-ET-PRINCIPE",
          "EL SALVADOR",
          "SAINT-MARTIN (PARTIE NEERLANDAISE)",
          "REPUBLIQUE ARABE SYRIENNE",
          "SWAZILAND",
          "TCHAD",
          "TOGO",
          "THAILANDE",
          "TADJIKISTAN",
          "TURKMENISTAN",
          "TUNISIE",
          "TONGA",
          "TURQUIE",
          "TRINITE-ET-TOBAGO",
          "PROVINCE DE CHINE TAIWAN",
          "REPUBLIQUE-UNIE DE TANZANIE",
          "UKRAINE",
          "OUGANDA",
          "ETATS-UNIS",
          "URUGUAY",
          "OUZBEKISTAN",
          "SAINT-SIEGE (ETAT DE LA CITE DU VATICAN)",
          "SAINT-VINCENT-ET-LES GRENADINES",
          "REPUBLIQUE BOLIVARIENNE DU VENEZUELA",
          "VIET NAM",
          "VANUATU",
          "WALLIS ET FUTUNA",
          "KOSOVO",
          "YEMEN",
          "MAYOTTE",
          "YOUGOUSLAVIE",
          "AFRIQUE DU SUD",
          "ZAMBIE",
          "ZIMBABWE"
         ],
         "type": "choropleth",
         "z": [
          4358042.000545454,
          743253359.5176364,
          3592146.4545454546,
          376810.44072727277,
          21323268.335454546,
          1533508.0080909093,
          1209075.2727272727,
          361590887.3447273,
          934603433.1479092,
          1428014782.2033637,
          327905437.59154546,
          35115.09090909091,
          9336288.941272728,
          20719465.166363638,
          235410.3,
          1179754535.2364547,
          3906822952.500337,
          396283139.32100004,
          726937192.3291819,
          53255810.78827273,
          6563095.2727272725,
          421506229.86609095,
          44122.36363636364,
          11330610.878181817,
          950029.3636363636,
          8328317894.506272,
          333798.0909090909,
          413170.9090909091,
          77192394.36209092,
          74388.63636363637,
          1481872048.4813635,
          127371652.15354547,
          34194230.79209091,
          391818840.0631818,
          1600058042.6094544,
          1336196138.1944544,
          74828306.81690909,
          503840266.6749092,
          2411924013.7219996,
          122762888.53436364,
          12393888.519727271,
          27028105.66963637,
          17381189.36,
          131328.9090909091,
          80266267.39672725,
          548212256.5188181,
          6479181605.746601,
          697728150.3642727,
          323674384.0997272,
          8463372.272181818,
          24981884.238545455,
          1748033001.615,
          7821768.25890909,
          32248519.068000004,
          1225456025.837727,
          377629.29527272726,
          47656059200.27627,
          581615660.438909,
          92205051.92137818,
          811473.08,
          47311772576.779,
          398706516.19827276,
          5856806250.2542095,
          214411.33272727273,
          25467738.820727278,
          6197288.291636364,
          821481223.4786363,
          237810212.67845458,
          127742423.7389091,
          639529428.717,
          17029386.27136364,
          294150462.1949091,
          308936889.4629091,
          43587.46154545454,
          8971893.124727273,
          38469767.609181814,
          7333473.624545455,
          120862710.36390907,
          2691593.0952727273,
          207696490.82827273,
          19222639.12727273,
          319025504.45027274,
          557547876.0515454,
          1098696771.0703275,
          8854596417.87718,
          148961223.89372727,
          69443791.07163636,
          22621878.948,
          9489956978.533546,
          172267.36363636365,
          803993.5454545454,
          276767303.32918173,
          1794944276.7055457,
          148833544.46454546,
          1855730.749,
          9028621.25,
          16085030.686363636,
          158987.32727272727,
          5740933.090909091,
          775803174.2156363,
          147937202.5820909,
          102084.18181818182,
          8776369.990363635,
          405369.2672727272,
          576490002.8912728,
          437495.0418181818,
          321362.5981818182,
          17201127.15518182,
          45561584.33390909,
          92251.18181818182,
          406771706.2522728,
          41632778.460999995,
          112587861.87854546,
          621739623.0072727,
          6565259.132818181,
          428885.6163636363,
          7633323.003545454,
          49400078.79245455,
          4034195.5627272725,
          7879914.522,
          566961504.8130908,
          16386649.363636363,
          906222.1127272728,
          2223996.3018181818,
          27707.636363636364,
          16148661.86081818,
          1442555971.343091,
          183587428.03,
          61940837.98818181,
          879424.0054545454,
          450031.23118181824,
          1102221618.864909,
          79161575.71854545,
          197414639.8811818,
          106483160.5229091,
          14728851.157363636,
          199622422.4426364,
          1000508188.654909,
          8775042.12,
          5931885872.179437,
          635074108.6443635,
          592108.4392727274,
          486608111.6096363,
          127354381.51718183,
          10162688.576545455,
          306384607.9877273,
          5315417.695727273,
          58270.90909090909,
          69198374.93381818,
          2702077299.331727,
          1606134997.0549943,
          1360539.0266363637,
          31588189.294545457,
          2973782050.1842365,
          36702083.64109091,
          173054594.1257273,
          59422960.18945455,
          1098753432.4446363,
          78282164.05718182,
          2079351142.4174547,
          13258750.564181818,
          871542516.507091,
          1266995.32,
          179957538.72545454,
          693293588.9321901,
          2568261445.6547275,
          143182.02172727275,
          183854894.51427272,
          417863487.8105454,
          89934445.70136364,
          26118.636363636364,
          1663637079.5196364,
          6634915.893636364,
          3233822.0763636366,
          1102121.4545454546,
          8477848.52009091,
          25.454545454545453,
          425044970.74818176,
          2869472.7285454543,
          43669728.39009091,
          410587490.40854543,
          301465226.1832727,
          8858.636363636364,
          350710.99436363636,
          952808785.1369091,
          169968.9090909091,
          5056314863.152454,
          25929175.296363637,
          272819476.05327266,
          120278084.8289091,
          288661278.36200005,
          16762776.032545455,
          8600913005.473637,
          175582567.3910909,
          400470.2445454545,
          181.8181818181818,
          223508.08181818182,
          130563452.34154548,
          52419975.52354546,
          54239.49454545454,
          479241.54545454547,
          3289093.845363636,
          89740716.16127272,
          18428142.405454546,
          2861717.342727273,
          353151480.7982727,
          2774763.1075454545,
          5144280.127272727
         ]
        }
       ],
       "layout": {
        "annotations": [
         {
          "showarrow": false,
          "text": "Source: <a href=\"https://www.oc.gov.ma/\">            Office des Changes Marocain</a>",
          "x": 0.55,
          "xref": "paper",
          "y": -0.1,
          "yref": "paper"
         }
        ],
        "geo": {
         "bgcolor": "rgba(0,0,0,0)",
         "projection": {
          "type": "equirectangular"
         },
         "showcoastlines": false,
         "showframe": false
        },
        "hovermode": "closest",
        "margin": {
         "b": 5,
         "l": 0,
         "r": 0,
         "t": 34
        },
        "paper_bgcolor": "rgb(180, 180, 180)",
        "template": {
         "data": {
          "bar": [
           {
            "error_x": {
             "color": "#2a3f5f"
            },
            "error_y": {
             "color": "#2a3f5f"
            },
            "marker": {
             "line": {
              "color": "#E5ECF6",
              "width": 0.5
             },
             "pattern": {
              "fillmode": "overlay",
              "size": 10,
              "solidity": 0.2
             }
            },
            "type": "bar"
           }
          ],
          "barpolar": [
           {
            "marker": {
             "line": {
              "color": "#E5ECF6",
              "width": 0.5
             },
             "pattern": {
              "fillmode": "overlay",
              "size": 10,
              "solidity": 0.2
             }
            },
            "type": "barpolar"
           }
          ],
          "carpet": [
           {
            "aaxis": {
             "endlinecolor": "#2a3f5f",
             "gridcolor": "white",
             "linecolor": "white",
             "minorgridcolor": "white",
             "startlinecolor": "#2a3f5f"
            },
            "baxis": {
             "endlinecolor": "#2a3f5f",
             "gridcolor": "white",
             "linecolor": "white",
             "minorgridcolor": "white",
             "startlinecolor": "#2a3f5f"
            },
            "type": "carpet"
           }
          ],
          "choropleth": [
           {
            "colorbar": {
             "outlinewidth": 0,
             "ticks": ""
            },
            "type": "choropleth"
           }
          ],
          "contour": [
           {
            "colorbar": {
             "outlinewidth": 0,
             "ticks": ""
            },
            "colorscale": [
             [
              0,
              "#0d0887"
             ],
             [
              0.1111111111111111,
              "#46039f"
             ],
             [
              0.2222222222222222,
              "#7201a8"
             ],
             [
              0.3333333333333333,
              "#9c179e"
             ],
             [
              0.4444444444444444,
              "#bd3786"
             ],
             [
              0.5555555555555556,
              "#d8576b"
             ],
             [
              0.6666666666666666,
              "#ed7953"
             ],
             [
              0.7777777777777778,
              "#fb9f3a"
             ],
             [
              0.8888888888888888,
              "#fdca26"
             ],
             [
              1,
              "#f0f921"
             ]
            ],
            "type": "contour"
           }
          ],
          "contourcarpet": [
           {
            "colorbar": {
             "outlinewidth": 0,
             "ticks": ""
            },
            "type": "contourcarpet"
           }
          ],
          "heatmap": [
           {
            "colorbar": {
             "outlinewidth": 0,
             "ticks": ""
            },
            "colorscale": [
             [
              0,
              "#0d0887"
             ],
             [
              0.1111111111111111,
              "#46039f"
             ],
             [
              0.2222222222222222,
              "#7201a8"
             ],
             [
              0.3333333333333333,
              "#9c179e"
             ],
             [
              0.4444444444444444,
              "#bd3786"
             ],
             [
              0.5555555555555556,
              "#d8576b"
             ],
             [
              0.6666666666666666,
              "#ed7953"
             ],
             [
              0.7777777777777778,
              "#fb9f3a"
             ],
             [
              0.8888888888888888,
              "#fdca26"
             ],
             [
              1,
              "#f0f921"
             ]
            ],
            "type": "heatmap"
           }
          ],
          "heatmapgl": [
           {
            "colorbar": {
             "outlinewidth": 0,
             "ticks": ""
            },
            "colorscale": [
             [
              0,
              "#0d0887"
             ],
             [
              0.1111111111111111,
              "#46039f"
             ],
             [
              0.2222222222222222,
              "#7201a8"
             ],
             [
              0.3333333333333333,
              "#9c179e"
             ],
             [
              0.4444444444444444,
              "#bd3786"
             ],
             [
              0.5555555555555556,
              "#d8576b"
             ],
             [
              0.6666666666666666,
              "#ed7953"
             ],
             [
              0.7777777777777778,
              "#fb9f3a"
             ],
             [
              0.8888888888888888,
              "#fdca26"
             ],
             [
              1,
              "#f0f921"
             ]
            ],
            "type": "heatmapgl"
           }
          ],
          "histogram": [
           {
            "marker": {
             "pattern": {
              "fillmode": "overlay",
              "size": 10,
              "solidity": 0.2
             }
            },
            "type": "histogram"
           }
          ],
          "histogram2d": [
           {
            "colorbar": {
             "outlinewidth": 0,
             "ticks": ""
            },
            "colorscale": [
             [
              0,
              "#0d0887"
             ],
             [
              0.1111111111111111,
              "#46039f"
             ],
             [
              0.2222222222222222,
              "#7201a8"
             ],
             [
              0.3333333333333333,
              "#9c179e"
             ],
             [
              0.4444444444444444,
              "#bd3786"
             ],
             [
              0.5555555555555556,
              "#d8576b"
             ],
             [
              0.6666666666666666,
              "#ed7953"
             ],
             [
              0.7777777777777778,
              "#fb9f3a"
             ],
             [
              0.8888888888888888,
              "#fdca26"
             ],
             [
              1,
              "#f0f921"
             ]
            ],
            "type": "histogram2d"
           }
          ],
          "histogram2dcontour": [
           {
            "colorbar": {
             "outlinewidth": 0,
             "ticks": ""
            },
            "colorscale": [
             [
              0,
              "#0d0887"
             ],
             [
              0.1111111111111111,
              "#46039f"
             ],
             [
              0.2222222222222222,
              "#7201a8"
             ],
             [
              0.3333333333333333,
              "#9c179e"
             ],
             [
              0.4444444444444444,
              "#bd3786"
             ],
             [
              0.5555555555555556,
              "#d8576b"
             ],
             [
              0.6666666666666666,
              "#ed7953"
             ],
             [
              0.7777777777777778,
              "#fb9f3a"
             ],
             [
              0.8888888888888888,
              "#fdca26"
             ],
             [
              1,
              "#f0f921"
             ]
            ],
            "type": "histogram2dcontour"
           }
          ],
          "mesh3d": [
           {
            "colorbar": {
             "outlinewidth": 0,
             "ticks": ""
            },
            "type": "mesh3d"
           }
          ],
          "parcoords": [
           {
            "line": {
             "colorbar": {
              "outlinewidth": 0,
              "ticks": ""
             }
            },
            "type": "parcoords"
           }
          ],
          "pie": [
           {
            "automargin": true,
            "type": "pie"
           }
          ],
          "scatter": [
           {
            "marker": {
             "colorbar": {
              "outlinewidth": 0,
              "ticks": ""
             }
            },
            "type": "scatter"
           }
          ],
          "scatter3d": [
           {
            "line": {
             "colorbar": {
              "outlinewidth": 0,
              "ticks": ""
             }
            },
            "marker": {
             "colorbar": {
              "outlinewidth": 0,
              "ticks": ""
             }
            },
            "type": "scatter3d"
           }
          ],
          "scattercarpet": [
           {
            "marker": {
             "colorbar": {
              "outlinewidth": 0,
              "ticks": ""
             }
            },
            "type": "scattercarpet"
           }
          ],
          "scattergeo": [
           {
            "marker": {
             "colorbar": {
              "outlinewidth": 0,
              "ticks": ""
             }
            },
            "type": "scattergeo"
           }
          ],
          "scattergl": [
           {
            "marker": {
             "colorbar": {
              "outlinewidth": 0,
              "ticks": ""
             }
            },
            "type": "scattergl"
           }
          ],
          "scattermapbox": [
           {
            "marker": {
             "colorbar": {
              "outlinewidth": 0,
              "ticks": ""
             }
            },
            "type": "scattermapbox"
           }
          ],
          "scatterpolar": [
           {
            "marker": {
             "colorbar": {
              "outlinewidth": 0,
              "ticks": ""
             }
            },
            "type": "scatterpolar"
           }
          ],
          "scatterpolargl": [
           {
            "marker": {
             "colorbar": {
              "outlinewidth": 0,
              "ticks": ""
             }
            },
            "type": "scatterpolargl"
           }
          ],
          "scatterternary": [
           {
            "marker": {
             "colorbar": {
              "outlinewidth": 0,
              "ticks": ""
             }
            },
            "type": "scatterternary"
           }
          ],
          "surface": [
           {
            "colorbar": {
             "outlinewidth": 0,
             "ticks": ""
            },
            "colorscale": [
             [
              0,
              "#0d0887"
             ],
             [
              0.1111111111111111,
              "#46039f"
             ],
             [
              0.2222222222222222,
              "#7201a8"
             ],
             [
              0.3333333333333333,
              "#9c179e"
             ],
             [
              0.4444444444444444,
              "#bd3786"
             ],
             [
              0.5555555555555556,
              "#d8576b"
             ],
             [
              0.6666666666666666,
              "#ed7953"
             ],
             [
              0.7777777777777778,
              "#fb9f3a"
             ],
             [
              0.8888888888888888,
              "#fdca26"
             ],
             [
              1,
              "#f0f921"
             ]
            ],
            "type": "surface"
           }
          ],
          "table": [
           {
            "cells": {
             "fill": {
              "color": "#EBF0F8"
             },
             "line": {
              "color": "white"
             }
            },
            "header": {
             "fill": {
              "color": "#C8D4E3"
             },
             "line": {
              "color": "white"
             }
            },
            "type": "table"
           }
          ]
         },
         "layout": {
          "annotationdefaults": {
           "arrowcolor": "#2a3f5f",
           "arrowhead": 0,
           "arrowwidth": 1
          },
          "autotypenumbers": "strict",
          "coloraxis": {
           "colorbar": {
            "outlinewidth": 0,
            "ticks": ""
           }
          },
          "colorscale": {
           "diverging": [
            [
             0,
             "#8e0152"
            ],
            [
             0.1,
             "#c51b7d"
            ],
            [
             0.2,
             "#de77ae"
            ],
            [
             0.3,
             "#f1b6da"
            ],
            [
             0.4,
             "#fde0ef"
            ],
            [
             0.5,
             "#f7f7f7"
            ],
            [
             0.6,
             "#e6f5d0"
            ],
            [
             0.7,
             "#b8e186"
            ],
            [
             0.8,
             "#7fbc41"
            ],
            [
             0.9,
             "#4d9221"
            ],
            [
             1,
             "#276419"
            ]
           ],
           "sequential": [
            [
             0,
             "#0d0887"
            ],
            [
             0.1111111111111111,
             "#46039f"
            ],
            [
             0.2222222222222222,
             "#7201a8"
            ],
            [
             0.3333333333333333,
             "#9c179e"
            ],
            [
             0.4444444444444444,
             "#bd3786"
            ],
            [
             0.5555555555555556,
             "#d8576b"
            ],
            [
             0.6666666666666666,
             "#ed7953"
            ],
            [
             0.7777777777777778,
             "#fb9f3a"
            ],
            [
             0.8888888888888888,
             "#fdca26"
            ],
            [
             1,
             "#f0f921"
            ]
           ],
           "sequentialminus": [
            [
             0,
             "#0d0887"
            ],
            [
             0.1111111111111111,
             "#46039f"
            ],
            [
             0.2222222222222222,
             "#7201a8"
            ],
            [
             0.3333333333333333,
             "#9c179e"
            ],
            [
             0.4444444444444444,
             "#bd3786"
            ],
            [
             0.5555555555555556,
             "#d8576b"
            ],
            [
             0.6666666666666666,
             "#ed7953"
            ],
            [
             0.7777777777777778,
             "#fb9f3a"
            ],
            [
             0.8888888888888888,
             "#fdca26"
            ],
            [
             1,
             "#f0f921"
            ]
           ]
          },
          "colorway": [
           "#636efa",
           "#EF553B",
           "#00cc96",
           "#ab63fa",
           "#FFA15A",
           "#19d3f3",
           "#FF6692",
           "#B6E880",
           "#FF97FF",
           "#FECB52"
          ],
          "font": {
           "color": "#2a3f5f"
          },
          "geo": {
           "bgcolor": "white",
           "lakecolor": "white",
           "landcolor": "#E5ECF6",
           "showlakes": true,
           "showland": true,
           "subunitcolor": "white"
          },
          "hoverlabel": {
           "align": "left"
          },
          "hovermode": "closest",
          "mapbox": {
           "style": "light"
          },
          "paper_bgcolor": "white",
          "plot_bgcolor": "#E5ECF6",
          "polar": {
           "angularaxis": {
            "gridcolor": "white",
            "linecolor": "white",
            "ticks": ""
           },
           "bgcolor": "#E5ECF6",
           "radialaxis": {
            "gridcolor": "white",
            "linecolor": "white",
            "ticks": ""
           }
          },
          "scene": {
           "xaxis": {
            "backgroundcolor": "#E5ECF6",
            "gridcolor": "white",
            "gridwidth": 2,
            "linecolor": "white",
            "showbackground": true,
            "ticks": "",
            "zerolinecolor": "white"
           },
           "yaxis": {
            "backgroundcolor": "#E5ECF6",
            "gridcolor": "white",
            "gridwidth": 2,
            "linecolor": "white",
            "showbackground": true,
            "ticks": "",
            "zerolinecolor": "white"
           },
           "zaxis": {
            "backgroundcolor": "#E5ECF6",
            "gridcolor": "white",
            "gridwidth": 2,
            "linecolor": "white",
            "showbackground": true,
            "ticks": "",
            "zerolinecolor": "white"
           }
          },
          "shapedefaults": {
           "line": {
            "color": "#2a3f5f"
           }
          },
          "ternary": {
           "aaxis": {
            "gridcolor": "white",
            "linecolor": "white",
            "ticks": ""
           },
           "baxis": {
            "gridcolor": "white",
            "linecolor": "white",
            "ticks": ""
           },
           "bgcolor": "#E5ECF6",
           "caxis": {
            "gridcolor": "white",
            "linecolor": "white",
            "ticks": ""
           }
          },
          "title": {
           "x": 0.05
          },
          "xaxis": {
           "automargin": true,
           "gridcolor": "white",
           "linecolor": "white",
           "ticks": "",
           "title": {
            "standoff": 15
           },
           "zerolinecolor": "white",
           "zerolinewidth": 2
          },
          "yaxis": {
           "automargin": true,
           "gridcolor": "white",
           "linecolor": "white",
           "ticks": "",
           "title": {
            "standoff": 15
           },
           "zerolinecolor": "white",
           "zerolinewidth": 2
          }
         }
        },
        "title": {
         "text": "Moyenne annuel d'exportation entre 2010 et 2020"
        }
       }
      }
     },
     "metadata": {},
     "output_type": "display_data"
    }
   ],
   "source": [
    "\n",
    "fig = go.Figure(data=go.Choropleth(\n",
    "    locations = for_map0['alpha-3'],\n",
    "    z = for_map0['Valeur moyen des exportations sur 10ans'],\n",
    "    text = for_map0['Libellé du pays'],\n",
    "    colorscale = ['#99004d', '#ff3287', '#fc76c4', '#ca89bd'],\n",
    "    #colorscale='Blues',\n",
    "    autocolorscale=False,\n",
    "    reversescale=True,\n",
    "    marker_line_color='white',\n",
    "    marker_line_width=1,\n",
    "    colorbar_tickprefix = 'dh ',\n",
    "    colorbar_title = 'Exportation en Dh',\n",
    "))\n",
    "\n",
    "fig.update_layout(\n",
    "    title_text=\"Moyenne annuel d'exportation entre 2010 et 2020\",\n",
    "    geo=dict(\n",
    "        showframe=False,\n",
    "        showcoastlines=False,\n",
    "        projection_type='equirectangular'\n",
    "    ),\n",
    "    annotations = [dict(\n",
    "        x=0.55,\n",
    "        y=-0.1,\n",
    "        xref='paper',\n",
    "        yref='paper',\n",
    "        text='Source: <a href=\"https://www.oc.gov.ma/\">\\\n",
    "            Office des Changes Marocain</a>',\n",
    "        showarrow = False\n",
    "    )]\n",
    ")\n",
    "fig.update_layout(\n",
    "    margin=dict(l=0, r=0, t=34, b=5),\n",
    "    paper_bgcolor=\"rgb(180, 180, 180)\")\n",
    "fig.update_layout(geo=dict(bgcolor= 'rgba(0,0,0,0)'))\n",
    "fig.update_layout(hovermode='closest',)\n",
    "fig.show()"
   ]
  }
 ],
 "metadata": {
  "colab": {
   "collapsed_sections": [
    "hWFOlMMgiiRP",
    "07LKaJZLGuLs"
   ],
   "name": "Data prep - office de change || Data Viz projecct.ipynb",
   "provenance": []
  },
  "kernelspec": {
   "display_name": "Python 3",
   "language": "python",
   "name": "python3"
  },
  "language_info": {
   "codemirror_mode": {
    "name": "ipython",
    "version": 3
   },
   "file_extension": ".py",
   "mimetype": "text/x-python",
   "name": "python",
   "nbconvert_exporter": "python",
   "pygments_lexer": "ipython3",
   "version": "3.8.8"
  }
 },
 "nbformat": 4,
 "nbformat_minor": 1
}
