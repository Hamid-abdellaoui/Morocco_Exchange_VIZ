{
 "cells": [
  {
   "cell_type": "markdown",
   "metadata": {
    "id": "hWFOlMMgiiRP"
   },
   "source": [
    "#  1. Exploring Data"
   ]
  },
  {
   "cell_type": "code",
   "execution_count": 2,
   "metadata": {
    "id": "CH6z9wEwhwjI"
   },
   "outputs": [],
   "source": [
    "import numpy as np \n",
    "import pandas as pd"
   ]
  },
  {
   "cell_type": "code",
   "execution_count": 3,
   "metadata": {
    "colab": {
     "base_uri": "https://localhost:8080/",
     "height": 0
    },
    "id": "2R5VEf19ixvW",
    "outputId": "0306dd66-bb11-4518-cfd8-6f6f49d32321"
   },
   "outputs": [
    {
     "name": "stderr",
     "output_type": "stream",
     "text": [
      "C:\\Users\\hp\\AppData\\Local\\Continuum\\anaconda3\\lib\\site-packages\\IPython\\core\\interactiveshell.py:3058: DtypeWarning: Columns (4,6,8) have mixed types. Specify dtype option on import or set low_memory=False.\n",
      "  interactivity=interactivity, compiler=compiler, result=result)\n"
     ]
    },
    {
     "data": {
      "text/html": [
       "<div>\n",
       "<style scoped>\n",
       "    .dataframe tbody tr th:only-of-type {\n",
       "        vertical-align: middle;\n",
       "    }\n",
       "\n",
       "    .dataframe tbody tr th {\n",
       "        vertical-align: top;\n",
       "    }\n",
       "\n",
       "    .dataframe thead th {\n",
       "        text-align: right;\n",
       "    }\n",
       "</style>\n",
       "<table border=\"1\" class=\"dataframe\">\n",
       "  <thead>\n",
       "    <tr style=\"text-align: right;\">\n",
       "      <th></th>\n",
       "      <th>Code du groupement d'utilisation</th>\n",
       "      <th>Libellé du groupement d'utilisation</th>\n",
       "      <th>Code du nouveau produits remarquables</th>\n",
       "      <th>Libellé du nouveau produits remarquables</th>\n",
       "      <th>Code de la section CTCI</th>\n",
       "      <th>Libellé de la section CTCI</th>\n",
       "      <th>Code de la division CTCI</th>\n",
       "      <th>Libellé de la division CTCI</th>\n",
       "      <th>Code du groupe CTCI</th>\n",
       "      <th>Libellé du groupe CTCI</th>\n",
       "      <th>...</th>\n",
       "      <th>Valeur DHS Septembre 2020</th>\n",
       "      <th>Valeur DHS Octobre 2020</th>\n",
       "      <th>Valeur DHS Novembre 2020</th>\n",
       "      <th>Valeur DHS Décembre 2020</th>\n",
       "      <th>Valeur DHS Janvier 2021</th>\n",
       "      <th>Valeur DHS Février 2021</th>\n",
       "      <th>Valeur DHS Mars 2021</th>\n",
       "      <th>Valeur DHS Avril 2021</th>\n",
       "      <th>Valeur DHS Mai 2021</th>\n",
       "      <th>Valeur DHS Juin 2021</th>\n",
       "    </tr>\n",
       "  </thead>\n",
       "  <tbody>\n",
       "    <tr>\n",
       "      <td>0</td>\n",
       "      <td>1</td>\n",
       "      <td>ALIMENTATION, BOISSONS ET TABACS</td>\n",
       "      <td>101</td>\n",
       "      <td>AGRUMES</td>\n",
       "      <td>0</td>\n",
       "      <td>PRODUITS ALIMENTAIRES ET ANIMAUX VIVANTS</td>\n",
       "      <td>5</td>\n",
       "      <td>LÉGUMES ET FRUITS</td>\n",
       "      <td>57</td>\n",
       "      <td>FRUITS, MÊME À COQUE (À L¿EXCLUSION DES FRUITS...</td>\n",
       "      <td>...</td>\n",
       "      <td>0.0</td>\n",
       "      <td>0.0</td>\n",
       "      <td>96200.0</td>\n",
       "      <td>0.000</td>\n",
       "      <td>0.000</td>\n",
       "      <td>0.0</td>\n",
       "      <td>0.0</td>\n",
       "      <td>0.0</td>\n",
       "      <td>0.0</td>\n",
       "      <td>0.0</td>\n",
       "    </tr>\n",
       "    <tr>\n",
       "      <td>1</td>\n",
       "      <td>1</td>\n",
       "      <td>ALIMENTATION, BOISSONS ET TABACS</td>\n",
       "      <td>101</td>\n",
       "      <td>AGRUMES</td>\n",
       "      <td>0</td>\n",
       "      <td>PRODUITS ALIMENTAIRES ET ANIMAUX VIVANTS</td>\n",
       "      <td>5</td>\n",
       "      <td>LÉGUMES ET FRUITS</td>\n",
       "      <td>57</td>\n",
       "      <td>FRUITS, MÊME À COQUE (À L¿EXCLUSION DES FRUITS...</td>\n",
       "      <td>...</td>\n",
       "      <td>0.0</td>\n",
       "      <td>0.0</td>\n",
       "      <td>0.0</td>\n",
       "      <td>0.000</td>\n",
       "      <td>652186.000</td>\n",
       "      <td>1176807.8</td>\n",
       "      <td>192400.0</td>\n",
       "      <td>0.0</td>\n",
       "      <td>0.0</td>\n",
       "      <td>0.0</td>\n",
       "    </tr>\n",
       "    <tr>\n",
       "      <td>2</td>\n",
       "      <td>1</td>\n",
       "      <td>ALIMENTATION, BOISSONS ET TABACS</td>\n",
       "      <td>101</td>\n",
       "      <td>AGRUMES</td>\n",
       "      <td>0</td>\n",
       "      <td>PRODUITS ALIMENTAIRES ET ANIMAUX VIVANTS</td>\n",
       "      <td>5</td>\n",
       "      <td>LÉGUMES ET FRUITS</td>\n",
       "      <td>57</td>\n",
       "      <td>FRUITS, MÊME À COQUE (À L¿EXCLUSION DES FRUITS...</td>\n",
       "      <td>...</td>\n",
       "      <td>0.0</td>\n",
       "      <td>275664.0</td>\n",
       "      <td>1321247.0</td>\n",
       "      <td>168350.000</td>\n",
       "      <td>288363.000</td>\n",
       "      <td>0.0</td>\n",
       "      <td>245592.0</td>\n",
       "      <td>0.0</td>\n",
       "      <td>0.0</td>\n",
       "      <td>0.0</td>\n",
       "    </tr>\n",
       "    <tr>\n",
       "      <td>3</td>\n",
       "      <td>1</td>\n",
       "      <td>ALIMENTATION, BOISSONS ET TABACS</td>\n",
       "      <td>101</td>\n",
       "      <td>AGRUMES</td>\n",
       "      <td>0</td>\n",
       "      <td>PRODUITS ALIMENTAIRES ET ANIMAUX VIVANTS</td>\n",
       "      <td>5</td>\n",
       "      <td>LÉGUMES ET FRUITS</td>\n",
       "      <td>57</td>\n",
       "      <td>FRUITS, MÊME À COQUE (À L¿EXCLUSION DES FRUITS...</td>\n",
       "      <td>...</td>\n",
       "      <td>0.0</td>\n",
       "      <td>0.0</td>\n",
       "      <td>0.0</td>\n",
       "      <td>1872443.446</td>\n",
       "      <td>7238766.578</td>\n",
       "      <td>0.0</td>\n",
       "      <td>0.0</td>\n",
       "      <td>0.0</td>\n",
       "      <td>1056352.0</td>\n",
       "      <td>2.0</td>\n",
       "    </tr>\n",
       "    <tr>\n",
       "      <td>4</td>\n",
       "      <td>1</td>\n",
       "      <td>ALIMENTATION, BOISSONS ET TABACS</td>\n",
       "      <td>102</td>\n",
       "      <td>AMIDONS,GLUTEN DE FROMENT ET DÉRIVÉS</td>\n",
       "      <td>5</td>\n",
       "      <td>PRODUITS CHIMIQUES ET PRODUITS CONNEXES, N.D.A.</td>\n",
       "      <td>59</td>\n",
       "      <td>MATIÈRES ET PRODUITS CHIMIQUES, N.D.A.</td>\n",
       "      <td>592</td>\n",
       "      <td>AMIDONS ET FÉCULES, INULINE ET GLUTEN DE FROME...</td>\n",
       "      <td>...</td>\n",
       "      <td>18979.0</td>\n",
       "      <td>15273.0</td>\n",
       "      <td>0.0</td>\n",
       "      <td>0.000</td>\n",
       "      <td>0.000</td>\n",
       "      <td>121193.0</td>\n",
       "      <td>0.0</td>\n",
       "      <td>0.0</td>\n",
       "      <td>0.0</td>\n",
       "      <td>0.0</td>\n",
       "    </tr>\n",
       "  </tbody>\n",
       "</table>\n",
       "<p>5 rows × 56 columns</p>\n",
       "</div>"
      ],
      "text/plain": [
       "   Code du groupement d'utilisation Libellé du groupement d'utilisation  \\\n",
       "0                                 1    ALIMENTATION, BOISSONS ET TABACS   \n",
       "1                                 1    ALIMENTATION, BOISSONS ET TABACS   \n",
       "2                                 1    ALIMENTATION, BOISSONS ET TABACS   \n",
       "3                                 1    ALIMENTATION, BOISSONS ET TABACS   \n",
       "4                                 1    ALIMENTATION, BOISSONS ET TABACS   \n",
       "\n",
       "   Code du nouveau produits remarquables  \\\n",
       "0                                    101   \n",
       "1                                    101   \n",
       "2                                    101   \n",
       "3                                    101   \n",
       "4                                    102   \n",
       "\n",
       "  Libellé du nouveau produits remarquables Code de la section CTCI  \\\n",
       "0                                  AGRUMES                       0   \n",
       "1                                  AGRUMES                       0   \n",
       "2                                  AGRUMES                       0   \n",
       "3                                  AGRUMES                       0   \n",
       "4     AMIDONS,GLUTEN DE FROMENT ET DÉRIVÉS                       5   \n",
       "\n",
       "                        Libellé de la section CTCI Code de la division CTCI  \\\n",
       "0         PRODUITS ALIMENTAIRES ET ANIMAUX VIVANTS                        5   \n",
       "1         PRODUITS ALIMENTAIRES ET ANIMAUX VIVANTS                        5   \n",
       "2         PRODUITS ALIMENTAIRES ET ANIMAUX VIVANTS                        5   \n",
       "3         PRODUITS ALIMENTAIRES ET ANIMAUX VIVANTS                        5   \n",
       "4  PRODUITS CHIMIQUES ET PRODUITS CONNEXES, N.D.A.                       59   \n",
       "\n",
       "              Libellé de la division CTCI Code du groupe CTCI  \\\n",
       "0                       LÉGUMES ET FRUITS                  57   \n",
       "1                       LÉGUMES ET FRUITS                  57   \n",
       "2                       LÉGUMES ET FRUITS                  57   \n",
       "3                       LÉGUMES ET FRUITS                  57   \n",
       "4  MATIÈRES ET PRODUITS CHIMIQUES, N.D.A.                 592   \n",
       "\n",
       "                              Libellé du groupe CTCI  ...  \\\n",
       "0  FRUITS, MÊME À COQUE (À L¿EXCLUSION DES FRUITS...  ...   \n",
       "1  FRUITS, MÊME À COQUE (À L¿EXCLUSION DES FRUITS...  ...   \n",
       "2  FRUITS, MÊME À COQUE (À L¿EXCLUSION DES FRUITS...  ...   \n",
       "3  FRUITS, MÊME À COQUE (À L¿EXCLUSION DES FRUITS...  ...   \n",
       "4  AMIDONS ET FÉCULES, INULINE ET GLUTEN DE FROME...  ...   \n",
       "\n",
       "  Valeur DHS Septembre 2020 Valeur DHS Octobre 2020  Valeur DHS Novembre 2020  \\\n",
       "0                       0.0                     0.0                   96200.0   \n",
       "1                       0.0                     0.0                       0.0   \n",
       "2                       0.0                275664.0                 1321247.0   \n",
       "3                       0.0                     0.0                       0.0   \n",
       "4                   18979.0                 15273.0                       0.0   \n",
       "\n",
       "  Valeur DHS Décembre 2020  Valeur DHS Janvier 2021  Valeur DHS Février 2021  \\\n",
       "0                    0.000                    0.000                      0.0   \n",
       "1                    0.000               652186.000                1176807.8   \n",
       "2               168350.000               288363.000                      0.0   \n",
       "3              1872443.446              7238766.578                      0.0   \n",
       "4                    0.000                    0.000                 121193.0   \n",
       "\n",
       "   Valeur DHS Mars 2021  Valeur DHS Avril 2021  Valeur DHS Mai 2021  \\\n",
       "0                   0.0                    0.0                  0.0   \n",
       "1              192400.0                    0.0                  0.0   \n",
       "2              245592.0                    0.0                  0.0   \n",
       "3                   0.0                    0.0            1056352.0   \n",
       "4                   0.0                    0.0                  0.0   \n",
       "\n",
       "   Valeur DHS Juin 2021  \n",
       "0                   0.0  \n",
       "1                   0.0  \n",
       "2                   0.0  \n",
       "3                   2.0  \n",
       "4                   0.0  \n",
       "\n",
       "[5 rows x 56 columns]"
      ]
     },
     "execution_count": 3,
     "metadata": {},
     "output_type": "execute_result"
    }
   ],
   "source": [
    "path='https://raw.githubusercontent.com/Hamid-abdellaoui/Morocco_Exchange_VIZ/master/Data/ExportData.csv'\n",
    "dataframe = pd.read_csv(path,sep=';',decimal=',')\n",
    "dataframe.head()"
   ]
  },
  {
   "cell_type": "code",
   "execution_count": 4,
   "metadata": {
    "colab": {
     "base_uri": "https://localhost:8080/"
    },
    "id": "mKoUo90Xj4UH",
    "outputId": "ec7b0bb8-414f-49d2-e1d6-c4ff6a5f26f8"
   },
   "outputs": [
    {
     "name": "stdout",
     "output_type": "stream",
     "text": [
      "<class 'pandas.core.frame.DataFrame'>\n",
      "RangeIndex: 61651 entries, 0 to 61650\n",
      "Data columns (total 56 columns):\n",
      "Code du groupement d'utilisation            61651 non-null int64\n",
      "Libellé du groupement d'utilisation         61651 non-null object\n",
      "Code du nouveau produits remarquables       61651 non-null int64\n",
      "Libellé du nouveau produits remarquables    61651 non-null object\n",
      "Code de la section CTCI                     61651 non-null object\n",
      "Libellé de la section CTCI                  61651 non-null object\n",
      "Code de la division CTCI                    61651 non-null object\n",
      "Libellé de la division CTCI                 61649 non-null object\n",
      "Code du groupe CTCI                         61651 non-null object\n",
      "Libellé du groupe CTCI                      61649 non-null object\n",
      "Continent                                   61651 non-null object\n",
      "Libellé du pays                             61651 non-null object\n",
      "Code du flux                                61651 non-null int64\n",
      "Libellé du flux                             61651 non-null object\n",
      "Valeur DHS Janvier 2018                     61651 non-null float64\n",
      "Valeur DHS Février 2018                     61651 non-null float64\n",
      "Valeur DHS Mars 2018                        61651 non-null float64\n",
      "Valeur DHS Avril 2018                       61651 non-null float64\n",
      "Valeur DHS Mai 2018                         61651 non-null float64\n",
      "Valeur DHS Juin 2018                        61651 non-null float64\n",
      "Valeur DHS Juillet 2018                     61651 non-null float64\n",
      "Valeur DHS Aout 2018                        61651 non-null float64\n",
      "Valeur DHS Septembre 2018                   61651 non-null float64\n",
      "Valeur DHS Octobre 2018                     61651 non-null float64\n",
      "Valeur DHS Novembre 2018                    61651 non-null float64\n",
      "Valeur DHS Décembre 2018                    61651 non-null float64\n",
      "Valeur DHS Janvier 2019                     61651 non-null float64\n",
      "Valeur DHS Février 2019                     61651 non-null float64\n",
      "Valeur DHS Mars 2019                        61651 non-null float64\n",
      "Valeur DHS Avril 2019                       61651 non-null float64\n",
      "Valeur DHS Mai 2019                         61651 non-null float64\n",
      "Valeur DHS Juin 2019                        61651 non-null float64\n",
      "Valeur DHS Juillet 2019                     61651 non-null float64\n",
      "Valeur DHS Aout 2019                        61651 non-null float64\n",
      "Valeur DHS Septembre 2019                   61651 non-null float64\n",
      "Valeur DHS Octobre 2019                     61651 non-null float64\n",
      "Valeur DHS Novembre 2019                    61651 non-null float64\n",
      "Valeur DHS Décembre 2019                    61651 non-null float64\n",
      "Valeur DHS Janvier 2020                     61651 non-null float64\n",
      "Valeur DHS Février 2020                     61651 non-null float64\n",
      "Valeur DHS Mars 2020                        61651 non-null float64\n",
      "Valeur DHS Avril 2020                       61651 non-null float64\n",
      "Valeur DHS Mai 2020                         61651 non-null float64\n",
      "Valeur DHS Juin 2020                        61651 non-null float64\n",
      "Valeur DHS Juillet 2020                     61651 non-null float64\n",
      "Valeur DHS Aout 2020                        61651 non-null float64\n",
      "Valeur DHS Septembre 2020                   61651 non-null float64\n",
      "Valeur DHS Octobre 2020                     61651 non-null float64\n",
      "Valeur DHS Novembre 2020                    61651 non-null float64\n",
      "Valeur DHS Décembre 2020                    61651 non-null float64\n",
      "Valeur DHS Janvier 2021                     61651 non-null float64\n",
      "Valeur DHS Février 2021                     61651 non-null float64\n",
      "Valeur DHS Mars 2021                        61651 non-null float64\n",
      "Valeur DHS Avril 2021                       61651 non-null float64\n",
      "Valeur DHS Mai 2021                         61651 non-null float64\n",
      "Valeur DHS Juin 2021                        61651 non-null float64\n",
      "dtypes: float64(42), int64(3), object(11)\n",
      "memory usage: 26.3+ MB\n"
     ]
    }
   ],
   "source": [
    "dataframe.info()"
   ]
  },
  {
   "cell_type": "markdown",
   "metadata": {
    "id": "07LKaJZLGuLs"
   },
   "source": [
    "# 2. Handling  missing values"
   ]
  },
  {
   "cell_type": "code",
   "execution_count": 5,
   "metadata": {
    "colab": {
     "base_uri": "https://localhost:8080/"
    },
    "id": "gR4WPSmAr8f5",
    "outputId": "fbbbc26f-424f-4410-ad3d-dcef33eefbee"
   },
   "outputs": [
    {
     "data": {
      "text/plain": [
       "Code du groupement d'utilisation            0\n",
       "Libellé du groupement d'utilisation         0\n",
       "Code du nouveau produits remarquables       0\n",
       "Libellé du nouveau produits remarquables    0\n",
       "Code de la section CTCI                     0\n",
       "Libellé de la section CTCI                  0\n",
       "Code de la division CTCI                    0\n",
       "Libellé de la division CTCI                 2\n",
       "Code du groupe CTCI                         0\n",
       "Libellé du groupe CTCI                      2\n",
       "Continent                                   0\n",
       "Libellé du pays                             0\n",
       "Code du flux                                0\n",
       "Libellé du flux                             0\n",
       "Valeur DHS Janvier 2018                     0\n",
       "Valeur DHS Février 2018                     0\n",
       "Valeur DHS Mars 2018                        0\n",
       "Valeur DHS Avril 2018                       0\n",
       "Valeur DHS Mai 2018                         0\n",
       "Valeur DHS Juin 2018                        0\n",
       "Valeur DHS Juillet 2018                     0\n",
       "Valeur DHS Aout 2018                        0\n",
       "Valeur DHS Septembre 2018                   0\n",
       "Valeur DHS Octobre 2018                     0\n",
       "Valeur DHS Novembre 2018                    0\n",
       "Valeur DHS Décembre 2018                    0\n",
       "Valeur DHS Janvier 2019                     0\n",
       "Valeur DHS Février 2019                     0\n",
       "Valeur DHS Mars 2019                        0\n",
       "Valeur DHS Avril 2019                       0\n",
       "Valeur DHS Mai 2019                         0\n",
       "Valeur DHS Juin 2019                        0\n",
       "Valeur DHS Juillet 2019                     0\n",
       "Valeur DHS Aout 2019                        0\n",
       "Valeur DHS Septembre 2019                   0\n",
       "Valeur DHS Octobre 2019                     0\n",
       "Valeur DHS Novembre 2019                    0\n",
       "Valeur DHS Décembre 2019                    0\n",
       "Valeur DHS Janvier 2020                     0\n",
       "Valeur DHS Février 2020                     0\n",
       "Valeur DHS Mars 2020                        0\n",
       "Valeur DHS Avril 2020                       0\n",
       "Valeur DHS Mai 2020                         0\n",
       "Valeur DHS Juin 2020                        0\n",
       "Valeur DHS Juillet 2020                     0\n",
       "Valeur DHS Aout 2020                        0\n",
       "Valeur DHS Septembre 2020                   0\n",
       "Valeur DHS Octobre 2020                     0\n",
       "Valeur DHS Novembre 2020                    0\n",
       "Valeur DHS Décembre 2020                    0\n",
       "Valeur DHS Janvier 2021                     0\n",
       "Valeur DHS Février 2021                     0\n",
       "Valeur DHS Mars 2021                        0\n",
       "Valeur DHS Avril 2021                       0\n",
       "Valeur DHS Mai 2021                         0\n",
       "Valeur DHS Juin 2021                        0\n",
       "dtype: int64"
      ]
     },
     "execution_count": 5,
     "metadata": {},
     "output_type": "execute_result"
    }
   ],
   "source": [
    "dataframe.isnull().sum()"
   ]
  },
  {
   "cell_type": "markdown",
   "metadata": {
    "id": "CGon_p6KG1xe"
   },
   "source": [
    "\n",
    "▶ **Pour** *Libellé de la division CTCI* **et** *Libellé du groupe CTCI* <br>\n",
    "> On va remplacer les valeurs manquantes manuellement à l'aide des colonnes Code correspondant"
   ]
  },
  {
   "cell_type": "code",
   "execution_count": 6,
   "metadata": {
    "colab": {
     "base_uri": "https://localhost:8080/"
    },
    "id": "-YrqNKaVwoQ0",
    "outputId": "3ecdd24d-80fd-4059-d752-8ed90dd6db12"
   },
   "outputs": [
    {
     "name": "stdout",
     "output_type": "stream",
     "text": [
      "pour la variable: Libellé du groupe CTCI :\t \t [5186, 5969] \n",
      "pour la variable: Libellé de la division CTCI :\t\t [5186, 5969]\n"
     ]
    }
   ],
   "source": [
    "#qui sont les indices des valeures manquantes\n",
    "print('pour la variable: Libellé du groupe CTCI :\\t \\t',dataframe[dataframe['Libellé du groupe CTCI'].isnull()].index.tolist(),\n",
    "      '\\npour la variable: Libellé de la division CTCI :\\t\\t',dataframe[dataframe['Libellé de la division CTCI'].isnull()].index.tolist())"
   ]
  },
  {
   "cell_type": "code",
   "execution_count": 7,
   "metadata": {
    "colab": {
     "base_uri": "https://localhost:8080/"
    },
    "id": "nIB_Cu7vzao5",
    "outputId": "c176c370-ff36-4164-bb15-bb1f8953d1dd"
   },
   "outputs": [
    {
     "name": "stdout",
     "output_type": "stream",
     "text": [
      "nan 34 \n",
      " nan 34\n"
     ]
    }
   ],
   "source": [
    "#checking what's happening there\n",
    "print(dataframe['Libellé du groupe CTCI'][5186],dataframe['Code du groupe CTCI'][5186],'\\n',\n",
    "      dataframe['Libellé du groupe CTCI'][5969],dataframe['Code du groupe CTCI'][5969])"
   ]
  },
  {
   "cell_type": "code",
   "execution_count": 8,
   "metadata": {
    "colab": {
     "base_uri": "https://localhost:8080/"
    },
    "id": "3-qrHjQCcLBW",
    "outputId": "58061534-3e8e-4177-cb22-a23ff1f4e717"
   },
   "outputs": [
    {
     "name": "stdout",
     "output_type": "stream",
     "text": [
      "nan 3 \n",
      " nan 3\n"
     ]
    }
   ],
   "source": [
    "print(dataframe['Libellé de la division CTCI'][5186],dataframe['Code de la division CTCI'][5186],'\\n',\n",
    "      dataframe['Libellé de la division CTCI'][5969],dataframe['Code de la division CTCI'][5969])"
   ]
  },
  {
   "cell_type": "code",
   "execution_count": 9,
   "metadata": {
    "colab": {
     "base_uri": "https://localhost:8080/"
    },
    "id": "tGyWVecSxQUd",
    "outputId": "d1ac46be-0465-4733-9495-5e3a0f553281"
   },
   "outputs": [
    {
     "name": "stderr",
     "output_type": "stream",
     "text": [
      "C:\\Users\\hp\\AppData\\Local\\Continuum\\anaconda3\\lib\\site-packages\\ipykernel_launcher.py:10: SettingWithCopyWarning: \n",
      "A value is trying to be set on a copy of a slice from a DataFrame\n",
      "\n",
      "See the caveats in the documentation: http://pandas.pydata.org/pandas-docs/stable/user_guide/indexing.html#returning-a-view-versus-a-copy\n",
      "  # Remove the CWD from sys.path while we load stuff.\n",
      "C:\\Users\\hp\\AppData\\Local\\Continuum\\anaconda3\\lib\\site-packages\\ipykernel_launcher.py:11: SettingWithCopyWarning: \n",
      "A value is trying to be set on a copy of a slice from a DataFrame\n",
      "\n",
      "See the caveats in the documentation: http://pandas.pydata.org/pandas-docs/stable/user_guide/indexing.html#returning-a-view-versus-a-copy\n",
      "  # This is added back by InteractiveShellApp.init_path()\n",
      "C:\\Users\\hp\\AppData\\Local\\Continuum\\anaconda3\\lib\\site-packages\\ipykernel_launcher.py:6: SettingWithCopyWarning: \n",
      "A value is trying to be set on a copy of a slice from a DataFrame\n",
      "\n",
      "See the caveats in the documentation: http://pandas.pydata.org/pandas-docs/stable/user_guide/indexing.html#returning-a-view-versus-a-copy\n",
      "  \n",
      "C:\\Users\\hp\\AppData\\Local\\Continuum\\anaconda3\\lib\\site-packages\\ipykernel_launcher.py:7: SettingWithCopyWarning: \n",
      "A value is trying to be set on a copy of a slice from a DataFrame\n",
      "\n",
      "See the caveats in the documentation: http://pandas.pydata.org/pandas-docs/stable/user_guide/indexing.html#returning-a-view-versus-a-copy\n",
      "  import sys\n"
     ]
    }
   ],
   "source": [
    "c,i=0,70\n",
    "while(c<=6):\n",
    "  i+=1\n",
    "  if i !=5969 and i != 5186:\n",
    "    if dataframe['Code du groupe CTCI'][i]==34:\n",
    "      dataframe['Libellé du groupe CTCI'][5186]=dataframe['Libellé du groupe CTCI'][i]\n",
    "      dataframe['Libellé du groupe CTCI'][5969]=dataframe['Libellé du groupe CTCI'][i]\n",
    "      c+=1\n",
    "    if dataframe['Code de la division CTCI'][i]==3:\n",
    "      dataframe['Libellé de la division CTCI'][5186]=dataframe['Libellé de la division CTCI'][i]\n",
    "      dataframe['Libellé de la division CTCI'][5969]=dataframe['Libellé de la division CTCI'][i]\n",
    "      c+=1"
   ]
  },
  {
   "cell_type": "code",
   "execution_count": 10,
   "metadata": {
    "colab": {
     "base_uri": "https://localhost:8080/"
    },
    "id": "SCjqGXvY0oNe",
    "outputId": "d36ef4c4-d454-4855-8680-a1c78b156da3"
   },
   "outputs": [
    {
     "data": {
      "text/plain": [
       "0"
      ]
     },
     "execution_count": 10,
     "metadata": {},
     "output_type": "execute_result"
    }
   ],
   "source": [
    "dataframe.isnull().sum().sum()"
   ]
  },
  {
   "cell_type": "markdown",
   "metadata": {
    "id": "rZkNe7EDnC47"
   },
   "source": [
    "🎉🥳 NOIICE , no more missing values"
   ]
  },
  {
   "cell_type": "markdown",
   "metadata": {
    "id": "dAAytMt0AcEO"
   },
   "source": [
    "Let's delete now some useless columns (the columns of code ...)"
   ]
  },
  {
   "cell_type": "code",
   "execution_count": 11,
   "metadata": {
    "id": "3UAaOGRWcUyx"
   },
   "outputs": [],
   "source": [
    "dataframe.drop(dataframe.columns[[0,2,3,4,6,8,12]],1, inplace=True)"
   ]
  },
  {
   "cell_type": "markdown",
   "metadata": {
    "id": "00nrcR3pA0uI"
   },
   "source": [
    "voici la form de notre base de données "
   ]
  },
  {
   "cell_type": "code",
   "execution_count": 12,
   "metadata": {
    "colab": {
     "base_uri": "https://localhost:8080/"
    },
    "id": "040KAeijdXlm",
    "outputId": "96c241a1-fb4c-4e99-e6f0-ea89b16b6109"
   },
   "outputs": [
    {
     "data": {
      "text/plain": [
       "Index(['Libellé du groupement d'utilisation', 'Libellé de la section CTCI',\n",
       "       'Libellé de la division CTCI', 'Libellé du groupe CTCI', 'Continent',\n",
       "       'Libellé du pays', 'Libellé du flux', 'Valeur DHS Janvier 2018',\n",
       "       'Valeur DHS Février 2018', 'Valeur DHS Mars 2018',\n",
       "       'Valeur DHS Avril 2018', 'Valeur DHS Mai 2018', 'Valeur DHS Juin 2018',\n",
       "       'Valeur DHS Juillet 2018', 'Valeur DHS Aout 2018',\n",
       "       'Valeur DHS Septembre 2018', 'Valeur DHS Octobre 2018',\n",
       "       'Valeur DHS Novembre 2018', 'Valeur DHS Décembre 2018',\n",
       "       'Valeur DHS Janvier 2019', 'Valeur DHS Février 2019',\n",
       "       'Valeur DHS Mars 2019', 'Valeur DHS Avril 2019', 'Valeur DHS Mai 2019',\n",
       "       'Valeur DHS Juin 2019', 'Valeur DHS Juillet 2019',\n",
       "       'Valeur DHS Aout 2019', 'Valeur DHS Septembre 2019',\n",
       "       'Valeur DHS Octobre 2019', 'Valeur DHS Novembre 2019',\n",
       "       'Valeur DHS Décembre 2019', 'Valeur DHS Janvier 2020',\n",
       "       'Valeur DHS Février 2020', 'Valeur DHS Mars 2020',\n",
       "       'Valeur DHS Avril 2020', 'Valeur DHS Mai 2020', 'Valeur DHS Juin 2020',\n",
       "       'Valeur DHS Juillet 2020', 'Valeur DHS Aout 2020',\n",
       "       'Valeur DHS Septembre 2020', 'Valeur DHS Octobre 2020',\n",
       "       'Valeur DHS Novembre 2020', 'Valeur DHS Décembre 2020',\n",
       "       'Valeur DHS Janvier 2021', 'Valeur DHS Février 2021',\n",
       "       'Valeur DHS Mars 2021', 'Valeur DHS Avril 2021', 'Valeur DHS Mai 2021',\n",
       "       'Valeur DHS Juin 2021'],\n",
       "      dtype='object')"
      ]
     },
     "execution_count": 12,
     "metadata": {},
     "output_type": "execute_result"
    }
   ],
   "source": [
    "dataframe.columns"
   ]
  },
  {
   "cell_type": "markdown",
   "metadata": {
    "id": "pguwjd9pr0HI"
   },
   "source": [
    "# 3. Extraction de sous base de données"
   ]
  },
  {
   "cell_type": "markdown",
   "metadata": {
    "id": "GLaQXgNVtq-0"
   },
   "source": [
    "> ### ✔ Flux & countries\n",
    "\n"
   ]
  },
  {
   "cell_type": "code",
   "execution_count": 13,
   "metadata": {
    "colab": {
     "base_uri": "https://localhost:8080/",
     "height": 393
    },
    "id": "sMJlL4j9rXWp",
    "outputId": "354a3747-0744-4376-a523-db6b05a65473"
   },
   "outputs": [
    {
     "data": {
      "text/html": [
       "<div>\n",
       "<style scoped>\n",
       "    .dataframe tbody tr th:only-of-type {\n",
       "        vertical-align: middle;\n",
       "    }\n",
       "\n",
       "    .dataframe tbody tr th {\n",
       "        vertical-align: top;\n",
       "    }\n",
       "\n",
       "    .dataframe thead th {\n",
       "        text-align: right;\n",
       "    }\n",
       "</style>\n",
       "<table border=\"1\" class=\"dataframe\">\n",
       "  <thead>\n",
       "    <tr style=\"text-align: right;\">\n",
       "      <th></th>\n",
       "      <th>Libellé du pays</th>\n",
       "      <th>Libellé du flux</th>\n",
       "      <th>Valeur DHS Janvier 2018</th>\n",
       "      <th>Valeur DHS Février 2018</th>\n",
       "      <th>Valeur DHS Mars 2018</th>\n",
       "      <th>Valeur DHS Avril 2018</th>\n",
       "      <th>Valeur DHS Mai 2018</th>\n",
       "      <th>Valeur DHS Juin 2018</th>\n",
       "      <th>Valeur DHS Juillet 2018</th>\n",
       "      <th>Valeur DHS Aout 2018</th>\n",
       "      <th>...</th>\n",
       "      <th>Valeur DHS Septembre 2020</th>\n",
       "      <th>Valeur DHS Octobre 2020</th>\n",
       "      <th>Valeur DHS Novembre 2020</th>\n",
       "      <th>Valeur DHS Décembre 2020</th>\n",
       "      <th>Valeur DHS Janvier 2021</th>\n",
       "      <th>Valeur DHS Février 2021</th>\n",
       "      <th>Valeur DHS Mars 2021</th>\n",
       "      <th>Valeur DHS Avril 2021</th>\n",
       "      <th>Valeur DHS Mai 2021</th>\n",
       "      <th>Valeur DHS Juin 2021</th>\n",
       "    </tr>\n",
       "  </thead>\n",
       "  <tbody>\n",
       "    <tr>\n",
       "      <td>0</td>\n",
       "      <td>CONGO</td>\n",
       "      <td>Exportations FAB</td>\n",
       "      <td>70020.000</td>\n",
       "      <td>168350.000</td>\n",
       "      <td>0.000</td>\n",
       "      <td>0.0</td>\n",
       "      <td>0.000</td>\n",
       "      <td>0.0</td>\n",
       "      <td>0.0</td>\n",
       "      <td>0.0</td>\n",
       "      <td>...</td>\n",
       "      <td>0.0</td>\n",
       "      <td>0.0</td>\n",
       "      <td>96200.0</td>\n",
       "      <td>0.000</td>\n",
       "      <td>0.000</td>\n",
       "      <td>0.0</td>\n",
       "      <td>0.0</td>\n",
       "      <td>0.0</td>\n",
       "      <td>0.0</td>\n",
       "      <td>0.0</td>\n",
       "    </tr>\n",
       "    <tr>\n",
       "      <td>1</td>\n",
       "      <td>NIGERIA</td>\n",
       "      <td>Exportations FAB</td>\n",
       "      <td>425387.000</td>\n",
       "      <td>161192.500</td>\n",
       "      <td>0.000</td>\n",
       "      <td>62437.5</td>\n",
       "      <td>0.000</td>\n",
       "      <td>0.0</td>\n",
       "      <td>0.0</td>\n",
       "      <td>0.0</td>\n",
       "      <td>...</td>\n",
       "      <td>0.0</td>\n",
       "      <td>0.0</td>\n",
       "      <td>0.0</td>\n",
       "      <td>0.000</td>\n",
       "      <td>652186.000</td>\n",
       "      <td>1176807.8</td>\n",
       "      <td>192400.0</td>\n",
       "      <td>0.0</td>\n",
       "      <td>0.0</td>\n",
       "      <td>0.0</td>\n",
       "    </tr>\n",
       "    <tr>\n",
       "      <td>2</td>\n",
       "      <td>KAZAKHSTAN</td>\n",
       "      <td>Exportations FAB</td>\n",
       "      <td>108225.000</td>\n",
       "      <td>0.000</td>\n",
       "      <td>0.000</td>\n",
       "      <td>0.0</td>\n",
       "      <td>0.000</td>\n",
       "      <td>0.0</td>\n",
       "      <td>0.0</td>\n",
       "      <td>0.0</td>\n",
       "      <td>...</td>\n",
       "      <td>0.0</td>\n",
       "      <td>275664.0</td>\n",
       "      <td>1321247.0</td>\n",
       "      <td>168350.000</td>\n",
       "      <td>288363.000</td>\n",
       "      <td>0.0</td>\n",
       "      <td>245592.0</td>\n",
       "      <td>0.0</td>\n",
       "      <td>0.0</td>\n",
       "      <td>0.0</td>\n",
       "    </tr>\n",
       "    <tr>\n",
       "      <td>3</td>\n",
       "      <td>ITALIE</td>\n",
       "      <td>Exportations FAB</td>\n",
       "      <td>5636520.434</td>\n",
       "      <td>2573814.994</td>\n",
       "      <td>852133.806</td>\n",
       "      <td>0.0</td>\n",
       "      <td>2633496.431</td>\n",
       "      <td>0.0</td>\n",
       "      <td>178650.0</td>\n",
       "      <td>377795.0</td>\n",
       "      <td>...</td>\n",
       "      <td>0.0</td>\n",
       "      <td>0.0</td>\n",
       "      <td>0.0</td>\n",
       "      <td>1872443.446</td>\n",
       "      <td>7238766.578</td>\n",
       "      <td>0.0</td>\n",
       "      <td>0.0</td>\n",
       "      <td>0.0</td>\n",
       "      <td>1056352.0</td>\n",
       "      <td>2.0</td>\n",
       "    </tr>\n",
       "    <tr>\n",
       "      <td>4</td>\n",
       "      <td>CANADA</td>\n",
       "      <td>Exportations FAB</td>\n",
       "      <td>0.000</td>\n",
       "      <td>0.000</td>\n",
       "      <td>0.000</td>\n",
       "      <td>0.0</td>\n",
       "      <td>36393.000</td>\n",
       "      <td>0.0</td>\n",
       "      <td>0.0</td>\n",
       "      <td>0.0</td>\n",
       "      <td>...</td>\n",
       "      <td>18979.0</td>\n",
       "      <td>15273.0</td>\n",
       "      <td>0.0</td>\n",
       "      <td>0.000</td>\n",
       "      <td>0.000</td>\n",
       "      <td>121193.0</td>\n",
       "      <td>0.0</td>\n",
       "      <td>0.0</td>\n",
       "      <td>0.0</td>\n",
       "      <td>0.0</td>\n",
       "    </tr>\n",
       "  </tbody>\n",
       "</table>\n",
       "<p>5 rows × 44 columns</p>\n",
       "</div>"
      ],
      "text/plain": [
       "  Libellé du pays   Libellé du flux  Valeur DHS Janvier 2018  \\\n",
       "0           CONGO  Exportations FAB                70020.000   \n",
       "1         NIGERIA  Exportations FAB               425387.000   \n",
       "2      KAZAKHSTAN  Exportations FAB               108225.000   \n",
       "3          ITALIE  Exportations FAB              5636520.434   \n",
       "4          CANADA  Exportations FAB                    0.000   \n",
       "\n",
       "   Valeur DHS Février 2018  Valeur DHS Mars 2018  Valeur DHS Avril 2018  \\\n",
       "0               168350.000                 0.000                    0.0   \n",
       "1               161192.500                 0.000                62437.5   \n",
       "2                    0.000                 0.000                    0.0   \n",
       "3              2573814.994            852133.806                    0.0   \n",
       "4                    0.000                 0.000                    0.0   \n",
       "\n",
       "   Valeur DHS Mai 2018  Valeur DHS Juin 2018  Valeur DHS Juillet 2018  \\\n",
       "0                0.000                   0.0                      0.0   \n",
       "1                0.000                   0.0                      0.0   \n",
       "2                0.000                   0.0                      0.0   \n",
       "3          2633496.431                   0.0                 178650.0   \n",
       "4            36393.000                   0.0                      0.0   \n",
       "\n",
       "   Valeur DHS Aout 2018  ...  Valeur DHS Septembre 2020  \\\n",
       "0                   0.0  ...                        0.0   \n",
       "1                   0.0  ...                        0.0   \n",
       "2                   0.0  ...                        0.0   \n",
       "3              377795.0  ...                        0.0   \n",
       "4                   0.0  ...                    18979.0   \n",
       "\n",
       "   Valeur DHS Octobre 2020  Valeur DHS Novembre 2020  \\\n",
       "0                      0.0                   96200.0   \n",
       "1                      0.0                       0.0   \n",
       "2                 275664.0                 1321247.0   \n",
       "3                      0.0                       0.0   \n",
       "4                  15273.0                       0.0   \n",
       "\n",
       "   Valeur DHS Décembre 2020  Valeur DHS Janvier 2021  Valeur DHS Février 2021  \\\n",
       "0                     0.000                    0.000                      0.0   \n",
       "1                     0.000               652186.000                1176807.8   \n",
       "2                168350.000               288363.000                      0.0   \n",
       "3               1872443.446              7238766.578                      0.0   \n",
       "4                     0.000                    0.000                 121193.0   \n",
       "\n",
       "   Valeur DHS Mars 2021  Valeur DHS Avril 2021  Valeur DHS Mai 2021  \\\n",
       "0                   0.0                    0.0                  0.0   \n",
       "1              192400.0                    0.0                  0.0   \n",
       "2              245592.0                    0.0                  0.0   \n",
       "3                   0.0                    0.0            1056352.0   \n",
       "4                   0.0                    0.0                  0.0   \n",
       "\n",
       "   Valeur DHS Juin 2021  \n",
       "0                   0.0  \n",
       "1                   0.0  \n",
       "2                   0.0  \n",
       "3                   2.0  \n",
       "4                   0.0  \n",
       "\n",
       "[5 rows x 44 columns]"
      ]
     },
     "execution_count": 13,
     "metadata": {},
     "output_type": "execute_result"
    }
   ],
   "source": [
    "new_df=dataframe[dataframe.columns[5:]]\n",
    "new_df.to_csv('new_df.csv',index=False)\n",
    "new_df.head()"
   ]
  },
  {
   "cell_type": "code",
   "execution_count": 14,
   "metadata": {
    "colab": {
     "base_uri": "https://localhost:8080/",
     "height": 517
    },
    "id": "WCKybmQKHJQM",
    "outputId": "f3ae83ee-469a-420b-8c16-89ec76772130"
   },
   "outputs": [
    {
     "data": {
      "text/html": [
       "<div>\n",
       "<style scoped>\n",
       "    .dataframe tbody tr th:only-of-type {\n",
       "        vertical-align: middle;\n",
       "    }\n",
       "\n",
       "    .dataframe tbody tr th {\n",
       "        vertical-align: top;\n",
       "    }\n",
       "\n",
       "    .dataframe thead tr th {\n",
       "        text-align: left;\n",
       "    }\n",
       "</style>\n",
       "<table border=\"1\" class=\"dataframe\">\n",
       "  <thead>\n",
       "    <tr>\n",
       "      <th>Libellé du pays</th>\n",
       "      <th colspan=\"5\" halign=\"left\">AFGHANISTAN</th>\n",
       "      <th colspan=\"5\" halign=\"left\">AFRIQUE DU SUD</th>\n",
       "      <th>...</th>\n",
       "      <th>YEMEN</th>\n",
       "      <th colspan=\"2\" halign=\"left\">YOUGOUSLAVIE</th>\n",
       "      <th colspan=\"4\" halign=\"left\">ZAMBIE</th>\n",
       "      <th colspan=\"3\" halign=\"left\">ZIMBABWE</th>\n",
       "    </tr>\n",
       "    <tr>\n",
       "      <th>Libellé du flux</th>\n",
       "      <th>Exportations FAB</th>\n",
       "      <th>Importations CAF</th>\n",
       "      <th>Importations en admission temporaire pour perfectionnement actif  avec paiement</th>\n",
       "      <th>Importations en admission temporaire pour perfectionnement actif  sans paiement</th>\n",
       "      <th>Réexportations en suite d'admission temporaire pour perfectionnement actif avec paiement</th>\n",
       "      <th>Exportations FAB</th>\n",
       "      <th>Importations CAF</th>\n",
       "      <th>Importations en admission temporaire pour perfectionnement actif  avec paiement</th>\n",
       "      <th>Importations en admission temporaire pour perfectionnement actif  sans paiement</th>\n",
       "      <th>Réexportations en suite d'admission temporaire pour perfectionnement actif avec paiement</th>\n",
       "      <th>...</th>\n",
       "      <th>Réexportations en suite d'admission temporaire pour perfectionnement actif sans paiement</th>\n",
       "      <th>Exportations FAB</th>\n",
       "      <th>Importations CAF</th>\n",
       "      <th>Exportations FAB</th>\n",
       "      <th>Importations CAF</th>\n",
       "      <th>Importations en admission temporaire pour perfectionnement actif  avec paiement</th>\n",
       "      <th>Réexportations en suite d'admission temporaire pour perfectionnement actif avec paiement</th>\n",
       "      <th>Exportations FAB</th>\n",
       "      <th>Importations CAF</th>\n",
       "      <th>Importations en admission temporaire pour perfectionnement actif  avec paiement</th>\n",
       "    </tr>\n",
       "  </thead>\n",
       "  <tbody>\n",
       "    <tr>\n",
       "      <td>2018-01-31</td>\n",
       "      <td>0.0</td>\n",
       "      <td>0.0</td>\n",
       "      <td>0.0</td>\n",
       "      <td>0.0</td>\n",
       "      <td>0.0</td>\n",
       "      <td>2.963012e+07</td>\n",
       "      <td>1.143497e+08</td>\n",
       "      <td>2203468.0</td>\n",
       "      <td>199456.0</td>\n",
       "      <td>7816646.000</td>\n",
       "      <td>...</td>\n",
       "      <td>0.0</td>\n",
       "      <td>0.0</td>\n",
       "      <td>0.0</td>\n",
       "      <td>0.0</td>\n",
       "      <td>1413261.0</td>\n",
       "      <td>0.0</td>\n",
       "      <td>0.0</td>\n",
       "      <td>0.0</td>\n",
       "      <td>21.0</td>\n",
       "      <td>0.0</td>\n",
       "    </tr>\n",
       "    <tr>\n",
       "      <td>2018-02-28</td>\n",
       "      <td>0.0</td>\n",
       "      <td>0.0</td>\n",
       "      <td>0.0</td>\n",
       "      <td>0.0</td>\n",
       "      <td>0.0</td>\n",
       "      <td>2.168777e+07</td>\n",
       "      <td>1.778038e+08</td>\n",
       "      <td>52803495.0</td>\n",
       "      <td>68023.0</td>\n",
       "      <td>3386914.600</td>\n",
       "      <td>...</td>\n",
       "      <td>0.0</td>\n",
       "      <td>0.0</td>\n",
       "      <td>0.0</td>\n",
       "      <td>0.0</td>\n",
       "      <td>0.0</td>\n",
       "      <td>0.0</td>\n",
       "      <td>0.0</td>\n",
       "      <td>0.0</td>\n",
       "      <td>0.0</td>\n",
       "      <td>0.0</td>\n",
       "    </tr>\n",
       "    <tr>\n",
       "      <td>2018-03-31</td>\n",
       "      <td>1075705.0</td>\n",
       "      <td>0.0</td>\n",
       "      <td>0.0</td>\n",
       "      <td>0.0</td>\n",
       "      <td>819385.0</td>\n",
       "      <td>3.342333e+07</td>\n",
       "      <td>3.289373e+07</td>\n",
       "      <td>24985665.0</td>\n",
       "      <td>250694.0</td>\n",
       "      <td>6107447.105</td>\n",
       "      <td>...</td>\n",
       "      <td>0.0</td>\n",
       "      <td>0.0</td>\n",
       "      <td>0.0</td>\n",
       "      <td>53412.0</td>\n",
       "      <td>6808168.0</td>\n",
       "      <td>6808168.0</td>\n",
       "      <td>0.0</td>\n",
       "      <td>378119.0</td>\n",
       "      <td>0.0</td>\n",
       "      <td>0.0</td>\n",
       "    </tr>\n",
       "    <tr>\n",
       "      <td>2018-04-30</td>\n",
       "      <td>0.0</td>\n",
       "      <td>0.0</td>\n",
       "      <td>0.0</td>\n",
       "      <td>0.0</td>\n",
       "      <td>0.0</td>\n",
       "      <td>2.078962e+07</td>\n",
       "      <td>5.505742e+07</td>\n",
       "      <td>30476224.0</td>\n",
       "      <td>585773.0</td>\n",
       "      <td>7242430.000</td>\n",
       "      <td>...</td>\n",
       "      <td>0.0</td>\n",
       "      <td>0.0</td>\n",
       "      <td>5011.0</td>\n",
       "      <td>84380.0</td>\n",
       "      <td>0.0</td>\n",
       "      <td>0.0</td>\n",
       "      <td>0.0</td>\n",
       "      <td>0.0</td>\n",
       "      <td>0.0</td>\n",
       "      <td>0.0</td>\n",
       "    </tr>\n",
       "    <tr>\n",
       "      <td>2018-05-31</td>\n",
       "      <td>0.0</td>\n",
       "      <td>25371.0</td>\n",
       "      <td>0.0</td>\n",
       "      <td>0.0</td>\n",
       "      <td>0.0</td>\n",
       "      <td>4.081473e+07</td>\n",
       "      <td>4.519970e+07</td>\n",
       "      <td>25647291.0</td>\n",
       "      <td>484073.0</td>\n",
       "      <td>5504645.730</td>\n",
       "      <td>...</td>\n",
       "      <td>0.0</td>\n",
       "      <td>0.0</td>\n",
       "      <td>1000.0</td>\n",
       "      <td>0.0</td>\n",
       "      <td>6521.0</td>\n",
       "      <td>0.0</td>\n",
       "      <td>0.0</td>\n",
       "      <td>0.0</td>\n",
       "      <td>58003.0</td>\n",
       "      <td>0.0</td>\n",
       "    </tr>\n",
       "  </tbody>\n",
       "</table>\n",
       "<p>5 rows × 985 columns</p>\n",
       "</div>"
      ],
      "text/plain": [
       "Libellé du pays      AFGHANISTAN                   \\\n",
       "Libellé du flux Exportations FAB Importations CAF   \n",
       "2018-01-31                   0.0              0.0   \n",
       "2018-02-28                   0.0              0.0   \n",
       "2018-03-31             1075705.0              0.0   \n",
       "2018-04-30                   0.0              0.0   \n",
       "2018-05-31                   0.0          25371.0   \n",
       "\n",
       "Libellé du pays                                                                                  \\\n",
       "Libellé du flux Importations en admission temporaire pour perfectionnement actif  avec paiement   \n",
       "2018-01-31                                                     0.0                                \n",
       "2018-02-28                                                     0.0                                \n",
       "2018-03-31                                                     0.0                                \n",
       "2018-04-30                                                     0.0                                \n",
       "2018-05-31                                                     0.0                                \n",
       "\n",
       "Libellé du pays                                                                                  \\\n",
       "Libellé du flux Importations en admission temporaire pour perfectionnement actif  sans paiement   \n",
       "2018-01-31                                                     0.0                                \n",
       "2018-02-28                                                     0.0                                \n",
       "2018-03-31                                                     0.0                                \n",
       "2018-04-30                                                     0.0                                \n",
       "2018-05-31                                                     0.0                                \n",
       "\n",
       "Libellé du pays                                                                                           \\\n",
       "Libellé du flux Réexportations en suite d'admission temporaire pour perfectionnement actif avec paiement   \n",
       "2018-01-31                                                     0.0                                         \n",
       "2018-02-28                                                     0.0                                         \n",
       "2018-03-31                                                819385.0                                         \n",
       "2018-04-30                                                     0.0                                         \n",
       "2018-05-31                                                     0.0                                         \n",
       "\n",
       "Libellé du pays   AFRIQUE DU SUD                   \\\n",
       "Libellé du flux Exportations FAB Importations CAF   \n",
       "2018-01-31          2.963012e+07     1.143497e+08   \n",
       "2018-02-28          2.168777e+07     1.778038e+08   \n",
       "2018-03-31          3.342333e+07     3.289373e+07   \n",
       "2018-04-30          2.078962e+07     5.505742e+07   \n",
       "2018-05-31          4.081473e+07     4.519970e+07   \n",
       "\n",
       "Libellé du pays                                                                                  \\\n",
       "Libellé du flux Importations en admission temporaire pour perfectionnement actif  avec paiement   \n",
       "2018-01-31                                               2203468.0                                \n",
       "2018-02-28                                              52803495.0                                \n",
       "2018-03-31                                              24985665.0                                \n",
       "2018-04-30                                              30476224.0                                \n",
       "2018-05-31                                              25647291.0                                \n",
       "\n",
       "Libellé du pays                                                                                  \\\n",
       "Libellé du flux Importations en admission temporaire pour perfectionnement actif  sans paiement   \n",
       "2018-01-31                                                199456.0                                \n",
       "2018-02-28                                                 68023.0                                \n",
       "2018-03-31                                                250694.0                                \n",
       "2018-04-30                                                585773.0                                \n",
       "2018-05-31                                                484073.0                                \n",
       "\n",
       "Libellé du pays                                                                                           \\\n",
       "Libellé du flux Réexportations en suite d'admission temporaire pour perfectionnement actif avec paiement   \n",
       "2018-01-31                                             7816646.000                                         \n",
       "2018-02-28                                             3386914.600                                         \n",
       "2018-03-31                                             6107447.105                                         \n",
       "2018-04-30                                             7242430.000                                         \n",
       "2018-05-31                                             5504645.730                                         \n",
       "\n",
       "Libellé du pays  ...  \\\n",
       "Libellé du flux  ...   \n",
       "2018-01-31       ...   \n",
       "2018-02-28       ...   \n",
       "2018-03-31       ...   \n",
       "2018-04-30       ...   \n",
       "2018-05-31       ...   \n",
       "\n",
       "Libellé du pays                                                                                    YEMEN  \\\n",
       "Libellé du flux Réexportations en suite d'admission temporaire pour perfectionnement actif sans paiement   \n",
       "2018-01-31                                                     0.0                                         \n",
       "2018-02-28                                                     0.0                                         \n",
       "2018-03-31                                                     0.0                                         \n",
       "2018-04-30                                                     0.0                                         \n",
       "2018-05-31                                                     0.0                                         \n",
       "\n",
       "Libellé du pays     YOUGOUSLAVIE                            ZAMBIE  \\\n",
       "Libellé du flux Exportations FAB Importations CAF Exportations FAB   \n",
       "2018-01-31                   0.0              0.0              0.0   \n",
       "2018-02-28                   0.0              0.0              0.0   \n",
       "2018-03-31                   0.0              0.0          53412.0   \n",
       "2018-04-30                   0.0           5011.0          84380.0   \n",
       "2018-05-31                   0.0           1000.0              0.0   \n",
       "\n",
       "Libellé du pays                   \\\n",
       "Libellé du flux Importations CAF   \n",
       "2018-01-31             1413261.0   \n",
       "2018-02-28                   0.0   \n",
       "2018-03-31             6808168.0   \n",
       "2018-04-30                   0.0   \n",
       "2018-05-31                6521.0   \n",
       "\n",
       "Libellé du pays                                                                                  \\\n",
       "Libellé du flux Importations en admission temporaire pour perfectionnement actif  avec paiement   \n",
       "2018-01-31                                                     0.0                                \n",
       "2018-02-28                                                     0.0                                \n",
       "2018-03-31                                               6808168.0                                \n",
       "2018-04-30                                                     0.0                                \n",
       "2018-05-31                                                     0.0                                \n",
       "\n",
       "Libellé du pays                                                                                           \\\n",
       "Libellé du flux Réexportations en suite d'admission temporaire pour perfectionnement actif avec paiement   \n",
       "2018-01-31                                                     0.0                                         \n",
       "2018-02-28                                                     0.0                                         \n",
       "2018-03-31                                                     0.0                                         \n",
       "2018-04-30                                                     0.0                                         \n",
       "2018-05-31                                                     0.0                                         \n",
       "\n",
       "Libellé du pays         ZIMBABWE                   \\\n",
       "Libellé du flux Exportations FAB Importations CAF   \n",
       "2018-01-31                   0.0             21.0   \n",
       "2018-02-28                   0.0              0.0   \n",
       "2018-03-31              378119.0              0.0   \n",
       "2018-04-30                   0.0              0.0   \n",
       "2018-05-31                   0.0          58003.0   \n",
       "\n",
       "Libellé du pays                                                                                  \n",
       "Libellé du flux Importations en admission temporaire pour perfectionnement actif  avec paiement  \n",
       "2018-01-31                                                     0.0                               \n",
       "2018-02-28                                                     0.0                               \n",
       "2018-03-31                                                     0.0                               \n",
       "2018-04-30                                                     0.0                               \n",
       "2018-05-31                                                     0.0                               \n",
       "\n",
       "[5 rows x 985 columns]"
      ]
     },
     "execution_count": 14,
     "metadata": {},
     "output_type": "execute_result"
    }
   ],
   "source": [
    "flux=new_df.groupby(['Libellé du pays','Libellé du flux']).sum()\n",
    "flux=flux.transpose()\n",
    "#flux['Date']=pd.date_range(start='2018-01-01', periods=42,freq='M')\n",
    "flux.set_index(pd.date_range(start='2018-01-01', periods=42,freq='M'),inplace=True)\n",
    "flux.head()"
   ]
  },
  {
   "cell_type": "code",
   "execution_count": 15,
   "metadata": {
    "colab": {
     "base_uri": "https://localhost:8080/"
    },
    "id": "PfnyEmZjzDAb",
    "outputId": "c4b64719-bf03-4398-efbf-577698d4f81d"
   },
   "outputs": [
    {
     "data": {
      "text/plain": [
       "0"
      ]
     },
     "execution_count": 15,
     "metadata": {},
     "output_type": "execute_result"
    }
   ],
   "source": [
    "flux.isnull().sum().sum()"
   ]
  },
  {
   "cell_type": "markdown",
   "metadata": {
    "id": "KuNtUaSvb4L6"
   },
   "source": [
    "> ### ✔ Groupement d'utilisation\n"
   ]
  },
  {
   "cell_type": "code",
   "execution_count": 16,
   "metadata": {
    "colab": {
     "base_uri": "https://localhost:8080/",
     "height": 256
    },
    "id": "dNBqoSx6Ip0-",
    "outputId": "72dc2593-7ab9-41d0-f0a8-51c516caccca"
   },
   "outputs": [
    {
     "data": {
      "text/html": [
       "<div>\n",
       "<style scoped>\n",
       "    .dataframe tbody tr th:only-of-type {\n",
       "        vertical-align: middle;\n",
       "    }\n",
       "\n",
       "    .dataframe tbody tr th {\n",
       "        vertical-align: top;\n",
       "    }\n",
       "\n",
       "    .dataframe thead th {\n",
       "        text-align: right;\n",
       "    }\n",
       "</style>\n",
       "<table border=\"1\" class=\"dataframe\">\n",
       "  <thead>\n",
       "    <tr style=\"text-align: right;\">\n",
       "      <th></th>\n",
       "      <th>Libellé du groupement d'utilisation</th>\n",
       "      <th>Libellé de la section CTCI</th>\n",
       "      <th>Libellé de la division CTCI</th>\n",
       "      <th>Libellé du groupe CTCI</th>\n",
       "      <th>Continent</th>\n",
       "      <th>Libellé du pays</th>\n",
       "      <th>Libellé du flux</th>\n",
       "      <th>Valeur DHS Janvier 2018</th>\n",
       "      <th>Valeur DHS Février 2018</th>\n",
       "      <th>Valeur DHS Mars 2018</th>\n",
       "      <th>...</th>\n",
       "      <th>Valeur DHS Octobre 2020</th>\n",
       "      <th>Valeur DHS Novembre 2020</th>\n",
       "      <th>Valeur DHS Décembre 2020</th>\n",
       "      <th>Valeur DHS Janvier 2021</th>\n",
       "      <th>Valeur DHS Février 2021</th>\n",
       "      <th>Valeur DHS Mars 2021</th>\n",
       "      <th>Valeur DHS Avril 2021</th>\n",
       "      <th>Valeur DHS Mai 2021</th>\n",
       "      <th>Valeur DHS Juin 2021</th>\n",
       "      <th>Valeur Total</th>\n",
       "    </tr>\n",
       "  </thead>\n",
       "  <tbody>\n",
       "    <tr>\n",
       "      <td>0</td>\n",
       "      <td>ALIMENTATION, BOISSONS ET TABACS</td>\n",
       "      <td>PRODUITS ALIMENTAIRES ET ANIMAUX VIVANTS</td>\n",
       "      <td>LÉGUMES ET FRUITS</td>\n",
       "      <td>FRUITS, MÊME À COQUE (À L¿EXCLUSION DES FRUITS...</td>\n",
       "      <td>AFRIQUE</td>\n",
       "      <td>CONGO</td>\n",
       "      <td>Exportations FAB</td>\n",
       "      <td>70020.0</td>\n",
       "      <td>168350.0</td>\n",
       "      <td>0.0</td>\n",
       "      <td>...</td>\n",
       "      <td>0.0</td>\n",
       "      <td>96200.0</td>\n",
       "      <td>0.0</td>\n",
       "      <td>0.0</td>\n",
       "      <td>0.0</td>\n",
       "      <td>0.0</td>\n",
       "      <td>0.0</td>\n",
       "      <td>0.0</td>\n",
       "      <td>0.0</td>\n",
       "      <td>1007201.5</td>\n",
       "    </tr>\n",
       "  </tbody>\n",
       "</table>\n",
       "<p>1 rows × 50 columns</p>\n",
       "</div>"
      ],
      "text/plain": [
       "  Libellé du groupement d'utilisation  \\\n",
       "0    ALIMENTATION, BOISSONS ET TABACS   \n",
       "\n",
       "                 Libellé de la section CTCI Libellé de la division CTCI  \\\n",
       "0  PRODUITS ALIMENTAIRES ET ANIMAUX VIVANTS           LÉGUMES ET FRUITS   \n",
       "\n",
       "                              Libellé du groupe CTCI Continent  \\\n",
       "0  FRUITS, MÊME À COQUE (À L¿EXCLUSION DES FRUITS...   AFRIQUE   \n",
       "\n",
       "  Libellé du pays   Libellé du flux  Valeur DHS Janvier 2018  \\\n",
       "0           CONGO  Exportations FAB                  70020.0   \n",
       "\n",
       "   Valeur DHS Février 2018  Valeur DHS Mars 2018  ...  \\\n",
       "0                 168350.0                   0.0  ...   \n",
       "\n",
       "   Valeur DHS Octobre 2020  Valeur DHS Novembre 2020  \\\n",
       "0                      0.0                   96200.0   \n",
       "\n",
       "   Valeur DHS Décembre 2020  Valeur DHS Janvier 2021  Valeur DHS Février 2021  \\\n",
       "0                       0.0                      0.0                      0.0   \n",
       "\n",
       "   Valeur DHS Mars 2021  Valeur DHS Avril 2021  Valeur DHS Mai 2021  \\\n",
       "0                   0.0                    0.0                  0.0   \n",
       "\n",
       "   Valeur DHS Juin 2021  Valeur Total  \n",
       "0                   0.0     1007201.5  \n",
       "\n",
       "[1 rows x 50 columns]"
      ]
     },
     "execution_count": 16,
     "metadata": {},
     "output_type": "execute_result"
    }
   ],
   "source": [
    "dataframe['Valeur Total']=dataframe[dataframe.columns[7:]].sum(axis=1)\n",
    "dataframe.head(1)"
   ]
  },
  {
   "cell_type": "code",
   "execution_count": 17,
   "metadata": {
    "colab": {
     "base_uri": "https://localhost:8080/",
     "height": 298
    },
    "id": "9zAxh9QvTAc9",
    "outputId": "27fdecec-2e55-4612-966c-b917f5c3c74a"
   },
   "outputs": [
    {
     "name": "stderr",
     "output_type": "stream",
     "text": [
      "C:\\Users\\hp\\AppData\\Local\\Continuum\\anaconda3\\lib\\site-packages\\ipykernel_launcher.py:2: SettingWithCopyWarning: \n",
      "A value is trying to be set on a copy of a slice from a DataFrame.\n",
      "Try using .loc[row_indexer,col_indexer] = value instead\n",
      "\n",
      "See the caveats in the documentation: http://pandas.pydata.org/pandas-docs/stable/user_guide/indexing.html#returning-a-view-versus-a-copy\n",
      "  \n"
     ]
    },
    {
     "data": {
      "text/html": [
       "<div>\n",
       "<style scoped>\n",
       "    .dataframe tbody tr th:only-of-type {\n",
       "        vertical-align: middle;\n",
       "    }\n",
       "\n",
       "    .dataframe tbody tr th {\n",
       "        vertical-align: top;\n",
       "    }\n",
       "\n",
       "    .dataframe thead th {\n",
       "        text-align: right;\n",
       "    }\n",
       "</style>\n",
       "<table border=\"1\" class=\"dataframe\">\n",
       "  <thead>\n",
       "    <tr style=\"text-align: right;\">\n",
       "      <th></th>\n",
       "      <th>Libellé du groupement d'utilisation</th>\n",
       "      <th>Libellé de la section CTCI</th>\n",
       "      <th>Libellé de la division CTCI</th>\n",
       "      <th>Libellé du groupe CTCI</th>\n",
       "      <th>Continent</th>\n",
       "      <th>Libellé du pays</th>\n",
       "      <th>Libellé du flux</th>\n",
       "      <th>Total dh</th>\n",
       "    </tr>\n",
       "  </thead>\n",
       "  <tbody>\n",
       "    <tr>\n",
       "      <td>0</td>\n",
       "      <td>ALIMENTATION, BOISSONS ET TABACS</td>\n",
       "      <td>PRODUITS ALIMENTAIRES ET ANIMAUX VIVANTS</td>\n",
       "      <td>LÉGUMES ET FRUITS</td>\n",
       "      <td>FRUITS, MÊME À COQUE (À L¿EXCLUSION DES FRUITS...</td>\n",
       "      <td>AFRIQUE</td>\n",
       "      <td>CONGO</td>\n",
       "      <td>Exportations FAB</td>\n",
       "      <td>1007201.5</td>\n",
       "    </tr>\n",
       "    <tr>\n",
       "      <td>1</td>\n",
       "      <td>ALIMENTATION, BOISSONS ET TABACS</td>\n",
       "      <td>PRODUITS ALIMENTAIRES ET ANIMAUX VIVANTS</td>\n",
       "      <td>LÉGUMES ET FRUITS</td>\n",
       "      <td>FRUITS, MÊME À COQUE (À L¿EXCLUSION DES FRUITS...</td>\n",
       "      <td>AFRIQUE</td>\n",
       "      <td>NIGERIA</td>\n",
       "      <td>Exportations FAB</td>\n",
       "      <td>3858549.8</td>\n",
       "    </tr>\n",
       "  </tbody>\n",
       "</table>\n",
       "</div>"
      ],
      "text/plain": [
       "  Libellé du groupement d'utilisation  \\\n",
       "0    ALIMENTATION, BOISSONS ET TABACS   \n",
       "1    ALIMENTATION, BOISSONS ET TABACS   \n",
       "\n",
       "                 Libellé de la section CTCI Libellé de la division CTCI  \\\n",
       "0  PRODUITS ALIMENTAIRES ET ANIMAUX VIVANTS           LÉGUMES ET FRUITS   \n",
       "1  PRODUITS ALIMENTAIRES ET ANIMAUX VIVANTS           LÉGUMES ET FRUITS   \n",
       "\n",
       "                              Libellé du groupe CTCI Continent  \\\n",
       "0  FRUITS, MÊME À COQUE (À L¿EXCLUSION DES FRUITS...   AFRIQUE   \n",
       "1  FRUITS, MÊME À COQUE (À L¿EXCLUSION DES FRUITS...   AFRIQUE   \n",
       "\n",
       "  Libellé du pays   Libellé du flux   Total dh  \n",
       "0           CONGO  Exportations FAB  1007201.5  \n",
       "1         NIGERIA  Exportations FAB  3858549.8  "
      ]
     },
     "execution_count": 17,
     "metadata": {},
     "output_type": "execute_result"
    }
   ],
   "source": [
    "new_df1=dataframe[dataframe.columns[:7]]\n",
    "new_df1['Total dh']=dataframe['Valeur Total']\n",
    "new_df1.to_csv('Export_total.csv', index=False)\n",
    "new_df1.head(2)"
   ]
  },
  {
   "cell_type": "code",
   "execution_count": 18,
   "metadata": {
    "colab": {
     "base_uri": "https://localhost:8080/",
     "height": 351
    },
    "id": "GJIBBJuzYu5s",
    "outputId": "731f5e3b-66bc-425a-ce2b-ebf4a6df2a34"
   },
   "outputs": [
    {
     "data": {
      "text/html": [
       "<div>\n",
       "<style scoped>\n",
       "    .dataframe tbody tr th:only-of-type {\n",
       "        vertical-align: middle;\n",
       "    }\n",
       "\n",
       "    .dataframe tbody tr th {\n",
       "        vertical-align: top;\n",
       "    }\n",
       "\n",
       "    .dataframe thead th {\n",
       "        text-align: right;\n",
       "    }\n",
       "</style>\n",
       "<table border=\"1\" class=\"dataframe\">\n",
       "  <thead>\n",
       "    <tr style=\"text-align: right;\">\n",
       "      <th></th>\n",
       "      <th>Total dh</th>\n",
       "    </tr>\n",
       "    <tr>\n",
       "      <th>Libellé du groupement d'utilisation</th>\n",
       "      <th></th>\n",
       "    </tr>\n",
       "  </thead>\n",
       "  <tbody>\n",
       "    <tr>\n",
       "      <td>ALIMENTATION, BOISSONS ET TABACS</td>\n",
       "      <td>4.407621e+11</td>\n",
       "    </tr>\n",
       "    <tr>\n",
       "      <td>DEMI  PRODUITS</td>\n",
       "      <td>8.945092e+11</td>\n",
       "    </tr>\n",
       "    <tr>\n",
       "      <td>ENERGIE  ET  LUBRIFIANTS</td>\n",
       "      <td>2.547111e+11</td>\n",
       "    </tr>\n",
       "    <tr>\n",
       "      <td>OR INDUSTRIEL</td>\n",
       "      <td>2.453125e+09</td>\n",
       "    </tr>\n",
       "    <tr>\n",
       "      <td>PRODUITS BRUTS D'ORIGINE ANIMALE ET VEGETALE</td>\n",
       "      <td>8.173197e+10</td>\n",
       "    </tr>\n",
       "    <tr>\n",
       "      <td>PRODUITS BRUTS D'ORIGINE MINERALE</td>\n",
       "      <td>1.164993e+11</td>\n",
       "    </tr>\n",
       "    <tr>\n",
       "      <td>PRODUITS FINIS D'EQUIPEMENT AGRICOLE</td>\n",
       "      <td>7.369060e+09</td>\n",
       "    </tr>\n",
       "    <tr>\n",
       "      <td>PRODUITS FINIS D'EQUIPEMENT INDUSTRIEL</td>\n",
       "      <td>9.141132e+11</td>\n",
       "    </tr>\n",
       "    <tr>\n",
       "      <td>PRODUITS FINIS DE CONSOMMATION</td>\n",
       "      <td>1.042161e+12</td>\n",
       "    </tr>\n",
       "  </tbody>\n",
       "</table>\n",
       "</div>"
      ],
      "text/plain": [
       "                                                  Total dh\n",
       "Libellé du groupement d'utilisation                       \n",
       "ALIMENTATION, BOISSONS ET TABACS              4.407621e+11\n",
       "DEMI  PRODUITS                                8.945092e+11\n",
       "ENERGIE  ET  LUBRIFIANTS                      2.547111e+11\n",
       "OR INDUSTRIEL                                 2.453125e+09\n",
       "PRODUITS BRUTS D'ORIGINE ANIMALE ET VEGETALE  8.173197e+10\n",
       "PRODUITS BRUTS D'ORIGINE MINERALE             1.164993e+11\n",
       "PRODUITS FINIS D'EQUIPEMENT AGRICOLE          7.369060e+09\n",
       "PRODUITS FINIS D'EQUIPEMENT INDUSTRIEL        9.141132e+11\n",
       "PRODUITS FINIS DE CONSOMMATION                1.042161e+12"
      ]
     },
     "execution_count": 18,
     "metadata": {},
     "output_type": "execute_result"
    }
   ],
   "source": [
    "new_df1.groupby([\"Libellé du groupement d'utilisation\"]).sum().head(20)"
   ]
  },
  {
   "cell_type": "code",
   "execution_count": 19,
   "metadata": {
    "colab": {
     "base_uri": "https://localhost:8080/",
     "height": 260
    },
    "id": "i7UhaDiVY1Ll",
    "outputId": "4f7047a8-53f6-483f-92f8-1c32d7a92589"
   },
   "outputs": [
    {
     "data": {
      "text/html": [
       "<div>\n",
       "<style scoped>\n",
       "    .dataframe tbody tr th:only-of-type {\n",
       "        vertical-align: middle;\n",
       "    }\n",
       "\n",
       "    .dataframe tbody tr th {\n",
       "        vertical-align: top;\n",
       "    }\n",
       "\n",
       "    .dataframe thead th {\n",
       "        text-align: right;\n",
       "    }\n",
       "</style>\n",
       "<table border=\"1\" class=\"dataframe\">\n",
       "  <thead>\n",
       "    <tr style=\"text-align: right;\">\n",
       "      <th></th>\n",
       "      <th></th>\n",
       "      <th>Total dh</th>\n",
       "    </tr>\n",
       "    <tr>\n",
       "      <th>Libellé du pays</th>\n",
       "      <th>Libellé du groupement d'utilisation</th>\n",
       "      <th></th>\n",
       "    </tr>\n",
       "  </thead>\n",
       "  <tbody>\n",
       "    <tr>\n",
       "      <td rowspan=\"4\" valign=\"top\">AFGHANISTAN</td>\n",
       "      <td>ALIMENTATION, BOISSONS ET TABACS</td>\n",
       "      <td>1.091860e+07</td>\n",
       "    </tr>\n",
       "    <tr>\n",
       "      <td>DEMI  PRODUITS</td>\n",
       "      <td>5.776000e+03</td>\n",
       "    </tr>\n",
       "    <tr>\n",
       "      <td>PRODUITS BRUTS D'ORIGINE ANIMALE ET VEGETALE</td>\n",
       "      <td>4.251125e+06</td>\n",
       "    </tr>\n",
       "    <tr>\n",
       "      <td>PRODUITS FINIS DE CONSOMMATION</td>\n",
       "      <td>1.368589e+06</td>\n",
       "    </tr>\n",
       "    <tr>\n",
       "      <td rowspan=\"2\" valign=\"top\">AFRIQUE DU SUD</td>\n",
       "      <td>ALIMENTATION, BOISSONS ET TABACS</td>\n",
       "      <td>1.414582e+09</td>\n",
       "    </tr>\n",
       "    <tr>\n",
       "      <td>DEMI  PRODUITS</td>\n",
       "      <td>1.311651e+09</td>\n",
       "    </tr>\n",
       "  </tbody>\n",
       "</table>\n",
       "</div>"
      ],
      "text/plain": [
       "                                                                  Total dh\n",
       "Libellé du pays Libellé du groupement d'utilisation                       \n",
       "AFGHANISTAN     ALIMENTATION, BOISSONS ET TABACS              1.091860e+07\n",
       "                DEMI  PRODUITS                                5.776000e+03\n",
       "                PRODUITS BRUTS D'ORIGINE ANIMALE ET VEGETALE  4.251125e+06\n",
       "                PRODUITS FINIS DE CONSOMMATION                1.368589e+06\n",
       "AFRIQUE DU SUD  ALIMENTATION, BOISSONS ET TABACS              1.414582e+09\n",
       "                DEMI  PRODUITS                                1.311651e+09"
      ]
     },
     "execution_count": 19,
     "metadata": {},
     "output_type": "execute_result"
    }
   ],
   "source": [
    "new_df1.groupby(['Libellé du pays',\"Libellé du groupement d'utilisation\"]).sum().head(6)"
   ]
  },
  {
   "cell_type": "code",
   "execution_count": 20,
   "metadata": {
    "colab": {
     "base_uri": "https://localhost:8080/",
     "height": 381
    },
    "id": "rX138_oXlLGE",
    "outputId": "5c954d38-f752-499c-ef0f-3e28852d3287"
   },
   "outputs": [
    {
     "data": {
      "text/html": [
       "<div>\n",
       "<style scoped>\n",
       "    .dataframe tbody tr th:only-of-type {\n",
       "        vertical-align: middle;\n",
       "    }\n",
       "\n",
       "    .dataframe tbody tr th {\n",
       "        vertical-align: top;\n",
       "    }\n",
       "\n",
       "    .dataframe thead th {\n",
       "        text-align: right;\n",
       "    }\n",
       "</style>\n",
       "<table border=\"1\" class=\"dataframe\">\n",
       "  <thead>\n",
       "    <tr style=\"text-align: right;\">\n",
       "      <th></th>\n",
       "      <th></th>\n",
       "      <th>Total dh</th>\n",
       "    </tr>\n",
       "    <tr>\n",
       "      <th>Libellé du flux</th>\n",
       "      <th>Libellé du groupement d'utilisation</th>\n",
       "      <th></th>\n",
       "    </tr>\n",
       "  </thead>\n",
       "  <tbody>\n",
       "    <tr>\n",
       "      <td rowspan=\"9\" valign=\"top\">Exportations FAB</td>\n",
       "      <td>ALIMENTATION, BOISSONS ET TABACS</td>\n",
       "      <td>1.998778e+11</td>\n",
       "    </tr>\n",
       "    <tr>\n",
       "      <td>DEMI  PRODUITS</td>\n",
       "      <td>2.138336e+11</td>\n",
       "    </tr>\n",
       "    <tr>\n",
       "      <td>ENERGIE  ET  LUBRIFIANTS</td>\n",
       "      <td>9.379041e+09</td>\n",
       "    </tr>\n",
       "    <tr>\n",
       "      <td>OR INDUSTRIEL</td>\n",
       "      <td>1.614490e+09</td>\n",
       "    </tr>\n",
       "    <tr>\n",
       "      <td>PRODUITS BRUTS D'ORIGINE ANIMALE ET VEGETALE</td>\n",
       "      <td>2.058247e+10</td>\n",
       "    </tr>\n",
       "    <tr>\n",
       "      <td>PRODUITS BRUTS D'ORIGINE MINERALE</td>\n",
       "      <td>4.726345e+10</td>\n",
       "    </tr>\n",
       "    <tr>\n",
       "      <td>PRODUITS FINIS D'EQUIPEMENT AGRICOLE</td>\n",
       "      <td>4.900290e+08</td>\n",
       "    </tr>\n",
       "    <tr>\n",
       "      <td>PRODUITS FINIS D'EQUIPEMENT INDUSTRIEL</td>\n",
       "      <td>1.955631e+11</td>\n",
       "    </tr>\n",
       "    <tr>\n",
       "      <td>PRODUITS FINIS DE CONSOMMATION</td>\n",
       "      <td>2.874920e+11</td>\n",
       "    </tr>\n",
       "    <tr>\n",
       "      <td>Importations CAF</td>\n",
       "      <td>ALIMENTATION, BOISSONS ET TABACS</td>\n",
       "      <td>1.809376e+11</td>\n",
       "    </tr>\n",
       "  </tbody>\n",
       "</table>\n",
       "</div>"
      ],
      "text/plain": [
       "                                                                   Total dh\n",
       "Libellé du flux  Libellé du groupement d'utilisation                       \n",
       "Exportations FAB ALIMENTATION, BOISSONS ET TABACS              1.998778e+11\n",
       "                 DEMI  PRODUITS                                2.138336e+11\n",
       "                 ENERGIE  ET  LUBRIFIANTS                      9.379041e+09\n",
       "                 OR INDUSTRIEL                                 1.614490e+09\n",
       "                 PRODUITS BRUTS D'ORIGINE ANIMALE ET VEGETALE  2.058247e+10\n",
       "                 PRODUITS BRUTS D'ORIGINE MINERALE             4.726345e+10\n",
       "                 PRODUITS FINIS D'EQUIPEMENT AGRICOLE          4.900290e+08\n",
       "                 PRODUITS FINIS D'EQUIPEMENT INDUSTRIEL        1.955631e+11\n",
       "                 PRODUITS FINIS DE CONSOMMATION                2.874920e+11\n",
       "Importations CAF ALIMENTATION, BOISSONS ET TABACS              1.809376e+11"
      ]
     },
     "execution_count": 20,
     "metadata": {},
     "output_type": "execute_result"
    }
   ],
   "source": [
    "new_df1.groupby(['Libellé du flux',\"Libellé du groupement d'utilisation\"]).sum().head(10)"
   ]
  },
  {
   "cell_type": "markdown",
   "metadata": {
    "id": "6hWX7pYDO3iO"
   },
   "source": [
    "> ### ✔ division CTCI\n"
   ]
  },
  {
   "cell_type": "code",
   "execution_count": 21,
   "metadata": {
    "colab": {
     "base_uri": "https://localhost:8080/",
     "height": 170
    },
    "id": "wbQ3n0RqjcDQ",
    "outputId": "7dc65d03-4250-42dc-a312-6caac66a4ff3"
   },
   "outputs": [
    {
     "data": {
      "text/html": [
       "<div>\n",
       "<style scoped>\n",
       "    .dataframe tbody tr th:only-of-type {\n",
       "        vertical-align: middle;\n",
       "    }\n",
       "\n",
       "    .dataframe tbody tr th {\n",
       "        vertical-align: top;\n",
       "    }\n",
       "\n",
       "    .dataframe thead th {\n",
       "        text-align: right;\n",
       "    }\n",
       "</style>\n",
       "<table border=\"1\" class=\"dataframe\">\n",
       "  <thead>\n",
       "    <tr style=\"text-align: right;\">\n",
       "      <th></th>\n",
       "      <th>Total dh</th>\n",
       "    </tr>\n",
       "    <tr>\n",
       "      <th>Libellé de la division CTCI</th>\n",
       "      <th></th>\n",
       "    </tr>\n",
       "  </thead>\n",
       "  <tbody>\n",
       "    <tr>\n",
       "      <td>MACHINES ET APPAREILS ÉLECTRIQUES, N.D.A., ET LEURS PARTIES ET PIÈCES DÉTACHÉES ÉLECTRIQUES (Y COMPR</td>\n",
       "      <td>5.223035e+11</td>\n",
       "    </tr>\n",
       "    <tr>\n",
       "      <td>VÉHICULES ROUTIERS (MÊME À COUSSIN D¿AIR)</td>\n",
       "      <td>4.467940e+11</td>\n",
       "    </tr>\n",
       "    <tr>\n",
       "      <td>ENGRAIS (AUTRES QUE CEUX DU GROUPE 272)</td>\n",
       "      <td>2.293673e+11</td>\n",
       "    </tr>\n",
       "  </tbody>\n",
       "</table>\n",
       "</div>"
      ],
      "text/plain": [
       "                                                        Total dh\n",
       "Libellé de la division CTCI                                     \n",
       "MACHINES ET APPAREILS ÉLECTRIQUES, N.D.A., ET L...  5.223035e+11\n",
       "VÉHICULES ROUTIERS (MÊME À COUSSIN D¿AIR)           4.467940e+11\n",
       "ENGRAIS (AUTRES QUE CEUX DU GROUPE 272)             2.293673e+11"
      ]
     },
     "execution_count": 21,
     "metadata": {},
     "output_type": "execute_result"
    }
   ],
   "source": [
    "new_df1.groupby([\"Libellé de la division CTCI\"]).sum().sort_values('Total dh', ascending=False).head(3)"
   ]
  },
  {
   "cell_type": "code",
   "execution_count": null,
   "metadata": {
    "id": "f_9Om4eDWEtc"
   },
   "outputs": [],
   "source": []
  },
  {
   "cell_type": "markdown",
   "metadata": {
    "id": "-TtRZ49tO7FV"
   },
   "source": [
    "> ### ✔ Continent"
   ]
  },
  {
   "cell_type": "code",
   "execution_count": 22,
   "metadata": {
    "colab": {
     "base_uri": "https://localhost:8080/"
    },
    "id": "OFu3vyqQO6As",
    "outputId": "a6871b3c-e646-40af-a31c-0d678c542aca"
   },
   "outputs": [
    {
     "data": {
      "text/plain": [
       "Total dh    2.571543e+12\n",
       "dtype: float64"
      ]
     },
     "execution_count": 22,
     "metadata": {},
     "output_type": "execute_result"
    }
   ],
   "source": [
    "new_df1.groupby([\"Continent\"]).sum().max()"
   ]
  },
  {
   "cell_type": "code",
   "execution_count": 23,
   "metadata": {
    "colab": {
     "base_uri": "https://localhost:8080/",
     "height": 170
    },
    "id": "BUVUuot9j0Ft",
    "outputId": "c737eadc-ac32-43f4-bb49-e25de62a27ec"
   },
   "outputs": [
    {
     "data": {
      "text/html": [
       "<div>\n",
       "<style scoped>\n",
       "    .dataframe tbody tr th:only-of-type {\n",
       "        vertical-align: middle;\n",
       "    }\n",
       "\n",
       "    .dataframe tbody tr th {\n",
       "        vertical-align: top;\n",
       "    }\n",
       "\n",
       "    .dataframe thead th {\n",
       "        text-align: right;\n",
       "    }\n",
       "</style>\n",
       "<table border=\"1\" class=\"dataframe\">\n",
       "  <thead>\n",
       "    <tr style=\"text-align: right;\">\n",
       "      <th></th>\n",
       "      <th></th>\n",
       "      <th>Total dh</th>\n",
       "    </tr>\n",
       "    <tr>\n",
       "      <th>Continent</th>\n",
       "      <th>Libellé du groupement d'utilisation</th>\n",
       "      <th></th>\n",
       "    </tr>\n",
       "  </thead>\n",
       "  <tbody>\n",
       "    <tr>\n",
       "      <td rowspan=\"3\" valign=\"top\">AFRIQUE</td>\n",
       "      <td>ALIMENTATION, BOISSONS ET TABACS</td>\n",
       "      <td>4.441974e+10</td>\n",
       "    </tr>\n",
       "    <tr>\n",
       "      <td>DEMI  PRODUITS</td>\n",
       "      <td>6.984079e+10</td>\n",
       "    </tr>\n",
       "    <tr>\n",
       "      <td>ENERGIE  ET  LUBRIFIANTS</td>\n",
       "      <td>2.380866e+10</td>\n",
       "    </tr>\n",
       "  </tbody>\n",
       "</table>\n",
       "</div>"
      ],
      "text/plain": [
       "                                                   Total dh\n",
       "Continent Libellé du groupement d'utilisation              \n",
       "AFRIQUE   ALIMENTATION, BOISSONS ET TABACS     4.441974e+10\n",
       "          DEMI  PRODUITS                       6.984079e+10\n",
       "          ENERGIE  ET  LUBRIFIANTS             2.380866e+10"
      ]
     },
     "execution_count": 23,
     "metadata": {},
     "output_type": "execute_result"
    }
   ],
   "source": [
    "new_df1.groupby([\"Continent\",\"Libellé du groupement d'utilisation\"]).sum().head(3)"
   ]
  }
 ],
 "metadata": {
  "colab": {
   "collapsed_sections": [
    "hWFOlMMgiiRP",
    "07LKaJZLGuLs"
   ],
   "name": "Data prep - office de change || Data Viz projecct.ipynb",
   "provenance": []
  },
  "kernelspec": {
   "display_name": "Python 3",
   "language": "python",
   "name": "python3"
  },
  "language_info": {
   "codemirror_mode": {
    "name": "ipython",
    "version": 3
   },
   "file_extension": ".py",
   "mimetype": "text/x-python",
   "name": "python",
   "nbconvert_exporter": "python",
   "pygments_lexer": "ipython3",
   "version": "3.7.4"
  }
 },
 "nbformat": 4,
 "nbformat_minor": 1
}
