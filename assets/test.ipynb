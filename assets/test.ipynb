{
 "cells": [
  {
   "cell_type": "code",
   "execution_count": 139,
   "metadata": {},
   "outputs": [],
   "source": [
    "import pandas as pd\n",
    "import plotly.express as px\n",
    "import numpy as np"
   ]
  },
  {
   "cell_type": "code",
   "execution_count": 109,
   "metadata": {},
   "outputs": [],
   "source": [
    "annual = pd.read_csv(\"../Data/Annual_processed.csv\", sep=\",\")\n",
    "annual0 = pd.read_csv(\"../Data/Annual.csv\", sep=';',decimal=',')\n",
    "Export_total = pd.read_csv(\"../Data/Export_total.csv\")\n",
    "codes_pays=pd.read_csv(\"../Data/codes_pays.csv\",sep=\",\")"
   ]
  },
  {
   "cell_type": "code",
   "execution_count": 110,
   "metadata": {},
   "outputs": [
    {
     "data": {
      "text/html": [
       "<div>\n",
       "<style scoped>\n",
       "    .dataframe tbody tr th:only-of-type {\n",
       "        vertical-align: middle;\n",
       "    }\n",
       "\n",
       "    .dataframe tbody tr th {\n",
       "        vertical-align: top;\n",
       "    }\n",
       "\n",
       "    .dataframe thead th {\n",
       "        text-align: right;\n",
       "    }\n",
       "</style>\n",
       "<table border=\"1\" class=\"dataframe\">\n",
       "  <thead>\n",
       "    <tr style=\"text-align: right;\">\n",
       "      <th></th>\n",
       "      <th>pays</th>\n",
       "      <th>iso_alpha3</th>\n",
       "    </tr>\n",
       "  </thead>\n",
       "  <tbody>\n",
       "    <tr>\n",
       "      <td>0</td>\n",
       "      <td>AFGHANISTAN</td>\n",
       "      <td>AFG</td>\n",
       "    </tr>\n",
       "    <tr>\n",
       "      <td>1</td>\n",
       "      <td>AFRIQUE DU SUD</td>\n",
       "      <td>ZAF</td>\n",
       "    </tr>\n",
       "    <tr>\n",
       "      <td>2</td>\n",
       "      <td>ALBANIE</td>\n",
       "      <td>ALB</td>\n",
       "    </tr>\n",
       "    <tr>\n",
       "      <td>3</td>\n",
       "      <td>ALGERIE</td>\n",
       "      <td>DZA</td>\n",
       "    </tr>\n",
       "    <tr>\n",
       "      <td>4</td>\n",
       "      <td>ALLEMAGNE</td>\n",
       "      <td>DEU</td>\n",
       "    </tr>\n",
       "    <tr>\n",
       "      <td>...</td>\n",
       "      <td>...</td>\n",
       "      <td>...</td>\n",
       "    </tr>\n",
       "    <tr>\n",
       "      <td>214</td>\n",
       "      <td>WALLIS ET FUTUNA</td>\n",
       "      <td>WLF</td>\n",
       "    </tr>\n",
       "    <tr>\n",
       "      <td>215</td>\n",
       "      <td>YEMEN</td>\n",
       "      <td>YEM</td>\n",
       "    </tr>\n",
       "    <tr>\n",
       "      <td>216</td>\n",
       "      <td>YOUGOUSLAVIE</td>\n",
       "      <td>YUG</td>\n",
       "    </tr>\n",
       "    <tr>\n",
       "      <td>217</td>\n",
       "      <td>ZAMBIE</td>\n",
       "      <td>ZMB</td>\n",
       "    </tr>\n",
       "    <tr>\n",
       "      <td>218</td>\n",
       "      <td>ZIMBABWE</td>\n",
       "      <td>ZWE</td>\n",
       "    </tr>\n",
       "  </tbody>\n",
       "</table>\n",
       "<p>219 rows × 2 columns</p>\n",
       "</div>"
      ],
      "text/plain": [
       "                 pays iso_alpha3\n",
       "0         AFGHANISTAN        AFG\n",
       "1      AFRIQUE DU SUD        ZAF\n",
       "2             ALBANIE        ALB\n",
       "3             ALGERIE        DZA\n",
       "4           ALLEMAGNE        DEU\n",
       "..                ...        ...\n",
       "214  WALLIS ET FUTUNA        WLF\n",
       "215             YEMEN        YEM\n",
       "216      YOUGOUSLAVIE        YUG\n",
       "217            ZAMBIE        ZMB\n",
       "218          ZIMBABWE        ZWE\n",
       "\n",
       "[219 rows x 2 columns]"
      ]
     },
     "execution_count": 110,
     "metadata": {},
     "output_type": "execute_result"
    }
   ],
   "source": [
    "codes_pays"
   ]
  },
  {
   "cell_type": "code",
   "execution_count": 167,
   "metadata": {},
   "outputs": [
    {
     "data": {
      "application/vnd.plotly.v1+json": {
       "config": {
        "plotlyServerURL": "https://plot.ly"
       },
       "data": [
        {
         "hovertemplate": "Libellé du flux=Exportations FAB<br>level_2=%{x}<br>0=%{y}<extra></extra>",
         "legendgroup": "Exportations FAB",
         "line": {
          "color": "#636efa",
          "dash": "solid"
         },
         "marker": {
          "symbol": "circle"
         },
         "mode": "lines",
         "name": "Exportations FAB",
         "orientation": "v",
         "showlegend": true,
         "type": "scatter",
         "x": [
          "2010-12-31T00:00:00",
          "2011-12-31T00:00:00",
          "2012-12-31T00:00:00",
          "2013-12-31T00:00:00",
          "2014-12-31T00:00:00",
          "2015-12-31T00:00:00",
          "2016-12-31T00:00:00",
          "2017-12-31T00:00:00",
          "2018-12-31T00:00:00",
          "2019-12-31T00:00:00",
          "2020-12-31T00:00:00"
         ],
         "xaxis": "x",
         "y": [
          25297051069,
          31957877503.26,
          30382866049.852997,
          35220242145.542,
          43894152670.49,
          49086250793.29,
          52925276478.895,
          58880930020.132,
          65069140543.061,
          68593674210.382,
          62909189719.134
         ],
         "yaxis": "y"
        },
        {
         "hovertemplate": "Libellé du flux=Importations CAF<br>level_2=%{x}<br>0=%{y}<extra></extra>",
         "legendgroup": "Importations CAF",
         "line": {
          "color": "#EF553B",
          "dash": "solid"
         },
         "marker": {
          "symbol": "circle"
         },
         "mode": "lines",
         "name": "Importations CAF",
         "orientation": "v",
         "showlegend": true,
         "type": "scatter",
         "x": [
          "2010-12-31T00:00:00",
          "2011-12-31T00:00:00",
          "2012-12-31T00:00:00",
          "2013-12-31T00:00:00",
          "2014-12-31T00:00:00",
          "2015-12-31T00:00:00",
          "2016-12-31T00:00:00",
          "2017-12-31T00:00:00",
          "2018-12-31T00:00:00",
          "2019-12-31T00:00:00",
          "2020-12-31T00:00:00"
         ],
         "xaxis": "x",
         "y": [
          31603389234,
          39267140226,
          50962345236.244,
          51760437842.632,
          54174296098.35,
          53651725897.66901,
          64245558474.355,
          73786815797.051,
          76110859978.858,
          76410708512.492,
          64934861216.147995
         ],
         "yaxis": "y"
        }
       ],
       "layout": {
        "legend": {
         "title": {
          "text": "Libellé du flux"
         },
         "tracegroupgap": 0
        },
        "margin": {
         "t": 60
        },
        "template": {
         "data": {
          "bar": [
           {
            "error_x": {
             "color": "#2a3f5f"
            },
            "error_y": {
             "color": "#2a3f5f"
            },
            "marker": {
             "line": {
              "color": "#E5ECF6",
              "width": 0.5
             },
             "pattern": {
              "fillmode": "overlay",
              "size": 10,
              "solidity": 0.2
             }
            },
            "type": "bar"
           }
          ],
          "barpolar": [
           {
            "marker": {
             "line": {
              "color": "#E5ECF6",
              "width": 0.5
             },
             "pattern": {
              "fillmode": "overlay",
              "size": 10,
              "solidity": 0.2
             }
            },
            "type": "barpolar"
           }
          ],
          "carpet": [
           {
            "aaxis": {
             "endlinecolor": "#2a3f5f",
             "gridcolor": "white",
             "linecolor": "white",
             "minorgridcolor": "white",
             "startlinecolor": "#2a3f5f"
            },
            "baxis": {
             "endlinecolor": "#2a3f5f",
             "gridcolor": "white",
             "linecolor": "white",
             "minorgridcolor": "white",
             "startlinecolor": "#2a3f5f"
            },
            "type": "carpet"
           }
          ],
          "choropleth": [
           {
            "colorbar": {
             "outlinewidth": 0,
             "ticks": ""
            },
            "type": "choropleth"
           }
          ],
          "contour": [
           {
            "colorbar": {
             "outlinewidth": 0,
             "ticks": ""
            },
            "colorscale": [
             [
              0,
              "#0d0887"
             ],
             [
              0.1111111111111111,
              "#46039f"
             ],
             [
              0.2222222222222222,
              "#7201a8"
             ],
             [
              0.3333333333333333,
              "#9c179e"
             ],
             [
              0.4444444444444444,
              "#bd3786"
             ],
             [
              0.5555555555555556,
              "#d8576b"
             ],
             [
              0.6666666666666666,
              "#ed7953"
             ],
             [
              0.7777777777777778,
              "#fb9f3a"
             ],
             [
              0.8888888888888888,
              "#fdca26"
             ],
             [
              1,
              "#f0f921"
             ]
            ],
            "type": "contour"
           }
          ],
          "contourcarpet": [
           {
            "colorbar": {
             "outlinewidth": 0,
             "ticks": ""
            },
            "type": "contourcarpet"
           }
          ],
          "heatmap": [
           {
            "colorbar": {
             "outlinewidth": 0,
             "ticks": ""
            },
            "colorscale": [
             [
              0,
              "#0d0887"
             ],
             [
              0.1111111111111111,
              "#46039f"
             ],
             [
              0.2222222222222222,
              "#7201a8"
             ],
             [
              0.3333333333333333,
              "#9c179e"
             ],
             [
              0.4444444444444444,
              "#bd3786"
             ],
             [
              0.5555555555555556,
              "#d8576b"
             ],
             [
              0.6666666666666666,
              "#ed7953"
             ],
             [
              0.7777777777777778,
              "#fb9f3a"
             ],
             [
              0.8888888888888888,
              "#fdca26"
             ],
             [
              1,
              "#f0f921"
             ]
            ],
            "type": "heatmap"
           }
          ],
          "heatmapgl": [
           {
            "colorbar": {
             "outlinewidth": 0,
             "ticks": ""
            },
            "colorscale": [
             [
              0,
              "#0d0887"
             ],
             [
              0.1111111111111111,
              "#46039f"
             ],
             [
              0.2222222222222222,
              "#7201a8"
             ],
             [
              0.3333333333333333,
              "#9c179e"
             ],
             [
              0.4444444444444444,
              "#bd3786"
             ],
             [
              0.5555555555555556,
              "#d8576b"
             ],
             [
              0.6666666666666666,
              "#ed7953"
             ],
             [
              0.7777777777777778,
              "#fb9f3a"
             ],
             [
              0.8888888888888888,
              "#fdca26"
             ],
             [
              1,
              "#f0f921"
             ]
            ],
            "type": "heatmapgl"
           }
          ],
          "histogram": [
           {
            "marker": {
             "pattern": {
              "fillmode": "overlay",
              "size": 10,
              "solidity": 0.2
             }
            },
            "type": "histogram"
           }
          ],
          "histogram2d": [
           {
            "colorbar": {
             "outlinewidth": 0,
             "ticks": ""
            },
            "colorscale": [
             [
              0,
              "#0d0887"
             ],
             [
              0.1111111111111111,
              "#46039f"
             ],
             [
              0.2222222222222222,
              "#7201a8"
             ],
             [
              0.3333333333333333,
              "#9c179e"
             ],
             [
              0.4444444444444444,
              "#bd3786"
             ],
             [
              0.5555555555555556,
              "#d8576b"
             ],
             [
              0.6666666666666666,
              "#ed7953"
             ],
             [
              0.7777777777777778,
              "#fb9f3a"
             ],
             [
              0.8888888888888888,
              "#fdca26"
             ],
             [
              1,
              "#f0f921"
             ]
            ],
            "type": "histogram2d"
           }
          ],
          "histogram2dcontour": [
           {
            "colorbar": {
             "outlinewidth": 0,
             "ticks": ""
            },
            "colorscale": [
             [
              0,
              "#0d0887"
             ],
             [
              0.1111111111111111,
              "#46039f"
             ],
             [
              0.2222222222222222,
              "#7201a8"
             ],
             [
              0.3333333333333333,
              "#9c179e"
             ],
             [
              0.4444444444444444,
              "#bd3786"
             ],
             [
              0.5555555555555556,
              "#d8576b"
             ],
             [
              0.6666666666666666,
              "#ed7953"
             ],
             [
              0.7777777777777778,
              "#fb9f3a"
             ],
             [
              0.8888888888888888,
              "#fdca26"
             ],
             [
              1,
              "#f0f921"
             ]
            ],
            "type": "histogram2dcontour"
           }
          ],
          "mesh3d": [
           {
            "colorbar": {
             "outlinewidth": 0,
             "ticks": ""
            },
            "type": "mesh3d"
           }
          ],
          "parcoords": [
           {
            "line": {
             "colorbar": {
              "outlinewidth": 0,
              "ticks": ""
             }
            },
            "type": "parcoords"
           }
          ],
          "pie": [
           {
            "automargin": true,
            "type": "pie"
           }
          ],
          "scatter": [
           {
            "marker": {
             "colorbar": {
              "outlinewidth": 0,
              "ticks": ""
             }
            },
            "type": "scatter"
           }
          ],
          "scatter3d": [
           {
            "line": {
             "colorbar": {
              "outlinewidth": 0,
              "ticks": ""
             }
            },
            "marker": {
             "colorbar": {
              "outlinewidth": 0,
              "ticks": ""
             }
            },
            "type": "scatter3d"
           }
          ],
          "scattercarpet": [
           {
            "marker": {
             "colorbar": {
              "outlinewidth": 0,
              "ticks": ""
             }
            },
            "type": "scattercarpet"
           }
          ],
          "scattergeo": [
           {
            "marker": {
             "colorbar": {
              "outlinewidth": 0,
              "ticks": ""
             }
            },
            "type": "scattergeo"
           }
          ],
          "scattergl": [
           {
            "marker": {
             "colorbar": {
              "outlinewidth": 0,
              "ticks": ""
             }
            },
            "type": "scattergl"
           }
          ],
          "scattermapbox": [
           {
            "marker": {
             "colorbar": {
              "outlinewidth": 0,
              "ticks": ""
             }
            },
            "type": "scattermapbox"
           }
          ],
          "scatterpolar": [
           {
            "marker": {
             "colorbar": {
              "outlinewidth": 0,
              "ticks": ""
             }
            },
            "type": "scatterpolar"
           }
          ],
          "scatterpolargl": [
           {
            "marker": {
             "colorbar": {
              "outlinewidth": 0,
              "ticks": ""
             }
            },
            "type": "scatterpolargl"
           }
          ],
          "scatterternary": [
           {
            "marker": {
             "colorbar": {
              "outlinewidth": 0,
              "ticks": ""
             }
            },
            "type": "scatterternary"
           }
          ],
          "surface": [
           {
            "colorbar": {
             "outlinewidth": 0,
             "ticks": ""
            },
            "colorscale": [
             [
              0,
              "#0d0887"
             ],
             [
              0.1111111111111111,
              "#46039f"
             ],
             [
              0.2222222222222222,
              "#7201a8"
             ],
             [
              0.3333333333333333,
              "#9c179e"
             ],
             [
              0.4444444444444444,
              "#bd3786"
             ],
             [
              0.5555555555555556,
              "#d8576b"
             ],
             [
              0.6666666666666666,
              "#ed7953"
             ],
             [
              0.7777777777777778,
              "#fb9f3a"
             ],
             [
              0.8888888888888888,
              "#fdca26"
             ],
             [
              1,
              "#f0f921"
             ]
            ],
            "type": "surface"
           }
          ],
          "table": [
           {
            "cells": {
             "fill": {
              "color": "#EBF0F8"
             },
             "line": {
              "color": "white"
             }
            },
            "header": {
             "fill": {
              "color": "#C8D4E3"
             },
             "line": {
              "color": "white"
             }
            },
            "type": "table"
           }
          ]
         },
         "layout": {
          "annotationdefaults": {
           "arrowcolor": "#2a3f5f",
           "arrowhead": 0,
           "arrowwidth": 1
          },
          "autotypenumbers": "strict",
          "coloraxis": {
           "colorbar": {
            "outlinewidth": 0,
            "ticks": ""
           }
          },
          "colorscale": {
           "diverging": [
            [
             0,
             "#8e0152"
            ],
            [
             0.1,
             "#c51b7d"
            ],
            [
             0.2,
             "#de77ae"
            ],
            [
             0.3,
             "#f1b6da"
            ],
            [
             0.4,
             "#fde0ef"
            ],
            [
             0.5,
             "#f7f7f7"
            ],
            [
             0.6,
             "#e6f5d0"
            ],
            [
             0.7,
             "#b8e186"
            ],
            [
             0.8,
             "#7fbc41"
            ],
            [
             0.9,
             "#4d9221"
            ],
            [
             1,
             "#276419"
            ]
           ],
           "sequential": [
            [
             0,
             "#0d0887"
            ],
            [
             0.1111111111111111,
             "#46039f"
            ],
            [
             0.2222222222222222,
             "#7201a8"
            ],
            [
             0.3333333333333333,
             "#9c179e"
            ],
            [
             0.4444444444444444,
             "#bd3786"
            ],
            [
             0.5555555555555556,
             "#d8576b"
            ],
            [
             0.6666666666666666,
             "#ed7953"
            ],
            [
             0.7777777777777778,
             "#fb9f3a"
            ],
            [
             0.8888888888888888,
             "#fdca26"
            ],
            [
             1,
             "#f0f921"
            ]
           ],
           "sequentialminus": [
            [
             0,
             "#0d0887"
            ],
            [
             0.1111111111111111,
             "#46039f"
            ],
            [
             0.2222222222222222,
             "#7201a8"
            ],
            [
             0.3333333333333333,
             "#9c179e"
            ],
            [
             0.4444444444444444,
             "#bd3786"
            ],
            [
             0.5555555555555556,
             "#d8576b"
            ],
            [
             0.6666666666666666,
             "#ed7953"
            ],
            [
             0.7777777777777778,
             "#fb9f3a"
            ],
            [
             0.8888888888888888,
             "#fdca26"
            ],
            [
             1,
             "#f0f921"
            ]
           ]
          },
          "colorway": [
           "#636efa",
           "#EF553B",
           "#00cc96",
           "#ab63fa",
           "#FFA15A",
           "#19d3f3",
           "#FF6692",
           "#B6E880",
           "#FF97FF",
           "#FECB52"
          ],
          "font": {
           "color": "#2a3f5f"
          },
          "geo": {
           "bgcolor": "white",
           "lakecolor": "white",
           "landcolor": "#E5ECF6",
           "showlakes": true,
           "showland": true,
           "subunitcolor": "white"
          },
          "hoverlabel": {
           "align": "left"
          },
          "hovermode": "closest",
          "mapbox": {
           "style": "light"
          },
          "paper_bgcolor": "white",
          "plot_bgcolor": "#E5ECF6",
          "polar": {
           "angularaxis": {
            "gridcolor": "white",
            "linecolor": "white",
            "ticks": ""
           },
           "bgcolor": "#E5ECF6",
           "radialaxis": {
            "gridcolor": "white",
            "linecolor": "white",
            "ticks": ""
           }
          },
          "scene": {
           "xaxis": {
            "backgroundcolor": "#E5ECF6",
            "gridcolor": "white",
            "gridwidth": 2,
            "linecolor": "white",
            "showbackground": true,
            "ticks": "",
            "zerolinecolor": "white"
           },
           "yaxis": {
            "backgroundcolor": "#E5ECF6",
            "gridcolor": "white",
            "gridwidth": 2,
            "linecolor": "white",
            "showbackground": true,
            "ticks": "",
            "zerolinecolor": "white"
           },
           "zaxis": {
            "backgroundcolor": "#E5ECF6",
            "gridcolor": "white",
            "gridwidth": 2,
            "linecolor": "white",
            "showbackground": true,
            "ticks": "",
            "zerolinecolor": "white"
           }
          },
          "shapedefaults": {
           "line": {
            "color": "#2a3f5f"
           }
          },
          "ternary": {
           "aaxis": {
            "gridcolor": "white",
            "linecolor": "white",
            "ticks": ""
           },
           "baxis": {
            "gridcolor": "white",
            "linecolor": "white",
            "ticks": ""
           },
           "bgcolor": "#E5ECF6",
           "caxis": {
            "gridcolor": "white",
            "linecolor": "white",
            "ticks": ""
           }
          },
          "title": {
           "x": 0.05
          },
          "xaxis": {
           "automargin": true,
           "gridcolor": "white",
           "linecolor": "white",
           "ticks": "",
           "title": {
            "standoff": 15
           },
           "zerolinecolor": "white",
           "zerolinewidth": 2
          },
          "yaxis": {
           "automargin": true,
           "gridcolor": "white",
           "linecolor": "white",
           "ticks": "",
           "title": {
            "standoff": 15
           },
           "zerolinecolor": "white",
           "zerolinewidth": 2
          }
         }
        },
        "xaxis": {
         "anchor": "y",
         "domain": [
          0,
          1
         ],
         "title": {
          "text": "level_2"
         }
        },
        "yaxis": {
         "anchor": "x",
         "domain": [
          0,
          1
         ],
         "title": {
          "text": "0"
         }
        }
       }
      }
     },
     "metadata": {},
     "output_type": "display_data"
    }
   ],
   "source": [
    "pays_exports=annual[(annual['Libellé du flux']==\"Exportations FAB\") | (annual['Libellé du flux']==\"Importations CAF\")]\n",
    "annualdf=pays_exports.set_index(['Libellé du pays','Libellé du flux'])\n",
    "annualdf=annualdf.transpose().set_index(pd.date_range(start='2010-01-01', periods=11, freq='Y'))\n",
    "annualdf=annualdf.unstack()\n",
    "annualdf=annualdf.to_frame()[:]\n",
    "annualdf=annualdf.reset_index()\n",
    "fig = px.line(annualdf[(annualdf['Libellé du pays']=='ESPAGNE')], x='level_2', y=0, color='Libellé du flux')\n",
    "fig.show()"
   ]
  },
  {
   "cell_type": "code",
   "execution_count": 163,
   "metadata": {},
   "outputs": [
    {
     "name": "stdout",
     "output_type": "stream",
     "text": [
      "11 \n",
      " 66 \n",
      " 258 \n",
      "\n"
     ]
    }
   ],
   "source": [
    "print(Export_total['Libellé de la section CTCI'].nunique(),'\\n',\n",
    "      Export_total['Libellé de la division CTCI'].nunique(),'\\n',\n",
    "      Export_total['Libellé du groupe CTCI'].nunique(),'\\n')"
   ]
  },
  {
   "cell_type": "markdown",
   "metadata": {},
   "source": [
    "le nombre des divisions et des groupes de CTCI est très grand, on les visualise pas "
   ]
  },
  {
   "cell_type": "code",
   "execution_count": 169,
   "metadata": {},
   "outputs": [],
   "source": [
    "continent_import =Export_total[(Export_total[\"Libellé du flux\"] == \"Importations CAF\")].groupby([\"Continent\"]).mean().sort_values(\"Total dh\", ascending=False)\n",
    "continent_export =Export_total[(Export_total[\"Libellé du flux\"] == \"Exportations FAB\")].groupby([\"Continent\"]).mean().sort_values(\"Total dh\", ascending=False)\n",
    "utilisation_import =Export_total[(Export_total[\"Libellé du flux\"] == \"Importations CAF\")].groupby([\"Libellé du groupement d'utilisation\"]).mean().sort_values(\"Total dh\", ascending=False)\n",
    "utilisation_export =Export_total[(Export_total[\"Libellé du flux\"] == \"Exportations FAB\")].groupby([\"Libellé du groupement d'utilisation\"]).mean().sort_values(\"Total dh\", ascending=False)\n",
    "section_export =Export_total[(Export_total[\"Libellé du flux\"] == \"Importations CAF\")].groupby([\"Libellé de la section CTCI\"]).mean().sort_values(\"Total dh\", ascending=False)\n",
    "section_import =Export_total[(Export_total[\"Libellé du flux\"] == \"Exportations FAB\")].groupby([\"Libellé de la section CTCI\"]).mean().sort_values(\"Total dh\", ascending=False)"
   ]
  },
  {
   "cell_type": "code",
   "execution_count": 113,
   "metadata": {},
   "outputs": [
    {
     "data": {
      "text/html": [
       "<div>\n",
       "<style scoped>\n",
       "    .dataframe tbody tr th:only-of-type {\n",
       "        vertical-align: middle;\n",
       "    }\n",
       "\n",
       "    .dataframe tbody tr th {\n",
       "        vertical-align: top;\n",
       "    }\n",
       "\n",
       "    .dataframe thead th {\n",
       "        text-align: right;\n",
       "    }\n",
       "</style>\n",
       "<table border=\"1\" class=\"dataframe\">\n",
       "  <thead>\n",
       "    <tr style=\"text-align: right;\">\n",
       "      <th></th>\n",
       "      <th>Total dh</th>\n",
       "    </tr>\n",
       "    <tr>\n",
       "      <th>Continent</th>\n",
       "      <th></th>\n",
       "    </tr>\n",
       "  </thead>\n",
       "  <tbody>\n",
       "    <tr>\n",
       "      <td>AUTRE</td>\n",
       "      <td>3.206304e+08</td>\n",
       "    </tr>\n",
       "    <tr>\n",
       "      <td>EUROPE</td>\n",
       "      <td>8.742260e+07</td>\n",
       "    </tr>\n",
       "  </tbody>\n",
       "</table>\n",
       "</div>"
      ],
      "text/plain": [
       "               Total dh\n",
       "Continent              \n",
       "AUTRE      3.206304e+08\n",
       "EUROPE     8.742260e+07"
      ]
     },
     "execution_count": 113,
     "metadata": {},
     "output_type": "execute_result"
    }
   ],
   "source": [
    "continent_import.head(2)"
   ]
  },
  {
   "cell_type": "code",
   "execution_count": 114,
   "metadata": {},
   "outputs": [
    {
     "data": {
      "application/vnd.plotly.v1+json": {
       "config": {
        "plotlyServerURL": "https://plot.ly"
       },
       "data": [
        {
         "domain": {
          "x": [
           0,
           1
          ],
          "y": [
           0,
           1
          ]
         },
         "hovertemplate": "Continent=%{label}<br>Total dh=%{value}<extra></extra>",
         "labels": [
          "AUTRE",
          "EUROPE",
          "AMERIQUE",
          "ASIE",
          "AFRIQUE",
          "AUSTRALIE"
         ],
         "legendgroup": "",
         "name": "",
         "showlegend": true,
         "type": "pie",
         "values": [
          320630352.0159287,
          87422600.12761992,
          76658969.89824702,
          53208179.771733575,
          24069336.186385952,
          5820625.8115125
         ]
        }
       ],
       "layout": {
        "legend": {
         "tracegroupgap": 0
        },
        "template": {
         "data": {
          "bar": [
           {
            "error_x": {
             "color": "#2a3f5f"
            },
            "error_y": {
             "color": "#2a3f5f"
            },
            "marker": {
             "line": {
              "color": "#E5ECF6",
              "width": 0.5
             },
             "pattern": {
              "fillmode": "overlay",
              "size": 10,
              "solidity": 0.2
             }
            },
            "type": "bar"
           }
          ],
          "barpolar": [
           {
            "marker": {
             "line": {
              "color": "#E5ECF6",
              "width": 0.5
             },
             "pattern": {
              "fillmode": "overlay",
              "size": 10,
              "solidity": 0.2
             }
            },
            "type": "barpolar"
           }
          ],
          "carpet": [
           {
            "aaxis": {
             "endlinecolor": "#2a3f5f",
             "gridcolor": "white",
             "linecolor": "white",
             "minorgridcolor": "white",
             "startlinecolor": "#2a3f5f"
            },
            "baxis": {
             "endlinecolor": "#2a3f5f",
             "gridcolor": "white",
             "linecolor": "white",
             "minorgridcolor": "white",
             "startlinecolor": "#2a3f5f"
            },
            "type": "carpet"
           }
          ],
          "choropleth": [
           {
            "colorbar": {
             "outlinewidth": 0,
             "ticks": ""
            },
            "type": "choropleth"
           }
          ],
          "contour": [
           {
            "colorbar": {
             "outlinewidth": 0,
             "ticks": ""
            },
            "colorscale": [
             [
              0,
              "#0d0887"
             ],
             [
              0.1111111111111111,
              "#46039f"
             ],
             [
              0.2222222222222222,
              "#7201a8"
             ],
             [
              0.3333333333333333,
              "#9c179e"
             ],
             [
              0.4444444444444444,
              "#bd3786"
             ],
             [
              0.5555555555555556,
              "#d8576b"
             ],
             [
              0.6666666666666666,
              "#ed7953"
             ],
             [
              0.7777777777777778,
              "#fb9f3a"
             ],
             [
              0.8888888888888888,
              "#fdca26"
             ],
             [
              1,
              "#f0f921"
             ]
            ],
            "type": "contour"
           }
          ],
          "contourcarpet": [
           {
            "colorbar": {
             "outlinewidth": 0,
             "ticks": ""
            },
            "type": "contourcarpet"
           }
          ],
          "heatmap": [
           {
            "colorbar": {
             "outlinewidth": 0,
             "ticks": ""
            },
            "colorscale": [
             [
              0,
              "#0d0887"
             ],
             [
              0.1111111111111111,
              "#46039f"
             ],
             [
              0.2222222222222222,
              "#7201a8"
             ],
             [
              0.3333333333333333,
              "#9c179e"
             ],
             [
              0.4444444444444444,
              "#bd3786"
             ],
             [
              0.5555555555555556,
              "#d8576b"
             ],
             [
              0.6666666666666666,
              "#ed7953"
             ],
             [
              0.7777777777777778,
              "#fb9f3a"
             ],
             [
              0.8888888888888888,
              "#fdca26"
             ],
             [
              1,
              "#f0f921"
             ]
            ],
            "type": "heatmap"
           }
          ],
          "heatmapgl": [
           {
            "colorbar": {
             "outlinewidth": 0,
             "ticks": ""
            },
            "colorscale": [
             [
              0,
              "#0d0887"
             ],
             [
              0.1111111111111111,
              "#46039f"
             ],
             [
              0.2222222222222222,
              "#7201a8"
             ],
             [
              0.3333333333333333,
              "#9c179e"
             ],
             [
              0.4444444444444444,
              "#bd3786"
             ],
             [
              0.5555555555555556,
              "#d8576b"
             ],
             [
              0.6666666666666666,
              "#ed7953"
             ],
             [
              0.7777777777777778,
              "#fb9f3a"
             ],
             [
              0.8888888888888888,
              "#fdca26"
             ],
             [
              1,
              "#f0f921"
             ]
            ],
            "type": "heatmapgl"
           }
          ],
          "histogram": [
           {
            "marker": {
             "pattern": {
              "fillmode": "overlay",
              "size": 10,
              "solidity": 0.2
             }
            },
            "type": "histogram"
           }
          ],
          "histogram2d": [
           {
            "colorbar": {
             "outlinewidth": 0,
             "ticks": ""
            },
            "colorscale": [
             [
              0,
              "#0d0887"
             ],
             [
              0.1111111111111111,
              "#46039f"
             ],
             [
              0.2222222222222222,
              "#7201a8"
             ],
             [
              0.3333333333333333,
              "#9c179e"
             ],
             [
              0.4444444444444444,
              "#bd3786"
             ],
             [
              0.5555555555555556,
              "#d8576b"
             ],
             [
              0.6666666666666666,
              "#ed7953"
             ],
             [
              0.7777777777777778,
              "#fb9f3a"
             ],
             [
              0.8888888888888888,
              "#fdca26"
             ],
             [
              1,
              "#f0f921"
             ]
            ],
            "type": "histogram2d"
           }
          ],
          "histogram2dcontour": [
           {
            "colorbar": {
             "outlinewidth": 0,
             "ticks": ""
            },
            "colorscale": [
             [
              0,
              "#0d0887"
             ],
             [
              0.1111111111111111,
              "#46039f"
             ],
             [
              0.2222222222222222,
              "#7201a8"
             ],
             [
              0.3333333333333333,
              "#9c179e"
             ],
             [
              0.4444444444444444,
              "#bd3786"
             ],
             [
              0.5555555555555556,
              "#d8576b"
             ],
             [
              0.6666666666666666,
              "#ed7953"
             ],
             [
              0.7777777777777778,
              "#fb9f3a"
             ],
             [
              0.8888888888888888,
              "#fdca26"
             ],
             [
              1,
              "#f0f921"
             ]
            ],
            "type": "histogram2dcontour"
           }
          ],
          "mesh3d": [
           {
            "colorbar": {
             "outlinewidth": 0,
             "ticks": ""
            },
            "type": "mesh3d"
           }
          ],
          "parcoords": [
           {
            "line": {
             "colorbar": {
              "outlinewidth": 0,
              "ticks": ""
             }
            },
            "type": "parcoords"
           }
          ],
          "pie": [
           {
            "automargin": true,
            "type": "pie"
           }
          ],
          "scatter": [
           {
            "marker": {
             "colorbar": {
              "outlinewidth": 0,
              "ticks": ""
             }
            },
            "type": "scatter"
           }
          ],
          "scatter3d": [
           {
            "line": {
             "colorbar": {
              "outlinewidth": 0,
              "ticks": ""
             }
            },
            "marker": {
             "colorbar": {
              "outlinewidth": 0,
              "ticks": ""
             }
            },
            "type": "scatter3d"
           }
          ],
          "scattercarpet": [
           {
            "marker": {
             "colorbar": {
              "outlinewidth": 0,
              "ticks": ""
             }
            },
            "type": "scattercarpet"
           }
          ],
          "scattergeo": [
           {
            "marker": {
             "colorbar": {
              "outlinewidth": 0,
              "ticks": ""
             }
            },
            "type": "scattergeo"
           }
          ],
          "scattergl": [
           {
            "marker": {
             "colorbar": {
              "outlinewidth": 0,
              "ticks": ""
             }
            },
            "type": "scattergl"
           }
          ],
          "scattermapbox": [
           {
            "marker": {
             "colorbar": {
              "outlinewidth": 0,
              "ticks": ""
             }
            },
            "type": "scattermapbox"
           }
          ],
          "scatterpolar": [
           {
            "marker": {
             "colorbar": {
              "outlinewidth": 0,
              "ticks": ""
             }
            },
            "type": "scatterpolar"
           }
          ],
          "scatterpolargl": [
           {
            "marker": {
             "colorbar": {
              "outlinewidth": 0,
              "ticks": ""
             }
            },
            "type": "scatterpolargl"
           }
          ],
          "scatterternary": [
           {
            "marker": {
             "colorbar": {
              "outlinewidth": 0,
              "ticks": ""
             }
            },
            "type": "scatterternary"
           }
          ],
          "surface": [
           {
            "colorbar": {
             "outlinewidth": 0,
             "ticks": ""
            },
            "colorscale": [
             [
              0,
              "#0d0887"
             ],
             [
              0.1111111111111111,
              "#46039f"
             ],
             [
              0.2222222222222222,
              "#7201a8"
             ],
             [
              0.3333333333333333,
              "#9c179e"
             ],
             [
              0.4444444444444444,
              "#bd3786"
             ],
             [
              0.5555555555555556,
              "#d8576b"
             ],
             [
              0.6666666666666666,
              "#ed7953"
             ],
             [
              0.7777777777777778,
              "#fb9f3a"
             ],
             [
              0.8888888888888888,
              "#fdca26"
             ],
             [
              1,
              "#f0f921"
             ]
            ],
            "type": "surface"
           }
          ],
          "table": [
           {
            "cells": {
             "fill": {
              "color": "#EBF0F8"
             },
             "line": {
              "color": "white"
             }
            },
            "header": {
             "fill": {
              "color": "#C8D4E3"
             },
             "line": {
              "color": "white"
             }
            },
            "type": "table"
           }
          ]
         },
         "layout": {
          "annotationdefaults": {
           "arrowcolor": "#2a3f5f",
           "arrowhead": 0,
           "arrowwidth": 1
          },
          "autotypenumbers": "strict",
          "coloraxis": {
           "colorbar": {
            "outlinewidth": 0,
            "ticks": ""
           }
          },
          "colorscale": {
           "diverging": [
            [
             0,
             "#8e0152"
            ],
            [
             0.1,
             "#c51b7d"
            ],
            [
             0.2,
             "#de77ae"
            ],
            [
             0.3,
             "#f1b6da"
            ],
            [
             0.4,
             "#fde0ef"
            ],
            [
             0.5,
             "#f7f7f7"
            ],
            [
             0.6,
             "#e6f5d0"
            ],
            [
             0.7,
             "#b8e186"
            ],
            [
             0.8,
             "#7fbc41"
            ],
            [
             0.9,
             "#4d9221"
            ],
            [
             1,
             "#276419"
            ]
           ],
           "sequential": [
            [
             0,
             "#0d0887"
            ],
            [
             0.1111111111111111,
             "#46039f"
            ],
            [
             0.2222222222222222,
             "#7201a8"
            ],
            [
             0.3333333333333333,
             "#9c179e"
            ],
            [
             0.4444444444444444,
             "#bd3786"
            ],
            [
             0.5555555555555556,
             "#d8576b"
            ],
            [
             0.6666666666666666,
             "#ed7953"
            ],
            [
             0.7777777777777778,
             "#fb9f3a"
            ],
            [
             0.8888888888888888,
             "#fdca26"
            ],
            [
             1,
             "#f0f921"
            ]
           ],
           "sequentialminus": [
            [
             0,
             "#0d0887"
            ],
            [
             0.1111111111111111,
             "#46039f"
            ],
            [
             0.2222222222222222,
             "#7201a8"
            ],
            [
             0.3333333333333333,
             "#9c179e"
            ],
            [
             0.4444444444444444,
             "#bd3786"
            ],
            [
             0.5555555555555556,
             "#d8576b"
            ],
            [
             0.6666666666666666,
             "#ed7953"
            ],
            [
             0.7777777777777778,
             "#fb9f3a"
            ],
            [
             0.8888888888888888,
             "#fdca26"
            ],
            [
             1,
             "#f0f921"
            ]
           ]
          },
          "colorway": [
           "#636efa",
           "#EF553B",
           "#00cc96",
           "#ab63fa",
           "#FFA15A",
           "#19d3f3",
           "#FF6692",
           "#B6E880",
           "#FF97FF",
           "#FECB52"
          ],
          "font": {
           "color": "#2a3f5f"
          },
          "geo": {
           "bgcolor": "white",
           "lakecolor": "white",
           "landcolor": "#E5ECF6",
           "showlakes": true,
           "showland": true,
           "subunitcolor": "white"
          },
          "hoverlabel": {
           "align": "left"
          },
          "hovermode": "closest",
          "mapbox": {
           "style": "light"
          },
          "paper_bgcolor": "white",
          "plot_bgcolor": "#E5ECF6",
          "polar": {
           "angularaxis": {
            "gridcolor": "white",
            "linecolor": "white",
            "ticks": ""
           },
           "bgcolor": "#E5ECF6",
           "radialaxis": {
            "gridcolor": "white",
            "linecolor": "white",
            "ticks": ""
           }
          },
          "scene": {
           "xaxis": {
            "backgroundcolor": "#E5ECF6",
            "gridcolor": "white",
            "gridwidth": 2,
            "linecolor": "white",
            "showbackground": true,
            "ticks": "",
            "zerolinecolor": "white"
           },
           "yaxis": {
            "backgroundcolor": "#E5ECF6",
            "gridcolor": "white",
            "gridwidth": 2,
            "linecolor": "white",
            "showbackground": true,
            "ticks": "",
            "zerolinecolor": "white"
           },
           "zaxis": {
            "backgroundcolor": "#E5ECF6",
            "gridcolor": "white",
            "gridwidth": 2,
            "linecolor": "white",
            "showbackground": true,
            "ticks": "",
            "zerolinecolor": "white"
           }
          },
          "shapedefaults": {
           "line": {
            "color": "#2a3f5f"
           }
          },
          "ternary": {
           "aaxis": {
            "gridcolor": "white",
            "linecolor": "white",
            "ticks": ""
           },
           "baxis": {
            "gridcolor": "white",
            "linecolor": "white",
            "ticks": ""
           },
           "bgcolor": "#E5ECF6",
           "caxis": {
            "gridcolor": "white",
            "linecolor": "white",
            "ticks": ""
           }
          },
          "title": {
           "x": 0.05
          },
          "xaxis": {
           "automargin": true,
           "gridcolor": "white",
           "linecolor": "white",
           "ticks": "",
           "title": {
            "standoff": 15
           },
           "zerolinecolor": "white",
           "zerolinewidth": 2
          },
          "yaxis": {
           "automargin": true,
           "gridcolor": "white",
           "linecolor": "white",
           "ticks": "",
           "title": {
            "standoff": 15
           },
           "zerolinecolor": "white",
           "zerolinewidth": 2
          }
         }
        },
        "title": {
         "text": "Partition des importations par continents(moyen des 3 derniers années)"
        }
       }
      }
     },
     "metadata": {},
     "output_type": "display_data"
    }
   ],
   "source": [
    "fig = px.pie(continent_import, values='Total dh', names=continent_import.index, title='Partition des importations par continents(moyen des 3 derniers années)')\n",
    "fig.show()"
   ]
  },
  {
   "cell_type": "code",
   "execution_count": 115,
   "metadata": {},
   "outputs": [
    {
     "data": {
      "text/html": [
       "<div>\n",
       "<style scoped>\n",
       "    .dataframe tbody tr th:only-of-type {\n",
       "        vertical-align: middle;\n",
       "    }\n",
       "\n",
       "    .dataframe tbody tr th {\n",
       "        vertical-align: top;\n",
       "    }\n",
       "\n",
       "    .dataframe thead th {\n",
       "        text-align: right;\n",
       "    }\n",
       "</style>\n",
       "<table border=\"1\" class=\"dataframe\">\n",
       "  <thead>\n",
       "    <tr style=\"text-align: right;\">\n",
       "      <th></th>\n",
       "      <th>Total dh</th>\n",
       "    </tr>\n",
       "    <tr>\n",
       "      <th>Continent</th>\n",
       "      <th></th>\n",
       "    </tr>\n",
       "  </thead>\n",
       "  <tbody>\n",
       "    <tr>\n",
       "      <td>EUROPE</td>\n",
       "      <td>1.122606e+08</td>\n",
       "    </tr>\n",
       "    <tr>\n",
       "      <td>AMERIQUE</td>\n",
       "      <td>5.786529e+07</td>\n",
       "    </tr>\n",
       "  </tbody>\n",
       "</table>\n",
       "</div>"
      ],
      "text/plain": [
       "               Total dh\n",
       "Continent              \n",
       "EUROPE     1.122606e+08\n",
       "AMERIQUE   5.786529e+07"
      ]
     },
     "execution_count": 115,
     "metadata": {},
     "output_type": "execute_result"
    }
   ],
   "source": [
    "continent_export.head(2)"
   ]
  },
  {
   "cell_type": "code",
   "execution_count": 116,
   "metadata": {},
   "outputs": [
    {
     "data": {
      "text/html": [
       "<div>\n",
       "<style scoped>\n",
       "    .dataframe tbody tr th:only-of-type {\n",
       "        vertical-align: middle;\n",
       "    }\n",
       "\n",
       "    .dataframe tbody tr th {\n",
       "        vertical-align: top;\n",
       "    }\n",
       "\n",
       "    .dataframe thead th {\n",
       "        text-align: right;\n",
       "    }\n",
       "</style>\n",
       "<table border=\"1\" class=\"dataframe\">\n",
       "  <thead>\n",
       "    <tr style=\"text-align: right;\">\n",
       "      <th></th>\n",
       "      <th>Total dh</th>\n",
       "    </tr>\n",
       "    <tr>\n",
       "      <th>Libellé du groupement d'utilisation</th>\n",
       "      <th></th>\n",
       "    </tr>\n",
       "  </thead>\n",
       "  <tbody>\n",
       "    <tr>\n",
       "      <td>ENERGIE  ET  LUBRIFIANTS</td>\n",
       "      <td>9.137951e+08</td>\n",
       "    </tr>\n",
       "    <tr>\n",
       "      <td>PRODUITS BRUTS D'ORIGINE MINERALE</td>\n",
       "      <td>8.162045e+07</td>\n",
       "    </tr>\n",
       "  </tbody>\n",
       "</table>\n",
       "</div>"
      ],
      "text/plain": [
       "                                         Total dh\n",
       "Libellé du groupement d'utilisation              \n",
       "ENERGIE  ET  LUBRIFIANTS             9.137951e+08\n",
       "PRODUITS BRUTS D'ORIGINE MINERALE    8.162045e+07"
      ]
     },
     "execution_count": 116,
     "metadata": {},
     "output_type": "execute_result"
    }
   ],
   "source": [
    "utilisation_import.head(2)"
   ]
  },
  {
   "cell_type": "code",
   "execution_count": 117,
   "metadata": {},
   "outputs": [
    {
     "data": {
      "text/html": [
       "<div>\n",
       "<style scoped>\n",
       "    .dataframe tbody tr th:only-of-type {\n",
       "        vertical-align: middle;\n",
       "    }\n",
       "\n",
       "    .dataframe tbody tr th {\n",
       "        vertical-align: top;\n",
       "    }\n",
       "\n",
       "    .dataframe thead th {\n",
       "        text-align: right;\n",
       "    }\n",
       "</style>\n",
       "<table border=\"1\" class=\"dataframe\">\n",
       "  <thead>\n",
       "    <tr style=\"text-align: right;\">\n",
       "      <th></th>\n",
       "      <th>Total dh</th>\n",
       "    </tr>\n",
       "    <tr>\n",
       "      <th>Libellé du groupement d'utilisation</th>\n",
       "      <th></th>\n",
       "    </tr>\n",
       "  </thead>\n",
       "  <tbody>\n",
       "    <tr>\n",
       "      <td>OR INDUSTRIEL</td>\n",
       "      <td>3.228980e+08</td>\n",
       "    </tr>\n",
       "    <tr>\n",
       "      <td>ALIMENTATION, BOISSONS ET TABACS</td>\n",
       "      <td>8.430104e+07</td>\n",
       "    </tr>\n",
       "  </tbody>\n",
       "</table>\n",
       "</div>"
      ],
      "text/plain": [
       "                                         Total dh\n",
       "Libellé du groupement d'utilisation              \n",
       "OR INDUSTRIEL                        3.228980e+08\n",
       "ALIMENTATION, BOISSONS ET TABACS     8.430104e+07"
      ]
     },
     "execution_count": 117,
     "metadata": {},
     "output_type": "execute_result"
    }
   ],
   "source": [
    "utilisation_export.head(2)"
   ]
  },
  {
   "cell_type": "code",
   "execution_count": 177,
   "metadata": {},
   "outputs": [
    {
     "data": {
      "text/html": [
       "<div>\n",
       "<style scoped>\n",
       "    .dataframe tbody tr th:only-of-type {\n",
       "        vertical-align: middle;\n",
       "    }\n",
       "\n",
       "    .dataframe tbody tr th {\n",
       "        vertical-align: top;\n",
       "    }\n",
       "\n",
       "    .dataframe thead th {\n",
       "        text-align: right;\n",
       "    }\n",
       "</style>\n",
       "<table border=\"1\" class=\"dataframe\">\n",
       "  <thead>\n",
       "    <tr style=\"text-align: right;\">\n",
       "      <th></th>\n",
       "      <th>Total dh</th>\n",
       "    </tr>\n",
       "    <tr>\n",
       "      <th>Libellé de la section CTCI</th>\n",
       "      <th></th>\n",
       "    </tr>\n",
       "  </thead>\n",
       "  <tbody>\n",
       "    <tr>\n",
       "      <td>COMBUSTIBLES ET MINÉRAUX, LUBRIFIANTS ET PRODUITS CONNEXES</td>\n",
       "      <td>8.583685e+08</td>\n",
       "    </tr>\n",
       "    <tr>\n",
       "      <td>MACHINES ET MATÉRIEL DE TRANSPORT</td>\n",
       "      <td>8.920993e+07</td>\n",
       "    </tr>\n",
       "  </tbody>\n",
       "</table>\n",
       "</div>"
      ],
      "text/plain": [
       "                                                        Total dh\n",
       "Libellé de la section CTCI                                      \n",
       "COMBUSTIBLES ET MINÉRAUX, LUBRIFIANTS ET PRODUI...  8.583685e+08\n",
       "MACHINES ET MATÉRIEL DE TRANSPORT                   8.920993e+07"
      ]
     },
     "execution_count": 177,
     "metadata": {},
     "output_type": "execute_result"
    }
   ],
   "source": [
    "section_export.head(2)"
   ]
  },
  {
   "cell_type": "code",
   "execution_count": 178,
   "metadata": {},
   "outputs": [
    {
     "data": {
      "text/html": [
       "<div>\n",
       "<style scoped>\n",
       "    .dataframe tbody tr th:only-of-type {\n",
       "        vertical-align: middle;\n",
       "    }\n",
       "\n",
       "    .dataframe tbody tr th {\n",
       "        vertical-align: top;\n",
       "    }\n",
       "\n",
       "    .dataframe thead th {\n",
       "        text-align: right;\n",
       "    }\n",
       "</style>\n",
       "<table border=\"1\" class=\"dataframe\">\n",
       "  <thead>\n",
       "    <tr style=\"text-align: right;\">\n",
       "      <th></th>\n",
       "      <th>Total dh</th>\n",
       "    </tr>\n",
       "    <tr>\n",
       "      <th>Libellé de la section CTCI</th>\n",
       "      <th></th>\n",
       "    </tr>\n",
       "  </thead>\n",
       "  <tbody>\n",
       "    <tr>\n",
       "      <td>ARTICLES ET OPÉRATIONS NON CLASSÉS AILLEURS DANS LA CTCI</td>\n",
       "      <td>3.228980e+08</td>\n",
       "    </tr>\n",
       "    <tr>\n",
       "      <td>PRODUITS CHIMIQUES ET PRODUITS CONNEXES, N.D.A.</td>\n",
       "      <td>8.831930e+07</td>\n",
       "    </tr>\n",
       "  </tbody>\n",
       "</table>\n",
       "</div>"
      ],
      "text/plain": [
       "                                                        Total dh\n",
       "Libellé de la section CTCI                                      \n",
       "ARTICLES ET OPÉRATIONS NON CLASSÉS AILLEURS DAN...  3.228980e+08\n",
       "PRODUITS CHIMIQUES ET PRODUITS CONNEXES, N.D.A.     8.831930e+07"
      ]
     },
     "execution_count": 178,
     "metadata": {},
     "output_type": "execute_result"
    }
   ],
   "source": [
    "section_import.head(2)"
   ]
  },
  {
   "cell_type": "markdown",
   "metadata": {},
   "source": [
    "let's concatenate them"
   ]
  },
  {
   "cell_type": "code",
   "execution_count": 180,
   "metadata": {},
   "outputs": [
    {
     "data": {
      "text/html": [
       "<div>\n",
       "<style scoped>\n",
       "    .dataframe tbody tr th:only-of-type {\n",
       "        vertical-align: middle;\n",
       "    }\n",
       "\n",
       "    .dataframe tbody tr th {\n",
       "        vertical-align: top;\n",
       "    }\n",
       "\n",
       "    .dataframe thead th {\n",
       "        text-align: right;\n",
       "    }\n",
       "</style>\n",
       "<table border=\"1\" class=\"dataframe\">\n",
       "  <thead>\n",
       "    <tr style=\"text-align: right;\">\n",
       "      <th></th>\n",
       "      <th>total imports</th>\n",
       "      <th>total exports</th>\n",
       "    </tr>\n",
       "    <tr>\n",
       "      <th>Libellé de la section CTCI</th>\n",
       "      <th></th>\n",
       "      <th></th>\n",
       "    </tr>\n",
       "  </thead>\n",
       "  <tbody>\n",
       "    <tr>\n",
       "      <td>ARTICLES ET OPÉRATIONS NON CLASSÉS AILLEURS DANS LA CTCI</td>\n",
       "      <td>3.228980e+08</td>\n",
       "      <td>5.784906e+07</td>\n",
       "    </tr>\n",
       "    <tr>\n",
       "      <td>PRODUITS CHIMIQUES ET PRODUITS CONNEXES, N.D.A.</td>\n",
       "      <td>8.831930e+07</td>\n",
       "      <td>7.100517e+07</td>\n",
       "    </tr>\n",
       "    <tr>\n",
       "      <td>PRODUITS ALIMENTAIRES ET ANIMAUX VIVANTS</td>\n",
       "      <td>8.781600e+07</td>\n",
       "      <td>7.863431e+07</td>\n",
       "    </tr>\n",
       "    <tr>\n",
       "      <td>MACHINES ET MATÉRIEL DE TRANSPORT</td>\n",
       "      <td>7.661401e+07</td>\n",
       "      <td>8.920993e+07</td>\n",
       "    </tr>\n",
       "    <tr>\n",
       "      <td>COMBUSTIBLES ET MINÉRAUX, LUBRIFIANTS ET PRODUITS CONNEXES</td>\n",
       "      <td>7.270773e+07</td>\n",
       "      <td>8.583685e+08</td>\n",
       "    </tr>\n",
       "    <tr>\n",
       "      <td>MATIÈRES BRUTES NON COMESTIBLES À L'EXCEPTION DES CARBURANTS</td>\n",
       "      <td>4.728654e+07</td>\n",
       "      <td>4.372929e+07</td>\n",
       "    </tr>\n",
       "    <tr>\n",
       "      <td>ARTICLES MANUFACTURÉS DIVERS</td>\n",
       "      <td>3.559263e+07</td>\n",
       "      <td>2.477809e+07</td>\n",
       "    </tr>\n",
       "    <tr>\n",
       "      <td>BOISSONS ET TABACS</td>\n",
       "      <td>2.372767e+07</td>\n",
       "      <td>5.232274e+07</td>\n",
       "    </tr>\n",
       "    <tr>\n",
       "      <td>HUILES, GRAISSES ET CIRES D'ORIGINE ANIMALE OU VÉGÉTALE</td>\n",
       "      <td>2.326177e+07</td>\n",
       "      <td>7.794036e+07</td>\n",
       "    </tr>\n",
       "    <tr>\n",
       "      <td>ARTICLES MANUFACTURÉS CLASSÉS PRINCIPALEMENT D'APRÈS LA MATIÈRE PREMIÈRE</td>\n",
       "      <td>9.911448e+06</td>\n",
       "      <td>4.872805e+07</td>\n",
       "    </tr>\n",
       "    <tr>\n",
       "      <td>PIÈCES D'OR ET PIÈCES AYANT COURS</td>\n",
       "      <td>2.500000e+04</td>\n",
       "      <td>1.883414e+06</td>\n",
       "    </tr>\n",
       "  </tbody>\n",
       "</table>\n",
       "</div>"
      ],
      "text/plain": [
       "                                                    total imports  \\\n",
       "Libellé de la section CTCI                                          \n",
       "ARTICLES ET OPÉRATIONS NON CLASSÉS AILLEURS DAN...   3.228980e+08   \n",
       "PRODUITS CHIMIQUES ET PRODUITS CONNEXES, N.D.A.      8.831930e+07   \n",
       "PRODUITS ALIMENTAIRES ET ANIMAUX VIVANTS             8.781600e+07   \n",
       "MACHINES ET MATÉRIEL DE TRANSPORT                    7.661401e+07   \n",
       "COMBUSTIBLES ET MINÉRAUX, LUBRIFIANTS ET PRODUI...   7.270773e+07   \n",
       "MATIÈRES BRUTES NON COMESTIBLES À L'EXCEPTION D...   4.728654e+07   \n",
       "ARTICLES MANUFACTURÉS DIVERS                         3.559263e+07   \n",
       "BOISSONS ET TABACS                                   2.372767e+07   \n",
       "HUILES, GRAISSES ET CIRES D'ORIGINE ANIMALE OU ...   2.326177e+07   \n",
       "ARTICLES MANUFACTURÉS CLASSÉS PRINCIPALEMENT D'...   9.911448e+06   \n",
       "PIÈCES D'OR ET PIÈCES AYANT COURS                    2.500000e+04   \n",
       "\n",
       "                                                    total exports  \n",
       "Libellé de la section CTCI                                         \n",
       "ARTICLES ET OPÉRATIONS NON CLASSÉS AILLEURS DAN...   5.784906e+07  \n",
       "PRODUITS CHIMIQUES ET PRODUITS CONNEXES, N.D.A.      7.100517e+07  \n",
       "PRODUITS ALIMENTAIRES ET ANIMAUX VIVANTS             7.863431e+07  \n",
       "MACHINES ET MATÉRIEL DE TRANSPORT                    8.920993e+07  \n",
       "COMBUSTIBLES ET MINÉRAUX, LUBRIFIANTS ET PRODUI...   8.583685e+08  \n",
       "MATIÈRES BRUTES NON COMESTIBLES À L'EXCEPTION D...   4.372929e+07  \n",
       "ARTICLES MANUFACTURÉS DIVERS                         2.477809e+07  \n",
       "BOISSONS ET TABACS                                   5.232274e+07  \n",
       "HUILES, GRAISSES ET CIRES D'ORIGINE ANIMALE OU ...   7.794036e+07  \n",
       "ARTICLES MANUFACTURÉS CLASSÉS PRINCIPALEMENT D'...   4.872805e+07  \n",
       "PIÈCES D'OR ET PIÈCES AYANT COURS                    1.883414e+06  "
      ]
     },
     "execution_count": 180,
     "metadata": {},
     "output_type": "execute_result"
    }
   ],
   "source": [
    "sections=df = pd.DataFrame()\n",
    "sections['total imports']=section_import['Total dh']\n",
    "sections['total exports']=section_export['Total dh']\n",
    "sections"
   ]
  },
  {
   "cell_type": "markdown",
   "metadata": {},
   "source": [
    "To draw a map ( choropleth) we have to get a dataset for exportations and importations , we can do that by filetreing or grouping by 'Libellé de flux', unfortunately we cannot do that with our dataset since the number of import rows and export rows is differents (they can't be columns in same dataframe).\n",
    "So we will creat separately 2 Dataframes "
   ]
  },
  {
   "cell_type": "code",
   "execution_count": 120,
   "metadata": {},
   "outputs": [
    {
     "name": "stderr",
     "output_type": "stream",
     "text": [
      "C:\\Users\\hp\\AppData\\Local\\Continuum\\anaconda3\\lib\\site-packages\\pandas\\core\\frame.py:4102: SettingWithCopyWarning:\n",
      "\n",
      "\n",
      "A value is trying to be set on a copy of a slice from a DataFrame\n",
      "\n",
      "See the caveats in the documentation: http://pandas.pydata.org/pandas-docs/stable/user_guide/indexing.html#returning-a-view-versus-a-copy\n",
      "\n"
     ]
    },
    {
     "data": {
      "text/html": [
       "<div>\n",
       "<style scoped>\n",
       "    .dataframe tbody tr th:only-of-type {\n",
       "        vertical-align: middle;\n",
       "    }\n",
       "\n",
       "    .dataframe tbody tr th {\n",
       "        vertical-align: top;\n",
       "    }\n",
       "\n",
       "    .dataframe thead th {\n",
       "        text-align: right;\n",
       "    }\n",
       "</style>\n",
       "<table border=\"1\" class=\"dataframe\">\n",
       "  <thead>\n",
       "    <tr style=\"text-align: right;\">\n",
       "      <th></th>\n",
       "      <th>Libellé du pays</th>\n",
       "      <th>Valeur DHS 2010</th>\n",
       "      <th>Valeur DHS 2011</th>\n",
       "      <th>Valeur DHS 2012</th>\n",
       "      <th>Valeur DHS 2013</th>\n",
       "      <th>Valeur DHS 2014</th>\n",
       "      <th>Valeur DHS 2015</th>\n",
       "      <th>Valeur DHS 2016</th>\n",
       "      <th>Valeur DHS 2017</th>\n",
       "      <th>Valeur DHS 2018</th>\n",
       "      <th>Valeur DHS 2019</th>\n",
       "      <th>Valeur DHS 2020</th>\n",
       "    </tr>\n",
       "  </thead>\n",
       "  <tbody>\n",
       "    <tr>\n",
       "      <td>0</td>\n",
       "      <td>ANDORRE</td>\n",
       "      <td>17000</td>\n",
       "      <td>0.0</td>\n",
       "      <td>1.132031e+06</td>\n",
       "      <td>3.086862e+06</td>\n",
       "      <td>6.370835e+06</td>\n",
       "      <td>7.754182e+06</td>\n",
       "      <td>7.308320e+06</td>\n",
       "      <td>5.987805e+06</td>\n",
       "      <td>6.375642e+06</td>\n",
       "      <td>6.127175e+06</td>\n",
       "      <td>3.778609e+06</td>\n",
       "    </tr>\n",
       "    <tr>\n",
       "      <td>8</td>\n",
       "      <td>EMIRATS ARABES UNIS</td>\n",
       "      <td>1259173840</td>\n",
       "      <td>741667974.0</td>\n",
       "      <td>4.931654e+08</td>\n",
       "      <td>4.322840e+08</td>\n",
       "      <td>5.882424e+08</td>\n",
       "      <td>5.366435e+08</td>\n",
       "      <td>9.631746e+08</td>\n",
       "      <td>9.328481e+08</td>\n",
       "      <td>4.943851e+08</td>\n",
       "      <td>8.604109e+08</td>\n",
       "      <td>8.737911e+08</td>\n",
       "    </tr>\n",
       "  </tbody>\n",
       "</table>\n",
       "</div>"
      ],
      "text/plain": [
       "       Libellé du pays  Valeur DHS 2010  Valeur DHS 2011  Valeur DHS 2012  \\\n",
       "0              ANDORRE            17000              0.0     1.132031e+06   \n",
       "8  EMIRATS ARABES UNIS       1259173840      741667974.0     4.931654e+08   \n",
       "\n",
       "   Valeur DHS 2013  Valeur DHS 2014  Valeur DHS 2015  Valeur DHS 2016  \\\n",
       "0     3.086862e+06     6.370835e+06     7.754182e+06     7.308320e+06   \n",
       "8     4.322840e+08     5.882424e+08     5.366435e+08     9.631746e+08   \n",
       "\n",
       "   Valeur DHS 2017  Valeur DHS 2018  Valeur DHS 2019  Valeur DHS 2020  \n",
       "0     5.987805e+06     6.375642e+06     6.127175e+06     3.778609e+06  \n",
       "8     9.328481e+08     4.943851e+08     8.604109e+08     8.737911e+08  "
      ]
     },
     "execution_count": 120,
     "metadata": {},
     "output_type": "execute_result"
    }
   ],
   "source": [
    "for_map0=annual[(annual['Libellé du flux']==\"Exportations FAB\")] # pour les exportations\n",
    "for_map1=annual[(annual['Libellé du flux']==\"Importations CAF\")] # pour les importations\n",
    "for_map0.drop('Libellé du flux',1,inplace=True)\n",
    "for_map1.drop('Libellé du flux',1,inplace=True)\n",
    "for_map0.head(2)"
   ]
  },
  {
   "cell_type": "code",
   "execution_count": 121,
   "metadata": {},
   "outputs": [
    {
     "data": {
      "text/html": [
       "<div>\n",
       "<style scoped>\n",
       "    .dataframe tbody tr th:only-of-type {\n",
       "        vertical-align: middle;\n",
       "    }\n",
       "\n",
       "    .dataframe tbody tr th {\n",
       "        vertical-align: top;\n",
       "    }\n",
       "\n",
       "    .dataframe thead th {\n",
       "        text-align: right;\n",
       "    }\n",
       "</style>\n",
       "<table border=\"1\" class=\"dataframe\">\n",
       "  <thead>\n",
       "    <tr style=\"text-align: right;\">\n",
       "      <th></th>\n",
       "      <th>Libellé du pays</th>\n",
       "      <th>Valeur DHS 2010</th>\n",
       "      <th>Valeur DHS 2011</th>\n",
       "      <th>Valeur DHS 2012</th>\n",
       "      <th>Valeur DHS 2013</th>\n",
       "      <th>Valeur DHS 2014</th>\n",
       "      <th>Valeur DHS 2015</th>\n",
       "      <th>Valeur DHS 2016</th>\n",
       "      <th>Valeur DHS 2017</th>\n",
       "      <th>Valeur DHS 2018</th>\n",
       "      <th>Valeur DHS 2019</th>\n",
       "      <th>Valeur DHS 2020</th>\n",
       "    </tr>\n",
       "  </thead>\n",
       "  <tbody>\n",
       "    <tr>\n",
       "      <td>4</td>\n",
       "      <td>ANDORRE</td>\n",
       "      <td>22162</td>\n",
       "      <td>1.015130e+05</td>\n",
       "      <td>1.262700e+04</td>\n",
       "      <td>3.052800e+04</td>\n",
       "      <td>6.468500e+04</td>\n",
       "      <td>1.431872e+06</td>\n",
       "      <td>1.038407e+06</td>\n",
       "      <td>3.561780e+05</td>\n",
       "      <td>1.218690e+05</td>\n",
       "      <td>7.419000e+03</td>\n",
       "      <td>1.450000e+02</td>\n",
       "    </tr>\n",
       "    <tr>\n",
       "      <td>6</td>\n",
       "      <td>EMIRATS ARABES UNIS</td>\n",
       "      <td>1644282647</td>\n",
       "      <td>2.460396e+09</td>\n",
       "      <td>4.508353e+09</td>\n",
       "      <td>2.572188e+09</td>\n",
       "      <td>3.605778e+09</td>\n",
       "      <td>5.314554e+09</td>\n",
       "      <td>6.509089e+09</td>\n",
       "      <td>5.069679e+09</td>\n",
       "      <td>7.686350e+09</td>\n",
       "      <td>8.720236e+09</td>\n",
       "      <td>4.850364e+09</td>\n",
       "    </tr>\n",
       "  </tbody>\n",
       "</table>\n",
       "</div>"
      ],
      "text/plain": [
       "       Libellé du pays  Valeur DHS 2010  Valeur DHS 2011  Valeur DHS 2012  \\\n",
       "4              ANDORRE            22162     1.015130e+05     1.262700e+04   \n",
       "6  EMIRATS ARABES UNIS       1644282647     2.460396e+09     4.508353e+09   \n",
       "\n",
       "   Valeur DHS 2013  Valeur DHS 2014  Valeur DHS 2015  Valeur DHS 2016  \\\n",
       "4     3.052800e+04     6.468500e+04     1.431872e+06     1.038407e+06   \n",
       "6     2.572188e+09     3.605778e+09     5.314554e+09     6.509089e+09   \n",
       "\n",
       "   Valeur DHS 2017  Valeur DHS 2018  Valeur DHS 2019  Valeur DHS 2020  \n",
       "4     3.561780e+05     1.218690e+05     7.419000e+03     1.450000e+02  \n",
       "6     5.069679e+09     7.686350e+09     8.720236e+09     4.850364e+09  "
      ]
     },
     "execution_count": 121,
     "metadata": {},
     "output_type": "execute_result"
    }
   ],
   "source": [
    "for_map1.head(2)"
   ]
  },
  {
   "cell_type": "markdown",
   "metadata": {},
   "source": [
    "when we filter some rows the index is no more a range of integers, let's set it again"
   ]
  },
  {
   "cell_type": "code",
   "execution_count": 122,
   "metadata": {},
   "outputs": [
    {
     "name": "stdout",
     "output_type": "stream",
     "text": [
      "(217, 12) (234, 12)\n"
     ]
    }
   ],
   "source": [
    "for_map0.index=range(len(for_map0))\n",
    "for_map1.index=range(len(for_map1))\n",
    "print(for_map0.shape, for_map1.shape)"
   ]
  },
  {
   "cell_type": "markdown",
   "metadata": {},
   "source": [
    "let's create a column for the mean of values between 2010 and 2020"
   ]
  },
  {
   "cell_type": "code",
   "execution_count": 125,
   "metadata": {},
   "outputs": [
    {
     "name": "stderr",
     "output_type": "stream",
     "text": [
      "C:\\Users\\hp\\AppData\\Local\\Continuum\\anaconda3\\lib\\site-packages\\ipykernel_launcher.py:1: SettingWithCopyWarning:\n",
      "\n",
      "\n",
      "A value is trying to be set on a copy of a slice from a DataFrame.\n",
      "Try using .loc[row_indexer,col_indexer] = value instead\n",
      "\n",
      "See the caveats in the documentation: http://pandas.pydata.org/pandas-docs/stable/user_guide/indexing.html#returning-a-view-versus-a-copy\n",
      "\n",
      "C:\\Users\\hp\\AppData\\Local\\Continuum\\anaconda3\\lib\\site-packages\\ipykernel_launcher.py:2: SettingWithCopyWarning:\n",
      "\n",
      "\n",
      "A value is trying to be set on a copy of a slice from a DataFrame.\n",
      "Try using .loc[row_indexer,col_indexer] = value instead\n",
      "\n",
      "See the caveats in the documentation: http://pandas.pydata.org/pandas-docs/stable/user_guide/indexing.html#returning-a-view-versus-a-copy\n",
      "\n"
     ]
    }
   ],
   "source": [
    "for_map0[\"Valeur moyen des exportations sur 10ans\"]=for_map0[for_map0.columns[1:]].mean(axis=1)\n",
    "for_map1[\"Valeur moyen des importations sur 10ans\"]=for_map1[for_map1.columns[1:]].mean(axis=1)"
   ]
  },
  {
   "cell_type": "code",
   "execution_count": 126,
   "metadata": {},
   "outputs": [
    {
     "data": {
      "text/html": [
       "<div>\n",
       "<style scoped>\n",
       "    .dataframe tbody tr th:only-of-type {\n",
       "        vertical-align: middle;\n",
       "    }\n",
       "\n",
       "    .dataframe tbody tr th {\n",
       "        vertical-align: top;\n",
       "    }\n",
       "\n",
       "    .dataframe thead th {\n",
       "        text-align: right;\n",
       "    }\n",
       "</style>\n",
       "<table border=\"1\" class=\"dataframe\">\n",
       "  <thead>\n",
       "    <tr style=\"text-align: right;\">\n",
       "      <th></th>\n",
       "      <th>Libellé du pays</th>\n",
       "      <th>Valeur DHS 2010</th>\n",
       "      <th>Valeur DHS 2011</th>\n",
       "      <th>Valeur DHS 2012</th>\n",
       "      <th>Valeur DHS 2013</th>\n",
       "      <th>Valeur DHS 2014</th>\n",
       "      <th>Valeur DHS 2015</th>\n",
       "      <th>Valeur DHS 2016</th>\n",
       "      <th>Valeur DHS 2017</th>\n",
       "      <th>Valeur DHS 2018</th>\n",
       "      <th>Valeur DHS 2019</th>\n",
       "      <th>Valeur DHS 2020</th>\n",
       "      <th>Valeur moyen des exportations sur 10ans</th>\n",
       "    </tr>\n",
       "  </thead>\n",
       "  <tbody>\n",
       "    <tr>\n",
       "      <td>0</td>\n",
       "      <td>ANDORRE</td>\n",
       "      <td>17000</td>\n",
       "      <td>0.0</td>\n",
       "      <td>1.132031e+06</td>\n",
       "      <td>3.086862e+06</td>\n",
       "      <td>6.370835e+06</td>\n",
       "      <td>7.754182e+06</td>\n",
       "      <td>7.308320e+06</td>\n",
       "      <td>5.987805e+06</td>\n",
       "      <td>6.375642e+06</td>\n",
       "      <td>6.127175e+06</td>\n",
       "      <td>3.778609e+06</td>\n",
       "      <td>4.358042e+06</td>\n",
       "    </tr>\n",
       "    <tr>\n",
       "      <td>1</td>\n",
       "      <td>EMIRATS ARABES UNIS</td>\n",
       "      <td>1259173840</td>\n",
       "      <td>741667974.0</td>\n",
       "      <td>4.931654e+08</td>\n",
       "      <td>4.322840e+08</td>\n",
       "      <td>5.882424e+08</td>\n",
       "      <td>5.366435e+08</td>\n",
       "      <td>9.631746e+08</td>\n",
       "      <td>9.328481e+08</td>\n",
       "      <td>4.943851e+08</td>\n",
       "      <td>8.604109e+08</td>\n",
       "      <td>8.737911e+08</td>\n",
       "      <td>7.432534e+08</td>\n",
       "    </tr>\n",
       "  </tbody>\n",
       "</table>\n",
       "</div>"
      ],
      "text/plain": [
       "       Libellé du pays  Valeur DHS 2010  Valeur DHS 2011  Valeur DHS 2012  \\\n",
       "0              ANDORRE            17000              0.0     1.132031e+06   \n",
       "1  EMIRATS ARABES UNIS       1259173840      741667974.0     4.931654e+08   \n",
       "\n",
       "   Valeur DHS 2013  Valeur DHS 2014  Valeur DHS 2015  Valeur DHS 2016  \\\n",
       "0     3.086862e+06     6.370835e+06     7.754182e+06     7.308320e+06   \n",
       "1     4.322840e+08     5.882424e+08     5.366435e+08     9.631746e+08   \n",
       "\n",
       "   Valeur DHS 2017  Valeur DHS 2018  Valeur DHS 2019  Valeur DHS 2020  \\\n",
       "0     5.987805e+06     6.375642e+06     6.127175e+06     3.778609e+06   \n",
       "1     9.328481e+08     4.943851e+08     8.604109e+08     8.737911e+08   \n",
       "\n",
       "   Valeur moyen des exportations sur 10ans  \n",
       "0                             4.358042e+06  \n",
       "1                             7.432534e+08  "
      ]
     },
     "execution_count": 126,
     "metadata": {},
     "output_type": "execute_result"
    }
   ],
   "source": [
    "for_map0.head(2)"
   ]
  },
  {
   "cell_type": "markdown",
   "metadata": {},
   "source": [
    "droping the useless cols"
   ]
  },
  {
   "cell_type": "code",
   "execution_count": 127,
   "metadata": {},
   "outputs": [
    {
     "name": "stderr",
     "output_type": "stream",
     "text": [
      "C:\\Users\\hp\\AppData\\Local\\Continuum\\anaconda3\\lib\\site-packages\\pandas\\core\\frame.py:4102: SettingWithCopyWarning:\n",
      "\n",
      "\n",
      "A value is trying to be set on a copy of a slice from a DataFrame\n",
      "\n",
      "See the caveats in the documentation: http://pandas.pydata.org/pandas-docs/stable/user_guide/indexing.html#returning-a-view-versus-a-copy\n",
      "\n"
     ]
    },
    {
     "data": {
      "text/html": [
       "<div>\n",
       "<style scoped>\n",
       "    .dataframe tbody tr th:only-of-type {\n",
       "        vertical-align: middle;\n",
       "    }\n",
       "\n",
       "    .dataframe tbody tr th {\n",
       "        vertical-align: top;\n",
       "    }\n",
       "\n",
       "    .dataframe thead th {\n",
       "        text-align: right;\n",
       "    }\n",
       "</style>\n",
       "<table border=\"1\" class=\"dataframe\">\n",
       "  <thead>\n",
       "    <tr style=\"text-align: right;\">\n",
       "      <th></th>\n",
       "      <th>Libellé du pays</th>\n",
       "      <th>Valeur moyen des exportations sur 10ans</th>\n",
       "    </tr>\n",
       "  </thead>\n",
       "  <tbody>\n",
       "    <tr>\n",
       "      <td>0</td>\n",
       "      <td>ANDORRE</td>\n",
       "      <td>4.358042e+06</td>\n",
       "    </tr>\n",
       "    <tr>\n",
       "      <td>1</td>\n",
       "      <td>EMIRATS ARABES UNIS</td>\n",
       "      <td>7.432534e+08</td>\n",
       "    </tr>\n",
       "  </tbody>\n",
       "</table>\n",
       "</div>"
      ],
      "text/plain": [
       "       Libellé du pays  Valeur moyen des exportations sur 10ans\n",
       "0              ANDORRE                             4.358042e+06\n",
       "1  EMIRATS ARABES UNIS                             7.432534e+08"
      ]
     },
     "execution_count": 127,
     "metadata": {},
     "output_type": "execute_result"
    }
   ],
   "source": [
    "for_map0.drop(for_map0.columns[1:12],1,inplace=True)\n",
    "for_map0.head(2)"
   ]
  },
  {
   "cell_type": "markdown",
   "metadata": {},
   "source": [
    "the same with importations dataset"
   ]
  },
  {
   "cell_type": "code",
   "execution_count": 128,
   "metadata": {},
   "outputs": [
    {
     "name": "stderr",
     "output_type": "stream",
     "text": [
      "C:\\Users\\hp\\AppData\\Local\\Continuum\\anaconda3\\lib\\site-packages\\pandas\\core\\frame.py:4102: SettingWithCopyWarning:\n",
      "\n",
      "\n",
      "A value is trying to be set on a copy of a slice from a DataFrame\n",
      "\n",
      "See the caveats in the documentation: http://pandas.pydata.org/pandas-docs/stable/user_guide/indexing.html#returning-a-view-versus-a-copy\n",
      "\n"
     ]
    },
    {
     "data": {
      "text/html": [
       "<div>\n",
       "<style scoped>\n",
       "    .dataframe tbody tr th:only-of-type {\n",
       "        vertical-align: middle;\n",
       "    }\n",
       "\n",
       "    .dataframe tbody tr th {\n",
       "        vertical-align: top;\n",
       "    }\n",
       "\n",
       "    .dataframe thead th {\n",
       "        text-align: right;\n",
       "    }\n",
       "</style>\n",
       "<table border=\"1\" class=\"dataframe\">\n",
       "  <thead>\n",
       "    <tr style=\"text-align: right;\">\n",
       "      <th></th>\n",
       "      <th>Libellé du pays</th>\n",
       "      <th>Valeur moyen des importations sur 10ans</th>\n",
       "    </tr>\n",
       "  </thead>\n",
       "  <tbody>\n",
       "    <tr>\n",
       "      <td>0</td>\n",
       "      <td>ANDORRE</td>\n",
       "      <td>2.897641e+05</td>\n",
       "    </tr>\n",
       "    <tr>\n",
       "      <td>1</td>\n",
       "      <td>EMIRATS ARABES UNIS</td>\n",
       "      <td>4.812843e+09</td>\n",
       "    </tr>\n",
       "  </tbody>\n",
       "</table>\n",
       "</div>"
      ],
      "text/plain": [
       "       Libellé du pays  Valeur moyen des importations sur 10ans\n",
       "0              ANDORRE                             2.897641e+05\n",
       "1  EMIRATS ARABES UNIS                             4.812843e+09"
      ]
     },
     "execution_count": 128,
     "metadata": {},
     "output_type": "execute_result"
    }
   ],
   "source": [
    "for_map1.drop(for_map1.columns[1:12],1,inplace=True)\n",
    "for_map1.head(2)"
   ]
  },
  {
   "cell_type": "markdown",
   "metadata": {},
   "source": [
    "we will creat a new column to fill it by the ISO Alpha 3 ( each country have a specific code), this code will serve for drawing the map"
   ]
  },
  {
   "cell_type": "code",
   "execution_count": 129,
   "metadata": {},
   "outputs": [
    {
     "name": "stderr",
     "output_type": "stream",
     "text": [
      "C:\\Users\\hp\\AppData\\Local\\Continuum\\anaconda3\\lib\\site-packages\\ipykernel_launcher.py:1: SettingWithCopyWarning:\n",
      "\n",
      "\n",
      "A value is trying to be set on a copy of a slice from a DataFrame.\n",
      "Try using .loc[row_indexer,col_indexer] = value instead\n",
      "\n",
      "See the caveats in the documentation: http://pandas.pydata.org/pandas-docs/stable/user_guide/indexing.html#returning-a-view-versus-a-copy\n",
      "\n",
      "C:\\Users\\hp\\AppData\\Local\\Continuum\\anaconda3\\lib\\site-packages\\ipykernel_launcher.py:2: SettingWithCopyWarning:\n",
      "\n",
      "\n",
      "A value is trying to be set on a copy of a slice from a DataFrame.\n",
      "Try using .loc[row_indexer,col_indexer] = value instead\n",
      "\n",
      "See the caveats in the documentation: http://pandas.pydata.org/pandas-docs/stable/user_guide/indexing.html#returning-a-view-versus-a-copy\n",
      "\n"
     ]
    }
   ],
   "source": [
    "for_map1['alpha-3']='newcol'\n",
    "for_map0['alpha-3']='newcol'"
   ]
  },
  {
   "cell_type": "code",
   "execution_count": 130,
   "metadata": {},
   "outputs": [
    {
     "data": {
      "text/html": [
       "<div>\n",
       "<style scoped>\n",
       "    .dataframe tbody tr th:only-of-type {\n",
       "        vertical-align: middle;\n",
       "    }\n",
       "\n",
       "    .dataframe tbody tr th {\n",
       "        vertical-align: top;\n",
       "    }\n",
       "\n",
       "    .dataframe thead th {\n",
       "        text-align: right;\n",
       "    }\n",
       "</style>\n",
       "<table border=\"1\" class=\"dataframe\">\n",
       "  <thead>\n",
       "    <tr style=\"text-align: right;\">\n",
       "      <th></th>\n",
       "      <th>Libellé du pays</th>\n",
       "      <th>Valeur moyen des importations sur 10ans</th>\n",
       "      <th>alpha-3</th>\n",
       "    </tr>\n",
       "  </thead>\n",
       "  <tbody>\n",
       "    <tr>\n",
       "      <td>0</td>\n",
       "      <td>ANDORRE</td>\n",
       "      <td>2.897641e+05</td>\n",
       "      <td>newcol</td>\n",
       "    </tr>\n",
       "    <tr>\n",
       "      <td>1</td>\n",
       "      <td>EMIRATS ARABES UNIS</td>\n",
       "      <td>4.812843e+09</td>\n",
       "      <td>newcol</td>\n",
       "    </tr>\n",
       "    <tr>\n",
       "      <td>2</td>\n",
       "      <td>AFGHANISTAN</td>\n",
       "      <td>5.846716e+05</td>\n",
       "      <td>newcol</td>\n",
       "    </tr>\n",
       "    <tr>\n",
       "      <td>3</td>\n",
       "      <td>ANTIGUA ET BARBUDA</td>\n",
       "      <td>2.217273e+02</td>\n",
       "      <td>newcol</td>\n",
       "    </tr>\n",
       "    <tr>\n",
       "      <td>4</td>\n",
       "      <td>ANGUILLA</td>\n",
       "      <td>9.638182e+02</td>\n",
       "      <td>newcol</td>\n",
       "    </tr>\n",
       "  </tbody>\n",
       "</table>\n",
       "</div>"
      ],
      "text/plain": [
       "       Libellé du pays  Valeur moyen des importations sur 10ans alpha-3\n",
       "0              ANDORRE                             2.897641e+05  newcol\n",
       "1  EMIRATS ARABES UNIS                             4.812843e+09  newcol\n",
       "2          AFGHANISTAN                             5.846716e+05  newcol\n",
       "3   ANTIGUA ET BARBUDA                             2.217273e+02  newcol\n",
       "4             ANGUILLA                             9.638182e+02  newcol"
      ]
     },
     "execution_count": 130,
     "metadata": {},
     "output_type": "execute_result"
    }
   ],
   "source": [
    "for_map1.head()"
   ]
  },
  {
   "cell_type": "markdown",
   "metadata": {},
   "source": [
    "CHECHING to access the country name we should apply \n",
    "```\n",
    "values()\n",
    "```"
   ]
  },
  {
   "cell_type": "code",
   "execution_count": 133,
   "metadata": {},
   "outputs": [
    {
     "name": "stdout",
     "output_type": "stream",
     "text": [
      "EMIRATS ARABES UNIS \n",
      " EMIRATS ARABES UNIS\n"
     ]
    }
   ],
   "source": [
    "print(for_map0['Libellé du pays'].values[1],'\\n',\n",
    "      for_map1['Libellé du pays'].values[1])"
   ]
  },
  {
   "cell_type": "markdown",
   "metadata": {},
   "source": [
    "let's try getting the iso alpha "
   ]
  },
  {
   "cell_type": "code",
   "execution_count": null,
   "metadata": {},
   "outputs": [
    {
     "data": {
      "text/plain": [
       "52    ARE\n",
       "Name: iso_alpha3, dtype: object"
      ]
     },
     "execution_count": 48,
     "metadata": {},
     "output_type": "execute_result"
    }
   ],
   "source": [
    "codes_pays[(codes_pays[\"pays\"]=='EMIRATS ARABES UNIS')]['iso_alpha3']"
   ]
  },
  {
   "cell_type": "markdown",
   "metadata": {},
   "source": [
    "let's try to assign this isoalpha in the correspondant columns "
   ]
  },
  {
   "cell_type": "code",
   "execution_count": 134,
   "metadata": {},
   "outputs": [
    {
     "name": "stderr",
     "output_type": "stream",
     "text": [
      "C:\\Users\\hp\\AppData\\Local\\Continuum\\anaconda3\\lib\\site-packages\\ipykernel_launcher.py:1: SettingWithCopyWarning:\n",
      "\n",
      "\n",
      "A value is trying to be set on a copy of a slice from a DataFrame\n",
      "\n",
      "See the caveats in the documentation: http://pandas.pydata.org/pandas-docs/stable/user_guide/indexing.html#returning-a-view-versus-a-copy\n",
      "\n",
      "C:\\Users\\hp\\AppData\\Local\\Continuum\\anaconda3\\lib\\site-packages\\IPython\\core\\interactiveshell.py:3326: SettingWithCopyWarning:\n",
      "\n",
      "\n",
      "A value is trying to be set on a copy of a slice from a DataFrame\n",
      "\n",
      "See the caveats in the documentation: http://pandas.pydata.org/pandas-docs/stable/user_guide/indexing.html#returning-a-view-versus-a-copy\n",
      "\n",
      "C:\\Users\\hp\\AppData\\Local\\Continuum\\anaconda3\\lib\\site-packages\\ipykernel_launcher.py:2: SettingWithCopyWarning:\n",
      "\n",
      "\n",
      "A value is trying to be set on a copy of a slice from a DataFrame\n",
      "\n",
      "See the caveats in the documentation: http://pandas.pydata.org/pandas-docs/stable/user_guide/indexing.html#returning-a-view-versus-a-copy\n",
      "\n"
     ]
    }
   ],
   "source": [
    "for_map0['alpha-3'][1]=codes_pays[(codes_pays[\"pays\"]==for_map0['Libellé du pays'].values[1])]['iso_alpha3'].values[0]\n",
    "for_map1['alpha-3'][1]=codes_pays[(codes_pays[\"pays\"]==for_map1['Libellé du pays'].values[1])]['iso_alpha3'].values[0]"
   ]
  },
  {
   "cell_type": "markdown",
   "metadata": {},
   "source": [
    "let's check"
   ]
  },
  {
   "cell_type": "code",
   "execution_count": 138,
   "metadata": {},
   "outputs": [
    {
     "name": "stdout",
     "output_type": "stream",
     "text": [
      "importations        Libellé du pays  Valeur moyen des importations sur 10ans alpha-3\n",
      "0              ANDORRE                             2.897641e+05  newcol\n",
      "1  EMIRATS ARABES UNIS                             4.812843e+09     ARE\n",
      "2          AFGHANISTAN                             5.846716e+05  newcol \n",
      " exportations        Libellé du pays  Valeur moyen des exportations sur 10ans alpha-3\n",
      "0              ANDORRE                             4.358042e+06  newcol\n",
      "1  EMIRATS ARABES UNIS                             7.432534e+08     ARE\n",
      "2          AFGHANISTAN                             3.592146e+06  newcol \n",
      "\n"
     ]
    }
   ],
   "source": [
    "print('importations',for_map1[:3][:],'\\n','exportations',for_map0[:3][:],'\\n')"
   ]
  },
  {
   "cell_type": "markdown",
   "metadata": {},
   "source": [
    "well done! , in next cell i'll create a function to fill all iso alpha rows"
   ]
  },
  {
   "cell_type": "code",
   "execution_count": 140,
   "metadata": {},
   "outputs": [],
   "source": [
    "def fill_iso_alpha(for_map):\n",
    "    for i in range(len(for_map)):\n",
    "        x=codes_pays[(codes_pays[\"pays\"]==for_map['Libellé du pays'].values[i])]['iso_alpha3']\n",
    "        if(len(x)!=0):\n",
    "            for_map['alpha-3'][i]=codes_pays[(codes_pays[\"pays\"]==for_map['Libellé du pays'].values[i])]['iso_alpha3'].values[0]\n",
    "        else:\n",
    "            for_map['alpha-3'][i]=np.nan"
   ]
  },
  {
   "cell_type": "code",
   "execution_count": 141,
   "metadata": {},
   "outputs": [
    {
     "name": "stderr",
     "output_type": "stream",
     "text": [
      "C:\\Users\\hp\\AppData\\Local\\Continuum\\anaconda3\\lib\\site-packages\\ipykernel_launcher.py:5: SettingWithCopyWarning:\n",
      "\n",
      "\n",
      "A value is trying to be set on a copy of a slice from a DataFrame\n",
      "\n",
      "See the caveats in the documentation: http://pandas.pydata.org/pandas-docs/stable/user_guide/indexing.html#returning-a-view-versus-a-copy\n",
      "\n",
      "C:\\Users\\hp\\AppData\\Local\\Continuum\\anaconda3\\lib\\site-packages\\ipykernel_launcher.py:1: SettingWithCopyWarning:\n",
      "\n",
      "\n",
      "A value is trying to be set on a copy of a slice from a DataFrame\n",
      "\n",
      "See the caveats in the documentation: http://pandas.pydata.org/pandas-docs/stable/user_guide/indexing.html#returning-a-view-versus-a-copy\n",
      "\n",
      "C:\\Users\\hp\\AppData\\Local\\Continuum\\anaconda3\\lib\\site-packages\\ipykernel_launcher.py:7: SettingWithCopyWarning:\n",
      "\n",
      "\n",
      "A value is trying to be set on a copy of a slice from a DataFrame\n",
      "\n",
      "See the caveats in the documentation: http://pandas.pydata.org/pandas-docs/stable/user_guide/indexing.html#returning-a-view-versus-a-copy\n",
      "\n",
      "C:\\Users\\hp\\AppData\\Local\\Continuum\\anaconda3\\lib\\site-packages\\ipykernel_launcher.py:2: SettingWithCopyWarning:\n",
      "\n",
      "\n",
      "A value is trying to be set on a copy of a slice from a DataFrame\n",
      "\n",
      "See the caveats in the documentation: http://pandas.pydata.org/pandas-docs/stable/user_guide/indexing.html#returning-a-view-versus-a-copy\n",
      "\n"
     ]
    }
   ],
   "source": [
    "fill_iso_alpha(for_map0)\n",
    "fill_iso_alpha(for_map1)"
   ]
  },
  {
   "cell_type": "markdown",
   "metadata": {},
   "source": [
    "let's have a look"
   ]
  },
  {
   "cell_type": "code",
   "execution_count": 142,
   "metadata": {},
   "outputs": [
    {
     "data": {
      "text/html": [
       "<div>\n",
       "<style scoped>\n",
       "    .dataframe tbody tr th:only-of-type {\n",
       "        vertical-align: middle;\n",
       "    }\n",
       "\n",
       "    .dataframe tbody tr th {\n",
       "        vertical-align: top;\n",
       "    }\n",
       "\n",
       "    .dataframe thead th {\n",
       "        text-align: right;\n",
       "    }\n",
       "</style>\n",
       "<table border=\"1\" class=\"dataframe\">\n",
       "  <thead>\n",
       "    <tr style=\"text-align: right;\">\n",
       "      <th></th>\n",
       "      <th>Libellé du pays</th>\n",
       "      <th>Valeur moyen des exportations sur 10ans</th>\n",
       "      <th>alpha-3</th>\n",
       "    </tr>\n",
       "  </thead>\n",
       "  <tbody>\n",
       "    <tr>\n",
       "      <td>0</td>\n",
       "      <td>ANDORRE</td>\n",
       "      <td>4.358042e+06</td>\n",
       "      <td>AND</td>\n",
       "    </tr>\n",
       "    <tr>\n",
       "      <td>1</td>\n",
       "      <td>EMIRATS ARABES UNIS</td>\n",
       "      <td>7.432534e+08</td>\n",
       "      <td>ARE</td>\n",
       "    </tr>\n",
       "    <tr>\n",
       "      <td>2</td>\n",
       "      <td>AFGHANISTAN</td>\n",
       "      <td>3.592146e+06</td>\n",
       "      <td>AFG</td>\n",
       "    </tr>\n",
       "    <tr>\n",
       "      <td>3</td>\n",
       "      <td>ANTIGUA ET BARBUDA</td>\n",
       "      <td>3.768104e+05</td>\n",
       "      <td>ATG</td>\n",
       "    </tr>\n",
       "    <tr>\n",
       "      <td>4</td>\n",
       "      <td>ANGUILLA</td>\n",
       "      <td>1.072427e+05</td>\n",
       "      <td>NaN</td>\n",
       "    </tr>\n",
       "  </tbody>\n",
       "</table>\n",
       "</div>"
      ],
      "text/plain": [
       "       Libellé du pays  Valeur moyen des exportations sur 10ans alpha-3\n",
       "0              ANDORRE                             4.358042e+06     AND\n",
       "1  EMIRATS ARABES UNIS                             7.432534e+08     ARE\n",
       "2          AFGHANISTAN                             3.592146e+06     AFG\n",
       "3   ANTIGUA ET BARBUDA                             3.768104e+05     ATG\n",
       "4             ANGUILLA                             1.072427e+05     NaN"
      ]
     },
     "execution_count": 142,
     "metadata": {},
     "output_type": "execute_result"
    }
   ],
   "source": [
    "for_map0.head()"
   ]
  },
  {
   "cell_type": "code",
   "execution_count": 143,
   "metadata": {},
   "outputs": [
    {
     "data": {
      "text/plain": [
       "Libellé du pays                            0\n",
       "Valeur moyen des exportations sur 10ans    0\n",
       "alpha-3                                    9\n",
       "dtype: int64"
      ]
     },
     "execution_count": 143,
     "metadata": {},
     "output_type": "execute_result"
    }
   ],
   "source": [
    "for_map0.isnull().sum()"
   ]
  },
  {
   "cell_type": "code",
   "execution_count": 144,
   "metadata": {},
   "outputs": [
    {
     "data": {
      "text/plain": [
       "Libellé du pays                             0\n",
       "Valeur moyen des importations sur 10ans     0\n",
       "alpha-3                                    17\n",
       "dtype: int64"
      ]
     },
     "execution_count": 144,
     "metadata": {},
     "output_type": "execute_result"
    }
   ],
   "source": [
    "for_map1.isnull().sum()"
   ]
  },
  {
   "cell_type": "markdown",
   "metadata": {},
   "source": [
    "oups! it bsems we have some messing data in iso alpha code (the represent 'autres pays '), we have nothing to do in this sense to replace them, so we will delete them :'("
   ]
  },
  {
   "cell_type": "code",
   "execution_count": 145,
   "metadata": {},
   "outputs": [
    {
     "name": "stderr",
     "output_type": "stream",
     "text": [
      "C:\\Users\\hp\\AppData\\Local\\Continuum\\anaconda3\\lib\\site-packages\\ipykernel_launcher.py:1: SettingWithCopyWarning:\n",
      "\n",
      "\n",
      "A value is trying to be set on a copy of a slice from a DataFrame\n",
      "\n",
      "See the caveats in the documentation: http://pandas.pydata.org/pandas-docs/stable/user_guide/indexing.html#returning-a-view-versus-a-copy\n",
      "\n",
      "C:\\Users\\hp\\AppData\\Local\\Continuum\\anaconda3\\lib\\site-packages\\ipykernel_launcher.py:2: SettingWithCopyWarning:\n",
      "\n",
      "\n",
      "A value is trying to be set on a copy of a slice from a DataFrame\n",
      "\n",
      "See the caveats in the documentation: http://pandas.pydata.org/pandas-docs/stable/user_guide/indexing.html#returning-a-view-versus-a-copy\n",
      "\n"
     ]
    }
   ],
   "source": [
    "for_map0.dropna(inplace=True)\n",
    "for_map1.dropna(inplace=True)"
   ]
  },
  {
   "cell_type": "markdown",
   "metadata": {},
   "source": [
    "AND FINALLY LET'S SAVE THOSE READY DATASETS AS CSV FOR USING LATER IN THE APP "
   ]
  },
  {
   "cell_type": "code",
   "execution_count": 146,
   "metadata": {},
   "outputs": [],
   "source": [
    "for_map0.to_csv('for_map0.csv',index=False)\n",
    "for_map1.to_csv('for_map1.csv',index=False)"
   ]
  },
  {
   "cell_type": "markdown",
   "metadata": {},
   "source": [
    "I will test to plot a map from the first datasqet"
   ]
  },
  {
   "cell_type": "code",
   "execution_count": 158,
   "metadata": {},
   "outputs": [
    {
     "data": {
      "application/vnd.plotly.v1+json": {
       "config": {
        "plotlyServerURL": "https://plot.ly"
       },
       "data": [
        {
         "autocolorscale": false,
         "colorbar": {
          "tickprefix": "dh ",
          "title": {
           "text": "Exportation en Dh"
          }
         },
         "colorscale": [
          [
           0,
           "#99004d"
          ],
          [
           0.3333333333333333,
           "#ff3287"
          ],
          [
           0.6666666666666666,
           "#fc76c4"
          ],
          [
           1,
           "#ca89bd"
          ]
         ],
         "locations": [
          "AND",
          "ARE",
          "AFG",
          "ATG",
          "ALB",
          "ARM",
          "ANT",
          "AGO",
          "ARG",
          "AUT",
          "AUS",
          "ABW",
          "AZE",
          "BIH",
          "BRB",
          "BGD",
          "BEL",
          "BFA",
          "BGR",
          "BHR",
          "BDI",
          "BEN",
          "BMU",
          "BRN",
          "BOL",
          "BRA",
          "BHS",
          "BWA",
          "BLR",
          "BLZ",
          "CAN",
          "COD",
          "CAF",
          "COG",
          "CHE",
          "CIV",
          "CHL",
          "CMR",
          "CHN",
          "COL",
          "CRI",
          "CUB",
          "CPV",
          "CUW",
          "CYP",
          "CZE",
          "DEU",
          "DJI",
          "DNK",
          "DMA",
          "DOM",
          "DZA",
          "ECU",
          "EST",
          "EGY",
          "ERI",
          "ESP",
          "ETH",
          "FIN",
          "FJI",
          "FRA",
          "GAB",
          "GBR",
          "GRD",
          "GEO",
          "GUF",
          "GHA",
          "GIB",
          "GMB",
          "GIN",
          "GLP",
          "GNQ",
          "GRC",
          "SGS",
          "GTM",
          "GNB",
          "GUY",
          "HKG",
          "HND",
          "HRV",
          "HTI",
          "HUN",
          "IDN",
          "IRL",
          "IND",
          "IRQ",
          "IRN",
          "ISL",
          "ITA",
          "JEY",
          "JAM",
          "JOR",
          "JPN",
          "KEN",
          "KGZ",
          "KHM",
          "COM",
          "KNA",
          "PRK",
          "KOR",
          "KWT",
          "CYM",
          "KAZ",
          "LAO",
          "LBN",
          "LCA",
          "LIE",
          "LKA",
          "LBR",
          "LSO",
          "LTU",
          "LUX",
          "LVA",
          "LBY",
          "MCO",
          "MDA",
          "MNE",
          "MDG",
          "MHL",
          "MKD",
          "MLI",
          "MMR",
          "MNG",
          "MAC",
          "MNP",
          "MTQ",
          "MRT",
          "MLT",
          "MUS",
          "MDV",
          "MWI",
          "MEX",
          "MYS",
          "MOZ",
          "NAM",
          "NCL",
          "NER",
          "NGA",
          "NIC",
          "NLD",
          "NOR",
          "NPL",
          "NZL",
          "OMN",
          "PAN",
          "PER",
          "PYF",
          "PNG",
          "PHL",
          "PAK",
          "POL",
          "PRI",
          "PSE",
          "PRT",
          "PRY",
          "QAT",
          "REU",
          "ROU",
          "SRB",
          "RUS",
          "RWA",
          "SAU",
          "SYC",
          "SDN",
          "SWE",
          "SGP",
          "SHN",
          "SVN",
          "SVK",
          "SLE",
          "SMR",
          "SEN",
          "SOM",
          "SUR",
          "STP",
          "SLV",
          "SXM",
          "SYR",
          "SWZ",
          "TCD",
          "TGO",
          "THA",
          "TJK",
          "TKM",
          "TUN",
          "TON",
          "TUR",
          "TTO",
          "TWN",
          "TZA",
          "UKR",
          "UGA",
          "USA",
          "URY",
          "UZB",
          "VAT",
          "VCT",
          "VEN",
          "VNM",
          "VUT",
          "WLF",
          "KOS",
          "YEM",
          "MYT",
          "YUG",
          "ZAF",
          "ZMB",
          "ZWE"
         ],
         "marker": {
          "line": {
           "color": "white",
           "width": 1
          }
         },
         "reversescale": true,
         "text": [
          "ANDORRE",
          "EMIRATS ARABES UNIS",
          "AFGHANISTAN",
          "ANTIGUA ET BARBUDA",
          "ALBANIE",
          "ARMENIE",
          "ANTILLES NEERLANDAIS",
          "ANGOLA",
          "ARGENTINE",
          "AUTRICHE",
          "AUSTRALIE",
          "ARUBA",
          "AZERBAIDJAN",
          "BOSNIE-HERZEGOVINE",
          "BARBADE",
          "BANGLADESH",
          "BELGIQUE",
          "BURKINA FASO",
          "BULGARIE",
          "BAHREIN",
          "BURUNDI",
          "BENIN",
          "BERMUDES",
          "BRUNEI DARUSSALAM",
          "L'ETAT PLURINATIONAL DE BOLIVIE",
          "BRESIL",
          "BAHAMAS",
          "BOTSWANA",
          "BELARUS",
          "BELIZE",
          "CANADA",
          "LA REPUBLIQUE DEMOCRATIQUE DU CONGO",
          "REPUBLIQUE CENTRAFRICAINE",
          "CONGO",
          "SUISSE",
          "COTE D'IVOIRE",
          "CHILI",
          "CAMEROUN",
          "CHINE",
          "COLOMBIE",
          "COSTA RICA",
          "CUBA",
          "CAP-VERT",
          "CURACAO",
          "CHYPRE",
          "REPUBLIQUE TCHEQUE",
          "ALLEMAGNE",
          "DJIBOUTI",
          "DANEMARK",
          "DOMINIQUE",
          "REPUBLIQUE DOMINICAINE",
          "ALGERIE",
          "EQUATEUR",
          "ESTONIE",
          "EGYPTE",
          "ERYTHREE",
          "ESPAGNE",
          "ETHIOPIE",
          "FINLANDE",
          "FIDJI",
          "FRANCE",
          "GABON",
          "ROYAUME-UNI",
          "GRENADE",
          "GEORGIE",
          "GUYANE FRANCAISE",
          "GHANA",
          "GIBRALTAR",
          "GAMBIE",
          "GUINEE",
          "GUADELOUPE",
          "GUINEE EQUATORIALE",
          "GRECE",
          "GEORGIE DU SUD ET LES ILES SANDWICH DU SUD",
          "GUATEMALA",
          "GUINEE-BISSAU",
          "GUYANA",
          "HONG KONG",
          "HONDURAS",
          "CROATIE",
          "HAITI",
          "HONGRIE",
          "INDONESIE",
          "IRLANDE",
          "INDE",
          "IRAQ",
          "REPUBLIQUE ISLAMIQUE D'IRAN",
          "ISLANDE",
          "ITALIE",
          "JERSEY",
          "JAMAIQUE",
          "JORDANIE",
          "JAPON",
          "KENYA",
          "KIRGHIZISTAN",
          "CAMBODGE",
          "COMORES",
          "SAINT-KITTS-ET-NEVIS",
          "REPUBLIQUE POPULAIRE DEMOCRATIQUE DE COREE",
          "REPUBLIQUE DE COREE",
          "KOWEIT",
          "ILES CAIMANES",
          "KAZAKHSTAN",
          "REPUBLIQUE DEMOCRATIQUE POPULAIRE LAO",
          "LIBAN",
          "SAINTE-LUCIE",
          "LIECHTENSTEIN",
          "SRI LANKA",
          "LIBERIA",
          "LESOTHO",
          "LITUANIE",
          "LUXEMBOURG",
          "LETTONIE",
          "LIBYE",
          "MONACO",
          "REPUBLIQUE DE MOLDOVA",
          "MONTENEGRO",
          "MADAGASCAR",
          "ILES MARSHALL",
          "MACEDOINE",
          "MALI",
          "MYANMAR",
          "MONGOLIE",
          "MACAO",
          "ILES MARIANNES DU NORD",
          "MARTINIQUE",
          "MAURITANIE",
          "MALTE",
          "MAURICE",
          "MALDIVES",
          "MALAWI",
          "MEXIQUE",
          "MALAISIE",
          "MOZAMBIQUE",
          "NAMIBIE",
          "NOUVELLE-CALEDONIE",
          "NIGER",
          "NIGERIA",
          "NICARAGUA",
          "PAYS-BAS",
          "NORVEGE",
          "NEPAL",
          "NOUVELLE-ZELANDE",
          "OMAN",
          "PANAMA",
          "PEROU",
          "POLYNESIE FRANCAISE",
          "PAPOUASIE-NOUVELLE-GUINEE",
          "PHILIPPINES",
          "PAKISTAN",
          "POLOGNE",
          "PORTO RICO",
          "TERRITOIRE PALESTINIEN OCCUPE",
          "PORTUGAL",
          "PARAGUAY",
          "QATAR",
          "REUNION",
          "ROUMANIE",
          "SERBIE",
          "FEDERATION DE RUSSIE",
          "RWANDA",
          "ARABIE SAOUDITE",
          "SEYCHELLES",
          "SOUDAN",
          "SUEDE",
          "SINGAPOUR",
          "SAINTE-HELENE, ASCENSION ET TRISTAN DA CUNHA",
          "SLOVENIE",
          "SLOVAQUIE",
          "SIERRA LEONE",
          "SAINT-MARIN",
          "SENEGAL",
          "SOMALIE",
          "SURINAME",
          "SAO TOME-ET-PRINCIPE",
          "EL SALVADOR",
          "SAINT-MARTIN (PARTIE NEERLANDAISE)",
          "REPUBLIQUE ARABE SYRIENNE",
          "SWAZILAND",
          "TCHAD",
          "TOGO",
          "THAILANDE",
          "TADJIKISTAN",
          "TURKMENISTAN",
          "TUNISIE",
          "TONGA",
          "TURQUIE",
          "TRINITE-ET-TOBAGO",
          "PROVINCE DE CHINE TAIWAN",
          "REPUBLIQUE-UNIE DE TANZANIE",
          "UKRAINE",
          "OUGANDA",
          "ETATS-UNIS",
          "URUGUAY",
          "OUZBEKISTAN",
          "SAINT-SIEGE (ETAT DE LA CITE DU VATICAN)",
          "SAINT-VINCENT-ET-LES GRENADINES",
          "REPUBLIQUE BOLIVARIENNE DU VENEZUELA",
          "VIET NAM",
          "VANUATU",
          "WALLIS ET FUTUNA",
          "KOSOVO",
          "YEMEN",
          "MAYOTTE",
          "YOUGOUSLAVIE",
          "AFRIQUE DU SUD",
          "ZAMBIE",
          "ZIMBABWE"
         ],
         "type": "choropleth",
         "z": [
          4358042.000545454,
          743253359.5176364,
          3592146.4545454546,
          376810.44072727277,
          21323268.335454546,
          1533508.0080909093,
          1209075.2727272727,
          361590887.3447273,
          934603433.1479092,
          1428014782.2033637,
          327905437.59154546,
          35115.09090909091,
          9336288.941272728,
          20719465.166363638,
          235410.29999999996,
          1179754535.2364547,
          3906822952.500337,
          396283139.32100004,
          726937192.3291818,
          53255810.78827273,
          6563095.2727272725,
          421506229.86609095,
          44122.36363636364,
          11330610.878181817,
          950029.3636363636,
          8328317894.506272,
          333798.0909090909,
          413170.9090909091,
          77192394.36209092,
          74388.63636363637,
          1481872048.4813635,
          127371652.15354545,
          34194230.79209091,
          391818840.0631818,
          1600058042.6094544,
          1336196138.1944544,
          74828306.81690909,
          503840266.6749092,
          2411924013.7219996,
          122762888.53436364,
          12393888.51972727,
          27028105.66963637,
          17381189.36,
          131328.9090909091,
          80266267.39672725,
          548212256.5188181,
          6479181605.746598,
          697728150.3642727,
          323674384.0997272,
          8463372.272181818,
          24981884.23854546,
          1748033001.6150005,
          7821768.25890909,
          32248519.068000004,
          1225456025.837727,
          377629.2952727273,
          47656059200.27627,
          581615660.438909,
          92205051.92137818,
          811473.08,
          47311772576.779,
          398706516.1982727,
          5856806250.254209,
          214411.33272727273,
          25467738.820727278,
          6197288.291636364,
          821481223.4786363,
          237810212.67845455,
          127742423.73890908,
          639529428.717,
          17029386.27136364,
          294150462.1949091,
          308936889.4629091,
          43587.46154545455,
          8971893.124727273,
          38469767.609181814,
          7333473.624545455,
          120862710.36390907,
          2691593.0952727273,
          207696490.82827273,
          19222639.12727273,
          319025504.45027274,
          557547876.0515454,
          1098696771.070327,
          8854596417.87718,
          148961223.89372727,
          69443791.07163636,
          22621878.948,
          9489956978.533546,
          172267.36363636365,
          803993.5454545454,
          276767303.32918173,
          1794944276.7055457,
          148833544.46454546,
          1855730.749,
          9028621.25,
          16085030.686363636,
          158987.32727272727,
          5740933.090909091,
          775803174.2156363,
          147937202.5820909,
          102084.18181818182,
          8776369.990363635,
          405369.2672727273,
          576490002.8912728,
          437495.0418181818,
          321362.5981818182,
          17201127.15518182,
          45561584.33390909,
          92251.18181818182,
          406771706.25227267,
          41632778.460999995,
          112587861.87854546,
          621739623.0072726,
          6565259.132818181,
          428885.6163636363,
          7633323.003545452,
          49400078.79245455,
          4034195.5627272725,
          7879914.522,
          566961504.8130909,
          16386649.363636365,
          906222.1127272728,
          2223996.3018181818,
          27707.636363636364,
          16148661.86081818,
          1442555971.343091,
          183587428.03,
          61940837.98818181,
          879424.0054545454,
          450031.23118181824,
          1102221618.864909,
          79161575.71854545,
          197414639.8811818,
          106483160.5229091,
          14728851.157363636,
          199622422.4426364,
          1000508188.654909,
          8775042.12,
          5931885872.179437,
          635074108.6443635,
          592108.4392727274,
          486608111.6096363,
          127354381.51718183,
          10162688.576545455,
          306384607.9877273,
          5315417.695727273,
          58270.90909090909,
          69198374.93381818,
          2702077299.331727,
          1606134997.0549943,
          1360539.0266363637,
          31588189.294545453,
          2973782050.1842365,
          36702083.64109091,
          173054594.1257273,
          59422960.18945455,
          1098753432.4446363,
          78282164.05718182,
          2079351142.4174545,
          13258750.564181818,
          871542516.507091,
          1266995.32,
          179957538.72545454,
          693293588.9321901,
          2568261445.6547275,
          143182.02172727275,
          183854894.51427272,
          417863487.8105454,
          89934445.70136362,
          26118.636363636364,
          1663637079.5196364,
          6634915.893636364,
          3233822.0763636366,
          1102121.4545454546,
          8477848.520090908,
          25.454545454545453,
          425044970.74818176,
          2869472.728545455,
          43669728.39009091,
          410587490.40854543,
          301465226.1832727,
          8858.636363636364,
          350710.9943636364,
          952808785.1369091,
          169968.9090909091,
          5056314863.152454,
          25929175.296363637,
          272819476.05327266,
          120278084.8289091,
          288661278.36200005,
          16762776.032545455,
          8600913005.473637,
          175582567.3910909,
          400470.24454545445,
          181.81818181818184,
          223508.08181818182,
          130563452.34154548,
          52419975.52354547,
          54239.49454545454,
          479241.54545454547,
          3289093.845363636,
          89740716.16127272,
          18428142.405454546,
          2861717.3427272723,
          353151480.7982727,
          2774763.1075454545,
          5144280.127272727
         ]
        }
       ],
       "layout": {
        "annotations": [
         {
          "showarrow": false,
          "text": "Source: <a href=\"https://www.oc.gov.ma/\">            Office des Changes Marocain</a>",
          "x": 0.55,
          "xref": "paper",
          "y": -0.1,
          "yref": "paper"
         }
        ],
        "geo": {
         "bgcolor": "rgba(0,0,0,0)",
         "projection": {
          "type": "equirectangular"
         },
         "showcoastlines": false,
         "showframe": false
        },
        "hovermode": "closest",
        "margin": {
         "b": 5,
         "l": 0,
         "r": 0,
         "t": 34
        },
        "paper_bgcolor": "rgb(180, 180, 180)",
        "template": {
         "data": {
          "bar": [
           {
            "error_x": {
             "color": "#2a3f5f"
            },
            "error_y": {
             "color": "#2a3f5f"
            },
            "marker": {
             "line": {
              "color": "#E5ECF6",
              "width": 0.5
             },
             "pattern": {
              "fillmode": "overlay",
              "size": 10,
              "solidity": 0.2
             }
            },
            "type": "bar"
           }
          ],
          "barpolar": [
           {
            "marker": {
             "line": {
              "color": "#E5ECF6",
              "width": 0.5
             },
             "pattern": {
              "fillmode": "overlay",
              "size": 10,
              "solidity": 0.2
             }
            },
            "type": "barpolar"
           }
          ],
          "carpet": [
           {
            "aaxis": {
             "endlinecolor": "#2a3f5f",
             "gridcolor": "white",
             "linecolor": "white",
             "minorgridcolor": "white",
             "startlinecolor": "#2a3f5f"
            },
            "baxis": {
             "endlinecolor": "#2a3f5f",
             "gridcolor": "white",
             "linecolor": "white",
             "minorgridcolor": "white",
             "startlinecolor": "#2a3f5f"
            },
            "type": "carpet"
           }
          ],
          "choropleth": [
           {
            "colorbar": {
             "outlinewidth": 0,
             "ticks": ""
            },
            "type": "choropleth"
           }
          ],
          "contour": [
           {
            "colorbar": {
             "outlinewidth": 0,
             "ticks": ""
            },
            "colorscale": [
             [
              0,
              "#0d0887"
             ],
             [
              0.1111111111111111,
              "#46039f"
             ],
             [
              0.2222222222222222,
              "#7201a8"
             ],
             [
              0.3333333333333333,
              "#9c179e"
             ],
             [
              0.4444444444444444,
              "#bd3786"
             ],
             [
              0.5555555555555556,
              "#d8576b"
             ],
             [
              0.6666666666666666,
              "#ed7953"
             ],
             [
              0.7777777777777778,
              "#fb9f3a"
             ],
             [
              0.8888888888888888,
              "#fdca26"
             ],
             [
              1,
              "#f0f921"
             ]
            ],
            "type": "contour"
           }
          ],
          "contourcarpet": [
           {
            "colorbar": {
             "outlinewidth": 0,
             "ticks": ""
            },
            "type": "contourcarpet"
           }
          ],
          "heatmap": [
           {
            "colorbar": {
             "outlinewidth": 0,
             "ticks": ""
            },
            "colorscale": [
             [
              0,
              "#0d0887"
             ],
             [
              0.1111111111111111,
              "#46039f"
             ],
             [
              0.2222222222222222,
              "#7201a8"
             ],
             [
              0.3333333333333333,
              "#9c179e"
             ],
             [
              0.4444444444444444,
              "#bd3786"
             ],
             [
              0.5555555555555556,
              "#d8576b"
             ],
             [
              0.6666666666666666,
              "#ed7953"
             ],
             [
              0.7777777777777778,
              "#fb9f3a"
             ],
             [
              0.8888888888888888,
              "#fdca26"
             ],
             [
              1,
              "#f0f921"
             ]
            ],
            "type": "heatmap"
           }
          ],
          "heatmapgl": [
           {
            "colorbar": {
             "outlinewidth": 0,
             "ticks": ""
            },
            "colorscale": [
             [
              0,
              "#0d0887"
             ],
             [
              0.1111111111111111,
              "#46039f"
             ],
             [
              0.2222222222222222,
              "#7201a8"
             ],
             [
              0.3333333333333333,
              "#9c179e"
             ],
             [
              0.4444444444444444,
              "#bd3786"
             ],
             [
              0.5555555555555556,
              "#d8576b"
             ],
             [
              0.6666666666666666,
              "#ed7953"
             ],
             [
              0.7777777777777778,
              "#fb9f3a"
             ],
             [
              0.8888888888888888,
              "#fdca26"
             ],
             [
              1,
              "#f0f921"
             ]
            ],
            "type": "heatmapgl"
           }
          ],
          "histogram": [
           {
            "marker": {
             "pattern": {
              "fillmode": "overlay",
              "size": 10,
              "solidity": 0.2
             }
            },
            "type": "histogram"
           }
          ],
          "histogram2d": [
           {
            "colorbar": {
             "outlinewidth": 0,
             "ticks": ""
            },
            "colorscale": [
             [
              0,
              "#0d0887"
             ],
             [
              0.1111111111111111,
              "#46039f"
             ],
             [
              0.2222222222222222,
              "#7201a8"
             ],
             [
              0.3333333333333333,
              "#9c179e"
             ],
             [
              0.4444444444444444,
              "#bd3786"
             ],
             [
              0.5555555555555556,
              "#d8576b"
             ],
             [
              0.6666666666666666,
              "#ed7953"
             ],
             [
              0.7777777777777778,
              "#fb9f3a"
             ],
             [
              0.8888888888888888,
              "#fdca26"
             ],
             [
              1,
              "#f0f921"
             ]
            ],
            "type": "histogram2d"
           }
          ],
          "histogram2dcontour": [
           {
            "colorbar": {
             "outlinewidth": 0,
             "ticks": ""
            },
            "colorscale": [
             [
              0,
              "#0d0887"
             ],
             [
              0.1111111111111111,
              "#46039f"
             ],
             [
              0.2222222222222222,
              "#7201a8"
             ],
             [
              0.3333333333333333,
              "#9c179e"
             ],
             [
              0.4444444444444444,
              "#bd3786"
             ],
             [
              0.5555555555555556,
              "#d8576b"
             ],
             [
              0.6666666666666666,
              "#ed7953"
             ],
             [
              0.7777777777777778,
              "#fb9f3a"
             ],
             [
              0.8888888888888888,
              "#fdca26"
             ],
             [
              1,
              "#f0f921"
             ]
            ],
            "type": "histogram2dcontour"
           }
          ],
          "mesh3d": [
           {
            "colorbar": {
             "outlinewidth": 0,
             "ticks": ""
            },
            "type": "mesh3d"
           }
          ],
          "parcoords": [
           {
            "line": {
             "colorbar": {
              "outlinewidth": 0,
              "ticks": ""
             }
            },
            "type": "parcoords"
           }
          ],
          "pie": [
           {
            "automargin": true,
            "type": "pie"
           }
          ],
          "scatter": [
           {
            "marker": {
             "colorbar": {
              "outlinewidth": 0,
              "ticks": ""
             }
            },
            "type": "scatter"
           }
          ],
          "scatter3d": [
           {
            "line": {
             "colorbar": {
              "outlinewidth": 0,
              "ticks": ""
             }
            },
            "marker": {
             "colorbar": {
              "outlinewidth": 0,
              "ticks": ""
             }
            },
            "type": "scatter3d"
           }
          ],
          "scattercarpet": [
           {
            "marker": {
             "colorbar": {
              "outlinewidth": 0,
              "ticks": ""
             }
            },
            "type": "scattercarpet"
           }
          ],
          "scattergeo": [
           {
            "marker": {
             "colorbar": {
              "outlinewidth": 0,
              "ticks": ""
             }
            },
            "type": "scattergeo"
           }
          ],
          "scattergl": [
           {
            "marker": {
             "colorbar": {
              "outlinewidth": 0,
              "ticks": ""
             }
            },
            "type": "scattergl"
           }
          ],
          "scattermapbox": [
           {
            "marker": {
             "colorbar": {
              "outlinewidth": 0,
              "ticks": ""
             }
            },
            "type": "scattermapbox"
           }
          ],
          "scatterpolar": [
           {
            "marker": {
             "colorbar": {
              "outlinewidth": 0,
              "ticks": ""
             }
            },
            "type": "scatterpolar"
           }
          ],
          "scatterpolargl": [
           {
            "marker": {
             "colorbar": {
              "outlinewidth": 0,
              "ticks": ""
             }
            },
            "type": "scatterpolargl"
           }
          ],
          "scatterternary": [
           {
            "marker": {
             "colorbar": {
              "outlinewidth": 0,
              "ticks": ""
             }
            },
            "type": "scatterternary"
           }
          ],
          "surface": [
           {
            "colorbar": {
             "outlinewidth": 0,
             "ticks": ""
            },
            "colorscale": [
             [
              0,
              "#0d0887"
             ],
             [
              0.1111111111111111,
              "#46039f"
             ],
             [
              0.2222222222222222,
              "#7201a8"
             ],
             [
              0.3333333333333333,
              "#9c179e"
             ],
             [
              0.4444444444444444,
              "#bd3786"
             ],
             [
              0.5555555555555556,
              "#d8576b"
             ],
             [
              0.6666666666666666,
              "#ed7953"
             ],
             [
              0.7777777777777778,
              "#fb9f3a"
             ],
             [
              0.8888888888888888,
              "#fdca26"
             ],
             [
              1,
              "#f0f921"
             ]
            ],
            "type": "surface"
           }
          ],
          "table": [
           {
            "cells": {
             "fill": {
              "color": "#EBF0F8"
             },
             "line": {
              "color": "white"
             }
            },
            "header": {
             "fill": {
              "color": "#C8D4E3"
             },
             "line": {
              "color": "white"
             }
            },
            "type": "table"
           }
          ]
         },
         "layout": {
          "annotationdefaults": {
           "arrowcolor": "#2a3f5f",
           "arrowhead": 0,
           "arrowwidth": 1
          },
          "autotypenumbers": "strict",
          "coloraxis": {
           "colorbar": {
            "outlinewidth": 0,
            "ticks": ""
           }
          },
          "colorscale": {
           "diverging": [
            [
             0,
             "#8e0152"
            ],
            [
             0.1,
             "#c51b7d"
            ],
            [
             0.2,
             "#de77ae"
            ],
            [
             0.3,
             "#f1b6da"
            ],
            [
             0.4,
             "#fde0ef"
            ],
            [
             0.5,
             "#f7f7f7"
            ],
            [
             0.6,
             "#e6f5d0"
            ],
            [
             0.7,
             "#b8e186"
            ],
            [
             0.8,
             "#7fbc41"
            ],
            [
             0.9,
             "#4d9221"
            ],
            [
             1,
             "#276419"
            ]
           ],
           "sequential": [
            [
             0,
             "#0d0887"
            ],
            [
             0.1111111111111111,
             "#46039f"
            ],
            [
             0.2222222222222222,
             "#7201a8"
            ],
            [
             0.3333333333333333,
             "#9c179e"
            ],
            [
             0.4444444444444444,
             "#bd3786"
            ],
            [
             0.5555555555555556,
             "#d8576b"
            ],
            [
             0.6666666666666666,
             "#ed7953"
            ],
            [
             0.7777777777777778,
             "#fb9f3a"
            ],
            [
             0.8888888888888888,
             "#fdca26"
            ],
            [
             1,
             "#f0f921"
            ]
           ],
           "sequentialminus": [
            [
             0,
             "#0d0887"
            ],
            [
             0.1111111111111111,
             "#46039f"
            ],
            [
             0.2222222222222222,
             "#7201a8"
            ],
            [
             0.3333333333333333,
             "#9c179e"
            ],
            [
             0.4444444444444444,
             "#bd3786"
            ],
            [
             0.5555555555555556,
             "#d8576b"
            ],
            [
             0.6666666666666666,
             "#ed7953"
            ],
            [
             0.7777777777777778,
             "#fb9f3a"
            ],
            [
             0.8888888888888888,
             "#fdca26"
            ],
            [
             1,
             "#f0f921"
            ]
           ]
          },
          "colorway": [
           "#636efa",
           "#EF553B",
           "#00cc96",
           "#ab63fa",
           "#FFA15A",
           "#19d3f3",
           "#FF6692",
           "#B6E880",
           "#FF97FF",
           "#FECB52"
          ],
          "font": {
           "color": "#2a3f5f"
          },
          "geo": {
           "bgcolor": "white",
           "lakecolor": "white",
           "landcolor": "#E5ECF6",
           "showlakes": true,
           "showland": true,
           "subunitcolor": "white"
          },
          "hoverlabel": {
           "align": "left"
          },
          "hovermode": "closest",
          "mapbox": {
           "style": "light"
          },
          "paper_bgcolor": "white",
          "plot_bgcolor": "#E5ECF6",
          "polar": {
           "angularaxis": {
            "gridcolor": "white",
            "linecolor": "white",
            "ticks": ""
           },
           "bgcolor": "#E5ECF6",
           "radialaxis": {
            "gridcolor": "white",
            "linecolor": "white",
            "ticks": ""
           }
          },
          "scene": {
           "xaxis": {
            "backgroundcolor": "#E5ECF6",
            "gridcolor": "white",
            "gridwidth": 2,
            "linecolor": "white",
            "showbackground": true,
            "ticks": "",
            "zerolinecolor": "white"
           },
           "yaxis": {
            "backgroundcolor": "#E5ECF6",
            "gridcolor": "white",
            "gridwidth": 2,
            "linecolor": "white",
            "showbackground": true,
            "ticks": "",
            "zerolinecolor": "white"
           },
           "zaxis": {
            "backgroundcolor": "#E5ECF6",
            "gridcolor": "white",
            "gridwidth": 2,
            "linecolor": "white",
            "showbackground": true,
            "ticks": "",
            "zerolinecolor": "white"
           }
          },
          "shapedefaults": {
           "line": {
            "color": "#2a3f5f"
           }
          },
          "ternary": {
           "aaxis": {
            "gridcolor": "white",
            "linecolor": "white",
            "ticks": ""
           },
           "baxis": {
            "gridcolor": "white",
            "linecolor": "white",
            "ticks": ""
           },
           "bgcolor": "#E5ECF6",
           "caxis": {
            "gridcolor": "white",
            "linecolor": "white",
            "ticks": ""
           }
          },
          "title": {
           "x": 0.05
          },
          "xaxis": {
           "automargin": true,
           "gridcolor": "white",
           "linecolor": "white",
           "ticks": "",
           "title": {
            "standoff": 15
           },
           "zerolinecolor": "white",
           "zerolinewidth": 2
          },
          "yaxis": {
           "automargin": true,
           "gridcolor": "white",
           "linecolor": "white",
           "ticks": "",
           "title": {
            "standoff": 15
           },
           "zerolinecolor": "white",
           "zerolinewidth": 2
          }
         }
        },
        "title": {
         "text": "Moyenne annuel d'exportation entre 2010 et 2020"
        }
       }
      }
     },
     "metadata": {},
     "output_type": "display_data"
    }
   ],
   "source": [
    "\n",
    "fig = go.Figure(data=go.Choropleth(\n",
    "    locations = for_map0['alpha-3'],\n",
    "    z = for_map0['Valeur moyen des exportations sur 10ans'],\n",
    "    text = for_map0['Libellé du pays'],\n",
    "    colorscale = ['#99004d', '#ff3287', '#fc76c4', '#ca89bd'],\n",
    "    #colorscale='Blues',\n",
    "    autocolorscale=False,\n",
    "    reversescale=True,\n",
    "    marker_line_color='white',\n",
    "    marker_line_width=1,\n",
    "    colorbar_tickprefix = 'dh ',\n",
    "    colorbar_title = 'Exportation en Dh',\n",
    "))\n",
    "\n",
    "fig.update_layout(\n",
    "    title_text=\"Moyenne annuel d'exportation entre 2010 et 2020\",\n",
    "    geo=dict(\n",
    "        showframe=False,\n",
    "        showcoastlines=False,\n",
    "        projection_type='equirectangular'\n",
    "    ),\n",
    "    annotations = [dict(\n",
    "        x=0.55,\n",
    "        y=-0.1,\n",
    "        xref='paper',\n",
    "        yref='paper',\n",
    "        text='Source: <a href=\"https://www.oc.gov.ma/\">\\\n",
    "            Office des Changes Marocain</a>',\n",
    "        showarrow = False\n",
    "    )]\n",
    ")\n",
    "fig.update_layout(\n",
    "    margin=dict(l=0, r=0, t=34, b=5),\n",
    "    paper_bgcolor=\"rgb(180, 180, 180)\")\n",
    "fig.update_layout(geo=dict(bgcolor= 'rgba(0,0,0,0)'))\n",
    "fig.update_layout(hovermode='closest',)\n",
    "fig.show()"
   ]
  },
  {
   "cell_type": "code",
   "execution_count": null,
   "metadata": {},
   "outputs": [],
   "source": []
  }
 ],
 "metadata": {
  "interpreter": {
   "hash": "08b64dc7e9099eac269fb18b5d824c195a782a2ed4ec34aad5d0bbbc3d697e62"
  },
  "kernelspec": {
   "display_name": "Python 3",
   "language": "python",
   "name": "python3"
  },
  "language_info": {
   "codemirror_mode": {
    "name": "ipython",
    "version": 3
   },
   "file_extension": ".py",
   "mimetype": "text/x-python",
   "name": "python",
   "nbconvert_exporter": "python",
   "pygments_lexer": "ipython3",
   "version": "3.7.4"
  }
 },
 "nbformat": 4,
 "nbformat_minor": 2
}
